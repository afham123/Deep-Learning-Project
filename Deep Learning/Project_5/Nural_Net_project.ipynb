{
  "nbformat": 4,
  "nbformat_minor": 0,
  "metadata": {
    "colab": {
      "name": "Nural_Net_project.ipynb",
      "provenance": []
    },
    "kernelspec": {
      "name": "python3",
      "display_name": "Python 3"
    }
  },
  "cells": [
    {
      "cell_type": "code",
      "metadata": {
        "id": "GUKlBXAEGSHU"
      },
      "source": [
        "import tensorflow as tf\r\n",
        "import numpy as np\r\n",
        "import pandas as pd\r\n",
        "import seaborn as sns\r\n",
        "import matplotlib.pyplot as plt\r\n",
        "%matplotlib inline"
      ],
      "execution_count": 6,
      "outputs": []
    },
    {
      "cell_type": "code",
      "metadata": {
        "id": "SFlBFaGwGn_w"
      },
      "source": [
        "observations=1000\r\n",
        "xs=np.random.uniform(low=-10,high=10,size=(observations,1))\r\n",
        "zs=np.random.uniform(-10,10,(observations,1))\r\n",
        "\r\n",
        "generated_inputs=np.column_stack((xs,zs))\r\n",
        "noise=np.random.uniform(-1,1,(observations,1))\r\n",
        "\r\n",
        "generated_targets=2*xs+3*zs+5+noise\r\n",
        "np.savez('Tf_intro',inputs=generated_inputs,targets=generated_targets)\r\n",
        "training_data=np.load('Tf_intro.npz')"
      ],
      "execution_count": 20,
      "outputs": []
    },
    {
      "cell_type": "code",
      "metadata": {
        "id": "l-pzCDbMHuF-"
      },
      "source": [
        "input_size=2\r\n",
        "output_size=1"
      ],
      "execution_count": 22,
      "outputs": []
    },
    {
      "cell_type": "code",
      "metadata": {
        "colab": {
          "base_uri": "https://localhost:8080/"
        },
        "id": "pzo134ZAOx7l",
        "outputId": "8adf034a-2e61-4a7b-cccd-64aba1afb3f4"
      },
      "source": [
        "model=tf.keras.Sequential([tf.keras.layers.Dense(output_size)])\r\n",
        "model.compile(optimizer='sgd',loss='mean_squared_error')\r\n",
        "model.fit(training_data['inputs'],training_data['targets'],epochs=100)"
      ],
      "execution_count": 24,
      "outputs": [
        {
          "output_type": "stream",
          "text": [
            "Epoch 1/100\n",
            "32/32 [==============================] - 0s 792us/step - loss: 42.9852\n",
            "Epoch 2/100\n",
            "32/32 [==============================] - 0s 728us/step - loss: 6.3966\n",
            "Epoch 3/100\n",
            "32/32 [==============================] - 0s 740us/step - loss: 1.9011\n",
            "Epoch 4/100\n",
            "32/32 [==============================] - 0s 859us/step - loss: 0.8192\n",
            "Epoch 5/100\n",
            "32/32 [==============================] - 0s 1ms/step - loss: 0.4991\n",
            "Epoch 6/100\n",
            "32/32 [==============================] - 0s 769us/step - loss: 0.3757\n",
            "Epoch 7/100\n",
            "32/32 [==============================] - 0s 828us/step - loss: 0.3394\n",
            "Epoch 8/100\n",
            "32/32 [==============================] - 0s 885us/step - loss: 0.3409\n",
            "Epoch 9/100\n",
            "32/32 [==============================] - 0s 777us/step - loss: 0.3346\n",
            "Epoch 10/100\n",
            "32/32 [==============================] - 0s 892us/step - loss: 0.3627\n",
            "Epoch 11/100\n",
            "32/32 [==============================] - 0s 989us/step - loss: 0.3435\n",
            "Epoch 12/100\n",
            "32/32 [==============================] - 0s 879us/step - loss: 0.3512\n",
            "Epoch 13/100\n",
            "32/32 [==============================] - 0s 961us/step - loss: 0.3430\n",
            "Epoch 14/100\n",
            "32/32 [==============================] - 0s 760us/step - loss: 0.3233\n",
            "Epoch 15/100\n",
            "32/32 [==============================] - 0s 784us/step - loss: 0.3585\n",
            "Epoch 16/100\n",
            "32/32 [==============================] - 0s 773us/step - loss: 0.3553\n",
            "Epoch 17/100\n",
            "32/32 [==============================] - 0s 872us/step - loss: 0.3396\n",
            "Epoch 18/100\n",
            "32/32 [==============================] - 0s 948us/step - loss: 0.3366\n",
            "Epoch 19/100\n",
            "32/32 [==============================] - 0s 832us/step - loss: 0.3286\n",
            "Epoch 20/100\n",
            "32/32 [==============================] - 0s 849us/step - loss: 0.3219\n",
            "Epoch 21/100\n",
            "32/32 [==============================] - 0s 852us/step - loss: 0.3298\n",
            "Epoch 22/100\n",
            "32/32 [==============================] - 0s 1ms/step - loss: 0.3494\n",
            "Epoch 23/100\n",
            "32/32 [==============================] - 0s 712us/step - loss: 0.3333\n",
            "Epoch 24/100\n",
            "32/32 [==============================] - 0s 780us/step - loss: 0.3386\n",
            "Epoch 25/100\n",
            "32/32 [==============================] - 0s 795us/step - loss: 0.3206\n",
            "Epoch 26/100\n",
            "32/32 [==============================] - 0s 862us/step - loss: 0.3452\n",
            "Epoch 27/100\n",
            "32/32 [==============================] - 0s 859us/step - loss: 0.3544\n",
            "Epoch 28/100\n",
            "32/32 [==============================] - 0s 930us/step - loss: 0.3685\n",
            "Epoch 29/100\n",
            "32/32 [==============================] - 0s 988us/step - loss: 0.3359\n",
            "Epoch 30/100\n",
            "32/32 [==============================] - 0s 1ms/step - loss: 0.3308\n",
            "Epoch 31/100\n",
            "32/32 [==============================] - 0s 1ms/step - loss: 0.3315\n",
            "Epoch 32/100\n",
            "32/32 [==============================] - 0s 961us/step - loss: 0.3342\n",
            "Epoch 33/100\n",
            "32/32 [==============================] - 0s 936us/step - loss: 0.3632\n",
            "Epoch 34/100\n",
            "32/32 [==============================] - 0s 796us/step - loss: 0.3414\n",
            "Epoch 35/100\n",
            "32/32 [==============================] - 0s 1ms/step - loss: 0.3359\n",
            "Epoch 36/100\n",
            "32/32 [==============================] - 0s 819us/step - loss: 0.3328\n",
            "Epoch 37/100\n",
            "32/32 [==============================] - 0s 878us/step - loss: 0.3344\n",
            "Epoch 38/100\n",
            "32/32 [==============================] - 0s 854us/step - loss: 0.3705\n",
            "Epoch 39/100\n",
            "32/32 [==============================] - 0s 785us/step - loss: 0.3604\n",
            "Epoch 40/100\n",
            "32/32 [==============================] - 0s 955us/step - loss: 0.3397\n",
            "Epoch 41/100\n",
            "32/32 [==============================] - 0s 858us/step - loss: 0.3368\n",
            "Epoch 42/100\n",
            "32/32 [==============================] - 0s 897us/step - loss: 0.3753\n",
            "Epoch 43/100\n",
            "32/32 [==============================] - 0s 908us/step - loss: 0.3565\n",
            "Epoch 44/100\n",
            "32/32 [==============================] - 0s 938us/step - loss: 0.3502\n",
            "Epoch 45/100\n",
            "32/32 [==============================] - 0s 791us/step - loss: 0.3505\n",
            "Epoch 46/100\n",
            "32/32 [==============================] - 0s 1ms/step - loss: 0.3354\n",
            "Epoch 47/100\n",
            "32/32 [==============================] - 0s 847us/step - loss: 0.3418\n",
            "Epoch 48/100\n",
            "32/32 [==============================] - 0s 799us/step - loss: 0.3524\n",
            "Epoch 49/100\n",
            "32/32 [==============================] - 0s 896us/step - loss: 0.3484\n",
            "Epoch 50/100\n",
            "32/32 [==============================] - 0s 1ms/step - loss: 0.3581\n",
            "Epoch 51/100\n",
            "32/32 [==============================] - 0s 1ms/step - loss: 0.3405\n",
            "Epoch 52/100\n",
            "32/32 [==============================] - 0s 900us/step - loss: 0.3404\n",
            "Epoch 53/100\n",
            "32/32 [==============================] - 0s 617us/step - loss: 0.3382\n",
            "Epoch 54/100\n",
            "32/32 [==============================] - 0s 1ms/step - loss: 0.3343\n",
            "Epoch 55/100\n",
            "32/32 [==============================] - 0s 1ms/step - loss: 0.3390\n",
            "Epoch 56/100\n",
            "32/32 [==============================] - 0s 1ms/step - loss: 0.3524\n",
            "Epoch 57/100\n",
            "32/32 [==============================] - 0s 862us/step - loss: 0.3531\n",
            "Epoch 58/100\n",
            "32/32 [==============================] - 0s 975us/step - loss: 0.3178\n",
            "Epoch 59/100\n",
            "32/32 [==============================] - 0s 1ms/step - loss: 0.3361\n",
            "Epoch 60/100\n",
            "32/32 [==============================] - 0s 852us/step - loss: 0.3546\n",
            "Epoch 61/100\n",
            "32/32 [==============================] - 0s 858us/step - loss: 0.3324\n",
            "Epoch 62/100\n",
            "32/32 [==============================] - 0s 890us/step - loss: 0.3504\n",
            "Epoch 63/100\n",
            "32/32 [==============================] - 0s 732us/step - loss: 0.3351\n",
            "Epoch 64/100\n",
            "32/32 [==============================] - 0s 1ms/step - loss: 0.3589\n",
            "Epoch 65/100\n",
            "32/32 [==============================] - 0s 1ms/step - loss: 0.3554\n",
            "Epoch 66/100\n",
            "32/32 [==============================] - 0s 903us/step - loss: 0.3408\n",
            "Epoch 67/100\n",
            "32/32 [==============================] - 0s 904us/step - loss: 0.3407\n",
            "Epoch 68/100\n",
            "32/32 [==============================] - 0s 840us/step - loss: 0.3350\n",
            "Epoch 69/100\n",
            "32/32 [==============================] - 0s 810us/step - loss: 0.3425\n",
            "Epoch 70/100\n",
            "32/32 [==============================] - 0s 980us/step - loss: 0.3437\n",
            "Epoch 71/100\n",
            "32/32 [==============================] - 0s 1ms/step - loss: 0.3417\n",
            "Epoch 72/100\n",
            "32/32 [==============================] - 0s 1ms/step - loss: 0.3331\n",
            "Epoch 73/100\n",
            "32/32 [==============================] - 0s 973us/step - loss: 0.3363\n",
            "Epoch 74/100\n",
            "32/32 [==============================] - 0s 812us/step - loss: 0.3272\n",
            "Epoch 75/100\n",
            "32/32 [==============================] - 0s 935us/step - loss: 0.3359\n",
            "Epoch 76/100\n",
            "32/32 [==============================] - 0s 937us/step - loss: 0.3442\n",
            "Epoch 77/100\n",
            "32/32 [==============================] - 0s 2ms/step - loss: 0.3406\n",
            "Epoch 78/100\n",
            "32/32 [==============================] - 0s 1ms/step - loss: 0.3480\n",
            "Epoch 79/100\n",
            "32/32 [==============================] - 0s 810us/step - loss: 0.3354\n",
            "Epoch 80/100\n",
            "32/32 [==============================] - 0s 759us/step - loss: 0.3376\n",
            "Epoch 81/100\n",
            "32/32 [==============================] - 0s 882us/step - loss: 0.3298\n",
            "Epoch 82/100\n",
            "32/32 [==============================] - 0s 862us/step - loss: 0.3502\n",
            "Epoch 83/100\n",
            "32/32 [==============================] - 0s 1ms/step - loss: 0.3300\n",
            "Epoch 84/100\n",
            "32/32 [==============================] - 0s 880us/step - loss: 0.3360\n",
            "Epoch 85/100\n",
            "32/32 [==============================] - 0s 732us/step - loss: 0.3199\n",
            "Epoch 86/100\n",
            "32/32 [==============================] - 0s 886us/step - loss: 0.3519\n",
            "Epoch 87/100\n",
            "32/32 [==============================] - 0s 900us/step - loss: 0.3462\n",
            "Epoch 88/100\n",
            "32/32 [==============================] - 0s 1ms/step - loss: 0.3394\n",
            "Epoch 89/100\n",
            "32/32 [==============================] - 0s 914us/step - loss: 0.3305\n",
            "Epoch 90/100\n",
            "32/32 [==============================] - 0s 1ms/step - loss: 0.3439\n",
            "Epoch 91/100\n",
            "32/32 [==============================] - 0s 1ms/step - loss: 0.3551\n",
            "Epoch 92/100\n",
            "32/32 [==============================] - 0s 1ms/step - loss: 0.3542\n",
            "Epoch 93/100\n",
            "32/32 [==============================] - 0s 917us/step - loss: 0.3324\n",
            "Epoch 94/100\n",
            "32/32 [==============================] - 0s 832us/step - loss: 0.3474\n",
            "Epoch 95/100\n",
            "32/32 [==============================] - 0s 896us/step - loss: 0.3303\n",
            "Epoch 96/100\n",
            "32/32 [==============================] - 0s 1ms/step - loss: 0.3539\n",
            "Epoch 97/100\n",
            "32/32 [==============================] - 0s 843us/step - loss: 0.3412\n",
            "Epoch 98/100\n",
            "32/32 [==============================] - 0s 911us/step - loss: 0.3492\n",
            "Epoch 99/100\n",
            "32/32 [==============================] - 0s 1ms/step - loss: 0.3284\n",
            "Epoch 100/100\n",
            "32/32 [==============================] - 0s 1ms/step - loss: 0.3401\n"
          ],
          "name": "stdout"
        },
        {
          "output_type": "execute_result",
          "data": {
            "text/plain": [
              "<tensorflow.python.keras.callbacks.History at 0x7faf741b73c8>"
            ]
          },
          "metadata": {
            "tags": []
          },
          "execution_count": 24
        }
      ]
    },
    {
      "cell_type": "code",
      "metadata": {
        "colab": {
          "base_uri": "https://localhost:8080/",
          "height": 282
        },
        "id": "YBhOKpVxbcbW",
        "outputId": "43d9c9f8-09c0-46f3-d953-0668233b0cc4"
      },
      "source": [
        "loss_df=pd.DataFrame(model.history.history)\r\n",
        "plt.plot(loss_df)"
      ],
      "execution_count": 25,
      "outputs": [
        {
          "output_type": "execute_result",
          "data": {
            "text/plain": [
              "[<matplotlib.lines.Line2D at 0x7faf73595ba8>]"
            ]
          },
          "metadata": {
            "tags": []
          },
          "execution_count": 25
        },
        {
          "output_type": "display_data",
          "data": {
            "image/png": "[encoded data removed]",
            "text/plain": [
              "<Figure size 432x288 with 1 Axes>"
            ]
          },
          "metadata": {
            "tags": [],
            "needs_background": "light"
          }
        }
      ]
    },
    {
      "cell_type": "code",
      "metadata": {
        "colab": {
          "base_uri": "https://localhost:8080/"
        },
        "id": "km9gTwpubtaV",
        "outputId": "846f12d6-a20b-4aa0-c659-1b86c56fa349"
      },
      "source": [
        "model.layers[0].get_weights()[0]"
      ],
      "execution_count": 27,
      "outputs": [
        {
          "output_type": "execute_result",
          "data": {
            "text/plain": [
              "array([[1.9889121],\n",
              "       [2.9563572]], dtype=float32)"
            ]
          },
          "metadata": {
            "tags": []
          },
          "execution_count": 27
        }
      ]
    },
    {
      "cell_type": "code",
      "metadata": {
        "colab": {
          "base_uri": "https://localhost:8080/"
        },
        "id": "JDwUXW6IcXjj",
        "outputId": "b718b85f-0ebc-4397-94dc-f4f10c7c7c10"
      },
      "source": [
        "model.layers[0].get_weights()[1]"
      ],
      "execution_count": 28,
      "outputs": [
        {
          "output_type": "execute_result",
          "data": {
            "text/plain": [
              "array([5.0017376], dtype=float32)"
            ]
          },
          "metadata": {
            "tags": []
          },
          "execution_count": 28
        }
      ]
    },
    {
      "cell_type": "code",
      "metadata": {
        "id": "-leEVautcKsH"
      },
      "source": [
        "prediction=model.predict_on_batch(training_data['inputs'])"
      ],
      "execution_count": 31,
      "outputs": []
    },
    {
      "cell_type": "code",
      "metadata": {
        "colab": {
          "base_uri": "https://localhost:8080/",
          "height": 282
        },
        "id": "3AtFBvsXco21",
        "outputId": "fa427596-9d1f-49dd-ada5-6ad272044846"
      },
      "source": [
        "plt.scatter(prediction,training_data['targets'])"
      ],
      "execution_count": 34,
      "outputs": [
        {
          "output_type": "execute_result",
          "data": {
            "text/plain": [
              "<matplotlib.collections.PathCollection at 0x7faf72ab3f60>"
            ]
          },
          "metadata": {
            "tags": []
          },
          "execution_count": 34
        },
        {
          "output_type": "display_data",
          "data": {
            "image/png": "[encoded data removed]",
            "text/plain": [
              "<Figure size 432x288 with 1 Axes>"
            ]
          },
          "metadata": {
            "tags": [],
            "needs_background": "light"
          }
        }
      ]
    },
    {
      "cell_type": "code",
      "metadata": {
        "id": "DFDoJX3DdHoh"
      },
      "source": [
        ""
      ],
      "execution_count": null,
      "outputs": []
    }
  ]
}