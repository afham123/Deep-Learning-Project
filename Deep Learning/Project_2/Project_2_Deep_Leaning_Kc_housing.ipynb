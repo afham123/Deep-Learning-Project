{
  "nbformat": 4,
  "nbformat_minor": 0,
  "metadata": {
    "colab": {
      "name": "Project_2_Deep_Leaning_Kc_housing.ipynb",
      "provenance": []
    },
    "kernelspec": {
      "name": "python3",
      "display_name": "Python 3"
    }
  },
  "cells": [
    {
      "cell_type": "code",
      "metadata": {
        "id": "sP2Udv9udIeq"
      },
      "source": [
        "import seaborn as sns\r\n",
        "import pandas as pd\r\n",
        "import numpy as np\r\n",
        "import matplotlib.pyplot as plt\r\n",
        "import io"
      ],
      "execution_count": null,
      "outputs": []
    },
    {
      "cell_type": "code",
      "metadata": {
        "colab": {
          "resources": {
            "http://localhost:8080/nbextensions/google.colab/files.js": {
              "data": "Ly8gQ29weXJpZ2h0IDIwMTcgR29vZ2xlIExMQwovLwovLyBMaWNlbnNlZCB1bmRlciB0aGUgQXBhY2hlIExpY2Vuc2UsIFZlcnNpb24gMi4wICh0aGUgIkxpY2Vuc2UiKTsKLy8geW91IG1heSBub3QgdXNlIHRoaXMgZmlsZSBleGNlcHQgaW4gY29tcGxpYW5jZSB3aXRoIHRoZSBMaWNlbnNlLgovLyBZb3UgbWF5IG9idGFpbiBhIGNvcHkgb2YgdGhlIExpY2Vuc2UgYXQKLy8KLy8gICAgICBodHRwOi8vd3d3LmFwYWNoZS5vcmcvbGljZW5zZXMvTElDRU5TRS0yLjAKLy8KLy8gVW5sZXNzIHJlcXVpcmVkIGJ5IGFwcGxpY2FibGUgbGF3IG9yIGFncmVlZCB0byBpbiB3cml0aW5nLCBzb2Z0d2FyZQovLyBkaXN0cmlidXRlZCB1bmRlciB0aGUgTGljZW5zZSBpcyBkaXN0cmlidXRlZCBvbiBhbiAiQVMgSVMiIEJBU0lTLAovLyBXSVRIT1VUIFdBUlJBTlRJRVMgT1IgQ09ORElUSU9OUyBPRiBBTlkgS0lORCwgZWl0aGVyIGV4cHJlc3Mgb3IgaW1wbGllZC4KLy8gU2VlIHRoZSBMaWNlbnNlIGZvciB0aGUgc3BlY2lmaWMgbGFuZ3VhZ2UgZ292ZXJuaW5nIHBlcm1pc3Npb25zIGFuZAovLyBsaW1pdGF0aW9ucyB1bmRlciB0aGUgTGljZW5zZS4KCi8qKgogKiBAZmlsZW92ZXJ2aWV3IEhlbHBlcnMgZm9yIGdvb2dsZS5jb2xhYiBQeXRob24gbW9kdWxlLgogKi8KKGZ1bmN0aW9uKHNjb3BlKSB7CmZ1bmN0aW9uIHNwYW4odGV4dCwgc3R5bGVBdHRyaWJ1dGVzID0ge30pIHsKICBjb25zdCBlbGVtZW50ID0gZG9jdW1lbnQuY3JlYXRlRWxlbWVudCgnc3BhbicpOwogIGVsZW1lbnQudGV4dENvbnRlbnQgPSB0ZXh0OwogIGZvciAoY29uc3Qga2V5IG9mIE9iamVjdC5rZXlzKHN0eWxlQXR0cmlidXRlcykpIHsKICAgIGVsZW1lbnQuc3R5bGVba2V5XSA9IHN0eWxlQXR0cmlidXRlc1trZXldOwogIH0KICByZXR1cm4gZWxlbWVudDsKfQoKLy8gTWF4IG51bWJlciBvZiBieXRlcyB3aGljaCB3aWxsIGJlIHVwbG9hZGVkIGF0IGEgdGltZS4KY29uc3QgTUFYX1BBWUxPQURfU0laRSA9IDEwMCAqIDEwMjQ7CgpmdW5jdGlvbiBfdXBsb2FkRmlsZXMoaW5wdXRJZCwgb3V0cHV0SWQpIHsKICBjb25zdCBzdGVwcyA9IHVwbG9hZEZpbGVzU3RlcChpbnB1dElkLCBvdXRwdXRJZCk7CiAgY29uc3Qgb3V0cHV0RWxlbWVudCA9IGRvY3VtZW50LmdldEVsZW1lbnRCeUlkKG91dHB1dElkKTsKICAvLyBDYWNoZSBzdGVwcyBvbiB0aGUgb3V0cHV0RWxlbWVudCB0byBtYWtlIGl0IGF2YWlsYWJsZSBmb3IgdGhlIG5leHQgY2FsbAogIC8vIHRvIHVwbG9hZEZpbGVzQ29udGludWUgZnJvbSBQeXRob24uCiAgb3V0cHV0RWxlbWVudC5zdGVwcyA9IHN0ZXBzOwoKICByZXR1cm4gX3VwbG9hZEZpbGVzQ29udGludWUob3V0cHV0SWQpOwp9CgovLyBUaGlzIGlzIHJvdWdobHkgYW4gYXN5bmMgZ2VuZXJhdG9yIChub3Qgc3VwcG9ydGVkIGluIHRoZSBicm93c2VyIHlldCksCi8vIHdoZXJlIHRoZXJlIGFyZSBtdWx0aXBsZSBhc3luY2hyb25vdXMgc3RlcHMgYW5kIHRoZSBQeXRob24gc2lkZSBpcyBnb2luZwovLyB0byBwb2xsIGZvciBjb21wbGV0aW9uIG9mIGVhY2ggc3RlcC4KLy8gVGhpcyB1c2VzIGEgUHJvbWlzZSB0byBibG9jayB0aGUgcHl0aG9uIHNpZGUgb24gY29tcGxldGlvbiBvZiBlYWNoIHN0ZXAsCi8vIHRoZW4gcGFzc2VzIHRoZSByZXN1bHQgb2YgdGhlIHByZXZpb3VzIHN0ZXAgYXMgdGhlIGlucHV0IHRvIHRoZSBuZXh0IHN0ZXAuCmZ1bmN0aW9uIF91cGxvYWRGaWxlc0NvbnRpbnVlKG91dHB1dElkKSB7CiAgY29uc3Qgb3V0cHV0RWxlbWVudCA9IGRvY3VtZW50LmdldEVsZW1lbnRCeUlkKG91dHB1dElkKTsKICBjb25zdCBzdGVwcyA9IG91dHB1dEVsZW1lbnQuc3RlcHM7CgogIGNvbnN0IG5leHQgPSBzdGVwcy5uZXh0KG91dHB1dEVsZW1lbnQubGFzdFByb21pc2VWYWx1ZSk7CiAgcmV0dXJuIFByb21pc2UucmVzb2x2ZShuZXh0LnZhbHVlLnByb21pc2UpLnRoZW4oKHZhbHVlKSA9PiB7CiAgICAvLyBDYWNoZSB0aGUgbGFzdCBwcm9taXNlIHZhbHVlIHRvIG1ha2UgaXQgYXZhaWxhYmxlIHRvIHRoZSBuZXh0CiAgICAvLyBzdGVwIG9mIHRoZSBnZW5lcmF0b3IuCiAgICBvdXRwdXRFbGVtZW50Lmxhc3RQcm9taXNlVmFsdWUgPSB2YWx1ZTsKICAgIHJldHVybiBuZXh0LnZhbHVlLnJlc3BvbnNlOwogIH0pOwp9CgovKioKICogR2VuZXJhdG9yIGZ1bmN0aW9uIHdoaWNoIGlzIGNhbGxlZCBiZXR3ZWVuIGVhY2ggYXN5bmMgc3RlcCBvZiB0aGUgdXBsb2FkCiAqIHByb2Nlc3MuCiAqIEBwYXJhbSB7c3RyaW5nfSBpbnB1dElkIEVsZW1lbnQgSUQgb2YgdGhlIGlucHV0IGZpbGUgcGlja2VyIGVsZW1lbnQuCiAqIEBwYXJhbSB7c3RyaW5nfSBvdXRwdXRJZCBFbGVtZW50IElEIG9mIHRoZSBvdXRwdXQgZGlzcGxheS4KICogQHJldHVybiB7IUl0ZXJhYmxlPCFPYmplY3Q+fSBJdGVyYWJsZSBvZiBuZXh0IHN0ZXBzLgogKi8KZnVuY3Rpb24qIHVwbG9hZEZpbGVzU3RlcChpbnB1dElkLCBvdXRwdXRJZCkgewogIGNvbnN0IGlucHV0RWxlbWVudCA9IGRvY3VtZW50LmdldEVsZW1lbnRCeUlkKGlucHV0SWQpOwogIGlucHV0RWxlbWVudC5kaXNhYmxlZCA9IGZhbHNlOwoKICBjb25zdCBvdXRwdXRFbGVtZW50ID0gZG9jdW1lbnQuZ2V0RWxlbWVudEJ5SWQob3V0cHV0SWQpOwogIG91dHB1dEVsZW1lbnQuaW5uZXJIVE1MID0gJyc7CgogIGNvbnN0IHBpY2tlZFByb21pc2UgPSBuZXcgUHJvbWlzZSgocmVzb2x2ZSkgPT4gewogICAgaW5wdXRFbGVtZW50LmFkZEV2ZW50TGlzdGVuZXIoJ2NoYW5nZScsIChlKSA9PiB7CiAgICAgIHJlc29sdmUoZS50YXJnZXQuZmlsZXMpOwogICAgfSk7CiAgfSk7CgogIGNvbnN0IGNhbmNlbCA9IGRvY3VtZW50LmNyZWF0ZUVsZW1lbnQoJ2J1dHRvbicpOwogIGlucHV0RWxlbWVudC5wYXJlbnRFbGVtZW50LmFwcGVuZENoaWxkKGNhbmNlbCk7CiAgY2FuY2VsLnRleHRDb250ZW50ID0gJ0NhbmNlbCB1cGxvYWQnOwogIGNvbnN0IGNhbmNlbFByb21pc2UgPSBuZXcgUHJvbWlzZSgocmVzb2x2ZSkgPT4gewogICAgY2FuY2VsLm9uY2xpY2sgPSAoKSA9PiB7CiAgICAgIHJlc29sdmUobnVsbCk7CiAgICB9OwogIH0pOwoKICAvLyBXYWl0IGZvciB0aGUgdXNlciB0byBwaWNrIHRoZSBmaWxlcy4KICBjb25zdCBmaWxlcyA9IHlpZWxkIHsKICAgIHByb21pc2U6IFByb21pc2UucmFjZShbcGlja2VkUHJvbWlzZSwgY2FuY2VsUHJvbWlzZV0pLAogICAgcmVzcG9uc2U6IHsKICAgICAgYWN0aW9uOiAnc3RhcnRpbmcnLAogICAgfQogIH07CgogIGNhbmNlbC5yZW1vdmUoKTsKCiAgLy8gRGlzYWJsZSB0aGUgaW5wdXQgZWxlbWVudCBzaW5jZSBmdXJ0aGVyIHBpY2tzIGFyZSBub3QgYWxsb3dlZC4KICBpbnB1dEVsZW1lbnQuZGlzYWJsZWQgPSB0cnVlOwoKICBpZiAoIWZpbGVzKSB7CiAgICByZXR1cm4gewogICAgICByZXNwb25zZTogewogICAgICAgIGFjdGlvbjogJ2NvbXBsZXRlJywKICAgICAgfQogICAgfTsKICB9CgogIGZvciAoY29uc3QgZmlsZSBvZiBmaWxlcykgewogICAgY29uc3QgbGkgPSBkb2N1bWVudC5jcmVhdGVFbGVtZW50KCdsaScpOwogICAgbGkuYXBwZW5kKHNwYW4oZmlsZS5uYW1lLCB7Zm9udFdlaWdodDogJ2JvbGQnfSkpOwogICAgbGkuYXBwZW5kKHNwYW4oCiAgICAgICAgYCgke2ZpbGUudHlwZSB8fCAnbi9hJ30pIC0gJHtmaWxlLnNpemV9IGJ5dGVzLCBgICsKICAgICAgICBgbGFzdCBtb2RpZmllZDogJHsKICAgICAgICAgICAgZmlsZS5sYXN0TW9kaWZpZWREYXRlID8gZmlsZS5sYXN0TW9kaWZpZWREYXRlLnRvTG9jYWxlRGF0ZVN0cmluZygpIDoKICAgICAgICAgICAgICAgICAgICAgICAgICAgICAgICAgICAgJ24vYSd9IC0gYCkpOwogICAgY29uc3QgcGVyY2VudCA9IHNwYW4oJzAlIGRvbmUnKTsKICAgIGxpLmFwcGVuZENoaWxkKHBlcmNlbnQpOwoKICAgIG91dHB1dEVsZW1lbnQuYXBwZW5kQ2hpbGQobGkpOwoKICAgIGNvbnN0IGZpbGVEYXRhUHJvbWlzZSA9IG5ldyBQcm9taXNlKChyZXNvbHZlKSA9PiB7CiAgICAgIGNvbnN0IHJlYWRlciA9IG5ldyBGaWxlUmVhZGVyKCk7CiAgICAgIHJlYWRlci5vbmxvYWQgPSAoZSkgPT4gewogICAgICAgIHJlc29sdmUoZS50YXJnZXQucmVzdWx0KTsKICAgICAgfTsKICAgICAgcmVhZGVyLnJlYWRBc0FycmF5QnVmZmVyKGZpbGUpOwogICAgfSk7CiAgICAvLyBXYWl0IGZvciB0aGUgZGF0YSB0byBiZSByZWFkeS4KICAgIGxldCBmaWxlRGF0YSA9IHlpZWxkIHsKICAgICAgcHJvbWlzZTogZmlsZURhdGFQcm9taXNlLAogICAgICByZXNwb25zZTogewogICAgICAgIGFjdGlvbjogJ2NvbnRpbnVlJywKICAgICAgfQogICAgfTsKCiAgICAvLyBVc2UgYSBjaHVua2VkIHNlbmRpbmcgdG8gYXZvaWQgbWVzc2FnZSBzaXplIGxpbWl0cy4gU2VlIGIvNjIxMTU2NjAuCiAgICBsZXQgcG9zaXRpb24gPSAwOwogICAgd2hpbGUgKHBvc2l0aW9uIDwgZmlsZURhdGEuYnl0ZUxlbmd0aCkgewogICAgICBjb25zdCBsZW5ndGggPSBNYXRoLm1pbihmaWxlRGF0YS5ieXRlTGVuZ3RoIC0gcG9zaXRpb24sIE1BWF9QQVlMT0FEX1NJWkUpOwogICAgICBjb25zdCBjaHVuayA9IG5ldyBVaW50OEFycmF5KGZpbGVEYXRhLCBwb3NpdGlvbiwgbGVuZ3RoKTsKICAgICAgcG9zaXRpb24gKz0gbGVuZ3RoOwoKICAgICAgY29uc3QgYmFzZTY0ID0gYnRvYShTdHJpbmcuZnJvbUNoYXJDb2RlLmFwcGx5KG51bGwsIGNodW5rKSk7CiAgICAgIHlpZWxkIHsKICAgICAgICByZXNwb25zZTogewogICAgICAgICAgYWN0aW9uOiAnYXBwZW5kJywKICAgICAgICAgIGZpbGU6IGZpbGUubmFtZSwKICAgICAgICAgIGRhdGE6IGJhc2U2NCwKICAgICAgICB9LAogICAgICB9OwogICAgICBwZXJjZW50LnRleHRDb250ZW50ID0KICAgICAgICAgIGAke01hdGgucm91bmQoKHBvc2l0aW9uIC8gZmlsZURhdGEuYnl0ZUxlbmd0aCkgKiAxMDApfSUgZG9uZWA7CiAgICB9CiAgfQoKICAvLyBBbGwgZG9uZS4KICB5aWVsZCB7CiAgICByZXNwb25zZTogewogICAgICBhY3Rpb246ICdjb21wbGV0ZScsCiAgICB9CiAgfTsKfQoKc2NvcGUuZ29vZ2xlID0gc2NvcGUuZ29vZ2xlIHx8IHt9OwpzY29wZS5nb29nbGUuY29sYWIgPSBzY29wZS5nb29nbGUuY29sYWIgfHwge307CnNjb3BlLmdvb2dsZS5jb2xhYi5fZmlsZXMgPSB7CiAgX3VwbG9hZEZpbGVzLAogIF91cGxvYWRGaWxlc0NvbnRpbnVlLAp9Owp9KShzZWxmKTsK",
              "ok": true,
              "headers": [
                [
                  "content-type",
                  "application/javascript"
                ]
              ],
              "status": 200,
              "status_text": ""
            }
          },
          "base_uri": "https://localhost:8080/",
          "height": 72
        },
        "id": "O2nwQsZqd4W5",
        "outputId": "9d8b1ae3-bee9-46b8-edab-7f0d254cf54f"
      },
      "source": [
        "from google.colab import files\r\n",
        "uploaded = files.upload()"
      ],
      "execution_count": null,
      "outputs": [
        {
          "output_type": "display_data",
          "data": {
            "text/html": [
              "\n",
              "     <input type=\"file\" id=\"files-c38cd8c6-6cbf-4621-b574-e3f4c365926e\" name=\"files[]\" multiple disabled\n",
              "        style=\"border:none\" />\n",
              "     <output id=\"result-c38cd8c6-6cbf-4621-b574-e3f4c365926e\">\n",
              "      Upload widget is only available when the cell has been executed in the\n",
              "      current browser session. Please rerun this cell to enable.\n",
              "      </output>\n",
              "      <script src=\"/nbextensions/google.colab/files.js\"></script> "
            ],
            "text/plain": [
              "<IPython.core.display.HTML object>"
            ]
          },
          "metadata": {
            "tags": []
          }
        },
        {
          "output_type": "stream",
          "text": [
            "Saving kc_house_data.csv to kc_house_data.csv\n"
          ],
          "name": "stdout"
        }
      ]
    },
    {
      "cell_type": "code",
      "metadata": {
        "colab": {
          "base_uri": "https://localhost:8080/",
          "height": 224
        },
        "id": "dV4QOsbLeA2x",
        "outputId": "6eab6c85-74d6-435a-c6c3-5c6c72198211"
      },
      "source": [
        "df = pd.read_csv(io.BytesIO(uploaded['kc_house_data.csv']))\r\n",
        "df.head()"
      ],
      "execution_count": null,
      "outputs": [
        {
          "output_type": "execute_result",
          "data": {
            "text/html": [
              "<div>\n",
              "<style scoped>\n",
              "    .dataframe tbody tr th:only-of-type {\n",
              "        vertical-align: middle;\n",
              "    }\n",
              "\n",
              "    .dataframe tbody tr th {\n",
              "        vertical-align: top;\n",
              "    }\n",
              "\n",
              "    .dataframe thead th {\n",
              "        text-align: right;\n",
              "    }\n",
              "</style>\n",
              "<table border=\"1\" class=\"dataframe\">\n",
              "  <thead>\n",
              "    <tr style=\"text-align: right;\">\n",
              "      <th></th>\n",
              "      <th>id</th>\n",
              "      <th>date</th>\n",
              "      <th>price</th>\n",
              "      <th>bedrooms</th>\n",
              "      <th>bathrooms</th>\n",
              "      <th>sqft_living</th>\n",
              "      <th>sqft_lot</th>\n",
              "      <th>floors</th>\n",
              "      <th>waterfront</th>\n",
              "      <th>view</th>\n",
              "      <th>condition</th>\n",
              "      <th>grade</th>\n",
              "      <th>sqft_above</th>\n",
              "      <th>sqft_basement</th>\n",
              "      <th>yr_built</th>\n",
              "      <th>yr_renovated</th>\n",
              "      <th>zipcode</th>\n",
              "      <th>lat</th>\n",
              "      <th>long</th>\n",
              "      <th>sqft_living15</th>\n",
              "      <th>sqft_lot15</th>\n",
              "    </tr>\n",
              "  </thead>\n",
              "  <tbody>\n",
              "    <tr>\n",
              "      <th>0</th>\n",
              "      <td>7129300520</td>\n",
              "      <td>10/13/2014</td>\n",
              "      <td>221900.0</td>\n",
              "      <td>3</td>\n",
              "      <td>1.00</td>\n",
              "      <td>1180</td>\n",
              "      <td>5650</td>\n",
              "      <td>1.0</td>\n",
              "      <td>0</td>\n",
              "      <td>0</td>\n",
              "      <td>3</td>\n",
              "      <td>7</td>\n",
              "      <td>1180</td>\n",
              "      <td>0</td>\n",
              "      <td>1955</td>\n",
              "      <td>0</td>\n",
              "      <td>98178</td>\n",
              "      <td>47.5112</td>\n",
              "      <td>-122.257</td>\n",
              "      <td>1340</td>\n",
              "      <td>5650</td>\n",
              "    </tr>\n",
              "    <tr>\n",
              "      <th>1</th>\n",
              "      <td>6414100192</td>\n",
              "      <td>12/9/2014</td>\n",
              "      <td>538000.0</td>\n",
              "      <td>3</td>\n",
              "      <td>2.25</td>\n",
              "      <td>2570</td>\n",
              "      <td>7242</td>\n",
              "      <td>2.0</td>\n",
              "      <td>0</td>\n",
              "      <td>0</td>\n",
              "      <td>3</td>\n",
              "      <td>7</td>\n",
              "      <td>2170</td>\n",
              "      <td>400</td>\n",
              "      <td>1951</td>\n",
              "      <td>1991</td>\n",
              "      <td>98125</td>\n",
              "      <td>47.7210</td>\n",
              "      <td>-122.319</td>\n",
              "      <td>1690</td>\n",
              "      <td>7639</td>\n",
              "    </tr>\n",
              "    <tr>\n",
              "      <th>2</th>\n",
              "      <td>5631500400</td>\n",
              "      <td>2/25/2015</td>\n",
              "      <td>180000.0</td>\n",
              "      <td>2</td>\n",
              "      <td>1.00</td>\n",
              "      <td>770</td>\n",
              "      <td>10000</td>\n",
              "      <td>1.0</td>\n",
              "      <td>0</td>\n",
              "      <td>0</td>\n",
              "      <td>3</td>\n",
              "      <td>6</td>\n",
              "      <td>770</td>\n",
              "      <td>0</td>\n",
              "      <td>1933</td>\n",
              "      <td>0</td>\n",
              "      <td>98028</td>\n",
              "      <td>47.7379</td>\n",
              "      <td>-122.233</td>\n",
              "      <td>2720</td>\n",
              "      <td>8062</td>\n",
              "    </tr>\n",
              "    <tr>\n",
              "      <th>3</th>\n",
              "      <td>2487200875</td>\n",
              "      <td>12/9/2014</td>\n",
              "      <td>604000.0</td>\n",
              "      <td>4</td>\n",
              "      <td>3.00</td>\n",
              "      <td>1960</td>\n",
              "      <td>5000</td>\n",
              "      <td>1.0</td>\n",
              "      <td>0</td>\n",
              "      <td>0</td>\n",
              "      <td>5</td>\n",
              "      <td>7</td>\n",
              "      <td>1050</td>\n",
              "      <td>910</td>\n",
              "      <td>1965</td>\n",
              "      <td>0</td>\n",
              "      <td>98136</td>\n",
              "      <td>47.5208</td>\n",
              "      <td>-122.393</td>\n",
              "      <td>1360</td>\n",
              "      <td>5000</td>\n",
              "    </tr>\n",
              "    <tr>\n",
              "      <th>4</th>\n",
              "      <td>1954400510</td>\n",
              "      <td>2/18/2015</td>\n",
              "      <td>510000.0</td>\n",
              "      <td>3</td>\n",
              "      <td>2.00</td>\n",
              "      <td>1680</td>\n",
              "      <td>8080</td>\n",
              "      <td>1.0</td>\n",
              "      <td>0</td>\n",
              "      <td>0</td>\n",
              "      <td>3</td>\n",
              "      <td>8</td>\n",
              "      <td>1680</td>\n",
              "      <td>0</td>\n",
              "      <td>1987</td>\n",
              "      <td>0</td>\n",
              "      <td>98074</td>\n",
              "      <td>47.6168</td>\n",
              "      <td>-122.045</td>\n",
              "      <td>1800</td>\n",
              "      <td>7503</td>\n",
              "    </tr>\n",
              "  </tbody>\n",
              "</table>\n",
              "</div>"
            ],
            "text/plain": [
              "           id        date     price  ...     long  sqft_living15  sqft_lot15\n",
              "0  7129300520  10/13/2014  221900.0  ... -122.257           1340        5650\n",
              "1  6414100192   12/9/2014  538000.0  ... -122.319           1690        7639\n",
              "2  5631500400   2/25/2015  180000.0  ... -122.233           2720        8062\n",
              "3  2487200875   12/9/2014  604000.0  ... -122.393           1360        5000\n",
              "4  1954400510   2/18/2015  510000.0  ... -122.045           1800        7503\n",
              "\n",
              "[5 rows x 21 columns]"
            ]
          },
          "metadata": {
            "tags": []
          },
          "execution_count": 4
        }
      ]
    },
    {
      "cell_type": "code",
      "metadata": {
        "colab": {
          "base_uri": "https://localhost:8080/",
          "height": 269
        },
        "id": "15Hcr53heJEj",
        "outputId": "bb9d33e5-5243-47a2-8e47-9c97faa0a5a6"
      },
      "source": [
        "sns.heatmap(df.isnull(),cbar=False,xticklabels=False)"
      ],
      "execution_count": null,
      "outputs": [
        {
          "output_type": "execute_result",
          "data": {
            "text/plain": [
              "<matplotlib.axes._subplots.AxesSubplot at 0x7fcadada4e10>"
            ]
          },
          "metadata": {
            "tags": []
          },
          "execution_count": 14
        },
        {
          "output_type": "display_data",
          "data": {
            "image/png": "[encoded data removed]",
            "text/plain": [
              "<Figure size 432x288 with 1 Axes>"
            ]
          },
          "metadata": {
            "tags": [],
            "needs_background": "light"
          }
        }
      ]
    },
    {
      "cell_type": "code",
      "metadata": {
        "colab": {
          "base_uri": "https://localhost:8080/",
          "height": 361
        },
        "id": "8diOqtrSpRfw",
        "outputId": "361cf8b7-9ccd-4142-8854-d0e9d6dcfd54"
      },
      "source": [
        "sns.distplot(df['price'])"
      ],
      "execution_count": null,
      "outputs": [
        {
          "output_type": "stream",
          "text": [
            "/usr/local/lib/python3.6/dist-packages/seaborn/distributions.py:2551: FutureWarning: `distplot` is a deprecated function and will be removed in a future version. Please adapt your code to use either `displot` (a figure-level function with similar flexibility) or `histplot` (an axes-level function for histograms).\n",
            "  warnings.warn(msg, FutureWarning)\n"
          ],
          "name": "stderr"
        },
        {
          "output_type": "execute_result",
          "data": {
            "text/plain": [
              "<matplotlib.axes._subplots.AxesSubplot at 0x7fcad9c7a668>"
            ]
          },
          "metadata": {
            "tags": []
          },
          "execution_count": 16
        },
        {
          "output_type": "display_data",
          "data": {
            "image/png": "[encoded data removed]",
            "text/plain": [
              "<Figure size 432x288 with 1 Axes>"
            ]
          },
          "metadata": {
            "tags": [],
            "needs_background": "light"
          }
        }
      ]
    },
    {
      "cell_type": "code",
      "metadata": {
        "colab": {
          "base_uri": "https://localhost:8080/",
          "height": 350
        },
        "id": "XpAWiNxmpSyt",
        "outputId": "44a9a75f-36a1-4311-b747-e49e70be127f"
      },
      "source": [
        "sns.countplot(df['bedrooms'])"
      ],
      "execution_count": null,
      "outputs": [
        {
          "output_type": "stream",
          "text": [
            "/usr/local/lib/python3.6/dist-packages/seaborn/_decorators.py:43: FutureWarning: Pass the following variable as a keyword arg: x. From version 0.12, the only valid positional argument will be `data`, and passing other arguments without an explicit keyword will result in an error or misinterpretation.\n",
            "  FutureWarning\n"
          ],
          "name": "stderr"
        },
        {
          "output_type": "execute_result",
          "data": {
            "text/plain": [
              "<matplotlib.axes._subplots.AxesSubplot at 0x7fcad9b58630>"
            ]
          },
          "metadata": {
            "tags": []
          },
          "execution_count": 19
        },
        {
          "output_type": "display_data",
          "data": {
            "image/png": "[encoded data removed]",
            "text/plain": [
              "<Figure size 432x288 with 1 Axes>"
            ]
          },
          "metadata": {
            "tags": [],
            "needs_background": "light"
          }
        }
      ]
    },
    {
      "cell_type": "code",
      "metadata": {
        "colab": {
          "base_uri": "https://localhost:8080/"
        },
        "id": "AYXv2Qz5qbud",
        "outputId": "f6a19c0c-c257-481b-eda5-8a333b89e162"
      },
      "source": [
        "df.corr()['price'].sort_values()"
      ],
      "execution_count": null,
      "outputs": [
        {
          "output_type": "execute_result",
          "data": {
            "text/plain": [
              "zipcode         -0.053402\n",
              "id              -0.016772\n",
              "long             0.022036\n",
              "condition        0.036056\n",
              "yr_built         0.053953\n",
              "sqft_lot15       0.082845\n",
              "sqft_lot         0.089876\n",
              "yr_renovated     0.126424\n",
              "floors           0.256804\n",
              "waterfront       0.266398\n",
              "lat              0.306692\n",
              "bedrooms         0.308787\n",
              "sqft_basement    0.323799\n",
              "view             0.397370\n",
              "bathrooms        0.525906\n",
              "sqft_living15    0.585241\n",
              "sqft_above       0.605368\n",
              "grade            0.667951\n",
              "sqft_living      0.701917\n",
              "price            1.000000\n",
              "Name: price, dtype: float64"
            ]
          },
          "metadata": {
            "tags": []
          },
          "execution_count": 24
        }
      ]
    },
    {
      "cell_type": "code",
      "metadata": {
        "colab": {
          "base_uri": "https://localhost:8080/",
          "height": 458
        },
        "id": "w5Npw6gTqeRR",
        "outputId": "24865183-5c0f-42ba-dc24-6f47437e6016"
      },
      "source": [
        "plt.figure(figsize=(12,7))\r\n",
        "plt.scatter(data=df,x='price',y='sqft_living')"
      ],
      "execution_count": null,
      "outputs": [
        {
          "output_type": "execute_result",
          "data": {
            "text/plain": [
              "<matplotlib.collections.PathCollection at 0x7fcad942ccf8>"
            ]
          },
          "metadata": {
            "tags": []
          },
          "execution_count": 31
        },
        {
          "output_type": "display_data",
          "data": {
            "image/png": "[encoded data removed]",
            "text/plain": [
              "<Figure size 864x504 with 1 Axes>"
            ]
          },
          "metadata": {
            "tags": [],
            "needs_background": "light"
          }
        }
      ]
    },
    {
      "cell_type": "code",
      "metadata": {
        "colab": {
          "base_uri": "https://localhost:8080/",
          "height": 362
        },
        "id": "BZpclAvNrsyO",
        "outputId": "d8e722fa-6cb0-48fd-b92b-4d10c27f54e7"
      },
      "source": [
        "plt.figure(figsize=(10,5))\r\n",
        "sns.boxplot(x='bedrooms',y='price',data=df)"
      ],
      "execution_count": null,
      "outputs": [
        {
          "output_type": "execute_result",
          "data": {
            "text/plain": [
              "<matplotlib.axes._subplots.AxesSubplot at 0x7fcad9b2af98>"
            ]
          },
          "metadata": {
            "tags": []
          },
          "execution_count": 33
        },
        {
          "output_type": "display_data",
          "data": {
            "image/png": "[encoded data removed]",
            "text/plain": [
              "<Figure size 720x360 with 1 Axes>"
            ]
          },
          "metadata": {
            "tags": [],
            "needs_background": "light"
          }
        }
      ]
    },
    {
      "cell_type": "code",
      "metadata": {
        "id": "zDp1KKpvefIn",
        "colab": {
          "base_uri": "https://localhost:8080/"
        },
        "outputId": "4f3e7bf5-f7d4-49ba-c488-36eeb4253a55"
      },
      "source": [
        "df.columns"
      ],
      "execution_count": null,
      "outputs": [
        {
          "output_type": "execute_result",
          "data": {
            "text/plain": [
              "Index(['id', 'date', 'price', 'bedrooms', 'bathrooms', 'sqft_living',\n",
              "       'sqft_lot', 'floors', 'waterfront', 'view', 'condition', 'grade',\n",
              "       'sqft_above', 'sqft_basement', 'yr_built', 'yr_renovated', 'zipcode',\n",
              "       'lat', 'long', 'sqft_living15', 'sqft_lot15'],\n",
              "      dtype='object')"
            ]
          },
          "metadata": {
            "tags": []
          },
          "execution_count": 5
        }
      ]
    },
    {
      "cell_type": "code",
      "metadata": {
        "id": "nwj4R_vWpJnQ",
        "colab": {
          "base_uri": "https://localhost:8080/",
          "height": 405
        },
        "outputId": "746b3640-62b2-446f-a5a6-45f129a445ed"
      },
      "source": [
        "plt.figure(figsize=(12,6))\r\n",
        "sns.scatterplot(x='price',y='long',data=df)"
      ],
      "execution_count": null,
      "outputs": [
        {
          "output_type": "execute_result",
          "data": {
            "text/plain": [
              "<matplotlib.axes._subplots.AxesSubplot at 0x7fcd3dc47898>"
            ]
          },
          "metadata": {
            "tags": []
          },
          "execution_count": 6
        },
        {
          "output_type": "display_data",
          "data": {
            "image/png": "[encoded data removed]",
            "text/plain": [
              "<Figure size 864x432 with 1 Axes>"
            ]
          },
          "metadata": {
            "tags": [],
            "needs_background": "light"
          }
        }
      ]
    },
    {
      "cell_type": "code",
      "metadata": {
        "colab": {
          "base_uri": "https://localhost:8080/",
          "height": 405
        },
        "id": "VmfiA5mT8Rcc",
        "outputId": "9c9b4143-b43e-4fc6-907a-518a6c67fbf3"
      },
      "source": [
        "plt.figure(figsize=(12,6))\r\n",
        "sns.scatterplot(x='price',y='lat',data=df)"
      ],
      "execution_count": null,
      "outputs": [
        {
          "output_type": "execute_result",
          "data": {
            "text/plain": [
              "<matplotlib.axes._subplots.AxesSubplot at 0x7fcd3d924fd0>"
            ]
          },
          "metadata": {
            "tags": []
          },
          "execution_count": 7
        },
        {
          "output_type": "display_data",
          "data": {
            "image/png": "[encoded data removed]",
            "text/plain": [
              "<Figure size 864x432 with 1 Axes>"
            ]
          },
          "metadata": {
            "tags": [],
            "needs_background": "light"
          }
        }
      ]
    },
    {
      "cell_type": "code",
      "metadata": {
        "colab": {
          "base_uri": "https://localhost:8080/",
          "height": 405
        },
        "id": "iHNck-GB8WxJ",
        "outputId": "79e58b2b-3094-4917-e364-d982f5a17a75"
      },
      "source": [
        "plt.figure(figsize=(12,6))\r\n",
        "sns.scatterplot(x='long',y='lat',data=df,hue='price',edgecolor=None,alpha=0.2)"
      ],
      "execution_count": null,
      "outputs": [
        {
          "output_type": "execute_result",
          "data": {
            "text/plain": [
              "<matplotlib.axes._subplots.AxesSubplot at 0x7fcd3adc4550>"
            ]
          },
          "metadata": {
            "tags": []
          },
          "execution_count": 21
        },
        {
          "output_type": "display_data",
          "data": {
            "image/png": "[encoded data removed]",
            "text/plain": [
              "<Figure size 864x432 with 1 Axes>"
            ]
          },
          "metadata": {
            "tags": [],
            "needs_background": "light"
          }
        }
      ]
    },
    {
      "cell_type": "code",
      "metadata": {
        "id": "q39cMZg08c4s"
      },
      "source": [
        "df=df[df['price']<3000000]"
      ],
      "execution_count": null,
      "outputs": []
    },
    {
      "cell_type": "code",
      "metadata": {
        "colab": {
          "base_uri": "https://localhost:8080/",
          "height": 307
        },
        "id": "_3ZX9Ipt855C",
        "outputId": "7fd02131-a086-4204-c937-51d2ae7140f4"
      },
      "source": [
        "sns.boxplot(x='waterfront',y='price',data=df)"
      ],
      "execution_count": null,
      "outputs": [
        {
          "output_type": "execute_result",
          "data": {
            "text/plain": [
              "<matplotlib.axes._subplots.AxesSubplot at 0x7fcd3addbe10>"
            ]
          },
          "metadata": {
            "tags": []
          },
          "execution_count": 19
        },
        {
          "output_type": "display_data",
          "data": {
            "image/png": "[encoded data removed]",
            "text/plain": [
              "<Figure size 432x288 with 1 Axes>"
            ]
          },
          "metadata": {
            "tags": [],
            "needs_background": "light"
          }
        }
      ]
    },
    {
      "cell_type": "code",
      "metadata": {
        "colab": {
          "base_uri": "https://localhost:8080/",
          "height": 224
        },
        "id": "_BcHrSG--S8S",
        "outputId": "933e93ad-c2a9-47a4-94e4-65fc98db83ec"
      },
      "source": [
        "df.head()"
      ],
      "execution_count": null,
      "outputs": [
        {
          "output_type": "execute_result",
          "data": {
            "text/html": [
              "<div>\n",
              "<style scoped>\n",
              "    .dataframe tbody tr th:only-of-type {\n",
              "        vertical-align: middle;\n",
              "    }\n",
              "\n",
              "    .dataframe tbody tr th {\n",
              "        vertical-align: top;\n",
              "    }\n",
              "\n",
              "    .dataframe thead th {\n",
              "        text-align: right;\n",
              "    }\n",
              "</style>\n",
              "<table border=\"1\" class=\"dataframe\">\n",
              "  <thead>\n",
              "    <tr style=\"text-align: right;\">\n",
              "      <th></th>\n",
              "      <th>date</th>\n",
              "      <th>price</th>\n",
              "      <th>bedrooms</th>\n",
              "      <th>bathrooms</th>\n",
              "      <th>sqft_living</th>\n",
              "      <th>sqft_lot</th>\n",
              "      <th>floors</th>\n",
              "      <th>waterfront</th>\n",
              "      <th>view</th>\n",
              "      <th>condition</th>\n",
              "      <th>grade</th>\n",
              "      <th>sqft_above</th>\n",
              "      <th>sqft_basement</th>\n",
              "      <th>yr_built</th>\n",
              "      <th>yr_renovated</th>\n",
              "      <th>zipcode</th>\n",
              "      <th>lat</th>\n",
              "      <th>long</th>\n",
              "      <th>sqft_living15</th>\n",
              "      <th>sqft_lot15</th>\n",
              "    </tr>\n",
              "  </thead>\n",
              "  <tbody>\n",
              "    <tr>\n",
              "      <th>0</th>\n",
              "      <td>10/13/2014</td>\n",
              "      <td>221900.0</td>\n",
              "      <td>3</td>\n",
              "      <td>1.00</td>\n",
              "      <td>1180</td>\n",
              "      <td>5650</td>\n",
              "      <td>1.0</td>\n",
              "      <td>0</td>\n",
              "      <td>0</td>\n",
              "      <td>3</td>\n",
              "      <td>7</td>\n",
              "      <td>1180</td>\n",
              "      <td>0</td>\n",
              "      <td>1955</td>\n",
              "      <td>0</td>\n",
              "      <td>98178</td>\n",
              "      <td>47.5112</td>\n",
              "      <td>-122.257</td>\n",
              "      <td>1340</td>\n",
              "      <td>5650</td>\n",
              "    </tr>\n",
              "    <tr>\n",
              "      <th>1</th>\n",
              "      <td>12/9/2014</td>\n",
              "      <td>538000.0</td>\n",
              "      <td>3</td>\n",
              "      <td>2.25</td>\n",
              "      <td>2570</td>\n",
              "      <td>7242</td>\n",
              "      <td>2.0</td>\n",
              "      <td>0</td>\n",
              "      <td>0</td>\n",
              "      <td>3</td>\n",
              "      <td>7</td>\n",
              "      <td>2170</td>\n",
              "      <td>400</td>\n",
              "      <td>1951</td>\n",
              "      <td>1991</td>\n",
              "      <td>98125</td>\n",
              "      <td>47.7210</td>\n",
              "      <td>-122.319</td>\n",
              "      <td>1690</td>\n",
              "      <td>7639</td>\n",
              "    </tr>\n",
              "    <tr>\n",
              "      <th>2</th>\n",
              "      <td>2/25/2015</td>\n",
              "      <td>180000.0</td>\n",
              "      <td>2</td>\n",
              "      <td>1.00</td>\n",
              "      <td>770</td>\n",
              "      <td>10000</td>\n",
              "      <td>1.0</td>\n",
              "      <td>0</td>\n",
              "      <td>0</td>\n",
              "      <td>3</td>\n",
              "      <td>6</td>\n",
              "      <td>770</td>\n",
              "      <td>0</td>\n",
              "      <td>1933</td>\n",
              "      <td>0</td>\n",
              "      <td>98028</td>\n",
              "      <td>47.7379</td>\n",
              "      <td>-122.233</td>\n",
              "      <td>2720</td>\n",
              "      <td>8062</td>\n",
              "    </tr>\n",
              "    <tr>\n",
              "      <th>3</th>\n",
              "      <td>12/9/2014</td>\n",
              "      <td>604000.0</td>\n",
              "      <td>4</td>\n",
              "      <td>3.00</td>\n",
              "      <td>1960</td>\n",
              "      <td>5000</td>\n",
              "      <td>1.0</td>\n",
              "      <td>0</td>\n",
              "      <td>0</td>\n",
              "      <td>5</td>\n",
              "      <td>7</td>\n",
              "      <td>1050</td>\n",
              "      <td>910</td>\n",
              "      <td>1965</td>\n",
              "      <td>0</td>\n",
              "      <td>98136</td>\n",
              "      <td>47.5208</td>\n",
              "      <td>-122.393</td>\n",
              "      <td>1360</td>\n",
              "      <td>5000</td>\n",
              "    </tr>\n",
              "    <tr>\n",
              "      <th>4</th>\n",
              "      <td>2/18/2015</td>\n",
              "      <td>510000.0</td>\n",
              "      <td>3</td>\n",
              "      <td>2.00</td>\n",
              "      <td>1680</td>\n",
              "      <td>8080</td>\n",
              "      <td>1.0</td>\n",
              "      <td>0</td>\n",
              "      <td>0</td>\n",
              "      <td>3</td>\n",
              "      <td>8</td>\n",
              "      <td>1680</td>\n",
              "      <td>0</td>\n",
              "      <td>1987</td>\n",
              "      <td>0</td>\n",
              "      <td>98074</td>\n",
              "      <td>47.6168</td>\n",
              "      <td>-122.045</td>\n",
              "      <td>1800</td>\n",
              "      <td>7503</td>\n",
              "    </tr>\n",
              "  </tbody>\n",
              "</table>\n",
              "</div>"
            ],
            "text/plain": [
              "         date     price  bedrooms  ...     long  sqft_living15  sqft_lot15\n",
              "0  10/13/2014  221900.0         3  ... -122.257           1340        5650\n",
              "1   12/9/2014  538000.0         3  ... -122.319           1690        7639\n",
              "2   2/25/2015  180000.0         2  ... -122.233           2720        8062\n",
              "3   12/9/2014  604000.0         4  ... -122.393           1360        5000\n",
              "4   2/18/2015  510000.0         3  ... -122.045           1800        7503\n",
              "\n",
              "[5 rows x 20 columns]"
            ]
          },
          "metadata": {
            "tags": []
          },
          "execution_count": 24
        }
      ]
    },
    {
      "cell_type": "code",
      "metadata": {
        "id": "dW9YyDIk-qe3"
      },
      "source": [
        "df=df.drop('id',axis=1)"
      ],
      "execution_count": null,
      "outputs": []
    },
    {
      "cell_type": "code",
      "metadata": {
        "id": "wh3LouZw-wbW"
      },
      "source": [
        "df['date']=pd.to_datetime(df['date'])"
      ],
      "execution_count": null,
      "outputs": []
    },
    {
      "cell_type": "code",
      "metadata": {
        "colab": {
          "base_uri": "https://localhost:8080/"
        },
        "id": "gm3h58t7_BHw",
        "outputId": "a75cc4f1-de78-4bfe-d3cc-61959186e8a0"
      },
      "source": [
        "df['date'].iloc[0].month"
      ],
      "execution_count": null,
      "outputs": [
        {
          "output_type": "execute_result",
          "data": {
            "text/plain": [
              "10"
            ]
          },
          "metadata": {
            "tags": []
          },
          "execution_count": 49
        }
      ]
    },
    {
      "cell_type": "code",
      "metadata": {
        "id": "ZHrejs-L_VK5"
      },
      "source": [
        "df['year']=df['date'].apply(lambda date:date.year)"
      ],
      "execution_count": null,
      "outputs": []
    },
    {
      "cell_type": "code",
      "metadata": {
        "colab": {
          "base_uri": "https://localhost:8080/"
        },
        "id": "2qUlM0RO_7is",
        "outputId": "4c23fbb1-5ada-47eb-f794-5d0faa12d40b"
      },
      "source": [
        "df['year']"
      ],
      "execution_count": null,
      "outputs": [
        {
          "output_type": "execute_result",
          "data": {
            "text/plain": [
              "0        2014\n",
              "1        2014\n",
              "2        2015\n",
              "3        2014\n",
              "4        2015\n",
              "         ... \n",
              "21592    2014\n",
              "21593    2015\n",
              "21594    2014\n",
              "21595    2015\n",
              "21596    2014\n",
              "Name: year, Length: 21546, dtype: int64"
            ]
          },
          "metadata": {
            "tags": []
          },
          "execution_count": 41
        }
      ]
    },
    {
      "cell_type": "code",
      "metadata": {
        "colab": {
          "base_uri": "https://localhost:8080/",
          "height": 350
        },
        "id": "ZqtGDjrr_9vQ",
        "outputId": "9bfd4a0e-529f-4393-a1ec-1ff1cdbf1a62"
      },
      "source": [
        "sns.countplot(df['year'])"
      ],
      "execution_count": null,
      "outputs": [
        {
          "output_type": "stream",
          "text": [
            "/usr/local/lib/python3.6/dist-packages/seaborn/_decorators.py:43: FutureWarning: Pass the following variable as a keyword arg: x. From version 0.12, the only valid positional argument will be `data`, and passing other arguments without an explicit keyword will result in an error or misinterpretation.\n",
            "  FutureWarning\n"
          ],
          "name": "stderr"
        },
        {
          "output_type": "execute_result",
          "data": {
            "text/plain": [
              "<matplotlib.axes._subplots.AxesSubplot at 0x7fcd3ae68ef0>"
            ]
          },
          "metadata": {
            "tags": []
          },
          "execution_count": 42
        },
        {
          "output_type": "display_data",
          "data": {
            "image/png": "[encoded data removed]",
            "text/plain": [
              "<Figure size 432x288 with 1 Axes>"
            ]
          },
          "metadata": {
            "tags": [],
            "needs_background": "light"
          }
        }
      ]
    },
    {
      "cell_type": "code",
      "metadata": {
        "id": "bl9ApKiRAIGT"
      },
      "source": [
        "df['month']=df['date'].apply(lambda date:date.month)"
      ],
      "execution_count": null,
      "outputs": []
    },
    {
      "cell_type": "code",
      "metadata": {
        "colab": {
          "base_uri": "https://localhost:8080/",
          "height": 352
        },
        "id": "H_pMe_gsASN3",
        "outputId": "f589802d-8233-4223-9da1-c1a3b8964555"
      },
      "source": [
        "sns.countplot(df['month'])"
      ],
      "execution_count": null,
      "outputs": [
        {
          "output_type": "stream",
          "text": [
            "/usr/local/lib/python3.6/dist-packages/seaborn/_decorators.py:43: FutureWarning: Pass the following variable as a keyword arg: x. From version 0.12, the only valid positional argument will be `data`, and passing other arguments without an explicit keyword will result in an error or misinterpretation.\n",
            "  FutureWarning\n"
          ],
          "name": "stderr"
        },
        {
          "output_type": "execute_result",
          "data": {
            "text/plain": [
              "<matplotlib.axes._subplots.AxesSubplot at 0x7fcd3b2ff6a0>"
            ]
          },
          "metadata": {
            "tags": []
          },
          "execution_count": 44
        },
        {
          "output_type": "display_data",
          "data": {
            "image/png": "[encoded data removed]",
            "text/plain": [
              "<Figure size 432x288 with 1 Axes>"
            ]
          },
          "metadata": {
            "tags": [],
            "needs_background": "light"
          }
        }
      ]
    },
    {
      "cell_type": "code",
      "metadata": {
        "colab": {
          "base_uri": "https://localhost:8080/",
          "height": 309
        },
        "id": "w9W83GBAAXGP",
        "outputId": "75cef7ba-85c0-4633-839e-d3d150c7de7c"
      },
      "source": [
        "df.head()"
      ],
      "execution_count": null,
      "outputs": [
        {
          "output_type": "execute_result",
          "data": {
            "text/html": [
              "<div>\n",
              "<style scoped>\n",
              "    .dataframe tbody tr th:only-of-type {\n",
              "        vertical-align: middle;\n",
              "    }\n",
              "\n",
              "    .dataframe tbody tr th {\n",
              "        vertical-align: top;\n",
              "    }\n",
              "\n",
              "    .dataframe thead th {\n",
              "        text-align: right;\n",
              "    }\n",
              "</style>\n",
              "<table border=\"1\" class=\"dataframe\">\n",
              "  <thead>\n",
              "    <tr style=\"text-align: right;\">\n",
              "      <th></th>\n",
              "      <th>date</th>\n",
              "      <th>price</th>\n",
              "      <th>bedrooms</th>\n",
              "      <th>bathrooms</th>\n",
              "      <th>sqft_living</th>\n",
              "      <th>sqft_lot</th>\n",
              "      <th>floors</th>\n",
              "      <th>waterfront</th>\n",
              "      <th>view</th>\n",
              "      <th>condition</th>\n",
              "      <th>grade</th>\n",
              "      <th>sqft_above</th>\n",
              "      <th>sqft_basement</th>\n",
              "      <th>yr_built</th>\n",
              "      <th>yr_renovated</th>\n",
              "      <th>zipcode</th>\n",
              "      <th>lat</th>\n",
              "      <th>long</th>\n",
              "      <th>sqft_living15</th>\n",
              "      <th>sqft_lot15</th>\n",
              "      <th>year</th>\n",
              "      <th>month</th>\n",
              "    </tr>\n",
              "  </thead>\n",
              "  <tbody>\n",
              "    <tr>\n",
              "      <th>0</th>\n",
              "      <td>2014-10-13</td>\n",
              "      <td>221900.0</td>\n",
              "      <td>3</td>\n",
              "      <td>1.00</td>\n",
              "      <td>1180</td>\n",
              "      <td>5650</td>\n",
              "      <td>1.0</td>\n",
              "      <td>0</td>\n",
              "      <td>0</td>\n",
              "      <td>3</td>\n",
              "      <td>7</td>\n",
              "      <td>1180</td>\n",
              "      <td>0</td>\n",
              "      <td>1955</td>\n",
              "      <td>0</td>\n",
              "      <td>98178</td>\n",
              "      <td>47.5112</td>\n",
              "      <td>-122.257</td>\n",
              "      <td>1340</td>\n",
              "      <td>5650</td>\n",
              "      <td>2014</td>\n",
              "      <td>10</td>\n",
              "    </tr>\n",
              "    <tr>\n",
              "      <th>1</th>\n",
              "      <td>2014-12-09</td>\n",
              "      <td>538000.0</td>\n",
              "      <td>3</td>\n",
              "      <td>2.25</td>\n",
              "      <td>2570</td>\n",
              "      <td>7242</td>\n",
              "      <td>2.0</td>\n",
              "      <td>0</td>\n",
              "      <td>0</td>\n",
              "      <td>3</td>\n",
              "      <td>7</td>\n",
              "      <td>2170</td>\n",
              "      <td>400</td>\n",
              "      <td>1951</td>\n",
              "      <td>1991</td>\n",
              "      <td>98125</td>\n",
              "      <td>47.7210</td>\n",
              "      <td>-122.319</td>\n",
              "      <td>1690</td>\n",
              "      <td>7639</td>\n",
              "      <td>2014</td>\n",
              "      <td>12</td>\n",
              "    </tr>\n",
              "    <tr>\n",
              "      <th>2</th>\n",
              "      <td>2015-02-25</td>\n",
              "      <td>180000.0</td>\n",
              "      <td>2</td>\n",
              "      <td>1.00</td>\n",
              "      <td>770</td>\n",
              "      <td>10000</td>\n",
              "      <td>1.0</td>\n",
              "      <td>0</td>\n",
              "      <td>0</td>\n",
              "      <td>3</td>\n",
              "      <td>6</td>\n",
              "      <td>770</td>\n",
              "      <td>0</td>\n",
              "      <td>1933</td>\n",
              "      <td>0</td>\n",
              "      <td>98028</td>\n",
              "      <td>47.7379</td>\n",
              "      <td>-122.233</td>\n",
              "      <td>2720</td>\n",
              "      <td>8062</td>\n",
              "      <td>2015</td>\n",
              "      <td>2</td>\n",
              "    </tr>\n",
              "    <tr>\n",
              "      <th>3</th>\n",
              "      <td>2014-12-09</td>\n",
              "      <td>604000.0</td>\n",
              "      <td>4</td>\n",
              "      <td>3.00</td>\n",
              "      <td>1960</td>\n",
              "      <td>5000</td>\n",
              "      <td>1.0</td>\n",
              "      <td>0</td>\n",
              "      <td>0</td>\n",
              "      <td>5</td>\n",
              "      <td>7</td>\n",
              "      <td>1050</td>\n",
              "      <td>910</td>\n",
              "      <td>1965</td>\n",
              "      <td>0</td>\n",
              "      <td>98136</td>\n",
              "      <td>47.5208</td>\n",
              "      <td>-122.393</td>\n",
              "      <td>1360</td>\n",
              "      <td>5000</td>\n",
              "      <td>2014</td>\n",
              "      <td>12</td>\n",
              "    </tr>\n",
              "    <tr>\n",
              "      <th>4</th>\n",
              "      <td>2015-02-18</td>\n",
              "      <td>510000.0</td>\n",
              "      <td>3</td>\n",
              "      <td>2.00</td>\n",
              "      <td>1680</td>\n",
              "      <td>8080</td>\n",
              "      <td>1.0</td>\n",
              "      <td>0</td>\n",
              "      <td>0</td>\n",
              "      <td>3</td>\n",
              "      <td>8</td>\n",
              "      <td>1680</td>\n",
              "      <td>0</td>\n",
              "      <td>1987</td>\n",
              "      <td>0</td>\n",
              "      <td>98074</td>\n",
              "      <td>47.6168</td>\n",
              "      <td>-122.045</td>\n",
              "      <td>1800</td>\n",
              "      <td>7503</td>\n",
              "      <td>2015</td>\n",
              "      <td>2</td>\n",
              "    </tr>\n",
              "  </tbody>\n",
              "</table>\n",
              "</div>"
            ],
            "text/plain": [
              "        date     price  bedrooms  ...  sqft_lot15  year  month\n",
              "0 2014-10-13  221900.0         3  ...        5650  2014     10\n",
              "1 2014-12-09  538000.0         3  ...        7639  2014     12\n",
              "2 2015-02-25  180000.0         2  ...        8062  2015      2\n",
              "3 2014-12-09  604000.0         4  ...        5000  2014     12\n",
              "4 2015-02-18  510000.0         3  ...        7503  2015      2\n",
              "\n",
              "[5 rows x 22 columns]"
            ]
          },
          "metadata": {
            "tags": []
          },
          "execution_count": 50
        }
      ]
    },
    {
      "cell_type": "code",
      "metadata": {
        "colab": {
          "base_uri": "https://localhost:8080/"
        },
        "id": "wiNcR16nBDkl",
        "outputId": "7ba711ba-f158-4ca7-a00b-11fc9c0ec17f"
      },
      "source": [
        "df.info"
      ],
      "execution_count": null,
      "outputs": [
        {
          "output_type": "execute_result",
          "data": {
            "text/plain": [
              "<bound method DataFrame.info of             date     price  bedrooms  ...  sqft_lot15  year  month\n",
              "0     2014-10-13  221900.0         3  ...        5650  2014     10\n",
              "1     2014-12-09  538000.0         3  ...        7639  2014     12\n",
              "2     2015-02-25  180000.0         2  ...        8062  2015      2\n",
              "3     2014-12-09  604000.0         4  ...        5000  2014     12\n",
              "4     2015-02-18  510000.0         3  ...        7503  2015      2\n",
              "...          ...       ...       ...  ...         ...   ...    ...\n",
              "21592 2014-05-21  360000.0         3  ...        1509  2014      5\n",
              "21593 2015-02-23  400000.0         4  ...        7200  2015      2\n",
              "21594 2014-06-23  402101.0         2  ...        2007  2014      6\n",
              "21595 2015-01-16  400000.0         3  ...        1287  2015      1\n",
              "21596 2014-10-15  325000.0         2  ...        1357  2014     10\n",
              "\n",
              "[21546 rows x 22 columns]>"
            ]
          },
          "metadata": {
            "tags": []
          },
          "execution_count": 51
        }
      ]
    },
    {
      "cell_type": "code",
      "metadata": {
        "id": "03wxIA_0BJDy",
        "colab": {
          "base_uri": "https://localhost:8080/",
          "height": 416
        },
        "outputId": "d7694570-d57d-4767-dc61-16738c9b870f"
      },
      "source": [
        "plt.figure(figsize=(12,6))\r\n",
        "sns.boxplot(x='month',y='price',data=df)"
      ],
      "execution_count": null,
      "outputs": [
        {
          "output_type": "execute_result",
          "data": {
            "text/plain": [
              "<matplotlib.axes._subplots.AxesSubplot at 0x7fcd3a752b38>"
            ]
          },
          "metadata": {
            "tags": []
          },
          "execution_count": 53
        },
        {
          "output_type": "display_data",
          "data": {
            "image/png": "[encoded data removed]",
            "text/plain": [
              "<Figure size 864x432 with 1 Axes>"
            ]
          },
          "metadata": {
            "tags": [],
            "needs_background": "light"
          }
        }
      ]
    },
    {
      "cell_type": "code",
      "metadata": {
        "colab": {
          "base_uri": "https://localhost:8080/",
          "height": 296
        },
        "id": "O64jRZLlBpy9",
        "outputId": "e259a4ba-962c-4fa1-d553-677097929ebe"
      },
      "source": [
        "df.groupby('month').mean()['price'].plot()"
      ],
      "execution_count": null,
      "outputs": [
        {
          "output_type": "execute_result",
          "data": {
            "text/plain": [
              "<matplotlib.axes._subplots.AxesSubplot at 0x7fcd3b3cdac8>"
            ]
          },
          "metadata": {
            "tags": []
          },
          "execution_count": 55
        },
        {
          "output_type": "display_data",
          "data": {
            "image/png": "[encoded data removed]",
            "text/plain": [
              "<Figure size 432x288 with 1 Axes>"
            ]
          },
          "metadata": {
            "tags": [],
            "needs_background": "light"
          }
        }
      ]
    },
    {
      "cell_type": "code",
      "metadata": {
        "colab": {
          "base_uri": "https://localhost:8080/",
          "height": 224
        },
        "id": "T3hHAAPHB70L",
        "outputId": "0f83eaf6-2ee3-4a85-826a-054e6b76ff65"
      },
      "source": [
        "df=df.drop('date',axis=1)\r\n",
        "df.head()"
      ],
      "execution_count": null,
      "outputs": [
        {
          "output_type": "execute_result",
          "data": {
            "text/html": [
              "<div>\n",
              "<style scoped>\n",
              "    .dataframe tbody tr th:only-of-type {\n",
              "        vertical-align: middle;\n",
              "    }\n",
              "\n",
              "    .dataframe tbody tr th {\n",
              "        vertical-align: top;\n",
              "    }\n",
              "\n",
              "    .dataframe thead th {\n",
              "        text-align: right;\n",
              "    }\n",
              "</style>\n",
              "<table border=\"1\" class=\"dataframe\">\n",
              "  <thead>\n",
              "    <tr style=\"text-align: right;\">\n",
              "      <th></th>\n",
              "      <th>price</th>\n",
              "      <th>bedrooms</th>\n",
              "      <th>bathrooms</th>\n",
              "      <th>sqft_living</th>\n",
              "      <th>sqft_lot</th>\n",
              "      <th>floors</th>\n",
              "      <th>waterfront</th>\n",
              "      <th>view</th>\n",
              "      <th>condition</th>\n",
              "      <th>grade</th>\n",
              "      <th>sqft_above</th>\n",
              "      <th>sqft_basement</th>\n",
              "      <th>yr_built</th>\n",
              "      <th>yr_renovated</th>\n",
              "      <th>zipcode</th>\n",
              "      <th>lat</th>\n",
              "      <th>long</th>\n",
              "      <th>sqft_living15</th>\n",
              "      <th>sqft_lot15</th>\n",
              "      <th>year</th>\n",
              "      <th>month</th>\n",
              "    </tr>\n",
              "  </thead>\n",
              "  <tbody>\n",
              "    <tr>\n",
              "      <th>0</th>\n",
              "      <td>221900.0</td>\n",
              "      <td>3</td>\n",
              "      <td>1.00</td>\n",
              "      <td>1180</td>\n",
              "      <td>5650</td>\n",
              "      <td>1.0</td>\n",
              "      <td>0</td>\n",
              "      <td>0</td>\n",
              "      <td>3</td>\n",
              "      <td>7</td>\n",
              "      <td>1180</td>\n",
              "      <td>0</td>\n",
              "      <td>1955</td>\n",
              "      <td>0</td>\n",
              "      <td>98178</td>\n",
              "      <td>47.5112</td>\n",
              "      <td>-122.257</td>\n",
              "      <td>1340</td>\n",
              "      <td>5650</td>\n",
              "      <td>2014</td>\n",
              "      <td>10</td>\n",
              "    </tr>\n",
              "    <tr>\n",
              "      <th>1</th>\n",
              "      <td>538000.0</td>\n",
              "      <td>3</td>\n",
              "      <td>2.25</td>\n",
              "      <td>2570</td>\n",
              "      <td>7242</td>\n",
              "      <td>2.0</td>\n",
              "      <td>0</td>\n",
              "      <td>0</td>\n",
              "      <td>3</td>\n",
              "      <td>7</td>\n",
              "      <td>2170</td>\n",
              "      <td>400</td>\n",
              "      <td>1951</td>\n",
              "      <td>1991</td>\n",
              "      <td>98125</td>\n",
              "      <td>47.7210</td>\n",
              "      <td>-122.319</td>\n",
              "      <td>1690</td>\n",
              "      <td>7639</td>\n",
              "      <td>2014</td>\n",
              "      <td>12</td>\n",
              "    </tr>\n",
              "    <tr>\n",
              "      <th>2</th>\n",
              "      <td>180000.0</td>\n",
              "      <td>2</td>\n",
              "      <td>1.00</td>\n",
              "      <td>770</td>\n",
              "      <td>10000</td>\n",
              "      <td>1.0</td>\n",
              "      <td>0</td>\n",
              "      <td>0</td>\n",
              "      <td>3</td>\n",
              "      <td>6</td>\n",
              "      <td>770</td>\n",
              "      <td>0</td>\n",
              "      <td>1933</td>\n",
              "      <td>0</td>\n",
              "      <td>98028</td>\n",
              "      <td>47.7379</td>\n",
              "      <td>-122.233</td>\n",
              "      <td>2720</td>\n",
              "      <td>8062</td>\n",
              "      <td>2015</td>\n",
              "      <td>2</td>\n",
              "    </tr>\n",
              "    <tr>\n",
              "      <th>3</th>\n",
              "      <td>604000.0</td>\n",
              "      <td>4</td>\n",
              "      <td>3.00</td>\n",
              "      <td>1960</td>\n",
              "      <td>5000</td>\n",
              "      <td>1.0</td>\n",
              "      <td>0</td>\n",
              "      <td>0</td>\n",
              "      <td>5</td>\n",
              "      <td>7</td>\n",
              "      <td>1050</td>\n",
              "      <td>910</td>\n",
              "      <td>1965</td>\n",
              "      <td>0</td>\n",
              "      <td>98136</td>\n",
              "      <td>47.5208</td>\n",
              "      <td>-122.393</td>\n",
              "      <td>1360</td>\n",
              "      <td>5000</td>\n",
              "      <td>2014</td>\n",
              "      <td>12</td>\n",
              "    </tr>\n",
              "    <tr>\n",
              "      <th>4</th>\n",
              "      <td>510000.0</td>\n",
              "      <td>3</td>\n",
              "      <td>2.00</td>\n",
              "      <td>1680</td>\n",
              "      <td>8080</td>\n",
              "      <td>1.0</td>\n",
              "      <td>0</td>\n",
              "      <td>0</td>\n",
              "      <td>3</td>\n",
              "      <td>8</td>\n",
              "      <td>1680</td>\n",
              "      <td>0</td>\n",
              "      <td>1987</td>\n",
              "      <td>0</td>\n",
              "      <td>98074</td>\n",
              "      <td>47.6168</td>\n",
              "      <td>-122.045</td>\n",
              "      <td>1800</td>\n",
              "      <td>7503</td>\n",
              "      <td>2015</td>\n",
              "      <td>2</td>\n",
              "    </tr>\n",
              "  </tbody>\n",
              "</table>\n",
              "</div>"
            ],
            "text/plain": [
              "      price  bedrooms  bathrooms  ...  sqft_lot15  year  month\n",
              "0  221900.0         3       1.00  ...        5650  2014     10\n",
              "1  538000.0         3       2.25  ...        7639  2014     12\n",
              "2  180000.0         2       1.00  ...        8062  2015      2\n",
              "3  604000.0         4       3.00  ...        5000  2014     12\n",
              "4  510000.0         3       2.00  ...        7503  2015      2\n",
              "\n",
              "[5 rows x 21 columns]"
            ]
          },
          "metadata": {
            "tags": []
          },
          "execution_count": 56
        }
      ]
    },
    {
      "cell_type": "code",
      "metadata": {
        "colab": {
          "base_uri": "https://localhost:8080/"
        },
        "id": "5tXibX80CuH7",
        "outputId": "70ef3488-b952-4c14-ac1e-6bccfc67890f"
      },
      "source": [
        "df['zipcode'].value_counts().sort_values()"
      ],
      "execution_count": null,
      "outputs": [
        {
          "output_type": "execute_result",
          "data": {
            "text/plain": [
              "98039     43\n",
              "98148     57\n",
              "98024     80\n",
              "98010    100\n",
              "98102    103\n",
              "        ... \n",
              "98117    553\n",
              "98052    574\n",
              "98115    583\n",
              "98038    589\n",
              "98103    602\n",
              "Name: zipcode, Length: 70, dtype: int64"
            ]
          },
          "metadata": {
            "tags": []
          },
          "execution_count": 63
        }
      ]
    },
    {
      "cell_type": "code",
      "metadata": {
        "colab": {
          "base_uri": "https://localhost:8080/",
          "height": 224
        },
        "id": "lAo_aR2lDsrq",
        "outputId": "b45f2079-e42b-43aa-a938-b4fe6cbbb539"
      },
      "source": [
        "df.drop('zipcode',axis=1,inplace=True)\r\n",
        "df.head()"
      ],
      "execution_count": null,
      "outputs": [
        {
          "output_type": "execute_result",
          "data": {
            "text/html": [
              "<div>\n",
              "<style scoped>\n",
              "    .dataframe tbody tr th:only-of-type {\n",
              "        vertical-align: middle;\n",
              "    }\n",
              "\n",
              "    .dataframe tbody tr th {\n",
              "        vertical-align: top;\n",
              "    }\n",
              "\n",
              "    .dataframe thead th {\n",
              "        text-align: right;\n",
              "    }\n",
              "</style>\n",
              "<table border=\"1\" class=\"dataframe\">\n",
              "  <thead>\n",
              "    <tr style=\"text-align: right;\">\n",
              "      <th></th>\n",
              "      <th>price</th>\n",
              "      <th>bedrooms</th>\n",
              "      <th>bathrooms</th>\n",
              "      <th>sqft_living</th>\n",
              "      <th>sqft_lot</th>\n",
              "      <th>floors</th>\n",
              "      <th>waterfront</th>\n",
              "      <th>view</th>\n",
              "      <th>condition</th>\n",
              "      <th>grade</th>\n",
              "      <th>sqft_above</th>\n",
              "      <th>sqft_basement</th>\n",
              "      <th>yr_built</th>\n",
              "      <th>yr_renovated</th>\n",
              "      <th>lat</th>\n",
              "      <th>long</th>\n",
              "      <th>sqft_living15</th>\n",
              "      <th>sqft_lot15</th>\n",
              "      <th>year</th>\n",
              "      <th>month</th>\n",
              "    </tr>\n",
              "  </thead>\n",
              "  <tbody>\n",
              "    <tr>\n",
              "      <th>0</th>\n",
              "      <td>221900.0</td>\n",
              "      <td>3</td>\n",
              "      <td>1.00</td>\n",
              "      <td>1180</td>\n",
              "      <td>5650</td>\n",
              "      <td>1.0</td>\n",
              "      <td>0</td>\n",
              "      <td>0</td>\n",
              "      <td>3</td>\n",
              "      <td>7</td>\n",
              "      <td>1180</td>\n",
              "      <td>0</td>\n",
              "      <td>1955</td>\n",
              "      <td>0</td>\n",
              "      <td>47.5112</td>\n",
              "      <td>-122.257</td>\n",
              "      <td>1340</td>\n",
              "      <td>5650</td>\n",
              "      <td>2014</td>\n",
              "      <td>10</td>\n",
              "    </tr>\n",
              "    <tr>\n",
              "      <th>1</th>\n",
              "      <td>538000.0</td>\n",
              "      <td>3</td>\n",
              "      <td>2.25</td>\n",
              "      <td>2570</td>\n",
              "      <td>7242</td>\n",
              "      <td>2.0</td>\n",
              "      <td>0</td>\n",
              "      <td>0</td>\n",
              "      <td>3</td>\n",
              "      <td>7</td>\n",
              "      <td>2170</td>\n",
              "      <td>400</td>\n",
              "      <td>1951</td>\n",
              "      <td>1991</td>\n",
              "      <td>47.7210</td>\n",
              "      <td>-122.319</td>\n",
              "      <td>1690</td>\n",
              "      <td>7639</td>\n",
              "      <td>2014</td>\n",
              "      <td>12</td>\n",
              "    </tr>\n",
              "    <tr>\n",
              "      <th>2</th>\n",
              "      <td>180000.0</td>\n",
              "      <td>2</td>\n",
              "      <td>1.00</td>\n",
              "      <td>770</td>\n",
              "      <td>10000</td>\n",
              "      <td>1.0</td>\n",
              "      <td>0</td>\n",
              "      <td>0</td>\n",
              "      <td>3</td>\n",
              "      <td>6</td>\n",
              "      <td>770</td>\n",
              "      <td>0</td>\n",
              "      <td>1933</td>\n",
              "      <td>0</td>\n",
              "      <td>47.7379</td>\n",
              "      <td>-122.233</td>\n",
              "      <td>2720</td>\n",
              "      <td>8062</td>\n",
              "      <td>2015</td>\n",
              "      <td>2</td>\n",
              "    </tr>\n",
              "    <tr>\n",
              "      <th>3</th>\n",
              "      <td>604000.0</td>\n",
              "      <td>4</td>\n",
              "      <td>3.00</td>\n",
              "      <td>1960</td>\n",
              "      <td>5000</td>\n",
              "      <td>1.0</td>\n",
              "      <td>0</td>\n",
              "      <td>0</td>\n",
              "      <td>5</td>\n",
              "      <td>7</td>\n",
              "      <td>1050</td>\n",
              "      <td>910</td>\n",
              "      <td>1965</td>\n",
              "      <td>0</td>\n",
              "      <td>47.5208</td>\n",
              "      <td>-122.393</td>\n",
              "      <td>1360</td>\n",
              "      <td>5000</td>\n",
              "      <td>2014</td>\n",
              "      <td>12</td>\n",
              "    </tr>\n",
              "    <tr>\n",
              "      <th>4</th>\n",
              "      <td>510000.0</td>\n",
              "      <td>3</td>\n",
              "      <td>2.00</td>\n",
              "      <td>1680</td>\n",
              "      <td>8080</td>\n",
              "      <td>1.0</td>\n",
              "      <td>0</td>\n",
              "      <td>0</td>\n",
              "      <td>3</td>\n",
              "      <td>8</td>\n",
              "      <td>1680</td>\n",
              "      <td>0</td>\n",
              "      <td>1987</td>\n",
              "      <td>0</td>\n",
              "      <td>47.6168</td>\n",
              "      <td>-122.045</td>\n",
              "      <td>1800</td>\n",
              "      <td>7503</td>\n",
              "      <td>2015</td>\n",
              "      <td>2</td>\n",
              "    </tr>\n",
              "  </tbody>\n",
              "</table>\n",
              "</div>"
            ],
            "text/plain": [
              "      price  bedrooms  bathrooms  ...  sqft_lot15  year  month\n",
              "0  221900.0         3       1.00  ...        5650  2014     10\n",
              "1  538000.0         3       2.25  ...        7639  2014     12\n",
              "2  180000.0         2       1.00  ...        8062  2015      2\n",
              "3  604000.0         4       3.00  ...        5000  2014     12\n",
              "4  510000.0         3       2.00  ...        7503  2015      2\n",
              "\n",
              "[5 rows x 20 columns]"
            ]
          },
          "metadata": {
            "tags": []
          },
          "execution_count": 64
        }
      ]
    },
    {
      "cell_type": "code",
      "metadata": {
        "colab": {
          "base_uri": "https://localhost:8080/"
        },
        "id": "SZ711K_VD_gE",
        "outputId": "2a5de5cd-a708-46da-f0d5-442bbb62c37c"
      },
      "source": [
        "df['yr_renovated'].value_counts().sort_values()"
      ],
      "execution_count": null,
      "outputs": [
        {
          "output_type": "execute_result",
          "data": {
            "text/plain": [
              "1944        1\n",
              "1954        1\n",
              "1934        1\n",
              "1948        1\n",
              "1951        1\n",
              "        ...  \n",
              "2000       35\n",
              "2003       36\n",
              "2013       37\n",
              "2014       91\n",
              "0       20640\n",
              "Name: yr_renovated, Length: 70, dtype: int64"
            ]
          },
          "metadata": {
            "tags": []
          },
          "execution_count": 66
        }
      ]
    },
    {
      "cell_type": "code",
      "metadata": {
        "id": "UsMFpLrgE9zr"
      },
      "source": [
        "X=df.drop('price',axis=1)\r\n",
        "y=df['price']"
      ],
      "execution_count": null,
      "outputs": []
    },
    {
      "cell_type": "code",
      "metadata": {
        "id": "Uiymi-VcHGFM"
      },
      "source": [
        "from sklearn.model_selection import train_test_split"
      ],
      "execution_count": null,
      "outputs": []
    },
    {
      "cell_type": "code",
      "metadata": {
        "id": "aIzxRvIPHLc6"
      },
      "source": [
        "x_train,x_test,y_train,y_test=train_test_split(X,y,test_size=0.3,random_state=101)"
      ],
      "execution_count": null,
      "outputs": []
    },
    {
      "cell_type": "code",
      "metadata": {
        "id": "xlAvIGE5HjjL"
      },
      "source": [
        "from sklearn.preprocessing import MinMaxScaler"
      ],
      "execution_count": null,
      "outputs": []
    },
    {
      "cell_type": "code",
      "metadata": {
        "id": "cxPmWuZmH5_G"
      },
      "source": [
        "scaler=MinMaxScaler()\r\n",
        "scaler.fit(x_train)\r\n",
        "x_train=scaler.transform(x_train)\r\n",
        "x_test=scaler.transform(x_test)"
      ],
      "execution_count": null,
      "outputs": []
    },
    {
      "cell_type": "code",
      "metadata": {
        "id": "OVcqYLKJIKLJ"
      },
      "source": [
        "from tensorflow.keras.models import Sequential\r\n",
        "from tensorflow.keras.layers import Dense"
      ],
      "execution_count": null,
      "outputs": []
    },
    {
      "cell_type": "code",
      "metadata": {
        "colab": {
          "base_uri": "https://localhost:8080/"
        },
        "id": "t4aYsjTuKm0A",
        "outputId": "1884f9e1-ae98-4705-fe92-e7dbdb9d83c4"
      },
      "source": [
        "x_train.shape"
      ],
      "execution_count": null,
      "outputs": [
        {
          "output_type": "execute_result",
          "data": {
            "text/plain": [
              "(15082, 19)"
            ]
          },
          "metadata": {
            "tags": []
          },
          "execution_count": 77
        }
      ]
    },
    {
      "cell_type": "code",
      "metadata": {
        "id": "Mx99Ys0HK17i"
      },
      "source": [
        "model=Sequential()\r\n",
        "\r\n",
        "model.add(Dense(19,activation='relu'))\r\n",
        "model.add(Dense(19,activation='relu'))\r\n",
        "model.add(Dense(19,activation='relu'))\r\n",
        "\r\n",
        "model.add(Dense(1))\r\n",
        "model.compile(optimizer='adam',loss='mse')"
      ],
      "execution_count": null,
      "outputs": []
    },
    {
      "cell_type": "code",
      "metadata": {
        "colab": {
          "base_uri": "https://localhost:8080/"
        },
        "id": "2Sem6zRWLlnT",
        "outputId": "05c70e1d-b2c2-4c58-ccd7-7b2ad99845c7"
      },
      "source": [
        "model.fit(x_train,y_train,validation_data=(x_test,y_test),epochs=400,batch_size=128)"
      ],
      "execution_count": null,
      "outputs": [
        {
          "output_type": "stream",
          "text": [
            "Epoch 1/400\n",
            "118/118 [==============================] - 0s 3ms/step - loss: 24484982784.0000 - val_loss: 22960166912.0000\n",
            "Epoch 2/400\n",
            "118/118 [==============================] - 0s 2ms/step - loss: 24479254528.0000 - val_loss: 22949773312.0000\n",
            "Epoch 3/400\n",
            "118/118 [==============================] - 0s 2ms/step - loss: 24477523968.0000 - val_loss: 22945861632.0000\n",
            "Epoch 4/400\n",
            "118/118 [==============================] - 0s 2ms/step - loss: 24478322688.0000 - val_loss: 22965760000.0000\n",
            "Epoch 5/400\n",
            "118/118 [==============================] - 0s 2ms/step - loss: 24471597056.0000 - val_loss: 22951208960.0000\n",
            "Epoch 6/400\n",
            "118/118 [==============================] - 0s 2ms/step - loss: 24474580992.0000 - val_loss: 22945695744.0000\n",
            "Epoch 7/400\n",
            "118/118 [==============================] - 0s 2ms/step - loss: 24468307968.0000 - val_loss: 22959482880.0000\n",
            "Epoch 8/400\n",
            "118/118 [==============================] - 0s 2ms/step - loss: 24471592960.0000 - val_loss: 22944583680.0000\n",
            "Epoch 9/400\n",
            "118/118 [==============================] - 0s 2ms/step - loss: 24474015744.0000 - val_loss: 22944253952.0000\n",
            "Epoch 10/400\n",
            "118/118 [==============================] - 0s 2ms/step - loss: 24477956096.0000 - val_loss: 22947311616.0000\n",
            "Epoch 11/400\n",
            "118/118 [==============================] - 0s 2ms/step - loss: 24464515072.0000 - val_loss: 22939379712.0000\n",
            "Epoch 12/400\n",
            "118/118 [==============================] - 0s 2ms/step - loss: 24469225472.0000 - val_loss: 22943330304.0000\n",
            "Epoch 13/400\n",
            "118/118 [==============================] - 0s 2ms/step - loss: 24464623616.0000 - val_loss: 22950162432.0000\n",
            "Epoch 14/400\n",
            "118/118 [==============================] - 0s 2ms/step - loss: 24466085888.0000 - val_loss: 22948810752.0000\n",
            "Epoch 15/400\n",
            "118/118 [==============================] - 0s 2ms/step - loss: 24454096896.0000 - val_loss: 22958317568.0000\n",
            "Epoch 16/400\n",
            "118/118 [==============================] - 0s 2ms/step - loss: 24469872640.0000 - val_loss: 22934599680.0000\n",
            "Epoch 17/400\n",
            "118/118 [==============================] - 0s 2ms/step - loss: 24452849664.0000 - val_loss: 22935822336.0000\n",
            "Epoch 18/400\n",
            "118/118 [==============================] - 0s 2ms/step - loss: 24447971328.0000 - val_loss: 22938296320.0000\n",
            "Epoch 19/400\n",
            "118/118 [==============================] - 0s 2ms/step - loss: 24450891776.0000 - val_loss: 22931355648.0000\n",
            "Epoch 20/400\n",
            "118/118 [==============================] - 0s 2ms/step - loss: 24450666496.0000 - val_loss: 22923567104.0000\n",
            "Epoch 21/400\n",
            "118/118 [==============================] - 0s 3ms/step - loss: 24452757504.0000 - val_loss: 22929889280.0000\n",
            "Epoch 22/400\n",
            "118/118 [==============================] - 0s 2ms/step - loss: 24449638400.0000 - val_loss: 22918848512.0000\n",
            "Epoch 23/400\n",
            "118/118 [==============================] - 0s 2ms/step - loss: 24446111744.0000 - val_loss: 22919854080.0000\n",
            "Epoch 24/400\n",
            "118/118 [==============================] - 0s 2ms/step - loss: 24437909504.0000 - val_loss: 22915053568.0000\n",
            "Epoch 25/400\n",
            "118/118 [==============================] - 0s 2ms/step - loss: 24435718144.0000 - val_loss: 22920714240.0000\n",
            "Epoch 26/400\n",
            "118/118 [==============================] - 0s 2ms/step - loss: 24450435072.0000 - val_loss: 22919495680.0000\n",
            "Epoch 27/400\n",
            "118/118 [==============================] - 0s 2ms/step - loss: 24432975872.0000 - val_loss: 22916456448.0000\n",
            "Epoch 28/400\n",
            "118/118 [==============================] - 0s 2ms/step - loss: 24433338368.0000 - val_loss: 22910349312.0000\n",
            "Epoch 29/400\n",
            "118/118 [==============================] - 0s 2ms/step - loss: 24419397632.0000 - val_loss: 22905708544.0000\n",
            "Epoch 30/400\n",
            "118/118 [==============================] - 0s 2ms/step - loss: 24428126208.0000 - val_loss: 22901702656.0000\n",
            "Epoch 31/400\n",
            "118/118 [==============================] - 0s 2ms/step - loss: 24419430400.0000 - val_loss: 22909743104.0000\n",
            "Epoch 32/400\n",
            "118/118 [==============================] - 0s 2ms/step - loss: 24411736064.0000 - val_loss: 22906193920.0000\n",
            "Epoch 33/400\n",
            "118/118 [==============================] - 0s 2ms/step - loss: 24417419264.0000 - val_loss: 22904170496.0000\n",
            "Epoch 34/400\n",
            "118/118 [==============================] - 0s 2ms/step - loss: 24414504960.0000 - val_loss: 22898589696.0000\n",
            "Epoch 35/400\n",
            "118/118 [==============================] - 0s 2ms/step - loss: 24424345600.0000 - val_loss: 22888153088.0000\n",
            "Epoch 36/400\n",
            "118/118 [==============================] - 0s 2ms/step - loss: 24410322944.0000 - val_loss: 22907928576.0000\n",
            "Epoch 37/400\n",
            "118/118 [==============================] - 0s 2ms/step - loss: 24398598144.0000 - val_loss: 22915414016.0000\n",
            "Epoch 38/400\n",
            "118/118 [==============================] - 0s 2ms/step - loss: 24401698816.0000 - val_loss: 22875633664.0000\n",
            "Epoch 39/400\n",
            "118/118 [==============================] - 0s 2ms/step - loss: 24394866688.0000 - val_loss: 22881007616.0000\n",
            "Epoch 40/400\n",
            "118/118 [==============================] - 0s 2ms/step - loss: 24399613952.0000 - val_loss: 22906300416.0000\n",
            "Epoch 41/400\n",
            "118/118 [==============================] - 0s 2ms/step - loss: 24388997120.0000 - val_loss: 22913048576.0000\n",
            "Epoch 42/400\n",
            "118/118 [==============================] - 0s 2ms/step - loss: 24386455552.0000 - val_loss: 22883868672.0000\n",
            "Epoch 43/400\n",
            "118/118 [==============================] - 0s 2ms/step - loss: 24379801600.0000 - val_loss: 22875480064.0000\n",
            "Epoch 44/400\n",
            "118/118 [==============================] - 0s 2ms/step - loss: 24388278272.0000 - val_loss: 22875316224.0000\n",
            "Epoch 45/400\n",
            "118/118 [==============================] - 0s 2ms/step - loss: 24369711104.0000 - val_loss: 22866278400.0000\n",
            "Epoch 46/400\n",
            "118/118 [==============================] - 0s 2ms/step - loss: 24375205888.0000 - val_loss: 22867412992.0000\n",
            "Epoch 47/400\n",
            "118/118 [==============================] - 0s 2ms/step - loss: 24385386496.0000 - val_loss: 22862348288.0000\n",
            "Epoch 48/400\n",
            "118/118 [==============================] - 0s 2ms/step - loss: 24365617152.0000 - val_loss: 22887489536.0000\n",
            "Epoch 49/400\n",
            "118/118 [==============================] - 0s 2ms/step - loss: 24357369856.0000 - val_loss: 22857109504.0000\n",
            "Epoch 50/400\n",
            "118/118 [==============================] - 0s 2ms/step - loss: 24358868992.0000 - val_loss: 22850560000.0000\n",
            "Epoch 51/400\n",
            "118/118 [==============================] - 0s 2ms/step - loss: 24361969664.0000 - val_loss: 22854428672.0000\n",
            "Epoch 52/400\n",
            "118/118 [==============================] - 0s 2ms/step - loss: 24351215616.0000 - val_loss: 22855084032.0000\n",
            "Epoch 53/400\n",
            "118/118 [==============================] - 0s 2ms/step - loss: 24360306688.0000 - val_loss: 22846394368.0000\n",
            "Epoch 54/400\n",
            "118/118 [==============================] - 0s 2ms/step - loss: 24345255936.0000 - val_loss: 22862102528.0000\n",
            "Epoch 55/400\n",
            "118/118 [==============================] - 0s 2ms/step - loss: 24334852096.0000 - val_loss: 22843983872.0000\n",
            "Epoch 56/400\n",
            "118/118 [==============================] - 0s 2ms/step - loss: 24334829568.0000 - val_loss: 22872152064.0000\n",
            "Epoch 57/400\n",
            "118/118 [==============================] - 0s 2ms/step - loss: 24343998464.0000 - val_loss: 22836017152.0000\n",
            "Epoch 58/400\n",
            "118/118 [==============================] - 0s 2ms/step - loss: 24337166336.0000 - val_loss: 22853668864.0000\n",
            "Epoch 59/400\n",
            "118/118 [==============================] - 0s 2ms/step - loss: 24332744704.0000 - val_loss: 22859735040.0000\n",
            "Epoch 60/400\n",
            "118/118 [==============================] - 0s 2ms/step - loss: 24332013568.0000 - val_loss: 22831745024.0000\n",
            "Epoch 61/400\n",
            "118/118 [==============================] - 0s 2ms/step - loss: 24336152576.0000 - val_loss: 22836045824.0000\n",
            "Epoch 62/400\n",
            "118/118 [==============================] - 0s 2ms/step - loss: 24339775488.0000 - val_loss: 22834335744.0000\n",
            "Epoch 63/400\n",
            "118/118 [==============================] - 0s 2ms/step - loss: 24326088704.0000 - val_loss: 22823180288.0000\n",
            "Epoch 64/400\n",
            "118/118 [==============================] - 0s 2ms/step - loss: 24324517888.0000 - val_loss: 22832146432.0000\n",
            "Epoch 65/400\n",
            "118/118 [==============================] - 0s 2ms/step - loss: 24325724160.0000 - val_loss: 22816575488.0000\n",
            "Epoch 66/400\n",
            "118/118 [==============================] - 0s 2ms/step - loss: 24316495872.0000 - val_loss: 22828541952.0000\n",
            "Epoch 67/400\n",
            "118/118 [==============================] - 0s 2ms/step - loss: 24324601856.0000 - val_loss: 22864334848.0000\n",
            "Epoch 68/400\n",
            "118/118 [==============================] - 0s 2ms/step - loss: 24313765888.0000 - val_loss: 22817191936.0000\n",
            "Epoch 69/400\n",
            "118/118 [==============================] - 0s 2ms/step - loss: 24316534784.0000 - val_loss: 22818091008.0000\n",
            "Epoch 70/400\n",
            "118/118 [==============================] - 0s 2ms/step - loss: 24298311680.0000 - val_loss: 22843482112.0000\n",
            "Epoch 71/400\n",
            "118/118 [==============================] - 0s 2ms/step - loss: 24311764992.0000 - val_loss: 22821548032.0000\n",
            "Epoch 72/400\n",
            "118/118 [==============================] - 0s 2ms/step - loss: 24301834240.0000 - val_loss: 22807238656.0000\n",
            "Epoch 73/400\n",
            "118/118 [==============================] - 0s 2ms/step - loss: 24295987200.0000 - val_loss: 22810210304.0000\n",
            "Epoch 74/400\n",
            "118/118 [==============================] - 0s 3ms/step - loss: 24290445312.0000 - val_loss: 22811111424.0000\n",
            "Epoch 75/400\n",
            "118/118 [==============================] - 0s 2ms/step - loss: 24306038784.0000 - val_loss: 22811934720.0000\n",
            "Epoch 76/400\n",
            "118/118 [==============================] - 0s 2ms/step - loss: 24306518016.0000 - val_loss: 22801801216.0000\n",
            "Epoch 77/400\n",
            "118/118 [==============================] - 0s 2ms/step - loss: 24286191616.0000 - val_loss: 22809763840.0000\n",
            "Epoch 78/400\n",
            "118/118 [==============================] - 0s 2ms/step - loss: 24286818304.0000 - val_loss: 22788126720.0000\n",
            "Epoch 79/400\n",
            "118/118 [==============================] - 0s 2ms/step - loss: 24302753792.0000 - val_loss: 22814185472.0000\n",
            "Epoch 80/400\n",
            "118/118 [==============================] - 0s 2ms/step - loss: 24286707712.0000 - val_loss: 22829090816.0000\n",
            "Epoch 81/400\n",
            "118/118 [==============================] - 0s 2ms/step - loss: 24281579520.0000 - val_loss: 22792470528.0000\n",
            "Epoch 82/400\n",
            "118/118 [==============================] - 0s 2ms/step - loss: 24276752384.0000 - val_loss: 22794205184.0000\n",
            "Epoch 83/400\n",
            "118/118 [==============================] - 0s 2ms/step - loss: 24284829696.0000 - val_loss: 22783875072.0000\n",
            "Epoch 84/400\n",
            "118/118 [==============================] - 0s 2ms/step - loss: 24274042880.0000 - val_loss: 22802540544.0000\n",
            "Epoch 85/400\n",
            "118/118 [==============================] - 0s 2ms/step - loss: 24284098560.0000 - val_loss: 22786711552.0000\n",
            "Epoch 86/400\n",
            "118/118 [==============================] - 0s 2ms/step - loss: 24268288000.0000 - val_loss: 22782228480.0000\n",
            "Epoch 87/400\n",
            "118/118 [==============================] - 0s 2ms/step - loss: 24269088768.0000 - val_loss: 22781925376.0000\n",
            "Epoch 88/400\n",
            "118/118 [==============================] - 0s 2ms/step - loss: 24262326272.0000 - val_loss: 22773014528.0000\n",
            "Epoch 89/400\n",
            "118/118 [==============================] - 0s 2ms/step - loss: 24283580416.0000 - val_loss: 22770100224.0000\n",
            "Epoch 90/400\n",
            "118/118 [==============================] - 0s 2ms/step - loss: 24244969472.0000 - val_loss: 22854594560.0000\n",
            "Epoch 91/400\n",
            "118/118 [==============================] - 0s 2ms/step - loss: 24262203392.0000 - val_loss: 22815899648.0000\n",
            "Epoch 92/400\n",
            "118/118 [==============================] - 0s 2ms/step - loss: 24254689280.0000 - val_loss: 22777923584.0000\n",
            "Epoch 93/400\n",
            "118/118 [==============================] - 0s 2ms/step - loss: 24248745984.0000 - val_loss: 22852564992.0000\n",
            "Epoch 94/400\n",
            "118/118 [==============================] - 0s 2ms/step - loss: 24247285760.0000 - val_loss: 22762889216.0000\n",
            "Epoch 95/400\n",
            "118/118 [==============================] - 0s 2ms/step - loss: 24242292736.0000 - val_loss: 22766467072.0000\n",
            "Epoch 96/400\n",
            "118/118 [==============================] - 0s 3ms/step - loss: 24235395072.0000 - val_loss: 22814500864.0000\n",
            "Epoch 97/400\n",
            "118/118 [==============================] - 0s 2ms/step - loss: 24236701696.0000 - val_loss: 22750423040.0000\n",
            "Epoch 98/400\n",
            "118/118 [==============================] - 0s 2ms/step - loss: 24239992832.0000 - val_loss: 22745894912.0000\n",
            "Epoch 99/400\n",
            "118/118 [==============================] - 0s 2ms/step - loss: 24251058176.0000 - val_loss: 22747561984.0000\n",
            "Epoch 100/400\n",
            "118/118 [==============================] - 0s 2ms/step - loss: 24237295616.0000 - val_loss: 22769883136.0000\n",
            "Epoch 101/400\n",
            "118/118 [==============================] - 0s 2ms/step - loss: 24237717504.0000 - val_loss: 22775099392.0000\n",
            "Epoch 102/400\n",
            "118/118 [==============================] - 0s 2ms/step - loss: 24242786304.0000 - val_loss: 22751447040.0000\n",
            "Epoch 103/400\n",
            "118/118 [==============================] - 0s 2ms/step - loss: 24237455360.0000 - val_loss: 22742390784.0000\n",
            "Epoch 104/400\n",
            "118/118 [==============================] - 0s 2ms/step - loss: 24226580480.0000 - val_loss: 22776670208.0000\n",
            "Epoch 105/400\n",
            "118/118 [==============================] - 0s 2ms/step - loss: 24242116608.0000 - val_loss: 22768130048.0000\n",
            "Epoch 106/400\n",
            "118/118 [==============================] - 0s 2ms/step - loss: 24214800384.0000 - val_loss: 22743789568.0000\n",
            "Epoch 107/400\n",
            "118/118 [==============================] - 0s 2ms/step - loss: 24218054656.0000 - val_loss: 22772727808.0000\n",
            "Epoch 108/400\n",
            "118/118 [==============================] - 0s 2ms/step - loss: 24219336704.0000 - val_loss: 22741940224.0000\n",
            "Epoch 109/400\n",
            "118/118 [==============================] - 0s 2ms/step - loss: 24212129792.0000 - val_loss: 22803992576.0000\n",
            "Epoch 110/400\n",
            "118/118 [==============================] - 0s 3ms/step - loss: 24212973568.0000 - val_loss: 22796185600.0000\n",
            "Epoch 111/400\n",
            "118/118 [==============================] - 0s 2ms/step - loss: 24208834560.0000 - val_loss: 22726072320.0000\n",
            "Epoch 112/400\n",
            "118/118 [==============================] - 0s 2ms/step - loss: 24223868928.0000 - val_loss: 22736173056.0000\n",
            "Epoch 113/400\n",
            "118/118 [==============================] - 0s 2ms/step - loss: 24198653952.0000 - val_loss: 22725068800.0000\n",
            "Epoch 114/400\n",
            "118/118 [==============================] - 0s 2ms/step - loss: 24204619776.0000 - val_loss: 22758643712.0000\n",
            "Epoch 115/400\n",
            "118/118 [==============================] - 0s 2ms/step - loss: 24197699584.0000 - val_loss: 22739386368.0000\n",
            "Epoch 116/400\n",
            "118/118 [==============================] - 0s 2ms/step - loss: 24193859584.0000 - val_loss: 22722490368.0000\n",
            "Epoch 117/400\n",
            "118/118 [==============================] - 0s 2ms/step - loss: 24195608576.0000 - val_loss: 22728790016.0000\n",
            "Epoch 118/400\n",
            "118/118 [==============================] - 0s 2ms/step - loss: 24185194496.0000 - val_loss: 22709884928.0000\n",
            "Epoch 119/400\n",
            "118/118 [==============================] - 0s 2ms/step - loss: 24189048832.0000 - val_loss: 22718828544.0000\n",
            "Epoch 120/400\n",
            "118/118 [==============================] - 0s 2ms/step - loss: 24204505088.0000 - val_loss: 22716506112.0000\n",
            "Epoch 121/400\n",
            "118/118 [==============================] - 0s 2ms/step - loss: 24185434112.0000 - val_loss: 22709475328.0000\n",
            "Epoch 122/400\n",
            "118/118 [==============================] - 0s 2ms/step - loss: 24184481792.0000 - val_loss: 22704648192.0000\n",
            "Epoch 123/400\n",
            "118/118 [==============================] - 0s 2ms/step - loss: 24184313856.0000 - val_loss: 22705127424.0000\n",
            "Epoch 124/400\n",
            "118/118 [==============================] - 0s 2ms/step - loss: 24183681024.0000 - val_loss: 22701230080.0000\n",
            "Epoch 125/400\n",
            "118/118 [==============================] - 0s 2ms/step - loss: 24179200000.0000 - val_loss: 22704369664.0000\n",
            "Epoch 126/400\n",
            "118/118 [==============================] - 0s 2ms/step - loss: 24180684800.0000 - val_loss: 22698608640.0000\n",
            "Epoch 127/400\n",
            "118/118 [==============================] - 0s 2ms/step - loss: 24168488960.0000 - val_loss: 22706376704.0000\n",
            "Epoch 128/400\n",
            "118/118 [==============================] - 0s 3ms/step - loss: 24172718080.0000 - val_loss: 22740539392.0000\n",
            "Epoch 129/400\n",
            "118/118 [==============================] - 0s 3ms/step - loss: 24172148736.0000 - val_loss: 22686507008.0000\n",
            "Epoch 130/400\n",
            "118/118 [==============================] - 0s 2ms/step - loss: 24178774016.0000 - val_loss: 22701545472.0000\n",
            "Epoch 131/400\n",
            "118/118 [==============================] - 0s 2ms/step - loss: 24169457664.0000 - val_loss: 22698334208.0000\n",
            "Epoch 132/400\n",
            "118/118 [==============================] - 0s 2ms/step - loss: 24179339264.0000 - val_loss: 22688292864.0000\n",
            "Epoch 133/400\n",
            "118/118 [==============================] - 0s 2ms/step - loss: 24161720320.0000 - val_loss: 22717628416.0000\n",
            "Epoch 134/400\n",
            "118/118 [==============================] - 0s 2ms/step - loss: 24167841792.0000 - val_loss: 22704949248.0000\n",
            "Epoch 135/400\n",
            "118/118 [==============================] - 0s 2ms/step - loss: 24152733696.0000 - val_loss: 22690512896.0000\n",
            "Epoch 136/400\n",
            "118/118 [==============================] - 0s 2ms/step - loss: 24153538560.0000 - val_loss: 22682120192.0000\n",
            "Epoch 137/400\n",
            "118/118 [==============================] - 0s 2ms/step - loss: 24155277312.0000 - val_loss: 22675163136.0000\n",
            "Epoch 138/400\n",
            "118/118 [==============================] - 0s 3ms/step - loss: 24141367296.0000 - val_loss: 22670061568.0000\n",
            "Epoch 139/400\n",
            "118/118 [==============================] - 0s 2ms/step - loss: 24161812480.0000 - val_loss: 22683066368.0000\n",
            "Epoch 140/400\n",
            "118/118 [==============================] - 0s 2ms/step - loss: 24148885504.0000 - val_loss: 22675982336.0000\n",
            "Epoch 141/400\n",
            "118/118 [==============================] - 0s 2ms/step - loss: 24148760576.0000 - val_loss: 22689765376.0000\n",
            "Epoch 142/400\n",
            "118/118 [==============================] - 0s 2ms/step - loss: 24140138496.0000 - val_loss: 22692868096.0000\n",
            "Epoch 143/400\n",
            "118/118 [==============================] - 0s 2ms/step - loss: 24163860480.0000 - val_loss: 22669574144.0000\n",
            "Epoch 144/400\n",
            "118/118 [==============================] - 0s 2ms/step - loss: 24131129344.0000 - val_loss: 22675083264.0000\n",
            "Epoch 145/400\n",
            "118/118 [==============================] - 0s 2ms/step - loss: 24128473088.0000 - val_loss: 22661621760.0000\n",
            "Epoch 146/400\n",
            "118/118 [==============================] - 0s 2ms/step - loss: 24134033408.0000 - val_loss: 22695391232.0000\n",
            "Epoch 147/400\n",
            "118/118 [==============================] - 0s 2ms/step - loss: 24133847040.0000 - val_loss: 22660573184.0000\n",
            "Epoch 148/400\n",
            "118/118 [==============================] - 0s 2ms/step - loss: 24118077440.0000 - val_loss: 22731012096.0000\n",
            "Epoch 149/400\n",
            "118/118 [==============================] - 0s 2ms/step - loss: 24137701376.0000 - val_loss: 22712633344.0000\n",
            "Epoch 150/400\n",
            "118/118 [==============================] - 0s 2ms/step - loss: 24132319232.0000 - val_loss: 22674708480.0000\n",
            "Epoch 151/400\n",
            "118/118 [==============================] - 0s 2ms/step - loss: 24114100224.0000 - val_loss: 22647752704.0000\n",
            "Epoch 152/400\n",
            "118/118 [==============================] - 0s 2ms/step - loss: 24112920576.0000 - val_loss: 22651437056.0000\n",
            "Epoch 153/400\n",
            "118/118 [==============================] - 0s 2ms/step - loss: 24113307648.0000 - val_loss: 22658398208.0000\n",
            "Epoch 154/400\n",
            "118/118 [==============================] - 0s 2ms/step - loss: 24114520064.0000 - val_loss: 22651193344.0000\n",
            "Epoch 155/400\n",
            "118/118 [==============================] - 0s 2ms/step - loss: 24118040576.0000 - val_loss: 22657038336.0000\n",
            "Epoch 156/400\n",
            "118/118 [==============================] - 0s 2ms/step - loss: 24117792768.0000 - val_loss: 22652856320.0000\n",
            "Epoch 157/400\n",
            "118/118 [==============================] - 0s 2ms/step - loss: 24113295360.0000 - val_loss: 22651621376.0000\n",
            "Epoch 158/400\n",
            "118/118 [==============================] - 0s 2ms/step - loss: 24101654528.0000 - val_loss: 22660700160.0000\n",
            "Epoch 159/400\n",
            "118/118 [==============================] - 0s 2ms/step - loss: 24097449984.0000 - val_loss: 22647234560.0000\n",
            "Epoch 160/400\n",
            "118/118 [==============================] - 0s 2ms/step - loss: 24096434176.0000 - val_loss: 22637690880.0000\n",
            "Epoch 161/400\n",
            "118/118 [==============================] - 0s 2ms/step - loss: 24117272576.0000 - val_loss: 22665199616.0000\n",
            "Epoch 162/400\n",
            "118/118 [==============================] - 0s 2ms/step - loss: 24106039296.0000 - val_loss: 22678466560.0000\n",
            "Epoch 163/400\n",
            "118/118 [==============================] - 0s 2ms/step - loss: 24092178432.0000 - val_loss: 22635855872.0000\n",
            "Epoch 164/400\n",
            "118/118 [==============================] - 0s 2ms/step - loss: 24089047040.0000 - val_loss: 22664163328.0000\n",
            "Epoch 165/400\n",
            "118/118 [==============================] - 0s 2ms/step - loss: 24093081600.0000 - val_loss: 22662002688.0000\n",
            "Epoch 166/400\n",
            "118/118 [==============================] - 0s 2ms/step - loss: 24090095616.0000 - val_loss: 22641094656.0000\n",
            "Epoch 167/400\n",
            "118/118 [==============================] - 0s 2ms/step - loss: 24083800064.0000 - val_loss: 22647779328.0000\n",
            "Epoch 168/400\n",
            "118/118 [==============================] - 0s 2ms/step - loss: 24082542592.0000 - val_loss: 22631659520.0000\n",
            "Epoch 169/400\n",
            "118/118 [==============================] - 0s 2ms/step - loss: 24097308672.0000 - val_loss: 22696368128.0000\n",
            "Epoch 170/400\n",
            "118/118 [==============================] - 0s 2ms/step - loss: 24086695936.0000 - val_loss: 22625824768.0000\n",
            "Epoch 171/400\n",
            "118/118 [==============================] - 0s 2ms/step - loss: 24078612480.0000 - val_loss: 22637103104.0000\n",
            "Epoch 172/400\n",
            "118/118 [==============================] - 0s 2ms/step - loss: 24085968896.0000 - val_loss: 22630316032.0000\n",
            "Epoch 173/400\n",
            "118/118 [==============================] - 0s 2ms/step - loss: 24069783552.0000 - val_loss: 22627594240.0000\n",
            "Epoch 174/400\n",
            "118/118 [==============================] - 0s 2ms/step - loss: 24068032512.0000 - val_loss: 22625572864.0000\n",
            "Epoch 175/400\n",
            "118/118 [==============================] - 0s 2ms/step - loss: 24069562368.0000 - val_loss: 22624755712.0000\n",
            "Epoch 176/400\n",
            "118/118 [==============================] - 0s 2ms/step - loss: 24077287424.0000 - val_loss: 22618122240.0000\n",
            "Epoch 177/400\n",
            "118/118 [==============================] - 0s 2ms/step - loss: 24067674112.0000 - val_loss: 22630754304.0000\n",
            "Epoch 178/400\n",
            "118/118 [==============================] - 0s 2ms/step - loss: 24066740224.0000 - val_loss: 22618955776.0000\n",
            "Epoch 179/400\n",
            "118/118 [==============================] - 0s 2ms/step - loss: 24056467456.0000 - val_loss: 22642944000.0000\n",
            "Epoch 180/400\n",
            "118/118 [==============================] - 0s 2ms/step - loss: 24067639296.0000 - val_loss: 22612727808.0000\n",
            "Epoch 181/400\n",
            "118/118 [==============================] - 0s 2ms/step - loss: 24058052608.0000 - val_loss: 22607880192.0000\n",
            "Epoch 182/400\n",
            "118/118 [==============================] - 0s 2ms/step - loss: 24065605632.0000 - val_loss: 22627688448.0000\n",
            "Epoch 183/400\n",
            "118/118 [==============================] - 0s 2ms/step - loss: 24048214016.0000 - val_loss: 22615482368.0000\n",
            "Epoch 184/400\n",
            "118/118 [==============================] - 0s 2ms/step - loss: 24063125504.0000 - val_loss: 22604994560.0000\n",
            "Epoch 185/400\n",
            "118/118 [==============================] - 0s 2ms/step - loss: 24047343616.0000 - val_loss: 22649233408.0000\n",
            "Epoch 186/400\n",
            "118/118 [==============================] - 0s 2ms/step - loss: 24050782208.0000 - val_loss: 22617057280.0000\n",
            "Epoch 187/400\n",
            "118/118 [==============================] - 0s 2ms/step - loss: 24045037568.0000 - val_loss: 22612840448.0000\n",
            "Epoch 188/400\n",
            "118/118 [==============================] - 0s 2ms/step - loss: 24044679168.0000 - val_loss: 22647134208.0000\n",
            "Epoch 189/400\n",
            "118/118 [==============================] - 0s 2ms/step - loss: 24036466688.0000 - val_loss: 22612471808.0000\n",
            "Epoch 190/400\n",
            "118/118 [==============================] - 0s 2ms/step - loss: 24030818304.0000 - val_loss: 22663413760.0000\n",
            "Epoch 191/400\n",
            "118/118 [==============================] - 0s 2ms/step - loss: 24044124160.0000 - val_loss: 22607757312.0000\n",
            "Epoch 192/400\n",
            "118/118 [==============================] - 0s 2ms/step - loss: 24032462848.0000 - val_loss: 22602508288.0000\n",
            "Epoch 193/400\n",
            "118/118 [==============================] - 0s 4ms/step - loss: 24038115328.0000 - val_loss: 22599131136.0000\n",
            "Epoch 194/400\n",
            "118/118 [==============================] - 0s 2ms/step - loss: 24032393216.0000 - val_loss: 22609852416.0000\n",
            "Epoch 195/400\n",
            "118/118 [==============================] - 0s 2ms/step - loss: 24032643072.0000 - val_loss: 22593695744.0000\n",
            "Epoch 196/400\n",
            "118/118 [==============================] - 0s 2ms/step - loss: 24018993152.0000 - val_loss: 22635612160.0000\n",
            "Epoch 197/400\n",
            "118/118 [==============================] - 0s 2ms/step - loss: 24034793472.0000 - val_loss: 22596667392.0000\n",
            "Epoch 198/400\n",
            "118/118 [==============================] - 0s 2ms/step - loss: 24019349504.0000 - val_loss: 22613950464.0000\n",
            "Epoch 199/400\n",
            "118/118 [==============================] - 0s 2ms/step - loss: 24019130368.0000 - val_loss: 22613082112.0000\n",
            "Epoch 200/400\n",
            "118/118 [==============================] - 0s 2ms/step - loss: 24029042688.0000 - val_loss: 22597566464.0000\n",
            "Epoch 201/400\n",
            "118/118 [==============================] - 0s 2ms/step - loss: 24027297792.0000 - val_loss: 22609745920.0000\n",
            "Epoch 202/400\n",
            "118/118 [==============================] - 0s 2ms/step - loss: 24013832192.0000 - val_loss: 22614994944.0000\n",
            "Epoch 203/400\n",
            "118/118 [==============================] - 0s 2ms/step - loss: 24008425472.0000 - val_loss: 22604728320.0000\n",
            "Epoch 204/400\n",
            "118/118 [==============================] - 0s 2ms/step - loss: 24013355008.0000 - val_loss: 22617382912.0000\n",
            "Epoch 205/400\n",
            "118/118 [==============================] - 0s 2ms/step - loss: 24022349824.0000 - val_loss: 22592718848.0000\n",
            "Epoch 206/400\n",
            "118/118 [==============================] - 0s 2ms/step - loss: 24009680896.0000 - val_loss: 22583433216.0000\n",
            "Epoch 207/400\n",
            "118/118 [==============================] - 0s 2ms/step - loss: 24015628288.0000 - val_loss: 22576246784.0000\n",
            "Epoch 208/400\n",
            "118/118 [==============================] - 0s 2ms/step - loss: 23999690752.0000 - val_loss: 22588485632.0000\n",
            "Epoch 209/400\n",
            "118/118 [==============================] - 0s 2ms/step - loss: 24016797696.0000 - val_loss: 22588780544.0000\n",
            "Epoch 210/400\n",
            "118/118 [==============================] - 0s 2ms/step - loss: 24011415552.0000 - val_loss: 22600589312.0000\n",
            "Epoch 211/400\n",
            "118/118 [==============================] - 0s 2ms/step - loss: 23995791360.0000 - val_loss: 22586540032.0000\n",
            "Epoch 212/400\n",
            "118/118 [==============================] - 0s 2ms/step - loss: 24007493632.0000 - val_loss: 22591723520.0000\n",
            "Epoch 213/400\n",
            "118/118 [==============================] - 0s 2ms/step - loss: 24006582272.0000 - val_loss: 22576412672.0000\n",
            "Epoch 214/400\n",
            "118/118 [==============================] - 0s 2ms/step - loss: 23989428224.0000 - val_loss: 22572984320.0000\n",
            "Epoch 215/400\n",
            "118/118 [==============================] - 0s 2ms/step - loss: 24011657216.0000 - val_loss: 22634465280.0000\n",
            "Epoch 216/400\n",
            "118/118 [==============================] - 0s 2ms/step - loss: 23989315584.0000 - val_loss: 22603272192.0000\n",
            "Epoch 217/400\n",
            "118/118 [==============================] - 0s 2ms/step - loss: 23990833152.0000 - val_loss: 22573955072.0000\n",
            "Epoch 218/400\n",
            "118/118 [==============================] - 0s 2ms/step - loss: 23992659968.0000 - val_loss: 22584025088.0000\n",
            "Epoch 219/400\n",
            "118/118 [==============================] - 0s 3ms/step - loss: 23987947520.0000 - val_loss: 22577803264.0000\n",
            "Epoch 220/400\n",
            "118/118 [==============================] - 0s 3ms/step - loss: 24000256000.0000 - val_loss: 22571167744.0000\n",
            "Epoch 221/400\n",
            "118/118 [==============================] - 0s 2ms/step - loss: 23979429888.0000 - val_loss: 22572103680.0000\n",
            "Epoch 222/400\n",
            "118/118 [==============================] - 0s 2ms/step - loss: 23977910272.0000 - val_loss: 22586333184.0000\n",
            "Epoch 223/400\n",
            "118/118 [==============================] - 0s 2ms/step - loss: 23983169536.0000 - val_loss: 22570086400.0000\n",
            "Epoch 224/400\n",
            "118/118 [==============================] - 0s 2ms/step - loss: 23973994496.0000 - val_loss: 22558724096.0000\n",
            "Epoch 225/400\n",
            "118/118 [==============================] - 0s 2ms/step - loss: 23975104512.0000 - val_loss: 22583359488.0000\n",
            "Epoch 226/400\n",
            "118/118 [==============================] - 0s 2ms/step - loss: 23971217408.0000 - val_loss: 22562349056.0000\n",
            "Epoch 227/400\n",
            "118/118 [==============================] - 0s 2ms/step - loss: 23965028352.0000 - val_loss: 22574948352.0000\n",
            "Epoch 228/400\n",
            "118/118 [==============================] - 0s 3ms/step - loss: 23967127552.0000 - val_loss: 22577426432.0000\n",
            "Epoch 229/400\n",
            "118/118 [==============================] - 0s 2ms/step - loss: 23961815040.0000 - val_loss: 22557970432.0000\n",
            "Epoch 230/400\n",
            "118/118 [==============================] - 0s 2ms/step - loss: 23971063808.0000 - val_loss: 22571745280.0000\n",
            "Epoch 231/400\n",
            "118/118 [==============================] - 0s 2ms/step - loss: 23952154624.0000 - val_loss: 22635905024.0000\n",
            "Epoch 232/400\n",
            "118/118 [==============================] - 0s 2ms/step - loss: 23966615552.0000 - val_loss: 22554337280.0000\n",
            "Epoch 233/400\n",
            "118/118 [==============================] - 0s 2ms/step - loss: 23961075712.0000 - val_loss: 22566035456.0000\n",
            "Epoch 234/400\n",
            "118/118 [==============================] - 0s 2ms/step - loss: 23951079424.0000 - val_loss: 22558042112.0000\n",
            "Epoch 235/400\n",
            "118/118 [==============================] - 0s 2ms/step - loss: 23967350784.0000 - val_loss: 22572503040.0000\n",
            "Epoch 236/400\n",
            "118/118 [==============================] - 0s 2ms/step - loss: 23947343872.0000 - val_loss: 22601650176.0000\n",
            "Epoch 237/400\n",
            "118/118 [==============================] - 0s 2ms/step - loss: 23958063104.0000 - val_loss: 22553356288.0000\n",
            "Epoch 238/400\n",
            "118/118 [==============================] - 0s 2ms/step - loss: 23960496128.0000 - val_loss: 22556035072.0000\n",
            "Epoch 239/400\n",
            "118/118 [==============================] - 0s 2ms/step - loss: 23939780608.0000 - val_loss: 22579318784.0000\n",
            "Epoch 240/400\n",
            "118/118 [==============================] - 0s 2ms/step - loss: 23945080832.0000 - val_loss: 22601539584.0000\n",
            "Epoch 241/400\n",
            "118/118 [==============================] - 0s 2ms/step - loss: 23948707840.0000 - val_loss: 22559936512.0000\n",
            "Epoch 242/400\n",
            "118/118 [==============================] - 0s 2ms/step - loss: 23942473728.0000 - val_loss: 22545993728.0000\n",
            "Epoch 243/400\n",
            "118/118 [==============================] - 0s 2ms/step - loss: 23943022592.0000 - val_loss: 22548633600.0000\n",
            "Epoch 244/400\n",
            "118/118 [==============================] - 0s 2ms/step - loss: 23938215936.0000 - val_loss: 22541414400.0000\n",
            "Epoch 245/400\n",
            "118/118 [==============================] - 0s 2ms/step - loss: 23951245312.0000 - val_loss: 22546044928.0000\n",
            "Epoch 246/400\n",
            "118/118 [==============================] - 0s 2ms/step - loss: 23925678080.0000 - val_loss: 22543722496.0000\n",
            "Epoch 247/400\n",
            "118/118 [==============================] - 0s 4ms/step - loss: 23924248576.0000 - val_loss: 22536814592.0000\n",
            "Epoch 248/400\n",
            "118/118 [==============================] - 0s 2ms/step - loss: 23930523648.0000 - val_loss: 22538551296.0000\n",
            "Epoch 249/400\n",
            "118/118 [==============================] - 0s 2ms/step - loss: 23926110208.0000 - val_loss: 22569463808.0000\n",
            "Epoch 250/400\n",
            "118/118 [==============================] - 0s 2ms/step - loss: 23929847808.0000 - val_loss: 22538788864.0000\n",
            "Epoch 251/400\n",
            "118/118 [==============================] - 0s 2ms/step - loss: 23931666432.0000 - val_loss: 22535964672.0000\n",
            "Epoch 252/400\n",
            "118/118 [==============================] - 0s 2ms/step - loss: 23929384960.0000 - val_loss: 22542704640.0000\n",
            "Epoch 253/400\n",
            "118/118 [==============================] - 0s 2ms/step - loss: 23920095232.0000 - val_loss: 22536032256.0000\n",
            "Epoch 254/400\n",
            "118/118 [==============================] - 0s 2ms/step - loss: 23915997184.0000 - val_loss: 22544150528.0000\n",
            "Epoch 255/400\n",
            "118/118 [==============================] - 0s 2ms/step - loss: 23922204672.0000 - val_loss: 22548002816.0000\n",
            "Epoch 256/400\n",
            "118/118 [==============================] - 0s 2ms/step - loss: 23912099840.0000 - val_loss: 22530082816.0000\n",
            "Epoch 257/400\n",
            "118/118 [==============================] - 0s 2ms/step - loss: 23907319808.0000 - val_loss: 22525872128.0000\n",
            "Epoch 258/400\n",
            "118/118 [==============================] - 0s 2ms/step - loss: 23900297216.0000 - val_loss: 22557403136.0000\n",
            "Epoch 259/400\n",
            "118/118 [==============================] - 0s 2ms/step - loss: 23901980672.0000 - val_loss: 22522257408.0000\n",
            "Epoch 260/400\n",
            "118/118 [==============================] - 0s 2ms/step - loss: 23913816064.0000 - val_loss: 22522521600.0000\n",
            "Epoch 261/400\n",
            "118/118 [==============================] - 0s 2ms/step - loss: 23897882624.0000 - val_loss: 22538209280.0000\n",
            "Epoch 262/400\n",
            "118/118 [==============================] - 0s 2ms/step - loss: 23909441536.0000 - val_loss: 22564763648.0000\n",
            "Epoch 263/400\n",
            "118/118 [==============================] - 0s 2ms/step - loss: 23894986752.0000 - val_loss: 22578300928.0000\n",
            "Epoch 264/400\n",
            "118/118 [==============================] - 0s 2ms/step - loss: 23902990336.0000 - val_loss: 22534930432.0000\n",
            "Epoch 265/400\n",
            "118/118 [==============================] - 0s 2ms/step - loss: 23880110080.0000 - val_loss: 22520201216.0000\n",
            "Epoch 266/400\n",
            "118/118 [==============================] - 0s 2ms/step - loss: 23906134016.0000 - val_loss: 22536519680.0000\n",
            "Epoch 267/400\n",
            "118/118 [==============================] - 0s 2ms/step - loss: 23883024384.0000 - val_loss: 22517014528.0000\n",
            "Epoch 268/400\n",
            "118/118 [==============================] - 0s 2ms/step - loss: 23880441856.0000 - val_loss: 22534529024.0000\n",
            "Epoch 269/400\n",
            "118/118 [==============================] - 0s 3ms/step - loss: 23864700928.0000 - val_loss: 22537850880.0000\n",
            "Epoch 270/400\n",
            "118/118 [==============================] - 0s 2ms/step - loss: 23876661248.0000 - val_loss: 22539419648.0000\n",
            "Epoch 271/400\n",
            "118/118 [==============================] - 0s 2ms/step - loss: 23888084992.0000 - val_loss: 22518161408.0000\n",
            "Epoch 272/400\n",
            "118/118 [==============================] - 0s 2ms/step - loss: 23887286272.0000 - val_loss: 22515871744.0000\n",
            "Epoch 273/400\n",
            "118/118 [==============================] - 0s 2ms/step - loss: 23877484544.0000 - val_loss: 22518925312.0000\n",
            "Epoch 274/400\n",
            "118/118 [==============================] - 0s 2ms/step - loss: 23872350208.0000 - val_loss: 22550605824.0000\n",
            "Epoch 275/400\n",
            "118/118 [==============================] - 0s 2ms/step - loss: 23857512448.0000 - val_loss: 22513065984.0000\n",
            "Epoch 276/400\n",
            "118/118 [==============================] - 0s 2ms/step - loss: 23888488448.0000 - val_loss: 22507186176.0000\n",
            "Epoch 277/400\n",
            "118/118 [==============================] - 0s 2ms/step - loss: 23883329536.0000 - val_loss: 22503788544.0000\n",
            "Epoch 278/400\n",
            "118/118 [==============================] - 0s 2ms/step - loss: 23871184896.0000 - val_loss: 22507235328.0000\n",
            "Epoch 279/400\n",
            "118/118 [==============================] - 0s 2ms/step - loss: 23869976576.0000 - val_loss: 22531694592.0000\n",
            "Epoch 280/400\n",
            "118/118 [==============================] - 0s 2ms/step - loss: 23866247168.0000 - val_loss: 22500335616.0000\n",
            "Epoch 281/400\n",
            "118/118 [==============================] - 0s 2ms/step - loss: 23855083520.0000 - val_loss: 22505355264.0000\n",
            "Epoch 282/400\n",
            "118/118 [==============================] - 0s 2ms/step - loss: 23854931968.0000 - val_loss: 22507333632.0000\n",
            "Epoch 283/400\n",
            "118/118 [==============================] - 0s 2ms/step - loss: 23872245760.0000 - val_loss: 22498564096.0000\n",
            "Epoch 284/400\n",
            "118/118 [==============================] - 0s 2ms/step - loss: 23854325760.0000 - val_loss: 22524600320.0000\n",
            "Epoch 285/400\n",
            "118/118 [==============================] - 0s 2ms/step - loss: 23859785728.0000 - val_loss: 22496286720.0000\n",
            "Epoch 286/400\n",
            "118/118 [==============================] - 0s 2ms/step - loss: 23851700224.0000 - val_loss: 22496790528.0000\n",
            "Epoch 287/400\n",
            "118/118 [==============================] - 0s 2ms/step - loss: 23854516224.0000 - val_loss: 22492590080.0000\n",
            "Epoch 288/400\n",
            "118/118 [==============================] - 0s 2ms/step - loss: 23840851968.0000 - val_loss: 22533343232.0000\n",
            "Epoch 289/400\n",
            "118/118 [==============================] - 0s 2ms/step - loss: 23846912000.0000 - val_loss: 22507962368.0000\n",
            "Epoch 290/400\n",
            "118/118 [==============================] - 0s 2ms/step - loss: 23852668928.0000 - val_loss: 22496835584.0000\n",
            "Epoch 291/400\n",
            "118/118 [==============================] - 0s 2ms/step - loss: 23849656320.0000 - val_loss: 22486917120.0000\n",
            "Epoch 292/400\n",
            "118/118 [==============================] - 0s 2ms/step - loss: 23830339584.0000 - val_loss: 22508613632.0000\n",
            "Epoch 293/400\n",
            "118/118 [==============================] - 0s 2ms/step - loss: 23834249216.0000 - val_loss: 22507384832.0000\n",
            "Epoch 294/400\n",
            "118/118 [==============================] - 0s 2ms/step - loss: 23840999424.0000 - val_loss: 22487975936.0000\n",
            "Epoch 295/400\n",
            "118/118 [==============================] - 0s 2ms/step - loss: 23830161408.0000 - val_loss: 22487537664.0000\n",
            "Epoch 296/400\n",
            "118/118 [==============================] - 0s 2ms/step - loss: 23835482112.0000 - val_loss: 22487072768.0000\n",
            "Epoch 297/400\n",
            "118/118 [==============================] - 0s 2ms/step - loss: 23834210304.0000 - val_loss: 22491006976.0000\n",
            "Epoch 298/400\n",
            "118/118 [==============================] - 0s 2ms/step - loss: 23820046336.0000 - val_loss: 22476738560.0000\n",
            "Epoch 299/400\n",
            "118/118 [==============================] - 0s 2ms/step - loss: 23841411072.0000 - val_loss: 22482601984.0000\n",
            "Epoch 300/400\n",
            "118/118 [==============================] - 0s 2ms/step - loss: 23827386368.0000 - val_loss: 22475685888.0000\n",
            "Epoch 301/400\n",
            "118/118 [==============================] - 0s 2ms/step - loss: 23834308608.0000 - val_loss: 22488219648.0000\n",
            "Epoch 302/400\n",
            "118/118 [==============================] - 0s 2ms/step - loss: 23818502144.0000 - val_loss: 22481981440.0000\n",
            "Epoch 303/400\n",
            "118/118 [==============================] - 0s 2ms/step - loss: 23824197632.0000 - val_loss: 22469255168.0000\n",
            "Epoch 304/400\n",
            "118/118 [==============================] - 0s 2ms/step - loss: 23826896896.0000 - val_loss: 22492966912.0000\n",
            "Epoch 305/400\n",
            "118/118 [==============================] - 0s 2ms/step - loss: 23802155008.0000 - val_loss: 22464083968.0000\n",
            "Epoch 306/400\n",
            "118/118 [==============================] - 0s 2ms/step - loss: 23808804864.0000 - val_loss: 22484492288.0000\n",
            "Epoch 307/400\n",
            "118/118 [==============================] - 0s 2ms/step - loss: 23810711552.0000 - val_loss: 22474557440.0000\n",
            "Epoch 308/400\n",
            "118/118 [==============================] - 0s 2ms/step - loss: 23808825344.0000 - val_loss: 22462615552.0000\n",
            "Epoch 309/400\n",
            "118/118 [==============================] - 0s 2ms/step - loss: 23793809408.0000 - val_loss: 22494382080.0000\n",
            "Epoch 310/400\n",
            "118/118 [==============================] - 0s 2ms/step - loss: 23801694208.0000 - val_loss: 22461245440.0000\n",
            "Epoch 311/400\n",
            "118/118 [==============================] - 0s 2ms/step - loss: 23810420736.0000 - val_loss: 22457886720.0000\n",
            "Epoch 312/400\n",
            "118/118 [==============================] - 0s 4ms/step - loss: 23801679872.0000 - val_loss: 22459559936.0000\n",
            "Epoch 313/400\n",
            "118/118 [==============================] - 0s 2ms/step - loss: 23798108160.0000 - val_loss: 22454708224.0000\n",
            "Epoch 314/400\n",
            "118/118 [==============================] - 0s 2ms/step - loss: 23794585600.0000 - val_loss: 22468870144.0000\n",
            "Epoch 315/400\n",
            "118/118 [==============================] - 0s 2ms/step - loss: 23799179264.0000 - val_loss: 22467465216.0000\n",
            "Epoch 316/400\n",
            "118/118 [==============================] - 0s 3ms/step - loss: 23801632768.0000 - val_loss: 22450012160.0000\n",
            "Epoch 317/400\n",
            "118/118 [==============================] - 0s 2ms/step - loss: 23799195648.0000 - val_loss: 22448287744.0000\n",
            "Epoch 318/400\n",
            "118/118 [==============================] - 0s 2ms/step - loss: 23789694976.0000 - val_loss: 22448902144.0000\n",
            "Epoch 319/400\n",
            "118/118 [==============================] - 0s 2ms/step - loss: 23817463808.0000 - val_loss: 22463025152.0000\n",
            "Epoch 320/400\n",
            "118/118 [==============================] - 0s 2ms/step - loss: 23782852608.0000 - val_loss: 22451245056.0000\n",
            "Epoch 321/400\n",
            "118/118 [==============================] - 0s 2ms/step - loss: 23780628480.0000 - val_loss: 22487164928.0000\n",
            "Epoch 322/400\n",
            "118/118 [==============================] - 0s 2ms/step - loss: 23785371648.0000 - val_loss: 22452951040.0000\n",
            "Epoch 323/400\n",
            "118/118 [==============================] - 0s 2ms/step - loss: 23787880448.0000 - val_loss: 22441420800.0000\n",
            "Epoch 324/400\n",
            "118/118 [==============================] - 0s 2ms/step - loss: 23778660352.0000 - val_loss: 22471041024.0000\n",
            "Epoch 325/400\n",
            "118/118 [==============================] - 0s 2ms/step - loss: 23791226880.0000 - val_loss: 22451963904.0000\n",
            "Epoch 326/400\n",
            "118/118 [==============================] - 0s 2ms/step - loss: 23774427136.0000 - val_loss: 22435401728.0000\n",
            "Epoch 327/400\n",
            "118/118 [==============================] - 0s 2ms/step - loss: 23779018752.0000 - val_loss: 22434338816.0000\n",
            "Epoch 328/400\n",
            "118/118 [==============================] - 0s 2ms/step - loss: 23769470976.0000 - val_loss: 22443954176.0000\n",
            "Epoch 329/400\n",
            "118/118 [==============================] - 0s 2ms/step - loss: 23773964288.0000 - val_loss: 22436575232.0000\n",
            "Epoch 330/400\n",
            "118/118 [==============================] - 0s 2ms/step - loss: 23770324992.0000 - val_loss: 22447525888.0000\n",
            "Epoch 331/400\n",
            "118/118 [==============================] - 0s 2ms/step - loss: 23764477952.0000 - val_loss: 22432034816.0000\n",
            "Epoch 332/400\n",
            "118/118 [==============================] - 0s 2ms/step - loss: 23773097984.0000 - val_loss: 22439729152.0000\n",
            "Epoch 333/400\n",
            "118/118 [==============================] - 0s 2ms/step - loss: 23757129728.0000 - val_loss: 22429097984.0000\n",
            "Epoch 334/400\n",
            "118/118 [==============================] - 0s 2ms/step - loss: 23756863488.0000 - val_loss: 22429833216.0000\n",
            "Epoch 335/400\n",
            "118/118 [==============================] - 0s 2ms/step - loss: 23759994880.0000 - val_loss: 22425169920.0000\n",
            "Epoch 336/400\n",
            "118/118 [==============================] - 0s 2ms/step - loss: 23748188160.0000 - val_loss: 22419838976.0000\n",
            "Epoch 337/400\n",
            "118/118 [==============================] - 0s 2ms/step - loss: 23752763392.0000 - val_loss: 22448756736.0000\n",
            "Epoch 338/400\n",
            "118/118 [==============================] - 0s 2ms/step - loss: 23766863872.0000 - val_loss: 22457491456.0000\n",
            "Epoch 339/400\n",
            "118/118 [==============================] - 0s 2ms/step - loss: 23756877824.0000 - val_loss: 22428542976.0000\n",
            "Epoch 340/400\n",
            "118/118 [==============================] - 0s 2ms/step - loss: 23763646464.0000 - val_loss: 22421489664.0000\n",
            "Epoch 341/400\n",
            "118/118 [==============================] - 0s 2ms/step - loss: 23746365440.0000 - val_loss: 22461005824.0000\n",
            "Epoch 342/400\n",
            "118/118 [==============================] - 0s 2ms/step - loss: 23754571776.0000 - val_loss: 22412023808.0000\n",
            "Epoch 343/400\n",
            "118/118 [==============================] - 0s 2ms/step - loss: 23744444416.0000 - val_loss: 22412341248.0000\n",
            "Epoch 344/400\n",
            "118/118 [==============================] - 0s 2ms/step - loss: 23748960256.0000 - val_loss: 22406944768.0000\n",
            "Epoch 345/400\n",
            "118/118 [==============================] - 0s 2ms/step - loss: 23743320064.0000 - val_loss: 22408638464.0000\n",
            "Epoch 346/400\n",
            "118/118 [==============================] - 0s 2ms/step - loss: 23741890560.0000 - val_loss: 22411485184.0000\n",
            "Epoch 347/400\n",
            "118/118 [==============================] - 0s 2ms/step - loss: 23735754752.0000 - val_loss: 22401677312.0000\n",
            "Epoch 348/400\n",
            "118/118 [==============================] - 0s 2ms/step - loss: 23747794944.0000 - val_loss: 22419757056.0000\n",
            "Epoch 349/400\n",
            "118/118 [==============================] - 0s 2ms/step - loss: 23742523392.0000 - val_loss: 22412146688.0000\n",
            "Epoch 350/400\n",
            "118/118 [==============================] - 0s 2ms/step - loss: 23731091456.0000 - val_loss: 22410065920.0000\n",
            "Epoch 351/400\n",
            "118/118 [==============================] - 0s 3ms/step - loss: 23728754688.0000 - val_loss: 22396766208.0000\n",
            "Epoch 352/400\n",
            "118/118 [==============================] - 0s 2ms/step - loss: 23730477056.0000 - val_loss: 22392815616.0000\n",
            "Epoch 353/400\n",
            "118/118 [==============================] - 0s 2ms/step - loss: 23729367040.0000 - val_loss: 22403440640.0000\n",
            "Epoch 354/400\n",
            "118/118 [==============================] - 0s 2ms/step - loss: 23733753856.0000 - val_loss: 22423455744.0000\n",
            "Epoch 355/400\n",
            "118/118 [==============================] - 0s 2ms/step - loss: 23739238400.0000 - val_loss: 22415046656.0000\n",
            "Epoch 356/400\n",
            "118/118 [==============================] - 0s 2ms/step - loss: 23729676288.0000 - val_loss: 22401681408.0000\n",
            "Epoch 357/400\n",
            "118/118 [==============================] - 0s 2ms/step - loss: 23714744320.0000 - val_loss: 22443931648.0000\n",
            "Epoch 358/400\n",
            "118/118 [==============================] - 0s 2ms/step - loss: 23722354688.0000 - val_loss: 22429149184.0000\n",
            "Epoch 359/400\n",
            "118/118 [==============================] - 0s 2ms/step - loss: 23726544896.0000 - val_loss: 22407092224.0000\n",
            "Epoch 360/400\n",
            "118/118 [==============================] - 0s 3ms/step - loss: 23714549760.0000 - val_loss: 22393266176.0000\n",
            "Epoch 361/400\n",
            "118/118 [==============================] - 0s 2ms/step - loss: 23701987328.0000 - val_loss: 22508687360.0000\n",
            "Epoch 362/400\n",
            "118/118 [==============================] - 0s 2ms/step - loss: 23715018752.0000 - val_loss: 22398502912.0000\n",
            "Epoch 363/400\n",
            "118/118 [==============================] - 0s 2ms/step - loss: 23716780032.0000 - val_loss: 22396356608.0000\n",
            "Epoch 364/400\n",
            "118/118 [==============================] - 0s 2ms/step - loss: 23726540800.0000 - val_loss: 22399594496.0000\n",
            "Epoch 365/400\n",
            "118/118 [==============================] - 0s 3ms/step - loss: 23718017024.0000 - val_loss: 22390091776.0000\n",
            "Epoch 366/400\n",
            "118/118 [==============================] - 0s 4ms/step - loss: 23711121408.0000 - val_loss: 22380066816.0000\n",
            "Epoch 367/400\n",
            "118/118 [==============================] - 0s 2ms/step - loss: 23707981824.0000 - val_loss: 22399019008.0000\n",
            "Epoch 368/400\n",
            "118/118 [==============================] - 0s 2ms/step - loss: 23727265792.0000 - val_loss: 22422679552.0000\n",
            "Epoch 369/400\n",
            "118/118 [==============================] - 0s 2ms/step - loss: 23704221696.0000 - val_loss: 22406459392.0000\n",
            "Epoch 370/400\n",
            "118/118 [==============================] - 0s 2ms/step - loss: 23704190976.0000 - val_loss: 22397075456.0000\n",
            "Epoch 371/400\n",
            "118/118 [==============================] - 0s 2ms/step - loss: 23694934016.0000 - val_loss: 22378881024.0000\n",
            "Epoch 372/400\n",
            "118/118 [==============================] - 0s 2ms/step - loss: 23715860480.0000 - val_loss: 22401312768.0000\n",
            "Epoch 373/400\n",
            "118/118 [==============================] - 0s 2ms/step - loss: 23709945856.0000 - val_loss: 22378147840.0000\n",
            "Epoch 374/400\n",
            "118/118 [==============================] - 0s 2ms/step - loss: 23697434624.0000 - val_loss: 22379147264.0000\n",
            "Epoch 375/400\n",
            "118/118 [==============================] - 0s 2ms/step - loss: 23693799424.0000 - val_loss: 22417256448.0000\n",
            "Epoch 376/400\n",
            "118/118 [==============================] - 0s 2ms/step - loss: 23693459456.0000 - val_loss: 22429874176.0000\n",
            "Epoch 377/400\n",
            "118/118 [==============================] - 0s 2ms/step - loss: 23692769280.0000 - val_loss: 22372241408.0000\n",
            "Epoch 378/400\n",
            "118/118 [==============================] - 0s 2ms/step - loss: 23703558144.0000 - val_loss: 22375288832.0000\n",
            "Epoch 379/400\n",
            "118/118 [==============================] - 0s 2ms/step - loss: 23696836608.0000 - val_loss: 22411003904.0000\n",
            "Epoch 380/400\n",
            "118/118 [==============================] - 0s 2ms/step - loss: 23687057408.0000 - val_loss: 22420854784.0000\n",
            "Epoch 381/400\n",
            "118/118 [==============================] - 0s 2ms/step - loss: 23688880128.0000 - val_loss: 22375241728.0000\n",
            "Epoch 382/400\n",
            "118/118 [==============================] - 0s 2ms/step - loss: 23690172416.0000 - val_loss: 22370932736.0000\n",
            "Epoch 383/400\n",
            "118/118 [==============================] - 0s 2ms/step - loss: 23690102784.0000 - val_loss: 22385846272.0000\n",
            "Epoch 384/400\n",
            "118/118 [==============================] - 0s 2ms/step - loss: 23682138112.0000 - val_loss: 22372233216.0000\n",
            "Epoch 385/400\n",
            "118/118 [==============================] - 0s 2ms/step - loss: 23704786944.0000 - val_loss: 22370234368.0000\n",
            "Epoch 386/400\n",
            "118/118 [==============================] - 0s 2ms/step - loss: 23685779456.0000 - val_loss: 22374180864.0000\n",
            "Epoch 387/400\n",
            "118/118 [==============================] - 0s 2ms/step - loss: 23682471936.0000 - val_loss: 22374580224.0000\n",
            "Epoch 388/400\n",
            "118/118 [==============================] - 0s 2ms/step - loss: 23689728000.0000 - val_loss: 22372001792.0000\n",
            "Epoch 389/400\n",
            "118/118 [==============================] - 0s 2ms/step - loss: 23677286400.0000 - val_loss: 22372802560.0000\n",
            "Epoch 390/400\n",
            "118/118 [==============================] - 0s 2ms/step - loss: 23670409216.0000 - val_loss: 22365036544.0000\n",
            "Epoch 391/400\n",
            "118/118 [==============================] - 0s 2ms/step - loss: 23685335040.0000 - val_loss: 22415626240.0000\n",
            "Epoch 392/400\n",
            "118/118 [==============================] - 0s 2ms/step - loss: 23676354560.0000 - val_loss: 22367526912.0000\n",
            "Epoch 393/400\n",
            "118/118 [==============================] - 0s 2ms/step - loss: 23676639232.0000 - val_loss: 22356944896.0000\n",
            "Epoch 394/400\n",
            "118/118 [==============================] - 0s 2ms/step - loss: 23669688320.0000 - val_loss: 22349719552.0000\n",
            "Epoch 395/400\n",
            "118/118 [==============================] - 0s 2ms/step - loss: 23685830656.0000 - val_loss: 22357506048.0000\n",
            "Epoch 396/400\n",
            "118/118 [==============================] - 0s 2ms/step - loss: 23674251264.0000 - val_loss: 22358851584.0000\n",
            "Epoch 397/400\n",
            "118/118 [==============================] - 0s 3ms/step - loss: 23666933760.0000 - val_loss: 22353694720.0000\n",
            "Epoch 398/400\n",
            "118/118 [==============================] - 0s 2ms/step - loss: 23663388672.0000 - val_loss: 22352293888.0000\n",
            "Epoch 399/400\n",
            "118/118 [==============================] - 0s 2ms/step - loss: 23667972096.0000 - val_loss: 22363822080.0000\n",
            "Epoch 400/400\n",
            "118/118 [==============================] - 0s 2ms/step - loss: 23671175168.0000 - val_loss: 22353475584.0000\n"
          ],
          "name": "stdout"
        },
        {
          "output_type": "execute_result",
          "data": {
            "text/plain": [
              "<tensorflow.python.keras.callbacks.History at 0x7fccfffcf320>"
            ]
          },
          "metadata": {
            "tags": []
          },
          "execution_count": 87
        }
      ]
    },
    {
      "cell_type": "code",
      "metadata": {
        "colab": {
          "base_uri": "https://localhost:8080/",
          "height": 310
        },
        "id": "DvtrKPWYLwE3",
        "outputId": "acd32d6c-dbd9-43e7-ab14-2fcdf820f0aa"
      },
      "source": [
        "loss_df=pd.DataFrame(model.history.history)\r\n",
        "plt.plot(loss_df)"
      ],
      "execution_count": null,
      "outputs": [
        {
          "output_type": "execute_result",
          "data": {
            "text/plain": [
              "[<matplotlib.lines.Line2D at 0x7fccfffacf98>,\n",
              " <matplotlib.lines.Line2D at 0x7fccfff7e128>]"
            ]
          },
          "metadata": {
            "tags": []
          },
          "execution_count": 88
        },
        {
          "output_type": "display_data",
          "data": {
            "image/png": "[encoded data removed]",
            "text/plain": [
              "<Figure size 432x288 with 1 Axes>"
            ]
          },
          "metadata": {
            "tags": [],
            "needs_background": "light"
          }
        }
      ]
    },
    {
      "cell_type": "code",
      "metadata": {
        "colab": {
          "base_uri": "https://localhost:8080/",
          "height": 204
        },
        "id": "9vX4LoyIP92P",
        "outputId": "95bf7840-488a-4b6b-e0f2-38ff7b4ce6ae"
      },
      "source": [
        "loss_df.head()"
      ],
      "execution_count": null,
      "outputs": [
        {
          "output_type": "execute_result",
          "data": {
            "text/html": [
              "<div>\n",
              "<style scoped>\n",
              "    .dataframe tbody tr th:only-of-type {\n",
              "        vertical-align: middle;\n",
              "    }\n",
              "\n",
              "    .dataframe tbody tr th {\n",
              "        vertical-align: top;\n",
              "    }\n",
              "\n",
              "    .dataframe thead th {\n",
              "        text-align: right;\n",
              "    }\n",
              "</style>\n",
              "<table border=\"1\" class=\"dataframe\">\n",
              "  <thead>\n",
              "    <tr style=\"text-align: right;\">\n",
              "      <th></th>\n",
              "      <th>loss</th>\n",
              "      <th>val_loss</th>\n",
              "    </tr>\n",
              "  </thead>\n",
              "  <tbody>\n",
              "    <tr>\n",
              "      <th>0</th>\n",
              "      <td>2.699492e+10</td>\n",
              "      <td>2.483460e+10</td>\n",
              "    </tr>\n",
              "    <tr>\n",
              "      <th>1</th>\n",
              "      <td>2.699488e+10</td>\n",
              "      <td>2.484482e+10</td>\n",
              "    </tr>\n",
              "    <tr>\n",
              "      <th>2</th>\n",
              "      <td>2.699285e+10</td>\n",
              "      <td>2.486497e+10</td>\n",
              "    </tr>\n",
              "    <tr>\n",
              "      <th>3</th>\n",
              "      <td>2.697273e+10</td>\n",
              "      <td>2.481997e+10</td>\n",
              "    </tr>\n",
              "    <tr>\n",
              "      <th>4</th>\n",
              "      <td>2.697901e+10</td>\n",
              "      <td>2.486029e+10</td>\n",
              "    </tr>\n",
              "  </tbody>\n",
              "</table>\n",
              "</div>"
            ],
            "text/plain": [
              "           loss      val_loss\n",
              "0  2.699492e+10  2.483460e+10\n",
              "1  2.699488e+10  2.484482e+10\n",
              "2  2.699285e+10  2.486497e+10\n",
              "3  2.697273e+10  2.481997e+10\n",
              "4  2.697901e+10  2.486029e+10"
            ]
          },
          "metadata": {
            "tags": []
          },
          "execution_count": 86
        }
      ]
    },
    {
      "cell_type": "code",
      "metadata": {
        "colab": {
          "base_uri": "https://localhost:8080/"
        },
        "id": "6J5nnedXQtVB",
        "outputId": "5600655a-b23b-4af2-9a54-36f44a4c2f28"
      },
      "source": [
        "predict=model.predict(x_test)\r\n",
        "predict"
      ],
      "execution_count": null,
      "outputs": [
        {
          "output_type": "execute_result",
          "data": {
            "text/plain": [
              "array([[487667.38],\n",
              "       [302901.97],\n",
              "       [347208.8 ],\n",
              "       ...,\n",
              "       [266568.66],\n",
              "       [609683.1 ],\n",
              "       [529119.  ]], dtype=float32)"
            ]
          },
          "metadata": {
            "tags": []
          },
          "execution_count": 89
        }
      ]
    },
    {
      "cell_type": "code",
      "metadata": {
        "id": "lgErUXr9VBSS"
      },
      "source": [
        "from sklearn.metrics import mean_absolute_error,mean_squared_error,explained_variance_score"
      ],
      "execution_count": null,
      "outputs": []
    },
    {
      "cell_type": "code",
      "metadata": {
        "colab": {
          "base_uri": "https://localhost:8080/"
        },
        "id": "LjhvdqOSVVL0",
        "outputId": "5f8b6e84-3ac6-4e16-9a2f-0e24df18855d"
      },
      "source": [
        "mean_squared_error(y_test,predict)**0.5"
      ],
      "execution_count": null,
      "outputs": [
        {
          "output_type": "execute_result",
          "data": {
            "text/plain": [
              "149510.7807689851"
            ]
          },
          "metadata": {
            "tags": []
          },
          "execution_count": 92
        }
      ]
    },
    {
      "cell_type": "code",
      "metadata": {
        "colab": {
          "base_uri": "https://localhost:8080/"
        },
        "id": "_ZxpgRSxVbNO",
        "outputId": "f4045a23-4e33-41de-b27a-9dfd6b292b33"
      },
      "source": [
        "mean_absolute_error(y_test,predict)"
      ],
      "execution_count": null,
      "outputs": [
        {
          "output_type": "execute_result",
          "data": {
            "text/plain": [
              "95892.70093982054"
            ]
          },
          "metadata": {
            "tags": []
          },
          "execution_count": 93
        }
      ]
    },
    {
      "cell_type": "code",
      "metadata": {
        "colab": {
          "base_uri": "https://localhost:8080/"
        },
        "id": "TTbbdOnzV7N8",
        "outputId": "bc547ec1-d37b-4832-e801-1eb9cbf39a8f"
      },
      "source": [
        "explained_variance_score(y_test,predict)"
      ],
      "execution_count": null,
      "outputs": [
        {
          "output_type": "execute_result",
          "data": {
            "text/plain": [
              "0.7836323718913628"
            ]
          },
          "metadata": {
            "tags": []
          },
          "execution_count": 97
        }
      ]
    },
    {
      "cell_type": "code",
      "metadata": {
        "colab": {
          "base_uri": "https://localhost:8080/"
        },
        "id": "2Xss5RdRWin3",
        "outputId": "fffc5fa0-83dd-4f40-d8fd-0b184089e76d"
      },
      "source": [
        "df['price'].describe()"
      ],
      "execution_count": null,
      "outputs": [
        {
          "output_type": "execute_result",
          "data": {
            "text/plain": [
              "count    2.154600e+04\n",
              "mean     5.325706e+05\n",
              "std      3.275317e+05\n",
              "min      7.800000e+04\n",
              "25%      3.210000e+05\n",
              "50%      4.500000e+05\n",
              "75%      6.410000e+05\n",
              "max      2.980000e+06\n",
              "Name: price, dtype: float64"
            ]
          },
          "metadata": {
            "tags": []
          },
          "execution_count": 98
        }
      ]
    },
    {
      "cell_type": "code",
      "metadata": {
        "colab": {
          "base_uri": "https://localhost:8080/",
          "height": 415
        },
        "id": "6m4rYp97WyKA",
        "outputId": "b15bf2d0-4b7d-4e1a-cc3e-16cead11bccc"
      },
      "source": [
        "plt.figure(figsize=(12,6))\r\n",
        "plt.scatter(y_test,predict)\r\n",
        "plt.plot(y_test,y_test,'r')"
      ],
      "execution_count": null,
      "outputs": [
        {
          "output_type": "execute_result",
          "data": {
            "text/plain": [
              "[<matplotlib.lines.Line2D at 0x7fcd02eccfd0>]"
            ]
          },
          "metadata": {
            "tags": []
          },
          "execution_count": 102
        },
        {
          "output_type": "display_data",
          "data": {
            "image/png": "[encoded data removed]",
            "text/plain": [
              "<Figure size 864x432 with 1 Axes>"
            ]
          },
          "metadata": {
            "tags": [],
            "needs_background": "light"
          }
        }
      ]
    },
    {
      "cell_type": "code",
      "metadata": {
        "colab": {
          "base_uri": "https://localhost:8080/"
        },
        "id": "82KPeIyPXTpM",
        "outputId": "de4cf022-a8d6-4705-dc21-fdf8422e7d03"
      },
      "source": [
        "single=df.head().drop('price',axis=1).iloc[0]\r\n",
        "single.values.reshape(-1,19)"
      ],
      "execution_count": null,
      "outputs": [
        {
          "output_type": "execute_result",
          "data": {
            "text/plain": [
              "array([[ 3.00000e+00,  1.00000e+00,  1.18000e+03,  5.65000e+03,\n",
              "         1.00000e+00,  0.00000e+00,  0.00000e+00,  3.00000e+00,\n",
              "         7.00000e+00,  1.18000e+03,  0.00000e+00,  1.95500e+03,\n",
              "         0.00000e+00,  4.75112e+01, -1.22257e+02,  1.34000e+03,\n",
              "         5.65000e+03,  2.01400e+03,  1.00000e+01]])"
            ]
          },
          "metadata": {
            "tags": []
          },
          "execution_count": 114
        }
      ]
    },
    {
      "cell_type": "code",
      "metadata": {
        "id": "3Uh2mZbza4gt"
      },
      "source": [
        "scaled_data=scaler.transform(single.values.reshape(-1,19))"
      ],
      "execution_count": null,
      "outputs": []
    },
    {
      "cell_type": "code",
      "metadata": {
        "colab": {
          "base_uri": "https://localhost:8080/"
        },
        "id": "Px_KHAivb0p2",
        "outputId": "b50a1300-6da8-43a9-a91c-cb5dacf5ac52"
      },
      "source": [
        "model.predict(scaled_data)"
      ],
      "execution_count": null,
      "outputs": [
        {
          "output_type": "execute_result",
          "data": {
            "text/plain": [
              "array([[273567.2]], dtype=float32)"
            ]
          },
          "metadata": {
            "tags": []
          },
          "execution_count": 118
        }
      ]
    },
    {
      "cell_type": "code",
      "metadata": {
        "colab": {
          "base_uri": "https://localhost:8080/",
          "height": 100
        },
        "id": "uzPZIQfce2Vo",
        "outputId": "054ee3e6-80cc-478b-9519-678ad0391302"
      },
      "source": [
        "df.head(1)"
      ],
      "execution_count": null,
      "outputs": [
        {
          "output_type": "execute_result",
          "data": {
            "text/html": [
              "<div>\n",
              "<style scoped>\n",
              "    .dataframe tbody tr th:only-of-type {\n",
              "        vertical-align: middle;\n",
              "    }\n",
              "\n",
              "    .dataframe tbody tr th {\n",
              "        vertical-align: top;\n",
              "    }\n",
              "\n",
              "    .dataframe thead th {\n",
              "        text-align: right;\n",
              "    }\n",
              "</style>\n",
              "<table border=\"1\" class=\"dataframe\">\n",
              "  <thead>\n",
              "    <tr style=\"text-align: right;\">\n",
              "      <th></th>\n",
              "      <th>price</th>\n",
              "      <th>bedrooms</th>\n",
              "      <th>bathrooms</th>\n",
              "      <th>sqft_living</th>\n",
              "      <th>sqft_lot</th>\n",
              "      <th>floors</th>\n",
              "      <th>waterfront</th>\n",
              "      <th>view</th>\n",
              "      <th>condition</th>\n",
              "      <th>grade</th>\n",
              "      <th>sqft_above</th>\n",
              "      <th>sqft_basement</th>\n",
              "      <th>yr_built</th>\n",
              "      <th>yr_renovated</th>\n",
              "      <th>lat</th>\n",
              "      <th>long</th>\n",
              "      <th>sqft_living15</th>\n",
              "      <th>sqft_lot15</th>\n",
              "      <th>year</th>\n",
              "      <th>month</th>\n",
              "    </tr>\n",
              "  </thead>\n",
              "  <tbody>\n",
              "    <tr>\n",
              "      <th>0</th>\n",
              "      <td>221900.0</td>\n",
              "      <td>3</td>\n",
              "      <td>1.0</td>\n",
              "      <td>1180</td>\n",
              "      <td>5650</td>\n",
              "      <td>1.0</td>\n",
              "      <td>0</td>\n",
              "      <td>0</td>\n",
              "      <td>3</td>\n",
              "      <td>7</td>\n",
              "      <td>1180</td>\n",
              "      <td>0</td>\n",
              "      <td>1955</td>\n",
              "      <td>0</td>\n",
              "      <td>47.5112</td>\n",
              "      <td>-122.257</td>\n",
              "      <td>1340</td>\n",
              "      <td>5650</td>\n",
              "      <td>2014</td>\n",
              "      <td>10</td>\n",
              "    </tr>\n",
              "  </tbody>\n",
              "</table>\n",
              "</div>"
            ],
            "text/plain": [
              "      price  bedrooms  bathrooms  ...  sqft_lot15  year  month\n",
              "0  221900.0         3        1.0  ...        5650  2014     10\n",
              "\n",
              "[1 rows x 20 columns]"
            ]
          },
          "metadata": {
            "tags": []
          },
          "execution_count": 119
        }
      ]
    },
    {
      "cell_type": "code",
      "metadata": {
        "id": "Rx9EyL46e8JX"
      },
      "source": [
        "from sklearn.metrics import classification_report,confusion_matrix"
      ],
      "execution_count": null,
      "outputs": []
    },
    {
      "cell_type": "code",
      "metadata": {
        "id": "rt2sFgVTfnhT"
      },
      "source": [
        "from tensorflow.keras.models import load_model\r\n",
        "model.save('my_model.h5')\r\n",
        "later_model=load_model('my_model.h5')"
      ],
      "execution_count": null,
      "outputs": []
    }
  ]
}