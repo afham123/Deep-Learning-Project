{
  "nbformat": 4,
  "nbformat_minor": 0,
  "metadata": {
    "colab": {
      "name": "Image_classification (fashion_mnist).ipynb",
      "provenance": [],
      "authorship_tag": "ABX9TyOunE92L2G+zCsz9UXbKi7C",
      "include_colab_link": true
    },
    "kernelspec": {
      "name": "python3",
      "display_name": "Python 3"
    }
  },
  "cells": [
    {
      "cell_type": "markdown",
      "metadata": {
        "id": "view-in-github",
        "colab_type": "text"
      },
      "source": [
        "<a href=\"https://colab.research.google.com/github/afham123/Deep-Learning-Project/blob/main/Image_classification_(fashion_mnist).ipynb\" target=\"_parent\"><img src=\"https://colab.research.google.com/assets/colab-badge.svg\" alt=\"Open In Colab\"/></a>"
      ]
    },
    {
      "cell_type": "code",
      "metadata": {
        "id": "nrQZNsWHrRUi"
      },
      "source": [
        "import cv2\r\n",
        "import numpy as np\r\n",
        "import tensorflow as tf\r\n",
        "import pandas as pd\r\n",
        "import matplotlib.pyplot as plt\r\n",
        "%matplotlib inline"
      ],
      "execution_count": 1,
      "outputs": []
    },
    {
      "cell_type": "code",
      "metadata": {
        "id": "oLEBiZakrgiS"
      },
      "source": [
        "from keras.datasets import fashion_mnist"
      ],
      "execution_count": 3,
      "outputs": []
    },
    {
      "cell_type": "code",
      "metadata": {
        "colab": {
          "base_uri": "https://localhost:8080/"
        },
        "id": "9e0615WprmZW",
        "outputId": "000e88ae-40a3-4270-ca70-9030f5e5bf09"
      },
      "source": [
        "(X_train,y_train),(X_test,y_test)=fashion_mnist.load_data()"
      ],
      "execution_count": 4,
      "outputs": [
        {
          "output_type": "stream",
          "text": [
            "Downloading data from https://storage.googleapis.com/tensorflow/tf-keras-datasets/train-labels-idx1-ubyte.gz\n",
            "32768/29515 [=================================] - 0s 0us/step\n",
            "Downloading data from https://storage.googleapis.com/tensorflow/tf-keras-datasets/train-images-idx3-ubyte.gz\n",
            "26427392/26421880 [==============================] - 0s 0us/step\n",
            "Downloading data from https://storage.googleapis.com/tensorflow/tf-keras-datasets/t10k-labels-idx1-ubyte.gz\n",
            "8192/5148 [===============================================] - 0s 0us/step\n",
            "Downloading data from https://storage.googleapis.com/tensorflow/tf-keras-datasets/t10k-images-idx3-ubyte.gz\n",
            "4423680/4422102 [==============================] - 0s 0us/step\n"
          ],
          "name": "stdout"
        }
      ]
    },
    {
      "cell_type": "code",
      "metadata": {
        "colab": {
          "base_uri": "https://localhost:8080/"
        },
        "id": "R1GqcgRFyDjZ",
        "outputId": "0b0c905a-1132-47b5-91c5-ea472fec92d9"
      },
      "source": [
        "print(X_train.shape)\r\n",
        "print(X_test.shape)\r\n",
        "print(y_train.shape)\r\n",
        "print(y_test.shape)"
      ],
      "execution_count": 9,
      "outputs": [
        {
          "output_type": "stream",
          "text": [
            "(60000, 28, 28)\n",
            "(10000, 28, 28)\n",
            "(60000,)\n",
            "(10000,)\n"
          ],
          "name": "stdout"
        }
      ]
    },
    {
      "cell_type": "code",
      "metadata": {
        "id": "pjQXCDUH0QwQ"
      },
      "source": [
        "X_train=X_train.reshape(60000,28,28,1)\r\n",
        "X_test=X_test.reshape(10000,28,28,1)"
      ],
      "execution_count": 22,
      "outputs": []
    },
    {
      "cell_type": "code",
      "metadata": {
        "colab": {
          "base_uri": "https://localhost:8080/",
          "height": 282
        },
        "id": "YWC1bPHcr95D",
        "outputId": "86e6538b-e598-4ed2-f11d-a7c173e65bf9"
      },
      "source": [
        "single_img=X_train[0]\r\n",
        "plt.imshow(single_img,cmap='gray')"
      ],
      "execution_count": 7,
      "outputs": [
        {
          "output_type": "execute_result",
          "data": {
            "text/plain": [
              "<matplotlib.image.AxesImage at 0x7fbe152b6910>"
            ]
          },
          "metadata": {
            "tags": []
          },
          "execution_count": 7
        },
        {
          "output_type": "display_data",
          "data": {
            "image/png": "[encoded data removed]",
            "text/plain": [
              "<Figure size 432x288 with 1 Axes>"
            ]
          },
          "metadata": {
            "tags": [],
            "needs_background": "light"
          }
        }
      ]
    },
    {
      "cell_type": "code",
      "metadata": {
        "colab": {
          "base_uri": "https://localhost:8080/"
        },
        "id": "Ti5JnbTIsA7Z",
        "outputId": "0e45d767-fba3-4109-a293-40e5c7607546"
      },
      "source": [
        "y_train"
      ],
      "execution_count": 8,
      "outputs": [
        {
          "output_type": "execute_result",
          "data": {
            "text/plain": [
              "array([9, 0, 0, ..., 3, 0, 5], dtype=uint8)"
            ]
          },
          "metadata": {
            "tags": []
          },
          "execution_count": 8
        }
      ]
    },
    {
      "cell_type": "code",
      "metadata": {
        "colab": {
          "base_uri": "https://localhost:8080/"
        },
        "id": "DG-z5BFKyc0u",
        "outputId": "22e09933-152c-4f48-8502-9913c12837d9"
      },
      "source": [
        "temp_df=pd.DataFrame(y_train)\r\n",
        "temp_df[0].unique()"
      ],
      "execution_count": 12,
      "outputs": [
        {
          "output_type": "execute_result",
          "data": {
            "text/plain": [
              "array([9, 0, 3, 2, 7, 5, 1, 6, 4, 8], dtype=uint8)"
            ]
          },
          "metadata": {
            "tags": []
          },
          "execution_count": 12
        }
      ]
    },
    {
      "cell_type": "code",
      "metadata": {
        "id": "7grqy0UasYNW"
      },
      "source": [
        "from keras.utils.np_utils import to_categorical\r\n",
        "cat_y_test=to_categorical(y_test)\r\n",
        "cat_y_train=to_categorical(y_train)"
      ],
      "execution_count": 13,
      "outputs": []
    },
    {
      "cell_type": "code",
      "metadata": {
        "id": "3Xzf3r4GzTpD"
      },
      "source": [
        "X_train=X_train/255\r\n",
        "X_test=X_test/255"
      ],
      "execution_count": 14,
      "outputs": []
    },
    {
      "cell_type": "code",
      "metadata": {
        "id": "XmqxRTOAzfVs"
      },
      "source": [
        "from tensorflow.keras.models import Sequential\r\n",
        "from tensorflow.keras.layers import Dense,Conv2D, MaxPool2D, Flatten"
      ],
      "execution_count": 16,
      "outputs": []
    },
    {
      "cell_type": "code",
      "metadata": {
        "id": "ag4jkBkhz6W2"
      },
      "source": [
        "model=Sequential()\r\n",
        "\r\n",
        "model.add(Conv2D(filters=32, kernel_size=(4,4),input_shape=(28, 28, 1),activation='relu'))\r\n",
        "\r\n",
        "model.add(MaxPool2D(pool_size=(2, 2)))\r\n",
        "\r\n",
        "model.add(Conv2D(filters=32, kernel_size=(4,4),input_shape=(28, 28, 1), activation='relu',))\r\n",
        "# POOLING LAYER\r\n",
        "model.add(MaxPool2D(pool_size=(2, 2)))\r\n",
        "\r\n",
        "\r\n",
        "model.add(Flatten())\r\n",
        "\r\n",
        "model.add(Dense(512,activation='relu'))\r\n",
        "model.add(Dense(256,activation='relu'))\r\n",
        "model.add(Dense(128,activation='relu'))\r\n",
        "\r\n",
        "model.add(Dense(10,activation='softmax'))\r\n",
        "\r\n",
        "model.compile(loss='categorical_crossentropy',\r\n",
        "              optimizer='rmsprop',\r\n",
        "              metrics=['accuracy'])"
      ],
      "execution_count": 24,
      "outputs": []
    },
    {
      "cell_type": "code",
      "metadata": {
        "colab": {
          "base_uri": "https://localhost:8080/"
        },
        "id": "MOrUS8tF0Auh",
        "outputId": "726df98e-0af9-4c0f-f83a-8c9a249f0e3d"
      },
      "source": [
        "model.summary()"
      ],
      "execution_count": 20,
      "outputs": [
        {
          "output_type": "stream",
          "text": [
            "Model: \"sequential_1\"\n",
            "_________________________________________________________________\n",
            "Layer (type)                 Output Shape              Param #   \n",
            "=================================================================\n",
            "conv2d_1 (Conv2D)            (None, 25, 25, 32)        544       \n",
            "_________________________________________________________________\n",
            "max_pooling2d_1 (MaxPooling2 (None, 12, 12, 32)        0         \n",
            "_________________________________________________________________\n",
            "conv2d_2 (Conv2D)            (None, 9, 9, 32)          16416     \n",
            "_________________________________________________________________\n",
            "max_pooling2d_2 (MaxPooling2 (None, 4, 4, 32)          0         \n",
            "_________________________________________________________________\n",
            "flatten_1 (Flatten)          (None, 512)               0         \n",
            "_________________________________________________________________\n",
            "dense_2 (Dense)              (None, 512)               262656    \n",
            "_________________________________________________________________\n",
            "dense_3 (Dense)              (None, 256)               131328    \n",
            "_________________________________________________________________\n",
            "dense_4 (Dense)              (None, 128)               32896     \n",
            "_________________________________________________________________\n",
            "dense_5 (Dense)              (None, 10)                1290      \n",
            "=================================================================\n",
            "Total params: 445,130\n",
            "Trainable params: 445,130\n",
            "Non-trainable params: 0\n",
            "_________________________________________________________________\n"
          ],
          "name": "stdout"
        }
      ]
    },
    {
      "cell_type": "code",
      "metadata": {
        "colab": {
          "base_uri": "https://localhost:8080/"
        },
        "id": "Az_drzNd0qRA",
        "outputId": "9e231a72-f246-4be7-9871-108b73b7e10f"
      },
      "source": [
        "model.fit(X_train,cat_y_train,epochs=10,validation_data=(X_test,cat_y_test))"
      ],
      "execution_count": 25,
      "outputs": [
        {
          "output_type": "stream",
          "text": [
            "Epoch 1/10\n",
            "1875/1875 [==============================] - 53s 28ms/step - loss: 0.6802 - accuracy: 0.7461 - val_loss: 0.3730 - val_accuracy: 0.8675\n",
            "Epoch 2/10\n",
            "1875/1875 [==============================] - 51s 27ms/step - loss: 0.3508 - accuracy: 0.8712 - val_loss: 0.3995 - val_accuracy: 0.8684\n",
            "Epoch 3/10\n",
            "1875/1875 [==============================] - 51s 27ms/step - loss: 0.3431 - accuracy: 0.8807 - val_loss: 0.4308 - val_accuracy: 0.8548\n",
            "Epoch 4/10\n",
            "1875/1875 [==============================] - 52s 28ms/step - loss: 0.3468 - accuracy: 0.8793 - val_loss: 0.4373 - val_accuracy: 0.8610\n",
            "Epoch 5/10\n",
            "1875/1875 [==============================] - 53s 28ms/step - loss: 0.3668 - accuracy: 0.8732 - val_loss: 0.4366 - val_accuracy: 0.8523\n",
            "Epoch 6/10\n",
            "1875/1875 [==============================] - 53s 28ms/step - loss: 0.3721 - accuracy: 0.8736 - val_loss: 0.4191 - val_accuracy: 0.8640\n",
            "Epoch 7/10\n",
            "1875/1875 [==============================] - 54s 29ms/step - loss: 0.3733 - accuracy: 0.8717 - val_loss: 0.5717 - val_accuracy: 0.8476\n",
            "Epoch 8/10\n",
            "1875/1875 [==============================] - 54s 29ms/step - loss: 0.3742 - accuracy: 0.8762 - val_loss: 0.3972 - val_accuracy: 0.8749\n",
            "Epoch 9/10\n",
            "1875/1875 [==============================] - 54s 29ms/step - loss: 0.3783 - accuracy: 0.8722 - val_loss: 0.4517 - val_accuracy: 0.8391\n",
            "Epoch 10/10\n",
            "1875/1875 [==============================] - 54s 29ms/step - loss: 0.3808 - accuracy: 0.8725 - val_loss: 0.4388 - val_accuracy: 0.8598\n"
          ],
          "name": "stdout"
        },
        {
          "output_type": "execute_result",
          "data": {
            "text/plain": [
              "<tensorflow.python.keras.callbacks.History at 0x7fbe0e18f890>"
            ]
          },
          "metadata": {
            "tags": []
          },
          "execution_count": 25
        }
      ]
    },
    {
      "cell_type": "code",
      "metadata": {
        "colab": {
          "base_uri": "https://localhost:8080/"
        },
        "id": "PFydoGjj3eQ-",
        "outputId": "2ff388a2-62ae-45f8-ab77-e48cc18dc0e8"
      },
      "source": [
        "predictions=model.predict_classes(X_test)"
      ],
      "execution_count": 33,
      "outputs": [
        {
          "output_type": "stream",
          "text": [
            "/usr/local/lib/python3.7/dist-packages/tensorflow/python/keras/engine/sequential.py:450: UserWarning: `model.predict_classes()` is deprecated and will be removed after 2021-01-01. Please use instead:* `np.argmax(model.predict(x), axis=-1)`,   if your model does multi-class classification   (e.g. if it uses a `softmax` last-layer activation).* `(model.predict(x) > 0.5).astype(\"int32\")`,   if your model does binary classification   (e.g. if it uses a `sigmoid` last-layer activation).\n",
            "  warnings.warn('`model.predict_classes()` is deprecated and '\n"
          ],
          "name": "stderr"
        }
      ]
    },
    {
      "cell_type": "code",
      "metadata": {
        "colab": {
          "base_uri": "https://localhost:8080/",
          "height": 204
        },
        "id": "VAiC5bhO0wnW",
        "outputId": "45dd5ecd-6605-4562-f884-a93b4339cd69"
      },
      "source": [
        "loss_df=pd.DataFrame(model.history.history)\r\n",
        "loss_df.head()"
      ],
      "execution_count": 26,
      "outputs": [
        {
          "output_type": "execute_result",
          "data": {
            "text/html": [
              "<div>\n",
              "<style scoped>\n",
              "    .dataframe tbody tr th:only-of-type {\n",
              "        vertical-align: middle;\n",
              "    }\n",
              "\n",
              "    .dataframe tbody tr th {\n",
              "        vertical-align: top;\n",
              "    }\n",
              "\n",
              "    .dataframe thead th {\n",
              "        text-align: right;\n",
              "    }\n",
              "</style>\n",
              "<table border=\"1\" class=\"dataframe\">\n",
              "  <thead>\n",
              "    <tr style=\"text-align: right;\">\n",
              "      <th></th>\n",
              "      <th>loss</th>\n",
              "      <th>accuracy</th>\n",
              "      <th>val_loss</th>\n",
              "      <th>val_accuracy</th>\n",
              "    </tr>\n",
              "  </thead>\n",
              "  <tbody>\n",
              "    <tr>\n",
              "      <th>0</th>\n",
              "      <td>0.494909</td>\n",
              "      <td>0.818817</td>\n",
              "      <td>0.373009</td>\n",
              "      <td>0.8675</td>\n",
              "    </tr>\n",
              "    <tr>\n",
              "      <th>1</th>\n",
              "      <td>0.347031</td>\n",
              "      <td>0.874783</td>\n",
              "      <td>0.399451</td>\n",
              "      <td>0.8684</td>\n",
              "    </tr>\n",
              "    <tr>\n",
              "      <th>2</th>\n",
              "      <td>0.346301</td>\n",
              "      <td>0.879517</td>\n",
              "      <td>0.430837</td>\n",
              "      <td>0.8548</td>\n",
              "    </tr>\n",
              "    <tr>\n",
              "      <th>3</th>\n",
              "      <td>0.357191</td>\n",
              "      <td>0.875850</td>\n",
              "      <td>0.437289</td>\n",
              "      <td>0.8610</td>\n",
              "    </tr>\n",
              "    <tr>\n",
              "      <th>4</th>\n",
              "      <td>0.368946</td>\n",
              "      <td>0.872017</td>\n",
              "      <td>0.436603</td>\n",
              "      <td>0.8523</td>\n",
              "    </tr>\n",
              "  </tbody>\n",
              "</table>\n",
              "</div>"
            ],
            "text/plain": [
              "       loss  accuracy  val_loss  val_accuracy\n",
              "0  0.494909  0.818817  0.373009        0.8675\n",
              "1  0.347031  0.874783  0.399451        0.8684\n",
              "2  0.346301  0.879517  0.430837        0.8548\n",
              "3  0.357191  0.875850  0.437289        0.8610\n",
              "4  0.368946  0.872017  0.436603        0.8523"
            ]
          },
          "metadata": {
            "tags": []
          },
          "execution_count": 26
        }
      ]
    },
    {
      "cell_type": "code",
      "metadata": {
        "colab": {
          "base_uri": "https://localhost:8080/",
          "height": 281
        },
        "id": "gsaThxcT1XZ2",
        "outputId": "711518cf-5bf5-4261-d6f9-fb8589008ba1"
      },
      "source": [
        "plt.plot(loss_df['accuracy'])\r\n",
        "plt.title('Accuracy')\r\n",
        "plt.show()"
      ],
      "execution_count": 27,
      "outputs": [
        {
          "output_type": "display_data",
          "data": {
            "image/png": "[encoded data removed]",
            "text/plain": [
              "<Figure size 432x288 with 1 Axes>"
            ]
          },
          "metadata": {
            "tags": [],
            "needs_background": "light"
          }
        }
      ]
    },
    {
      "cell_type": "code",
      "metadata": {
        "colab": {
          "base_uri": "https://localhost:8080/",
          "height": 281
        },
        "id": "U_x0NyPr1jq6",
        "outputId": "00c537ba-be0c-4dbe-d3eb-b8792e1781fd"
      },
      "source": [
        "plt.plot(loss_df['loss'],color='red')\r\n",
        "plt.title('Losses')\r\n",
        "plt.show()"
      ],
      "execution_count": 28,
      "outputs": [
        {
          "output_type": "display_data",
          "data": {
            "image/png": "[encoded data removed]",
            "text/plain": [
              "<Figure size 432x288 with 1 Axes>"
            ]
          },
          "metadata": {
            "tags": [],
            "needs_background": "light"
          }
        }
      ]
    },
    {
      "cell_type": "code",
      "metadata": {
        "id": "vGNwnODN3Tph"
      },
      "source": [
        "from sklearn.metrics import classification_report,accuracy_score,confusion_matrix"
      ],
      "execution_count": 30,
      "outputs": []
    },
    {
      "cell_type": "code",
      "metadata": {
        "colab": {
          "base_uri": "https://localhost:8080/"
        },
        "id": "EjCo4jWQ11E9",
        "outputId": "e7a31018-2f36-4abf-fdbf-34a0112118f2"
      },
      "source": [
        "print(classification_report(y_test,predictions))"
      ],
      "execution_count": 35,
      "outputs": [
        {
          "output_type": "stream",
          "text": [
            "              precision    recall  f1-score   support\n",
            "\n",
            "           0       0.77      0.88      0.82      1000\n",
            "           1       1.00      0.96      0.98      1000\n",
            "           2       0.77      0.84      0.80      1000\n",
            "           3       0.89      0.89      0.89      1000\n",
            "           4       0.82      0.74      0.77      1000\n",
            "           5       0.95      0.98      0.96      1000\n",
            "           6       0.60      0.61      0.60      1000\n",
            "           7       0.98      0.83      0.90      1000\n",
            "           8       1.00      0.89      0.94      1000\n",
            "           9       0.87      0.98      0.92      1000\n",
            "\n",
            "    accuracy                           0.86     10000\n",
            "   macro avg       0.86      0.86      0.86     10000\n",
            "weighted avg       0.86      0.86      0.86     10000\n",
            "\n"
          ],
          "name": "stdout"
        }
      ]
    },
    {
      "cell_type": "code",
      "metadata": {
        "colab": {
          "base_uri": "https://localhost:8080/"
        },
        "id": "N4FWv7vK12dG",
        "outputId": "19837ddc-f94a-481a-a2ae-f8707410a69a"
      },
      "source": [
        "print(accuracy_score(y_test,predictions))"
      ],
      "execution_count": 36,
      "outputs": [
        {
          "output_type": "stream",
          "text": [
            "0.8598\n"
          ],
          "name": "stdout"
        }
      ]
    },
    {
      "cell_type": "code",
      "metadata": {
        "colab": {
          "base_uri": "https://localhost:8080/"
        },
        "id": "KoFBK4Dl14vO",
        "outputId": "e1aba6ad-9d5e-4b40-ce56-aa6dbf77cd21"
      },
      "source": [
        "print(confusion_matrix(y_test,predictions))"
      ],
      "execution_count": 37,
      "outputs": [
        {
          "output_type": "stream",
          "text": [
            "[[876   0  12  17   3   2  89   0   1   0]\n",
            " [  4 965   1  15   2   0  12   0   1   0]\n",
            " [ 14   0 836   5  47   0  97   0   1   0]\n",
            " [ 18   3  12 889  23   0  55   0   0   0]\n",
            " [  0   0 125  43 736   0  96   0   0   0]\n",
            " [  1   0   0   0   0 977   0  10   0  12]\n",
            " [196   0  94  20  82   0 607   0   1   0]\n",
            " [  0   0   0   0   0  33   0 835   0 132]\n",
            " [ 24   0  12   5   8   4  52   2 892   1]\n",
            " [  0   0   0   0   0  11   1   3   0 985]]\n"
          ],
          "name": "stdout"
        }
      ]
    },
    {
      "cell_type": "code",
      "metadata": {
        "colab": {
          "base_uri": "https://localhost:8080/"
        },
        "id": "scpGX22A17Ey",
        "outputId": "a712ebd0-7e09-46aa-d211-ec12bbb65b1f"
      },
      "source": [
        "lst1=[]\r\n",
        "lst2=[]\r\n",
        "\r\n",
        "for i in range(10):\r\n",
        "  lst1.append('Predictes_'+str(i))\r\n",
        "  lst2.append('Actually_'+str(i))\r\n",
        "lst1"
      ],
      "execution_count": 38,
      "outputs": [
        {
          "output_type": "execute_result",
          "data": {
            "text/plain": [
              "['Predictes_0',\n",
              " 'Predictes_1',\n",
              " 'Predictes_2',\n",
              " 'Predictes_3',\n",
              " 'Predictes_4',\n",
              " 'Predictes_5',\n",
              " 'Predictes_6',\n",
              " 'Predictes_7',\n",
              " 'Predictes_8',\n",
              " 'Predictes_9']"
            ]
          },
          "metadata": {
            "tags": []
          },
          "execution_count": 38
        }
      ]
    },
    {
      "cell_type": "code",
      "metadata": {
        "colab": {
          "base_uri": "https://localhost:8080/",
          "height": 359
        },
        "id": "0prMmJvY2Cmq",
        "outputId": "08f249c8-0469-4d49-f821-0cd2647db3c5"
      },
      "source": [
        "confusion_matrix_df=pd.DataFrame(index=lst2,columns=lst1,data=confusion_matrix(y_test,predictions))\r\n",
        "confusion_matrix_df"
      ],
      "execution_count": 39,
      "outputs": [
        {
          "output_type": "execute_result",
          "data": {
            "text/html": [
              "<div>\n",
              "<style scoped>\n",
              "    .dataframe tbody tr th:only-of-type {\n",
              "        vertical-align: middle;\n",
              "    }\n",
              "\n",
              "    .dataframe tbody tr th {\n",
              "        vertical-align: top;\n",
              "    }\n",
              "\n",
              "    .dataframe thead th {\n",
              "        text-align: right;\n",
              "    }\n",
              "</style>\n",
              "<table border=\"1\" class=\"dataframe\">\n",
              "  <thead>\n",
              "    <tr style=\"text-align: right;\">\n",
              "      <th></th>\n",
              "      <th>Predictes_0</th>\n",
              "      <th>Predictes_1</th>\n",
              "      <th>Predictes_2</th>\n",
              "      <th>Predictes_3</th>\n",
              "      <th>Predictes_4</th>\n",
              "      <th>Predictes_5</th>\n",
              "      <th>Predictes_6</th>\n",
              "      <th>Predictes_7</th>\n",
              "      <th>Predictes_8</th>\n",
              "      <th>Predictes_9</th>\n",
              "    </tr>\n",
              "  </thead>\n",
              "  <tbody>\n",
              "    <tr>\n",
              "      <th>Actually_0</th>\n",
              "      <td>876</td>\n",
              "      <td>0</td>\n",
              "      <td>12</td>\n",
              "      <td>17</td>\n",
              "      <td>3</td>\n",
              "      <td>2</td>\n",
              "      <td>89</td>\n",
              "      <td>0</td>\n",
              "      <td>1</td>\n",
              "      <td>0</td>\n",
              "    </tr>\n",
              "    <tr>\n",
              "      <th>Actually_1</th>\n",
              "      <td>4</td>\n",
              "      <td>965</td>\n",
              "      <td>1</td>\n",
              "      <td>15</td>\n",
              "      <td>2</td>\n",
              "      <td>0</td>\n",
              "      <td>12</td>\n",
              "      <td>0</td>\n",
              "      <td>1</td>\n",
              "      <td>0</td>\n",
              "    </tr>\n",
              "    <tr>\n",
              "      <th>Actually_2</th>\n",
              "      <td>14</td>\n",
              "      <td>0</td>\n",
              "      <td>836</td>\n",
              "      <td>5</td>\n",
              "      <td>47</td>\n",
              "      <td>0</td>\n",
              "      <td>97</td>\n",
              "      <td>0</td>\n",
              "      <td>1</td>\n",
              "      <td>0</td>\n",
              "    </tr>\n",
              "    <tr>\n",
              "      <th>Actually_3</th>\n",
              "      <td>18</td>\n",
              "      <td>3</td>\n",
              "      <td>12</td>\n",
              "      <td>889</td>\n",
              "      <td>23</td>\n",
              "      <td>0</td>\n",
              "      <td>55</td>\n",
              "      <td>0</td>\n",
              "      <td>0</td>\n",
              "      <td>0</td>\n",
              "    </tr>\n",
              "    <tr>\n",
              "      <th>Actually_4</th>\n",
              "      <td>0</td>\n",
              "      <td>0</td>\n",
              "      <td>125</td>\n",
              "      <td>43</td>\n",
              "      <td>736</td>\n",
              "      <td>0</td>\n",
              "      <td>96</td>\n",
              "      <td>0</td>\n",
              "      <td>0</td>\n",
              "      <td>0</td>\n",
              "    </tr>\n",
              "    <tr>\n",
              "      <th>Actually_5</th>\n",
              "      <td>1</td>\n",
              "      <td>0</td>\n",
              "      <td>0</td>\n",
              "      <td>0</td>\n",
              "      <td>0</td>\n",
              "      <td>977</td>\n",
              "      <td>0</td>\n",
              "      <td>10</td>\n",
              "      <td>0</td>\n",
              "      <td>12</td>\n",
              "    </tr>\n",
              "    <tr>\n",
              "      <th>Actually_6</th>\n",
              "      <td>196</td>\n",
              "      <td>0</td>\n",
              "      <td>94</td>\n",
              "      <td>20</td>\n",
              "      <td>82</td>\n",
              "      <td>0</td>\n",
              "      <td>607</td>\n",
              "      <td>0</td>\n",
              "      <td>1</td>\n",
              "      <td>0</td>\n",
              "    </tr>\n",
              "    <tr>\n",
              "      <th>Actually_7</th>\n",
              "      <td>0</td>\n",
              "      <td>0</td>\n",
              "      <td>0</td>\n",
              "      <td>0</td>\n",
              "      <td>0</td>\n",
              "      <td>33</td>\n",
              "      <td>0</td>\n",
              "      <td>835</td>\n",
              "      <td>0</td>\n",
              "      <td>132</td>\n",
              "    </tr>\n",
              "    <tr>\n",
              "      <th>Actually_8</th>\n",
              "      <td>24</td>\n",
              "      <td>0</td>\n",
              "      <td>12</td>\n",
              "      <td>5</td>\n",
              "      <td>8</td>\n",
              "      <td>4</td>\n",
              "      <td>52</td>\n",
              "      <td>2</td>\n",
              "      <td>892</td>\n",
              "      <td>1</td>\n",
              "    </tr>\n",
              "    <tr>\n",
              "      <th>Actually_9</th>\n",
              "      <td>0</td>\n",
              "      <td>0</td>\n",
              "      <td>0</td>\n",
              "      <td>0</td>\n",
              "      <td>0</td>\n",
              "      <td>11</td>\n",
              "      <td>1</td>\n",
              "      <td>3</td>\n",
              "      <td>0</td>\n",
              "      <td>985</td>\n",
              "    </tr>\n",
              "  </tbody>\n",
              "</table>\n",
              "</div>"
            ],
            "text/plain": [
              "            Predictes_0  Predictes_1  ...  Predictes_8  Predictes_9\n",
              "Actually_0          876            0  ...            1            0\n",
              "Actually_1            4          965  ...            1            0\n",
              "Actually_2           14            0  ...            1            0\n",
              "Actually_3           18            3  ...            0            0\n",
              "Actually_4            0            0  ...            0            0\n",
              "Actually_5            1            0  ...            0           12\n",
              "Actually_6          196            0  ...            1            0\n",
              "Actually_7            0            0  ...            0          132\n",
              "Actually_8           24            0  ...          892            1\n",
              "Actually_9            0            0  ...            0          985\n",
              "\n",
              "[10 rows x 10 columns]"
            ]
          },
          "metadata": {
            "tags": []
          },
          "execution_count": 39
        }
      ]
    },
    {
      "cell_type": "code",
      "metadata": {
        "id": "A1iIdJOg2CVu"
      },
      "source": [
        "model.save('My_model.h5')"
      ],
      "execution_count": 41,
      "outputs": []
    }
  ]
}