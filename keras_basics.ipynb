{
  "nbformat": 4,
  "nbformat_minor": 0,
  "metadata": {
    "kernelspec": {
      "display_name": "Python 3",
      "language": "python",
      "name": "python3"
    },
    "language_info": {
      "codemirror_mode": {
        "name": "ipython",
        "version": 3
      },
      "file_extension": ".py",
      "mimetype": "text/x-python",
      "name": "python",
      "nbconvert_exporter": "python",
      "pygments_lexer": "ipython3",
      "version": "3.8.3"
    },
    "colab": {
      "name": "keras_basics.ipynb",
      "provenance": [],
      "include_colab_link": true
    }
  },
  "cells": [
    {
      "cell_type": "markdown",
      "metadata": {
        "id": "view-in-github",
        "colab_type": "text"
      },
      "source": [
        "<a href=\"https://colab.research.google.com/github/afham123/Deep-Learning-Project/blob/main/keras_basics.ipynb\" target=\"_parent\"><img src=\"https://colab.research.google.com/assets/colab-badge.svg\" alt=\"Open In Colab\"/></a>"
      ]
    },
    {
      "cell_type": "code",
      "metadata": {
        "id": "Dik8Pol5NSlx"
      },
      "source": [
        "import pandas as pd\n",
        "import seaborn as sns\n",
        "import matplotlib.pyplot as plt\n",
        "import numpy as np\n",
        "from sklearn.datasets import load_iris"
      ],
      "execution_count": 31,
      "outputs": []
    },
    {
      "cell_type": "code",
      "metadata": {
        "id": "9eqArmngNSmB"
      },
      "source": [
        "iris_data=load_iris()"
      ],
      "execution_count": 32,
      "outputs": []
    },
    {
      "cell_type": "code",
      "metadata": {
        "colab": {
          "base_uri": "https://localhost:8080/"
        },
        "id": "Q_qMv5MuNSmD",
        "outputId": "24eab276-eea0-486b-bcd8-58c4e7316ee9"
      },
      "source": [
        "print(iris_data.DESCR)"
      ],
      "execution_count": 33,
      "outputs": [
        {
          "output_type": "stream",
          "text": [
            ".. _iris_dataset:\n",
            "\n",
            "Iris plants dataset\n",
            "--------------------\n",
            "\n",
            "**Data Set Characteristics:**\n",
            "\n",
            "    :Number of Instances: 150 (50 in each of three classes)\n",
            "    :Number of Attributes: 4 numeric, predictive attributes and the class\n",
            "    :Attribute Information:\n",
            "        - sepal length in cm\n",
            "        - sepal width in cm\n",
            "        - petal length in cm\n",
            "        - petal width in cm\n",
            "        - class:\n",
            "                - Iris-Setosa\n",
            "                - Iris-Versicolour\n",
            "                - Iris-Virginica\n",
            "                \n",
            "    :Summary Statistics:\n",
            "\n",
            "    ============== ==== ==== ======= ===== ====================\n",
            "                    Min  Max   Mean    SD   Class Correlation\n",
            "    ============== ==== ==== ======= ===== ====================\n",
            "    sepal length:   4.3  7.9   5.84   0.83    0.7826\n",
            "    sepal width:    2.0  4.4   3.05   0.43   -0.4194\n",
            "    petal length:   1.0  6.9   3.76   1.76    0.9490  (high!)\n",
            "    petal width:    0.1  2.5   1.20   0.76    0.9565  (high!)\n",
            "    ============== ==== ==== ======= ===== ====================\n",
            "\n",
            "    :Missing Attribute Values: None\n",
            "    :Class Distribution: 33.3% for each of 3 classes.\n",
            "    :Creator: R.A. Fisher\n",
            "    :Donor: Michael Marshall (MARSHALL%PLU@io.arc.nasa.gov)\n",
            "    :Date: July, 1988\n",
            "\n",
            "The famous Iris database, first used by Sir R.A. Fisher. The dataset is taken\n",
            "from Fisher's paper. Note that it's the same as in R, but not as in the UCI\n",
            "Machine Learning Repository, which has two wrong data points.\n",
            "\n",
            "This is perhaps the best known database to be found in the\n",
            "pattern recognition literature.  Fisher's paper is a classic in the field and\n",
            "is referenced frequently to this day.  (See Duda & Hart, for example.)  The\n",
            "data set contains 3 classes of 50 instances each, where each class refers to a\n",
            "type of iris plant.  One class is linearly separable from the other 2; the\n",
            "latter are NOT linearly separable from each other.\n",
            "\n",
            ".. topic:: References\n",
            "\n",
            "   - Fisher, R.A. \"The use of multiple measurements in taxonomic problems\"\n",
            "     Annual Eugenics, 7, Part II, 179-188 (1936); also in \"Contributions to\n",
            "     Mathematical Statistics\" (John Wiley, NY, 1950).\n",
            "   - Duda, R.O., & Hart, P.E. (1973) Pattern Classification and Scene Analysis.\n",
            "     (Q327.D83) John Wiley & Sons.  ISBN 0-471-22361-1.  See page 218.\n",
            "   - Dasarathy, B.V. (1980) \"Nosing Around the Neighborhood: A New System\n",
            "     Structure and Classification Rule for Recognition in Partially Exposed\n",
            "     Environments\".  IEEE Transactions on Pattern Analysis and Machine\n",
            "     Intelligence, Vol. PAMI-2, No. 1, 67-71.\n",
            "   - Gates, G.W. (1972) \"The Reduced Nearest Neighbor Rule\".  IEEE Transactions\n",
            "     on Information Theory, May 1972, 431-433.\n",
            "   - See also: 1988 MLC Proceedings, 54-64.  Cheeseman et al\"s AUTOCLASS II\n",
            "     conceptual clustering system finds 3 classes in the data.\n",
            "   - Many, many more ...\n"
          ],
          "name": "stdout"
        }
      ]
    },
    {
      "cell_type": "code",
      "metadata": {
        "colab": {
          "base_uri": "https://localhost:8080/",
          "height": 204
        },
        "id": "hPkw26-bNSmE",
        "outputId": "2c2afb1b-582a-4b24-c59e-558c60ca725c"
      },
      "source": [
        "columns=iris_data.feature_names\n",
        "df=pd.DataFrame(columns=columns,data=iris_data.data)\n",
        "df.head()"
      ],
      "execution_count": 34,
      "outputs": [
        {
          "output_type": "execute_result",
          "data": {
            "text/html": [
              "<div>\n",
              "<style scoped>\n",
              "    .dataframe tbody tr th:only-of-type {\n",
              "        vertical-align: middle;\n",
              "    }\n",
              "\n",
              "    .dataframe tbody tr th {\n",
              "        vertical-align: top;\n",
              "    }\n",
              "\n",
              "    .dataframe thead th {\n",
              "        text-align: right;\n",
              "    }\n",
              "</style>\n",
              "<table border=\"1\" class=\"dataframe\">\n",
              "  <thead>\n",
              "    <tr style=\"text-align: right;\">\n",
              "      <th></th>\n",
              "      <th>sepal length (cm)</th>\n",
              "      <th>sepal width (cm)</th>\n",
              "      <th>petal length (cm)</th>\n",
              "      <th>petal width (cm)</th>\n",
              "    </tr>\n",
              "  </thead>\n",
              "  <tbody>\n",
              "    <tr>\n",
              "      <th>0</th>\n",
              "      <td>5.1</td>\n",
              "      <td>3.5</td>\n",
              "      <td>1.4</td>\n",
              "      <td>0.2</td>\n",
              "    </tr>\n",
              "    <tr>\n",
              "      <th>1</th>\n",
              "      <td>4.9</td>\n",
              "      <td>3.0</td>\n",
              "      <td>1.4</td>\n",
              "      <td>0.2</td>\n",
              "    </tr>\n",
              "    <tr>\n",
              "      <th>2</th>\n",
              "      <td>4.7</td>\n",
              "      <td>3.2</td>\n",
              "      <td>1.3</td>\n",
              "      <td>0.2</td>\n",
              "    </tr>\n",
              "    <tr>\n",
              "      <th>3</th>\n",
              "      <td>4.6</td>\n",
              "      <td>3.1</td>\n",
              "      <td>1.5</td>\n",
              "      <td>0.2</td>\n",
              "    </tr>\n",
              "    <tr>\n",
              "      <th>4</th>\n",
              "      <td>5.0</td>\n",
              "      <td>3.6</td>\n",
              "      <td>1.4</td>\n",
              "      <td>0.2</td>\n",
              "    </tr>\n",
              "  </tbody>\n",
              "</table>\n",
              "</div>"
            ],
            "text/plain": [
              "   sepal length (cm)  sepal width (cm)  petal length (cm)  petal width (cm)\n",
              "0                5.1               3.5                1.4               0.2\n",
              "1                4.9               3.0                1.4               0.2\n",
              "2                4.7               3.2                1.3               0.2\n",
              "3                4.6               3.1                1.5               0.2\n",
              "4                5.0               3.6                1.4               0.2"
            ]
          },
          "metadata": {
            "tags": []
          },
          "execution_count": 34
        }
      ]
    },
    {
      "cell_type": "code",
      "metadata": {
        "colab": {
          "base_uri": "https://localhost:8080/"
        },
        "id": "zOGTO503NSmG",
        "outputId": "7732e9f4-0992-4b02-9e84-f4a3aad906d9"
      },
      "source": [
        "df.info()"
      ],
      "execution_count": 35,
      "outputs": [
        {
          "output_type": "stream",
          "text": [
            "<class 'pandas.core.frame.DataFrame'>\n",
            "RangeIndex: 150 entries, 0 to 149\n",
            "Data columns (total 4 columns):\n",
            " #   Column             Non-Null Count  Dtype  \n",
            "---  ------             --------------  -----  \n",
            " 0   sepal length (cm)  150 non-null    float64\n",
            " 1   sepal width (cm)   150 non-null    float64\n",
            " 2   petal length (cm)  150 non-null    float64\n",
            " 3   petal width (cm)   150 non-null    float64\n",
            "dtypes: float64(4)\n",
            "memory usage: 4.8 KB\n"
          ],
          "name": "stdout"
        }
      ]
    },
    {
      "cell_type": "code",
      "metadata": {
        "colab": {
          "base_uri": "https://localhost:8080/"
        },
        "id": "UgjgmkS4NSmH",
        "outputId": "5995b271-07d5-4411-df1d-3f8b2803d15f"
      },
      "source": [
        "df.isnull().sum()"
      ],
      "execution_count": 36,
      "outputs": [
        {
          "output_type": "execute_result",
          "data": {
            "text/plain": [
              "sepal length (cm)    0\n",
              "sepal width (cm)     0\n",
              "petal length (cm)    0\n",
              "petal width (cm)     0\n",
              "dtype: int64"
            ]
          },
          "metadata": {
            "tags": []
          },
          "execution_count": 36
        }
      ]
    },
    {
      "cell_type": "code",
      "metadata": {
        "colab": {
          "base_uri": "https://localhost:8080/",
          "height": 268
        },
        "id": "XK182wtmNSmJ",
        "outputId": "68528c99-c328-4484-dc98-64229fce1b6f"
      },
      "source": [
        "plt.scatter(x=df['sepal length (cm)'],y=df['sepal width (cm)'])\n",
        "plt.show()"
      ],
      "execution_count": 37,
      "outputs": [
        {
          "output_type": "display_data",
          "data": {
            "image/png": "[encoded data removed]",
            "text/plain": [
              "<Figure size 432x288 with 1 Axes>"
            ]
          },
          "metadata": {
            "tags": [],
            "needs_background": "light"
          }
        }
      ]
    },
    {
      "cell_type": "code",
      "metadata": {
        "colab": {
          "base_uri": "https://localhost:8080/",
          "height": 282
        },
        "id": "4uP2mJ-YNSmK",
        "outputId": "202295d4-d37a-4f85-9171-969518d5d18e"
      },
      "source": [
        "plt.scatter(x=df['petal length (cm)'],y=df['petal width (cm)'])"
      ],
      "execution_count": 38,
      "outputs": [
        {
          "output_type": "execute_result",
          "data": {
            "text/plain": [
              "<matplotlib.collections.PathCollection at 0x7f79196db250>"
            ]
          },
          "metadata": {
            "tags": []
          },
          "execution_count": 38
        },
        {
          "output_type": "display_data",
          "data": {
            "image/png": "[encoded data removed]",
            "text/plain": [
              "<Figure size 432x288 with 1 Axes>"
            ]
          },
          "metadata": {
            "tags": [],
            "needs_background": "light"
          }
        }
      ]
    },
    {
      "cell_type": "code",
      "metadata": {
        "id": "0LeC0td9NSmL"
      },
      "source": [
        "X=df\r\n",
        "y=iris_data.target"
      ],
      "execution_count": 39,
      "outputs": []
    },
    {
      "cell_type": "code",
      "metadata": {
        "id": "qZ5EWQi0NSmL"
      },
      "source": [
        "from keras.utils.np_utils import to_categorical\r\n",
        "cat_y=to_categorical(y)"
      ],
      "execution_count": 54,
      "outputs": []
    },
    {
      "cell_type": "code",
      "metadata": {
        "id": "aRmcvgBLOXsR"
      },
      "source": [
        "from sklearn.model_selection import train_test_split\r\n",
        "X_train,X_test,y_train,y_test=train_test_split(X,cat_y,test_size=0.33,random_state=101)"
      ],
      "execution_count": 55,
      "outputs": []
    },
    {
      "cell_type": "code",
      "metadata": {
        "id": "8QNLN3W6QOuA"
      },
      "source": [
        "from sklearn.preprocessing import MinMaxScaler\r\n",
        "\r\n",
        "scaler=MinMaxScaler()\r\n",
        "\r\n",
        "scaler.fit(X_train)\r\n",
        "X_train=scaler.transform(X_train)\r\n",
        "X_test=scaler.transform(X_test)"
      ],
      "execution_count": 56,
      "outputs": []
    },
    {
      "cell_type": "code",
      "metadata": {
        "id": "So-rB0T5PY20"
      },
      "source": [
        "from keras.models import Sequential\r\n",
        "from keras.layers import Dense"
      ],
      "execution_count": 57,
      "outputs": []
    },
    {
      "cell_type": "code",
      "metadata": {
        "id": "VSLa8PygPh4C"
      },
      "source": [
        "model=Sequential()\r\n",
        "\r\n",
        "model.add(Dense(8,input_dim=4,activation='relu'))\r\n",
        "\r\n",
        "model.add(Dense(4,input_dim=4,activation='relu'))\r\n",
        "\r\n",
        "model.add(Dense(3,activation='softmax'))\r\n",
        "\r\n",
        "model.compile(loss='categorical_crossentropy',optimizer='adam',metrics=['accuracy'])"
      ],
      "execution_count": 58,
      "outputs": []
    },
    {
      "cell_type": "code",
      "metadata": {
        "colab": {
          "base_uri": "https://localhost:8080/"
        },
        "id": "MqKMD5AwRCTV",
        "outputId": "ec7cf599-8c7f-4fc5-acb7-d3507812d61d"
      },
      "source": [
        "model.summary()"
      ],
      "execution_count": 59,
      "outputs": [
        {
          "output_type": "stream",
          "text": [
            "Model: \"sequential_4\"\n",
            "_________________________________________________________________\n",
            "Layer (type)                 Output Shape              Param #   \n",
            "=================================================================\n",
            "dense_9 (Dense)              (None, 8)                 40        \n",
            "_________________________________________________________________\n",
            "dense_10 (Dense)             (None, 4)                 36        \n",
            "_________________________________________________________________\n",
            "dense_11 (Dense)             (None, 3)                 15        \n",
            "=================================================================\n",
            "Total params: 91\n",
            "Trainable params: 91\n",
            "Non-trainable params: 0\n",
            "_________________________________________________________________\n"
          ],
          "name": "stdout"
        }
      ]
    },
    {
      "cell_type": "code",
      "metadata": {
        "colab": {
          "base_uri": "https://localhost:8080/"
        },
        "id": "yRi7BPmIRlqG",
        "outputId": "532a5f73-5188-4082-8f99-7d7f718700d8"
      },
      "source": [
        "model.fit(X_train,y_train,epochs=250,validation_data=(X_test,y_test))"
      ],
      "execution_count": 60,
      "outputs": [
        {
          "output_type": "stream",
          "text": [
            "Epoch 1/250\n",
            "4/4 [==============================] - 1s 69ms/step - loss: 1.0954 - accuracy: 0.2229 - val_loss: 1.0847 - val_accuracy: 0.3600\n",
            "Epoch 2/250\n",
            "4/4 [==============================] - 0s 17ms/step - loss: 1.0887 - accuracy: 0.2425 - val_loss: 1.0808 - val_accuracy: 0.3800\n",
            "Epoch 3/250\n",
            "4/4 [==============================] - 0s 13ms/step - loss: 1.0851 - accuracy: 0.2665 - val_loss: 1.0768 - val_accuracy: 0.4000\n",
            "Epoch 4/250\n",
            "4/4 [==============================] - 0s 16ms/step - loss: 1.0816 - accuracy: 0.2490 - val_loss: 1.0728 - val_accuracy: 0.4400\n",
            "Epoch 5/250\n",
            "4/4 [==============================] - 0s 17ms/step - loss: 1.0791 - accuracy: 0.2592 - val_loss: 1.0689 - val_accuracy: 0.4400\n",
            "Epoch 6/250\n",
            "4/4 [==============================] - 0s 17ms/step - loss: 1.0739 - accuracy: 0.2799 - val_loss: 1.0651 - val_accuracy: 0.4400\n",
            "Epoch 7/250\n",
            "4/4 [==============================] - 0s 19ms/step - loss: 1.0711 - accuracy: 0.2693 - val_loss: 1.0612 - val_accuracy: 0.4400\n",
            "Epoch 8/250\n",
            "4/4 [==============================] - 0s 18ms/step - loss: 1.0681 - accuracy: 0.2620 - val_loss: 1.0574 - val_accuracy: 0.4400\n",
            "Epoch 9/250\n",
            "4/4 [==============================] - 0s 16ms/step - loss: 1.0653 - accuracy: 0.2672 - val_loss: 1.0537 - val_accuracy: 0.4400\n",
            "Epoch 10/250\n",
            "4/4 [==============================] - 0s 16ms/step - loss: 1.0606 - accuracy: 0.2943 - val_loss: 1.0504 - val_accuracy: 0.4400\n",
            "Epoch 11/250\n",
            "4/4 [==============================] - 0s 19ms/step - loss: 1.0581 - accuracy: 0.2910 - val_loss: 1.0469 - val_accuracy: 0.4800\n",
            "Epoch 12/250\n",
            "4/4 [==============================] - 0s 14ms/step - loss: 1.0555 - accuracy: 0.3145 - val_loss: 1.0434 - val_accuracy: 0.5000\n",
            "Epoch 13/250\n",
            "4/4 [==============================] - 0s 14ms/step - loss: 1.0513 - accuracy: 0.3204 - val_loss: 1.0403 - val_accuracy: 0.5200\n",
            "Epoch 14/250\n",
            "4/4 [==============================] - 0s 17ms/step - loss: 1.0469 - accuracy: 0.3266 - val_loss: 1.0374 - val_accuracy: 0.5200\n",
            "Epoch 15/250\n",
            "4/4 [==============================] - 0s 18ms/step - loss: 1.0447 - accuracy: 0.3874 - val_loss: 1.0341 - val_accuracy: 0.5200\n",
            "Epoch 16/250\n",
            "4/4 [==============================] - 0s 16ms/step - loss: 1.0408 - accuracy: 0.4401 - val_loss: 1.0300 - val_accuracy: 0.5800\n",
            "Epoch 17/250\n",
            "4/4 [==============================] - 0s 17ms/step - loss: 1.0300 - accuracy: 0.5132 - val_loss: 1.0254 - val_accuracy: 0.6400\n",
            "Epoch 18/250\n",
            "4/4 [==============================] - 0s 14ms/step - loss: 1.0246 - accuracy: 0.5190 - val_loss: 1.0205 - val_accuracy: 0.6800\n",
            "Epoch 19/250\n",
            "4/4 [==============================] - 0s 14ms/step - loss: 1.0258 - accuracy: 0.6171 - val_loss: 1.0152 - val_accuracy: 0.7000\n",
            "Epoch 20/250\n",
            "4/4 [==============================] - 0s 15ms/step - loss: 1.0174 - accuracy: 0.5900 - val_loss: 1.0099 - val_accuracy: 0.7200\n",
            "Epoch 21/250\n",
            "4/4 [==============================] - 0s 16ms/step - loss: 1.0085 - accuracy: 0.6480 - val_loss: 1.0044 - val_accuracy: 0.7200\n",
            "Epoch 22/250\n",
            "4/4 [==============================] - 0s 14ms/step - loss: 1.0046 - accuracy: 0.6459 - val_loss: 0.9985 - val_accuracy: 0.7200\n",
            "Epoch 23/250\n",
            "4/4 [==============================] - 0s 14ms/step - loss: 0.9961 - accuracy: 0.6365 - val_loss: 0.9928 - val_accuracy: 0.7400\n",
            "Epoch 24/250\n",
            "4/4 [==============================] - 0s 15ms/step - loss: 0.9889 - accuracy: 0.6240 - val_loss: 0.9873 - val_accuracy: 0.7200\n",
            "Epoch 25/250\n",
            "4/4 [==============================] - 0s 16ms/step - loss: 0.9801 - accuracy: 0.6032 - val_loss: 0.9816 - val_accuracy: 0.7000\n",
            "Epoch 26/250\n",
            "4/4 [==============================] - 0s 15ms/step - loss: 0.9731 - accuracy: 0.6010 - val_loss: 0.9760 - val_accuracy: 0.7000\n",
            "Epoch 27/250\n",
            "4/4 [==============================] - 0s 19ms/step - loss: 0.9672 - accuracy: 0.6386 - val_loss: 0.9709 - val_accuracy: 0.6800\n",
            "Epoch 28/250\n",
            "4/4 [==============================] - 0s 16ms/step - loss: 0.9606 - accuracy: 0.6637 - val_loss: 0.9658 - val_accuracy: 0.6000\n",
            "Epoch 29/250\n",
            "4/4 [==============================] - 0s 16ms/step - loss: 0.9545 - accuracy: 0.6928 - val_loss: 0.9605 - val_accuracy: 0.6200\n",
            "Epoch 30/250\n",
            "4/4 [==============================] - 0s 14ms/step - loss: 0.9468 - accuracy: 0.7045 - val_loss: 0.9553 - val_accuracy: 0.5600\n",
            "Epoch 31/250\n",
            "4/4 [==============================] - 0s 15ms/step - loss: 0.9385 - accuracy: 0.7252 - val_loss: 0.9499 - val_accuracy: 0.5200\n",
            "Epoch 32/250\n",
            "4/4 [==============================] - 0s 15ms/step - loss: 0.9311 - accuracy: 0.7562 - val_loss: 0.9444 - val_accuracy: 0.5000\n",
            "Epoch 33/250\n",
            "4/4 [==============================] - 0s 16ms/step - loss: 0.9271 - accuracy: 0.7109 - val_loss: 0.9390 - val_accuracy: 0.5200\n",
            "Epoch 34/250\n",
            "4/4 [==============================] - 0s 17ms/step - loss: 0.9189 - accuracy: 0.7080 - val_loss: 0.9337 - val_accuracy: 0.5400\n",
            "Epoch 35/250\n",
            "4/4 [==============================] - 0s 16ms/step - loss: 0.9137 - accuracy: 0.7026 - val_loss: 0.9285 - val_accuracy: 0.5800\n",
            "Epoch 36/250\n",
            "4/4 [==============================] - 0s 18ms/step - loss: 0.9075 - accuracy: 0.7160 - val_loss: 0.9230 - val_accuracy: 0.5800\n",
            "Epoch 37/250\n",
            "4/4 [==============================] - 0s 15ms/step - loss: 0.8972 - accuracy: 0.7554 - val_loss: 0.9175 - val_accuracy: 0.5800\n",
            "Epoch 38/250\n",
            "4/4 [==============================] - 0s 19ms/step - loss: 0.8915 - accuracy: 0.7158 - val_loss: 0.9120 - val_accuracy: 0.5600\n",
            "Epoch 39/250\n",
            "4/4 [==============================] - 0s 16ms/step - loss: 0.8865 - accuracy: 0.7109 - val_loss: 0.9068 - val_accuracy: 0.5600\n",
            "Epoch 40/250\n",
            "4/4 [==============================] - 0s 16ms/step - loss: 0.8790 - accuracy: 0.7140 - val_loss: 0.9019 - val_accuracy: 0.5600\n",
            "Epoch 41/250\n",
            "4/4 [==============================] - 0s 16ms/step - loss: 0.8707 - accuracy: 0.7286 - val_loss: 0.8972 - val_accuracy: 0.5600\n",
            "Epoch 42/250\n",
            "4/4 [==============================] - 0s 17ms/step - loss: 0.8607 - accuracy: 0.7318 - val_loss: 0.8924 - val_accuracy: 0.5600\n",
            "Epoch 43/250\n",
            "4/4 [==============================] - 0s 16ms/step - loss: 0.8585 - accuracy: 0.7109 - val_loss: 0.8878 - val_accuracy: 0.5600\n",
            "Epoch 44/250\n",
            "4/4 [==============================] - 0s 17ms/step - loss: 0.8515 - accuracy: 0.7036 - val_loss: 0.8835 - val_accuracy: 0.5600\n",
            "Epoch 45/250\n",
            "4/4 [==============================] - 0s 16ms/step - loss: 0.8395 - accuracy: 0.7161 - val_loss: 0.8791 - val_accuracy: 0.5600\n",
            "Epoch 46/250\n",
            "4/4 [==============================] - 0s 19ms/step - loss: 0.8334 - accuracy: 0.7255 - val_loss: 0.8746 - val_accuracy: 0.5600\n",
            "Epoch 47/250\n",
            "4/4 [==============================] - 0s 16ms/step - loss: 0.8308 - accuracy: 0.6974 - val_loss: 0.8701 - val_accuracy: 0.5600\n",
            "Epoch 48/250\n",
            "4/4 [==============================] - 0s 15ms/step - loss: 0.8182 - accuracy: 0.7203 - val_loss: 0.8658 - val_accuracy: 0.5600\n",
            "Epoch 49/250\n",
            "4/4 [==============================] - 0s 16ms/step - loss: 0.8122 - accuracy: 0.7213 - val_loss: 0.8616 - val_accuracy: 0.5600\n",
            "Epoch 50/250\n",
            "4/4 [==============================] - 0s 16ms/step - loss: 0.8197 - accuracy: 0.6724 - val_loss: 0.8569 - val_accuracy: 0.5600\n",
            "Epoch 51/250\n",
            "4/4 [==============================] - 0s 15ms/step - loss: 0.8166 - accuracy: 0.6640 - val_loss: 0.8524 - val_accuracy: 0.5600\n",
            "Epoch 52/250\n",
            "4/4 [==============================] - 0s 16ms/step - loss: 0.7861 - accuracy: 0.7349 - val_loss: 0.8483 - val_accuracy: 0.5600\n",
            "Epoch 53/250\n",
            "4/4 [==============================] - 0s 20ms/step - loss: 0.7777 - accuracy: 0.7370 - val_loss: 0.8439 - val_accuracy: 0.5600\n",
            "Epoch 54/250\n",
            "4/4 [==============================] - 0s 16ms/step - loss: 0.7691 - accuracy: 0.7495 - val_loss: 0.8391 - val_accuracy: 0.5600\n",
            "Epoch 55/250\n",
            "4/4 [==============================] - 0s 17ms/step - loss: 0.7661 - accuracy: 0.7380 - val_loss: 0.8342 - val_accuracy: 0.5600\n",
            "Epoch 56/250\n",
            "4/4 [==============================] - 0s 16ms/step - loss: 0.7646 - accuracy: 0.7380 - val_loss: 0.8293 - val_accuracy: 0.5600\n",
            "Epoch 57/250\n",
            "4/4 [==============================] - 0s 15ms/step - loss: 0.7468 - accuracy: 0.7588 - val_loss: 0.8237 - val_accuracy: 0.5600\n",
            "Epoch 58/250\n",
            "4/4 [==============================] - 0s 15ms/step - loss: 0.7560 - accuracy: 0.7130 - val_loss: 0.8181 - val_accuracy: 0.5600\n",
            "Epoch 59/250\n",
            "4/4 [==============================] - 0s 15ms/step - loss: 0.7464 - accuracy: 0.7286 - val_loss: 0.8127 - val_accuracy: 0.5600\n",
            "Epoch 60/250\n",
            "4/4 [==============================] - 0s 15ms/step - loss: 0.7334 - accuracy: 0.7463 - val_loss: 0.8078 - val_accuracy: 0.5600\n",
            "Epoch 61/250\n",
            "4/4 [==============================] - 0s 16ms/step - loss: 0.7362 - accuracy: 0.7193 - val_loss: 0.8027 - val_accuracy: 0.5600\n",
            "Epoch 62/250\n",
            "4/4 [==============================] - 0s 18ms/step - loss: 0.7420 - accuracy: 0.7026 - val_loss: 0.7977 - val_accuracy: 0.5600\n",
            "Epoch 63/250\n",
            "4/4 [==============================] - 0s 16ms/step - loss: 0.7255 - accuracy: 0.7203 - val_loss: 0.7928 - val_accuracy: 0.5600\n",
            "Epoch 64/250\n",
            "4/4 [==============================] - 0s 15ms/step - loss: 0.7120 - accuracy: 0.7422 - val_loss: 0.7889 - val_accuracy: 0.5600\n",
            "Epoch 65/250\n",
            "4/4 [==============================] - 0s 16ms/step - loss: 0.7095 - accuracy: 0.7318 - val_loss: 0.7856 - val_accuracy: 0.5600\n",
            "Epoch 66/250\n",
            "4/4 [==============================] - 0s 16ms/step - loss: 0.7075 - accuracy: 0.7234 - val_loss: 0.7817 - val_accuracy: 0.5600\n",
            "Epoch 67/250\n",
            "4/4 [==============================] - 0s 19ms/step - loss: 0.7084 - accuracy: 0.7078 - val_loss: 0.7775 - val_accuracy: 0.5600\n",
            "Epoch 68/250\n",
            "4/4 [==============================] - 0s 16ms/step - loss: 0.7061 - accuracy: 0.7015 - val_loss: 0.7740 - val_accuracy: 0.5600\n",
            "Epoch 69/250\n",
            "4/4 [==============================] - 0s 16ms/step - loss: 0.6913 - accuracy: 0.7182 - val_loss: 0.7710 - val_accuracy: 0.5600\n",
            "Epoch 70/250\n",
            "4/4 [==============================] - 0s 19ms/step - loss: 0.6799 - accuracy: 0.7307 - val_loss: 0.7676 - val_accuracy: 0.5600\n",
            "Epoch 71/250\n",
            "4/4 [==============================] - 0s 15ms/step - loss: 0.6760 - accuracy: 0.7286 - val_loss: 0.7640 - val_accuracy: 0.5600\n",
            "Epoch 72/250\n",
            "4/4 [==============================] - 0s 17ms/step - loss: 0.6738 - accuracy: 0.7245 - val_loss: 0.7601 - val_accuracy: 0.5600\n",
            "Epoch 73/250\n",
            "4/4 [==============================] - 0s 16ms/step - loss: 0.6708 - accuracy: 0.7276 - val_loss: 0.7563 - val_accuracy: 0.5600\n",
            "Epoch 74/250\n",
            "4/4 [==============================] - 0s 20ms/step - loss: 0.6848 - accuracy: 0.6828 - val_loss: 0.7522 - val_accuracy: 0.5600\n",
            "Epoch 75/250\n",
            "4/4 [==============================] - 0s 17ms/step - loss: 0.6763 - accuracy: 0.6880 - val_loss: 0.7489 - val_accuracy: 0.5600\n",
            "Epoch 76/250\n",
            "4/4 [==============================] - 0s 17ms/step - loss: 0.6351 - accuracy: 0.7682 - val_loss: 0.7460 - val_accuracy: 0.5600\n",
            "Epoch 77/250\n",
            "4/4 [==============================] - 0s 19ms/step - loss: 0.6432 - accuracy: 0.7401 - val_loss: 0.7424 - val_accuracy: 0.5600\n",
            "Epoch 78/250\n",
            "4/4 [==============================] - 0s 17ms/step - loss: 0.6394 - accuracy: 0.7390 - val_loss: 0.7386 - val_accuracy: 0.5600\n",
            "Epoch 79/250\n",
            "4/4 [==============================] - 0s 20ms/step - loss: 0.6521 - accuracy: 0.7068 - val_loss: 0.7344 - val_accuracy: 0.5600\n",
            "Epoch 80/250\n",
            "4/4 [==============================] - 0s 16ms/step - loss: 0.6328 - accuracy: 0.7307 - val_loss: 0.7311 - val_accuracy: 0.5600\n",
            "Epoch 81/250\n",
            "4/4 [==============================] - 0s 16ms/step - loss: 0.6303 - accuracy: 0.7286 - val_loss: 0.7270 - val_accuracy: 0.5600\n",
            "Epoch 82/250\n",
            "4/4 [==============================] - 0s 18ms/step - loss: 0.6344 - accuracy: 0.7203 - val_loss: 0.7235 - val_accuracy: 0.5600\n",
            "Epoch 83/250\n",
            "4/4 [==============================] - 0s 16ms/step - loss: 0.6445 - accuracy: 0.6901 - val_loss: 0.7204 - val_accuracy: 0.5600\n",
            "Epoch 84/250\n",
            "4/4 [==============================] - 0s 17ms/step - loss: 0.6283 - accuracy: 0.7036 - val_loss: 0.7167 - val_accuracy: 0.5600\n",
            "Epoch 85/250\n",
            "4/4 [==============================] - 0s 15ms/step - loss: 0.6183 - accuracy: 0.7193 - val_loss: 0.7133 - val_accuracy: 0.5600\n",
            "Epoch 86/250\n",
            "4/4 [==============================] - 0s 16ms/step - loss: 0.5853 - accuracy: 0.7620 - val_loss: 0.7104 - val_accuracy: 0.5600\n",
            "Epoch 87/250\n",
            "4/4 [==============================] - 0s 16ms/step - loss: 0.6001 - accuracy: 0.7338 - val_loss: 0.7072 - val_accuracy: 0.5600\n",
            "Epoch 88/250\n",
            "4/4 [==============================] - 0s 18ms/step - loss: 0.6105 - accuracy: 0.7140 - val_loss: 0.7040 - val_accuracy: 0.5600\n",
            "Epoch 89/250\n",
            "4/4 [==============================] - 0s 17ms/step - loss: 0.5874 - accuracy: 0.7443 - val_loss: 0.7021 - val_accuracy: 0.5600\n",
            "Epoch 90/250\n",
            "4/4 [==============================] - 0s 16ms/step - loss: 0.5907 - accuracy: 0.7411 - val_loss: 0.7004 - val_accuracy: 0.5600\n",
            "Epoch 91/250\n",
            "4/4 [==============================] - 0s 17ms/step - loss: 0.5833 - accuracy: 0.7411 - val_loss: 0.6987 - val_accuracy: 0.5600\n",
            "Epoch 92/250\n",
            "4/4 [==============================] - 0s 15ms/step - loss: 0.6009 - accuracy: 0.7130 - val_loss: 0.6963 - val_accuracy: 0.5600\n",
            "Epoch 93/250\n",
            "4/4 [==============================] - 0s 16ms/step - loss: 0.5763 - accuracy: 0.7328 - val_loss: 0.6931 - val_accuracy: 0.5600\n",
            "Epoch 94/250\n",
            "4/4 [==============================] - 0s 15ms/step - loss: 0.5955 - accuracy: 0.7047 - val_loss: 0.6893 - val_accuracy: 0.5600\n",
            "Epoch 95/250\n",
            "4/4 [==============================] - 0s 15ms/step - loss: 0.5797 - accuracy: 0.7265 - val_loss: 0.6867 - val_accuracy: 0.5600\n",
            "Epoch 96/250\n",
            "4/4 [==============================] - 0s 18ms/step - loss: 0.5764 - accuracy: 0.7161 - val_loss: 0.6844 - val_accuracy: 0.5600\n",
            "Epoch 97/250\n",
            "4/4 [==============================] - 0s 17ms/step - loss: 0.5871 - accuracy: 0.6943 - val_loss: 0.6822 - val_accuracy: 0.5600\n",
            "Epoch 98/250\n",
            "4/4 [==============================] - 0s 18ms/step - loss: 0.5623 - accuracy: 0.7349 - val_loss: 0.6804 - val_accuracy: 0.5600\n",
            "Epoch 99/250\n",
            "4/4 [==============================] - 0s 17ms/step - loss: 0.5808 - accuracy: 0.6953 - val_loss: 0.6785 - val_accuracy: 0.5600\n",
            "Epoch 100/250\n",
            "4/4 [==============================] - 0s 18ms/step - loss: 0.5487 - accuracy: 0.7422 - val_loss: 0.6767 - val_accuracy: 0.5600\n",
            "Epoch 101/250\n",
            "4/4 [==============================] - 0s 15ms/step - loss: 0.5558 - accuracy: 0.7234 - val_loss: 0.6726 - val_accuracy: 0.5600\n",
            "Epoch 102/250\n",
            "4/4 [==============================] - 0s 16ms/step - loss: 0.5683 - accuracy: 0.6984 - val_loss: 0.6696 - val_accuracy: 0.5600\n",
            "Epoch 103/250\n",
            "4/4 [==============================] - 0s 16ms/step - loss: 0.5779 - accuracy: 0.6849 - val_loss: 0.6669 - val_accuracy: 0.5600\n",
            "Epoch 104/250\n",
            "4/4 [==============================] - 0s 17ms/step - loss: 0.5627 - accuracy: 0.7015 - val_loss: 0.6639 - val_accuracy: 0.5600\n",
            "Epoch 105/250\n",
            "4/4 [==============================] - 0s 16ms/step - loss: 0.5332 - accuracy: 0.7380 - val_loss: 0.6593 - val_accuracy: 0.5600\n",
            "Epoch 106/250\n",
            "4/4 [==============================] - 0s 17ms/step - loss: 0.5286 - accuracy: 0.7411 - val_loss: 0.6555 - val_accuracy: 0.5600\n",
            "Epoch 107/250\n",
            "4/4 [==============================] - 0s 17ms/step - loss: 0.5496 - accuracy: 0.7036 - val_loss: 0.6518 - val_accuracy: 0.5600\n",
            "Epoch 108/250\n",
            "4/4 [==============================] - 0s 15ms/step - loss: 0.5355 - accuracy: 0.7224 - val_loss: 0.6475 - val_accuracy: 0.5600\n",
            "Epoch 109/250\n",
            "4/4 [==============================] - 0s 17ms/step - loss: 0.5280 - accuracy: 0.7276 - val_loss: 0.6430 - val_accuracy: 0.5600\n",
            "Epoch 110/250\n",
            "4/4 [==============================] - 0s 15ms/step - loss: 0.5336 - accuracy: 0.7172 - val_loss: 0.6386 - val_accuracy: 0.5600\n",
            "Epoch 111/250\n",
            "4/4 [==============================] - 0s 16ms/step - loss: 0.4970 - accuracy: 0.7588 - val_loss: 0.6356 - val_accuracy: 0.5600\n",
            "Epoch 112/250\n",
            "4/4 [==============================] - 0s 16ms/step - loss: 0.5239 - accuracy: 0.7130 - val_loss: 0.6317 - val_accuracy: 0.5600\n",
            "Epoch 113/250\n",
            "4/4 [==============================] - 0s 17ms/step - loss: 0.5208 - accuracy: 0.7193 - val_loss: 0.6288 - val_accuracy: 0.5600\n",
            "Epoch 114/250\n",
            "4/4 [==============================] - 0s 17ms/step - loss: 0.5126 - accuracy: 0.7338 - val_loss: 0.6257 - val_accuracy: 0.5600\n",
            "Epoch 115/250\n",
            "4/4 [==============================] - 0s 17ms/step - loss: 0.5300 - accuracy: 0.6974 - val_loss: 0.6218 - val_accuracy: 0.5600\n",
            "Epoch 116/250\n",
            "4/4 [==============================] - 0s 16ms/step - loss: 0.4985 - accuracy: 0.7526 - val_loss: 0.6186 - val_accuracy: 0.5600\n",
            "Epoch 117/250\n",
            "4/4 [==============================] - 0s 17ms/step - loss: 0.5077 - accuracy: 0.7328 - val_loss: 0.6143 - val_accuracy: 0.5600\n",
            "Epoch 118/250\n",
            "4/4 [==============================] - 0s 16ms/step - loss: 0.5224 - accuracy: 0.7015 - val_loss: 0.6097 - val_accuracy: 0.5600\n",
            "Epoch 119/250\n",
            "4/4 [==============================] - 0s 16ms/step - loss: 0.4776 - accuracy: 0.7578 - val_loss: 0.6079 - val_accuracy: 0.5600\n",
            "Epoch 120/250\n",
            "4/4 [==============================] - 0s 20ms/step - loss: 0.5179 - accuracy: 0.7047 - val_loss: 0.6073 - val_accuracy: 0.5600\n",
            "Epoch 121/250\n",
            "4/4 [==============================] - 0s 18ms/step - loss: 0.4927 - accuracy: 0.7349 - val_loss: 0.6069 - val_accuracy: 0.5600\n",
            "Epoch 122/250\n",
            "4/4 [==============================] - 0s 15ms/step - loss: 0.4913 - accuracy: 0.7349 - val_loss: 0.6067 - val_accuracy: 0.5600\n",
            "Epoch 123/250\n",
            "4/4 [==============================] - 0s 16ms/step - loss: 0.5016 - accuracy: 0.7234 - val_loss: 0.6068 - val_accuracy: 0.5600\n",
            "Epoch 124/250\n",
            "4/4 [==============================] - 0s 15ms/step - loss: 0.5026 - accuracy: 0.7099 - val_loss: 0.6072 - val_accuracy: 0.5600\n",
            "Epoch 125/250\n",
            "4/4 [==============================] - 0s 17ms/step - loss: 0.5007 - accuracy: 0.7036 - val_loss: 0.6065 - val_accuracy: 0.5600\n",
            "Epoch 126/250\n",
            "4/4 [==============================] - 0s 18ms/step - loss: 0.4984 - accuracy: 0.7057 - val_loss: 0.6049 - val_accuracy: 0.5600\n",
            "Epoch 127/250\n",
            "4/4 [==============================] - 0s 15ms/step - loss: 0.4953 - accuracy: 0.7161 - val_loss: 0.6023 - val_accuracy: 0.5600\n",
            "Epoch 128/250\n",
            "4/4 [==============================] - 0s 17ms/step - loss: 0.4811 - accuracy: 0.7161 - val_loss: 0.6000 - val_accuracy: 0.5600\n",
            "Epoch 129/250\n",
            "4/4 [==============================] - 0s 15ms/step - loss: 0.5058 - accuracy: 0.6922 - val_loss: 0.5987 - val_accuracy: 0.5600\n",
            "Epoch 130/250\n",
            "4/4 [==============================] - 0s 15ms/step - loss: 0.5075 - accuracy: 0.6880 - val_loss: 0.5988 - val_accuracy: 0.5600\n",
            "Epoch 131/250\n",
            "4/4 [==============================] - 0s 18ms/step - loss: 0.5015 - accuracy: 0.6974 - val_loss: 0.5987 - val_accuracy: 0.5600\n",
            "Epoch 132/250\n",
            "4/4 [==============================] - 0s 17ms/step - loss: 0.4729 - accuracy: 0.7286 - val_loss: 0.5977 - val_accuracy: 0.5600\n",
            "Epoch 133/250\n",
            "4/4 [==============================] - 0s 17ms/step - loss: 0.4897 - accuracy: 0.7036 - val_loss: 0.5963 - val_accuracy: 0.5600\n",
            "Epoch 134/250\n",
            "4/4 [==============================] - 0s 17ms/step - loss: 0.4855 - accuracy: 0.7078 - val_loss: 0.5949 - val_accuracy: 0.5600\n",
            "Epoch 135/250\n",
            "4/4 [==============================] - 0s 17ms/step - loss: 0.4739 - accuracy: 0.7255 - val_loss: 0.5938 - val_accuracy: 0.5600\n",
            "Epoch 136/250\n",
            "4/4 [==============================] - 0s 17ms/step - loss: 0.4716 - accuracy: 0.7172 - val_loss: 0.5926 - val_accuracy: 0.5600\n",
            "Epoch 137/250\n",
            "4/4 [==============================] - 0s 16ms/step - loss: 0.4851 - accuracy: 0.7068 - val_loss: 0.5922 - val_accuracy: 0.5600\n",
            "Epoch 138/250\n",
            "4/4 [==============================] - 0s 15ms/step - loss: 0.4712 - accuracy: 0.7286 - val_loss: 0.5909 - val_accuracy: 0.5600\n",
            "Epoch 139/250\n",
            "4/4 [==============================] - 0s 16ms/step - loss: 0.4793 - accuracy: 0.7151 - val_loss: 0.5879 - val_accuracy: 0.5600\n",
            "Epoch 140/250\n",
            "4/4 [==============================] - 0s 17ms/step - loss: 0.4744 - accuracy: 0.7193 - val_loss: 0.5835 - val_accuracy: 0.5600\n",
            "Epoch 141/250\n",
            "4/4 [==============================] - 0s 19ms/step - loss: 0.4857 - accuracy: 0.6922 - val_loss: 0.5774 - val_accuracy: 0.5600\n",
            "Epoch 142/250\n",
            "4/4 [==============================] - 0s 18ms/step - loss: 0.4562 - accuracy: 0.7432 - val_loss: 0.5745 - val_accuracy: 0.5600\n",
            "Epoch 143/250\n",
            "4/4 [==============================] - 0s 18ms/step - loss: 0.4745 - accuracy: 0.7068 - val_loss: 0.5711 - val_accuracy: 0.5600\n",
            "Epoch 144/250\n",
            "4/4 [==============================] - 0s 23ms/step - loss: 0.4500 - accuracy: 0.7224 - val_loss: 0.5688 - val_accuracy: 0.5600\n",
            "Epoch 145/250\n",
            "4/4 [==============================] - 0s 17ms/step - loss: 0.4529 - accuracy: 0.7307 - val_loss: 0.5670 - val_accuracy: 0.5600\n",
            "Epoch 146/250\n",
            "4/4 [==============================] - 0s 18ms/step - loss: 0.4738 - accuracy: 0.6953 - val_loss: 0.5644 - val_accuracy: 0.5600\n",
            "Epoch 147/250\n",
            "4/4 [==============================] - 0s 18ms/step - loss: 0.4513 - accuracy: 0.7203 - val_loss: 0.5638 - val_accuracy: 0.5600\n",
            "Epoch 148/250\n",
            "4/4 [==============================] - 0s 17ms/step - loss: 0.4445 - accuracy: 0.7349 - val_loss: 0.5640 - val_accuracy: 0.5600\n",
            "Epoch 149/250\n",
            "4/4 [==============================] - 0s 22ms/step - loss: 0.4574 - accuracy: 0.7088 - val_loss: 0.5633 - val_accuracy: 0.5600\n",
            "Epoch 150/250\n",
            "4/4 [==============================] - 0s 16ms/step - loss: 0.4451 - accuracy: 0.7265 - val_loss: 0.5620 - val_accuracy: 0.5600\n",
            "Epoch 151/250\n",
            "4/4 [==============================] - 0s 18ms/step - loss: 0.4599 - accuracy: 0.7026 - val_loss: 0.5615 - val_accuracy: 0.5600\n",
            "Epoch 152/250\n",
            "4/4 [==============================] - 0s 16ms/step - loss: 0.4510 - accuracy: 0.7078 - val_loss: 0.5591 - val_accuracy: 0.5600\n",
            "Epoch 153/250\n",
            "4/4 [==============================] - 0s 16ms/step - loss: 0.4614 - accuracy: 0.7151 - val_loss: 0.5557 - val_accuracy: 0.5600\n",
            "Epoch 154/250\n",
            "4/4 [==============================] - 0s 15ms/step - loss: 0.4581 - accuracy: 0.7036 - val_loss: 0.5522 - val_accuracy: 0.5600\n",
            "Epoch 155/250\n",
            "4/4 [==============================] - 0s 16ms/step - loss: 0.4698 - accuracy: 0.6943 - val_loss: 0.5498 - val_accuracy: 0.5600\n",
            "Epoch 156/250\n",
            "4/4 [==============================] - 0s 18ms/step - loss: 0.4593 - accuracy: 0.7036 - val_loss: 0.5480 - val_accuracy: 0.5600\n",
            "Epoch 157/250\n",
            "4/4 [==============================] - 0s 18ms/step - loss: 0.4470 - accuracy: 0.7224 - val_loss: 0.5468 - val_accuracy: 0.5600\n",
            "Epoch 158/250\n",
            "4/4 [==============================] - 0s 18ms/step - loss: 0.4392 - accuracy: 0.7234 - val_loss: 0.5465 - val_accuracy: 0.5600\n",
            "Epoch 159/250\n",
            "4/4 [==============================] - 0s 17ms/step - loss: 0.4344 - accuracy: 0.7161 - val_loss: 0.5469 - val_accuracy: 0.5600\n",
            "Epoch 160/250\n",
            "4/4 [==============================] - 0s 17ms/step - loss: 0.4486 - accuracy: 0.7161 - val_loss: 0.5465 - val_accuracy: 0.5600\n",
            "Epoch 161/250\n",
            "4/4 [==============================] - 0s 17ms/step - loss: 0.4333 - accuracy: 0.7401 - val_loss: 0.5456 - val_accuracy: 0.5600\n",
            "Epoch 162/250\n",
            "4/4 [==============================] - 0s 17ms/step - loss: 0.4342 - accuracy: 0.7203 - val_loss: 0.5429 - val_accuracy: 0.5600\n",
            "Epoch 163/250\n",
            "4/4 [==============================] - 0s 16ms/step - loss: 0.4295 - accuracy: 0.7255 - val_loss: 0.5395 - val_accuracy: 0.5600\n",
            "Epoch 164/250\n",
            "4/4 [==============================] - 0s 15ms/step - loss: 0.4351 - accuracy: 0.7224 - val_loss: 0.5372 - val_accuracy: 0.5600\n",
            "Epoch 165/250\n",
            "4/4 [==============================] - 0s 16ms/step - loss: 0.4396 - accuracy: 0.7170 - val_loss: 0.5363 - val_accuracy: 0.5600\n",
            "Epoch 166/250\n",
            "4/4 [==============================] - 0s 16ms/step - loss: 0.4449 - accuracy: 0.7420 - val_loss: 0.5372 - val_accuracy: 0.5600\n",
            "Epoch 167/250\n",
            "4/4 [==============================] - 0s 19ms/step - loss: 0.4319 - accuracy: 0.7411 - val_loss: 0.5380 - val_accuracy: 0.5600\n",
            "Epoch 168/250\n",
            "4/4 [==============================] - 0s 17ms/step - loss: 0.4312 - accuracy: 0.7047 - val_loss: 0.5375 - val_accuracy: 0.5600\n",
            "Epoch 169/250\n",
            "4/4 [==============================] - 0s 17ms/step - loss: 0.4372 - accuracy: 0.7130 - val_loss: 0.5386 - val_accuracy: 0.5600\n",
            "Epoch 170/250\n",
            "4/4 [==============================] - 0s 17ms/step - loss: 0.4305 - accuracy: 0.7182 - val_loss: 0.5389 - val_accuracy: 0.5600\n",
            "Epoch 171/250\n",
            "4/4 [==============================] - 0s 18ms/step - loss: 0.4490 - accuracy: 0.7036 - val_loss: 0.5373 - val_accuracy: 0.5600\n",
            "Epoch 172/250\n",
            "4/4 [==============================] - 0s 16ms/step - loss: 0.4333 - accuracy: 0.7234 - val_loss: 0.5346 - val_accuracy: 0.5600\n",
            "Epoch 173/250\n",
            "4/4 [==============================] - 0s 15ms/step - loss: 0.4230 - accuracy: 0.7286 - val_loss: 0.5310 - val_accuracy: 0.5600\n",
            "Epoch 174/250\n",
            "4/4 [==============================] - 0s 15ms/step - loss: 0.4504 - accuracy: 0.7003 - val_loss: 0.5285 - val_accuracy: 0.5600\n",
            "Epoch 175/250\n",
            "4/4 [==============================] - 0s 16ms/step - loss: 0.4341 - accuracy: 0.7160 - val_loss: 0.5269 - val_accuracy: 0.5600\n",
            "Epoch 176/250\n",
            "4/4 [==============================] - 0s 22ms/step - loss: 0.4355 - accuracy: 0.7441 - val_loss: 0.5260 - val_accuracy: 0.5800\n",
            "Epoch 177/250\n",
            "4/4 [==============================] - 0s 15ms/step - loss: 0.4172 - accuracy: 0.7389 - val_loss: 0.5253 - val_accuracy: 0.5800\n",
            "Epoch 178/250\n",
            "4/4 [==============================] - 0s 16ms/step - loss: 0.4220 - accuracy: 0.7430 - val_loss: 0.5257 - val_accuracy: 0.5600\n",
            "Epoch 179/250\n",
            "4/4 [==============================] - 0s 18ms/step - loss: 0.4219 - accuracy: 0.7347 - val_loss: 0.5243 - val_accuracy: 0.5800\n",
            "Epoch 180/250\n",
            "4/4 [==============================] - 0s 17ms/step - loss: 0.4151 - accuracy: 0.7410 - val_loss: 0.5234 - val_accuracy: 0.5800\n",
            "Epoch 181/250\n",
            "4/4 [==============================] - 0s 22ms/step - loss: 0.4252 - accuracy: 0.7295 - val_loss: 0.5232 - val_accuracy: 0.5800\n",
            "Epoch 182/250\n",
            "4/4 [==============================] - 0s 16ms/step - loss: 0.4033 - accuracy: 0.7545 - val_loss: 0.5232 - val_accuracy: 0.5800\n",
            "Epoch 183/250\n",
            "4/4 [==============================] - 0s 16ms/step - loss: 0.4110 - accuracy: 0.7378 - val_loss: 0.5207 - val_accuracy: 0.5800\n",
            "Epoch 184/250\n",
            "4/4 [==============================] - 0s 17ms/step - loss: 0.4347 - accuracy: 0.7212 - val_loss: 0.5172 - val_accuracy: 0.6000\n",
            "Epoch 185/250\n",
            "4/4 [==============================] - 0s 16ms/step - loss: 0.4232 - accuracy: 0.7439 - val_loss: 0.5143 - val_accuracy: 0.6000\n",
            "Epoch 186/250\n",
            "4/4 [==============================] - 0s 18ms/step - loss: 0.4355 - accuracy: 0.7127 - val_loss: 0.5122 - val_accuracy: 0.6000\n",
            "Epoch 187/250\n",
            "4/4 [==============================] - 0s 16ms/step - loss: 0.4348 - accuracy: 0.7293 - val_loss: 0.5120 - val_accuracy: 0.6000\n",
            "Epoch 188/250\n",
            "4/4 [==============================] - 0s 17ms/step - loss: 0.4436 - accuracy: 0.7127 - val_loss: 0.5124 - val_accuracy: 0.6000\n",
            "Epoch 189/250\n",
            "4/4 [==============================] - 0s 17ms/step - loss: 0.4153 - accuracy: 0.7460 - val_loss: 0.5115 - val_accuracy: 0.6000\n",
            "Epoch 190/250\n",
            "4/4 [==============================] - 0s 15ms/step - loss: 0.4300 - accuracy: 0.7094 - val_loss: 0.5093 - val_accuracy: 0.6000\n",
            "Epoch 191/250\n",
            "4/4 [==============================] - 0s 18ms/step - loss: 0.4293 - accuracy: 0.7167 - val_loss: 0.5086 - val_accuracy: 0.6000\n",
            "Epoch 192/250\n",
            "4/4 [==============================] - 0s 16ms/step - loss: 0.4212 - accuracy: 0.7469 - val_loss: 0.5091 - val_accuracy: 0.6000\n",
            "Epoch 193/250\n",
            "4/4 [==============================] - 0s 22ms/step - loss: 0.4271 - accuracy: 0.7262 - val_loss: 0.5093 - val_accuracy: 0.6000\n",
            "Epoch 194/250\n",
            "4/4 [==============================] - 0s 15ms/step - loss: 0.4312 - accuracy: 0.6939 - val_loss: 0.5095 - val_accuracy: 0.6000\n",
            "Epoch 195/250\n",
            "4/4 [==============================] - 0s 18ms/step - loss: 0.4252 - accuracy: 0.7241 - val_loss: 0.5098 - val_accuracy: 0.6000\n",
            "Epoch 196/250\n",
            "4/4 [==============================] - 0s 17ms/step - loss: 0.4445 - accuracy: 0.7106 - val_loss: 0.5091 - val_accuracy: 0.6000\n",
            "Epoch 197/250\n",
            "4/4 [==============================] - 0s 15ms/step - loss: 0.4098 - accuracy: 0.7398 - val_loss: 0.5096 - val_accuracy: 0.6000\n",
            "Epoch 198/250\n",
            "4/4 [==============================] - 0s 19ms/step - loss: 0.4141 - accuracy: 0.7418 - val_loss: 0.5091 - val_accuracy: 0.6000\n",
            "Epoch 199/250\n",
            "4/4 [==============================] - 0s 19ms/step - loss: 0.3944 - accuracy: 0.7595 - val_loss: 0.5089 - val_accuracy: 0.6000\n",
            "Epoch 200/250\n",
            "4/4 [==============================] - 0s 17ms/step - loss: 0.3893 - accuracy: 0.7595 - val_loss: 0.5053 - val_accuracy: 0.6000\n",
            "Epoch 201/250\n",
            "4/4 [==============================] - 0s 19ms/step - loss: 0.3958 - accuracy: 0.7450 - val_loss: 0.5028 - val_accuracy: 0.6000\n",
            "Epoch 202/250\n",
            "4/4 [==============================] - 0s 20ms/step - loss: 0.3934 - accuracy: 0.7759 - val_loss: 0.5032 - val_accuracy: 0.6000\n",
            "Epoch 203/250\n",
            "4/4 [==============================] - 0s 17ms/step - loss: 0.3960 - accuracy: 0.7594 - val_loss: 0.5048 - val_accuracy: 0.6000\n",
            "Epoch 204/250\n",
            "4/4 [==============================] - 0s 17ms/step - loss: 0.4355 - accuracy: 0.7012 - val_loss: 0.5053 - val_accuracy: 0.6000\n",
            "Epoch 205/250\n",
            "4/4 [==============================] - 0s 16ms/step - loss: 0.4051 - accuracy: 0.7387 - val_loss: 0.5062 - val_accuracy: 0.6000\n",
            "Epoch 206/250\n",
            "4/4 [==============================] - 0s 17ms/step - loss: 0.4251 - accuracy: 0.7012 - val_loss: 0.5076 - val_accuracy: 0.6000\n",
            "Epoch 207/250\n",
            "4/4 [==============================] - 0s 18ms/step - loss: 0.4035 - accuracy: 0.7335 - val_loss: 0.5097 - val_accuracy: 0.6000\n",
            "Epoch 208/250\n",
            "4/4 [==============================] - 0s 18ms/step - loss: 0.4099 - accuracy: 0.7398 - val_loss: 0.5085 - val_accuracy: 0.6000\n",
            "Epoch 209/250\n",
            "4/4 [==============================] - 0s 18ms/step - loss: 0.3872 - accuracy: 0.7585 - val_loss: 0.5048 - val_accuracy: 0.6000\n",
            "Epoch 210/250\n",
            "4/4 [==============================] - 0s 21ms/step - loss: 0.3989 - accuracy: 0.7491 - val_loss: 0.5003 - val_accuracy: 0.6000\n",
            "Epoch 211/250\n",
            "4/4 [==============================] - 0s 18ms/step - loss: 0.3950 - accuracy: 0.7684 - val_loss: 0.4953 - val_accuracy: 0.6000\n",
            "Epoch 212/250\n",
            "4/4 [==============================] - 0s 19ms/step - loss: 0.4022 - accuracy: 0.7715 - val_loss: 0.4913 - val_accuracy: 0.6200\n",
            "Epoch 213/250\n",
            "4/4 [==============================] - 0s 17ms/step - loss: 0.3943 - accuracy: 0.7570 - val_loss: 0.4880 - val_accuracy: 0.6200\n",
            "Epoch 214/250\n",
            "4/4 [==============================] - 0s 18ms/step - loss: 0.3853 - accuracy: 0.7799 - val_loss: 0.4865 - val_accuracy: 0.6200\n",
            "Epoch 215/250\n",
            "4/4 [==============================] - 0s 16ms/step - loss: 0.3978 - accuracy: 0.7880 - val_loss: 0.4857 - val_accuracy: 0.6200\n",
            "Epoch 216/250\n",
            "4/4 [==============================] - 0s 17ms/step - loss: 0.4148 - accuracy: 0.7568 - val_loss: 0.4866 - val_accuracy: 0.6200\n",
            "Epoch 217/250\n",
            "4/4 [==============================] - 0s 17ms/step - loss: 0.4131 - accuracy: 0.7653 - val_loss: 0.4891 - val_accuracy: 0.6200\n",
            "Epoch 218/250\n",
            "4/4 [==============================] - 0s 19ms/step - loss: 0.3998 - accuracy: 0.7778 - val_loss: 0.4911 - val_accuracy: 0.6000\n",
            "Epoch 219/250\n",
            "4/4 [==============================] - 0s 16ms/step - loss: 0.3883 - accuracy: 0.7820 - val_loss: 0.4931 - val_accuracy: 0.6000\n",
            "Epoch 220/250\n",
            "4/4 [==============================] - 0s 18ms/step - loss: 0.4045 - accuracy: 0.7622 - val_loss: 0.4962 - val_accuracy: 0.6000\n",
            "Epoch 221/250\n",
            "4/4 [==============================] - 0s 18ms/step - loss: 0.3857 - accuracy: 0.7809 - val_loss: 0.4966 - val_accuracy: 0.6000\n",
            "Epoch 222/250\n",
            "4/4 [==============================] - 0s 21ms/step - loss: 0.3899 - accuracy: 0.7695 - val_loss: 0.4945 - val_accuracy: 0.6000\n",
            "Epoch 223/250\n",
            "4/4 [==============================] - 0s 19ms/step - loss: 0.4044 - accuracy: 0.7382 - val_loss: 0.4908 - val_accuracy: 0.6000\n",
            "Epoch 224/250\n",
            "4/4 [==============================] - 0s 19ms/step - loss: 0.4280 - accuracy: 0.7309 - val_loss: 0.4882 - val_accuracy: 0.6200\n",
            "Epoch 225/250\n",
            "4/4 [==============================] - 0s 18ms/step - loss: 0.4007 - accuracy: 0.7684 - val_loss: 0.4866 - val_accuracy: 0.6200\n",
            "Epoch 226/250\n",
            "4/4 [==============================] - 0s 22ms/step - loss: 0.4158 - accuracy: 0.7382 - val_loss: 0.4858 - val_accuracy: 0.6200\n",
            "Epoch 227/250\n",
            "4/4 [==============================] - 0s 17ms/step - loss: 0.3717 - accuracy: 0.7934 - val_loss: 0.4860 - val_accuracy: 0.6200\n",
            "Epoch 228/250\n",
            "4/4 [==============================] - 0s 17ms/step - loss: 0.4009 - accuracy: 0.7413 - val_loss: 0.4854 - val_accuracy: 0.6200\n",
            "Epoch 229/250\n",
            "4/4 [==============================] - 0s 18ms/step - loss: 0.4065 - accuracy: 0.7632 - val_loss: 0.4852 - val_accuracy: 0.6200\n",
            "Epoch 230/250\n",
            "4/4 [==============================] - 0s 17ms/step - loss: 0.3849 - accuracy: 0.7778 - val_loss: 0.4854 - val_accuracy: 0.6200\n",
            "Epoch 231/250\n",
            "4/4 [==============================] - 0s 18ms/step - loss: 0.4110 - accuracy: 0.7653 - val_loss: 0.4848 - val_accuracy: 0.6200\n",
            "Epoch 232/250\n",
            "4/4 [==============================] - 0s 17ms/step - loss: 0.3710 - accuracy: 0.7997 - val_loss: 0.4839 - val_accuracy: 0.6200\n",
            "Epoch 233/250\n",
            "4/4 [==============================] - 0s 17ms/step - loss: 0.3794 - accuracy: 0.7549 - val_loss: 0.4824 - val_accuracy: 0.6200\n",
            "Epoch 234/250\n",
            "4/4 [==============================] - 0s 16ms/step - loss: 0.3971 - accuracy: 0.7622 - val_loss: 0.4800 - val_accuracy: 0.6200\n",
            "Epoch 235/250\n",
            "4/4 [==============================] - 0s 16ms/step - loss: 0.3881 - accuracy: 0.7715 - val_loss: 0.4776 - val_accuracy: 0.6200\n",
            "Epoch 236/250\n",
            "4/4 [==============================] - 0s 19ms/step - loss: 0.3951 - accuracy: 0.7714 - val_loss: 0.4745 - val_accuracy: 0.6200\n",
            "Epoch 237/250\n",
            "4/4 [==============================] - 0s 16ms/step - loss: 0.3851 - accuracy: 0.7828 - val_loss: 0.4719 - val_accuracy: 0.6600\n",
            "Epoch 238/250\n",
            "4/4 [==============================] - 0s 17ms/step - loss: 0.3985 - accuracy: 0.7682 - val_loss: 0.4684 - val_accuracy: 0.6600\n",
            "Epoch 239/250\n",
            "4/4 [==============================] - 0s 18ms/step - loss: 0.3825 - accuracy: 0.7910 - val_loss: 0.4669 - val_accuracy: 0.6800\n",
            "Epoch 240/250\n",
            "4/4 [==============================] - 0s 18ms/step - loss: 0.4199 - accuracy: 0.7556 - val_loss: 0.4663 - val_accuracy: 0.6800\n",
            "Epoch 241/250\n",
            "4/4 [==============================] - 0s 19ms/step - loss: 0.3703 - accuracy: 0.7785 - val_loss: 0.4669 - val_accuracy: 0.6600\n",
            "Epoch 242/250\n",
            "4/4 [==============================] - 0s 16ms/step - loss: 0.3969 - accuracy: 0.7691 - val_loss: 0.4685 - val_accuracy: 0.6600\n",
            "Epoch 243/250\n",
            "4/4 [==============================] - 0s 19ms/step - loss: 0.4134 - accuracy: 0.7380 - val_loss: 0.4714 - val_accuracy: 0.6200\n",
            "Epoch 244/250\n",
            "4/4 [==============================] - 0s 17ms/step - loss: 0.3808 - accuracy: 0.7703 - val_loss: 0.4739 - val_accuracy: 0.6200\n",
            "Epoch 245/250\n",
            "4/4 [==============================] - 0s 15ms/step - loss: 0.3833 - accuracy: 0.7880 - val_loss: 0.4737 - val_accuracy: 0.6200\n",
            "Epoch 246/250\n",
            "4/4 [==============================] - 0s 16ms/step - loss: 0.3776 - accuracy: 0.7828 - val_loss: 0.4741 - val_accuracy: 0.6200\n",
            "Epoch 247/250\n",
            "4/4 [==============================] - 0s 16ms/step - loss: 0.3882 - accuracy: 0.7755 - val_loss: 0.4725 - val_accuracy: 0.6200\n",
            "Epoch 248/250\n",
            "4/4 [==============================] - 0s 19ms/step - loss: 0.3815 - accuracy: 0.7745 - val_loss: 0.4719 - val_accuracy: 0.6200\n",
            "Epoch 249/250\n",
            "4/4 [==============================] - 0s 16ms/step - loss: 0.3986 - accuracy: 0.7568 - val_loss: 0.4707 - val_accuracy: 0.6200\n",
            "Epoch 250/250\n",
            "4/4 [==============================] - 0s 19ms/step - loss: 0.3805 - accuracy: 0.7839 - val_loss: 0.4715 - val_accuracy: 0.6200\n"
          ],
          "name": "stdout"
        },
        {
          "output_type": "execute_result",
          "data": {
            "text/plain": [
              "<tensorflow.python.keras.callbacks.History at 0x7f791933e410>"
            ]
          },
          "metadata": {
            "tags": []
          },
          "execution_count": 60
        }
      ]
    },
    {
      "cell_type": "code",
      "metadata": {
        "colab": {
          "base_uri": "https://localhost:8080/",
          "height": 204
        },
        "id": "4GqygA15Rulk",
        "outputId": "165f3d63-dab0-4b92-a908-507e1e025ec6"
      },
      "source": [
        "loss_df=pd.DataFrame(model.history.history)\r\n",
        "loss_df.head()"
      ],
      "execution_count": 47,
      "outputs": [
        {
          "output_type": "execute_result",
          "data": {
            "text/html": [
              "<div>\n",
              "<style scoped>\n",
              "    .dataframe tbody tr th:only-of-type {\n",
              "        vertical-align: middle;\n",
              "    }\n",
              "\n",
              "    .dataframe tbody tr th {\n",
              "        vertical-align: top;\n",
              "    }\n",
              "\n",
              "    .dataframe thead th {\n",
              "        text-align: right;\n",
              "    }\n",
              "</style>\n",
              "<table border=\"1\" class=\"dataframe\">\n",
              "  <thead>\n",
              "    <tr style=\"text-align: right;\">\n",
              "      <th></th>\n",
              "      <th>loss</th>\n",
              "      <th>accuracy</th>\n",
              "      <th>val_loss</th>\n",
              "      <th>val_accuracy</th>\n",
              "    </tr>\n",
              "  </thead>\n",
              "  <tbody>\n",
              "    <tr>\n",
              "      <th>0</th>\n",
              "      <td>1.184208</td>\n",
              "      <td>0.37</td>\n",
              "      <td>1.233717</td>\n",
              "      <td>0.26</td>\n",
              "    </tr>\n",
              "    <tr>\n",
              "      <th>1</th>\n",
              "      <td>1.171838</td>\n",
              "      <td>0.37</td>\n",
              "      <td>1.222108</td>\n",
              "      <td>0.26</td>\n",
              "    </tr>\n",
              "    <tr>\n",
              "      <th>2</th>\n",
              "      <td>1.161073</td>\n",
              "      <td>0.37</td>\n",
              "      <td>1.212475</td>\n",
              "      <td>0.26</td>\n",
              "    </tr>\n",
              "    <tr>\n",
              "      <th>3</th>\n",
              "      <td>1.150941</td>\n",
              "      <td>0.37</td>\n",
              "      <td>1.204435</td>\n",
              "      <td>0.26</td>\n",
              "    </tr>\n",
              "    <tr>\n",
              "      <th>4</th>\n",
              "      <td>1.141505</td>\n",
              "      <td>0.37</td>\n",
              "      <td>1.197809</td>\n",
              "      <td>0.26</td>\n",
              "    </tr>\n",
              "  </tbody>\n",
              "</table>\n",
              "</div>"
            ],
            "text/plain": [
              "       loss  accuracy  val_loss  val_accuracy\n",
              "0  1.184208      0.37  1.233717          0.26\n",
              "1  1.171838      0.37  1.222108          0.26\n",
              "2  1.161073      0.37  1.212475          0.26\n",
              "3  1.150941      0.37  1.204435          0.26\n",
              "4  1.141505      0.37  1.197809          0.26"
            ]
          },
          "metadata": {
            "tags": []
          },
          "execution_count": 47
        }
      ]
    },
    {
      "cell_type": "code",
      "metadata": {
        "colab": {
          "base_uri": "https://localhost:8080/",
          "height": 282
        },
        "id": "X9AEC6pGR8Y5",
        "outputId": "fdf53be5-1184-4e3b-b0c3-49003a0ebc95"
      },
      "source": [
        "plt.plot(loss_df['loss'])"
      ],
      "execution_count": 48,
      "outputs": [
        {
          "output_type": "execute_result",
          "data": {
            "text/plain": [
              "[<matplotlib.lines.Line2D at 0x7f7919469750>]"
            ]
          },
          "metadata": {
            "tags": []
          },
          "execution_count": 48
        },
        {
          "output_type": "display_data",
          "data": {
            "image/png": "[encoded data removed]",
            "text/plain": [
              "<Figure size 432x288 with 1 Axes>"
            ]
          },
          "metadata": {
            "tags": [],
            "needs_background": "light"
          }
        }
      ]
    },
    {
      "cell_type": "code",
      "metadata": {
        "colab": {
          "base_uri": "https://localhost:8080/",
          "height": 282
        },
        "id": "OV8pC1RzSGJp",
        "outputId": "75fbee79-1257-40e9-d498-6a1f2e804159"
      },
      "source": [
        "plt.plot(loss_df['accuracy'])"
      ],
      "execution_count": 49,
      "outputs": [
        {
          "output_type": "execute_result",
          "data": {
            "text/plain": [
              "[<matplotlib.lines.Line2D at 0x7f79193d3cd0>]"
            ]
          },
          "metadata": {
            "tags": []
          },
          "execution_count": 49
        },
        {
          "output_type": "display_data",
          "data": {
            "image/png": "[encoded data removed]",
            "text/plain": [
              "<Figure size 432x288 with 1 Axes>"
            ]
          },
          "metadata": {
            "tags": [],
            "needs_background": "light"
          }
        }
      ]
    },
    {
      "cell_type": "code",
      "metadata": {
        "id": "L9Qk4frfSOsX"
      },
      "source": [
        "from sklearn.metrics import classification_report,confusion_matrix,accuracy_score"
      ],
      "execution_count": 50,
      "outputs": []
    },
    {
      "cell_type": "code",
      "metadata": {
        "colab": {
          "base_uri": "https://localhost:8080/"
        },
        "id": "s1L0Ws8kamiW",
        "outputId": "581f01fb-183d-4147-e6b8-9d4e0aac0de6"
      },
      "source": [
        "y_train"
      ],
      "execution_count": 63,
      "outputs": [
        {
          "output_type": "execute_result",
          "data": {
            "text/plain": [
              "array([[0., 1., 0.],\n",
              "       [1., 0., 0.],\n",
              "       [0., 0., 1.],\n",
              "       [1., 0., 0.],\n",
              "       [0., 1., 0.],\n",
              "       [0., 0., 1.],\n",
              "       [0., 1., 0.],\n",
              "       [1., 0., 0.],\n",
              "       [1., 0., 0.],\n",
              "       [0., 1., 0.],\n",
              "       [1., 0., 0.],\n",
              "       [0., 1., 0.],\n",
              "       [0., 0., 1.],\n",
              "       [0., 0., 1.],\n",
              "       [0., 1., 0.],\n",
              "       [1., 0., 0.],\n",
              "       [0., 1., 0.],\n",
              "       [1., 0., 0.],\n",
              "       [0., 0., 1.],\n",
              "       [0., 0., 1.],\n",
              "       [0., 1., 0.],\n",
              "       [0., 0., 1.],\n",
              "       [0., 1., 0.],\n",
              "       [0., 0., 1.],\n",
              "       [1., 0., 0.],\n",
              "       [1., 0., 0.],\n",
              "       [1., 0., 0.],\n",
              "       [0., 1., 0.],\n",
              "       [1., 0., 0.],\n",
              "       [1., 0., 0.],\n",
              "       [1., 0., 0.],\n",
              "       [0., 0., 1.],\n",
              "       [1., 0., 0.],\n",
              "       [1., 0., 0.],\n",
              "       [0., 0., 1.],\n",
              "       [0., 0., 1.],\n",
              "       [1., 0., 0.],\n",
              "       [1., 0., 0.],\n",
              "       [0., 0., 1.],\n",
              "       [0., 0., 1.],\n",
              "       [0., 0., 1.],\n",
              "       [1., 0., 0.],\n",
              "       [0., 1., 0.],\n",
              "       [0., 0., 1.],\n",
              "       [1., 0., 0.],\n",
              "       [1., 0., 0.],\n",
              "       [0., 0., 1.],\n",
              "       [0., 0., 1.],\n",
              "       [1., 0., 0.],\n",
              "       [0., 1., 0.],\n",
              "       [1., 0., 0.],\n",
              "       [0., 0., 1.],\n",
              "       [0., 0., 1.],\n",
              "       [1., 0., 0.],\n",
              "       [0., 0., 1.],\n",
              "       [0., 1., 0.],\n",
              "       [0., 1., 0.],\n",
              "       [0., 0., 1.],\n",
              "       [1., 0., 0.],\n",
              "       [0., 0., 1.],\n",
              "       [1., 0., 0.],\n",
              "       [0., 1., 0.],\n",
              "       [0., 0., 1.],\n",
              "       [1., 0., 0.],\n",
              "       [0., 1., 0.],\n",
              "       [1., 0., 0.],\n",
              "       [0., 0., 1.],\n",
              "       [0., 1., 0.],\n",
              "       [0., 0., 1.],\n",
              "       [1., 0., 0.],\n",
              "       [0., 0., 1.],\n",
              "       [0., 0., 1.],\n",
              "       [0., 0., 1.],\n",
              "       [0., 1., 0.],\n",
              "       [1., 0., 0.],\n",
              "       [1., 0., 0.],\n",
              "       [0., 0., 1.],\n",
              "       [0., 1., 0.],\n",
              "       [1., 0., 0.],\n",
              "       [0., 1., 0.],\n",
              "       [0., 0., 1.],\n",
              "       [0., 0., 1.],\n",
              "       [0., 0., 1.],\n",
              "       [0., 1., 0.],\n",
              "       [1., 0., 0.],\n",
              "       [0., 0., 1.],\n",
              "       [1., 0., 0.],\n",
              "       [0., 0., 1.],\n",
              "       [0., 1., 0.],\n",
              "       [0., 0., 1.],\n",
              "       [0., 0., 1.],\n",
              "       [1., 0., 0.],\n",
              "       [0., 0., 1.],\n",
              "       [0., 1., 0.],\n",
              "       [0., 1., 0.],\n",
              "       [0., 1., 0.],\n",
              "       [0., 1., 0.],\n",
              "       [0., 1., 0.],\n",
              "       [1., 0., 0.],\n",
              "       [0., 1., 0.]], dtype=float32)"
            ]
          },
          "metadata": {
            "tags": []
          },
          "execution_count": 63
        }
      ]
    },
    {
      "cell_type": "code",
      "metadata": {
        "colab": {
          "base_uri": "https://localhost:8080/"
        },
        "id": "TaSxXY4RZcf2",
        "outputId": "212e2fe4-c2a7-4691-f4ca-9bc127af58b9"
      },
      "source": [
        "predictions=model.predict_classes(X_test)\r\n",
        "predictions"
      ],
      "execution_count": 64,
      "outputs": [
        {
          "output_type": "stream",
          "text": [
            "/usr/local/lib/python3.7/dist-packages/tensorflow/python/keras/engine/sequential.py:450: UserWarning: `model.predict_classes()` is deprecated and will be removed after 2021-01-01. Please use instead:* `np.argmax(model.predict(x), axis=-1)`,   if your model does multi-class classification   (e.g. if it uses a `softmax` last-layer activation).* `(model.predict(x) > 0.5).astype(\"int32\")`,   if your model does binary classification   (e.g. if it uses a `sigmoid` last-layer activation).\n",
            "  warnings.warn('`model.predict_classes()` is deprecated and '\n"
          ],
          "name": "stderr"
        },
        {
          "output_type": "execute_result",
          "data": {
            "text/plain": [
              "array([0, 0, 0, 2, 2, 2, 2, 2, 2, 0, 2, 0, 0, 2, 2, 2, 2, 2, 0, 2, 1, 0,\n",
              "       2, 2, 2, 2, 1, 2, 0, 0, 2, 2, 2, 2, 2, 2, 2, 2, 2, 2, 0, 0, 0, 2,\n",
              "       2, 0, 2, 2, 0, 1])"
            ]
          },
          "metadata": {
            "tags": []
          },
          "execution_count": 64
        }
      ]
    },
    {
      "cell_type": "code",
      "metadata": {
        "colab": {
          "base_uri": "https://localhost:8080/"
        },
        "id": "cOUUVKEGSmDN",
        "outputId": "b0ab50bc-312a-4a5c-ed41-2c3beef0c137"
      },
      "source": [
        "y_test=iris_data.target\r\n",
        "print(accuracy_score(y_test,predictions))"
      ],
      "execution_count": 67,
      "outputs": [
        {
          "output_type": "execute_result",
          "data": {
            "text/plain": [
              "array([0, 0, 0, 0, 0, 0, 0, 0, 0, 0, 0, 0, 0, 0, 0, 0, 0, 0, 0, 0, 0, 0,\n",
              "       0, 0, 0, 0, 0, 0, 0, 0, 0, 0, 0, 0, 0, 0, 0, 0, 0, 0, 0, 0, 0, 0,\n",
              "       0, 0, 0, 0, 0, 0, 1, 1, 1, 1, 1, 1, 1, 1, 1, 1, 1, 1, 1, 1, 1, 1,\n",
              "       1, 1, 1, 1, 1, 1, 1, 1, 1, 1, 1, 1, 1, 1, 1, 1, 1, 1, 1, 1, 1, 1,\n",
              "       1, 1, 1, 1, 1, 1, 1, 1, 1, 1, 1, 1, 2, 2, 2, 2, 2, 2, 2, 2, 2, 2,\n",
              "       2, 2, 2, 2, 2, 2, 2, 2, 2, 2, 2, 2, 2, 2, 2, 2, 2, 2, 2, 2, 2, 2,\n",
              "       2, 2, 2, 2, 2, 2, 2, 2, 2, 2, 2, 2, 2, 2, 2, 2, 2, 2])"
            ]
          },
          "metadata": {
            "tags": []
          },
          "execution_count": 67
        }
      ]
    },
    {
      "cell_type": "code",
      "metadata": {
        "id": "-8eFChxBZhqO"
      },
      "source": [
        "print(confusion_matrix(y_test,predictions))"
      ],
      "execution_count": null,
      "outputs": []
    },
    {
      "cell_type": "code",
      "metadata": {
        "id": "CE6CV1IJZqnU"
      },
      "source": [
        "print(classification_report(y_test,predictions))"
      ],
      "execution_count": null,
      "outputs": []
    }
  ]
}