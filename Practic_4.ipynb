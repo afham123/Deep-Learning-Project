{
  "nbformat": 4,
  "nbformat_minor": 0,
  "metadata": {
    "colab": {
      "name": "Practic_4.ipynb",
      "provenance": [],
      "authorship_tag": "ABX9TyOTpQBR+E9IUqtOhbtjDqzE",
      "include_colab_link": true
    },
    "kernelspec": {
      "name": "python3",
      "display_name": "Python 3"
    }
  },
  "cells": [
    {
      "cell_type": "markdown",
      "metadata": {
        "id": "view-in-github",
        "colab_type": "text"
      },
      "source": [
        "<a href=\"https://colab.research.google.com/github/afham123/Deep-Learning-Project/blob/main/Practic_4.ipynb\" target=\"_parent\"><img src=\"https://colab.research.google.com/assets/colab-badge.svg\" alt=\"Open In Colab\"/></a>"
      ]
    },
    {
      "cell_type": "code",
      "metadata": {
        "id": "mPuxE50ZRdqF"
      },
      "source": [
        "import tensorflow as tf\r\n",
        "import numpy as np\r\n",
        "import pandas as pd\r\n",
        "import seaborn as sns\r\n",
        "import matplotlib.pyplot as plt\r\n",
        "%matplotlib inline"
      ],
      "execution_count": 1,
      "outputs": []
    },
    {
      "cell_type": "code",
      "metadata": {
        "id": "jHVC7rKISwMl"
      },
      "source": [
        "observation=1000\r\n",
        "xs=np.random.uniform(low=-10,high=10,size=(observation,1))\r\n",
        "zs=np.random.uniform(low=-10,high=10,size=(observation,1))\r\n",
        "\r\n",
        "generated_inputs=np.column_stack((xs,zs))\r\n",
        "noise=np.random.uniform(low=-1,high=1,size=(observation,1))\r\n",
        "\r\n",
        "generated_targets=2*xs+3*zs+noise\r\n",
        "np.savez('Tf_intro',inputs=generated_inputs,targets=generated_targets)\r\n",
        "training_data=np.load('Tf_intro.npz')"
      ],
      "execution_count": 4,
      "outputs": []
    },
    {
      "cell_type": "code",
      "metadata": {
        "id": "HNEdna79VjVm"
      },
      "source": [
        "input_size=2\r\n",
        "output_size=1"
      ],
      "execution_count": 8,
      "outputs": []
    },
    {
      "cell_type": "code",
      "metadata": {
        "colab": {
          "base_uri": "https://localhost:8080/"
        },
        "id": "LCQ1YO8gU4S_",
        "outputId": "a87e250a-7921-46cb-e5af-bc5205ae1e44"
      },
      "source": [
        "model=tf.keras.Sequential([tf.keras.layers.Dense(output_size)])\r\n",
        "model.compile(optimizer='sgd',loss='mean_squared_error')\r\n",
        "model.fit(training_data['inputs'],training_data['targets'],epochs=100)"
      ],
      "execution_count": 9,
      "outputs": [
        {
          "output_type": "stream",
          "text": [
            "Epoch 1/100\n",
            "32/32 [==============================] - 0s 881us/step - loss: 70.1892\n",
            "Epoch 2/100\n",
            "32/32 [==============================] - 0s 818us/step - loss: 0.3393\n",
            "Epoch 3/100\n",
            "32/32 [==============================] - 0s 2ms/step - loss: 0.3273\n",
            "Epoch 4/100\n",
            "32/32 [==============================] - 0s 923us/step - loss: 0.3540\n",
            "Epoch 5/100\n",
            "32/32 [==============================] - 0s 911us/step - loss: 0.3460\n",
            "Epoch 6/100\n",
            "32/32 [==============================] - 0s 897us/step - loss: 0.3684\n",
            "Epoch 7/100\n",
            "32/32 [==============================] - 0s 824us/step - loss: 0.3552\n",
            "Epoch 8/100\n",
            "32/32 [==============================] - 0s 852us/step - loss: 0.3390\n",
            "Epoch 9/100\n",
            "32/32 [==============================] - 0s 912us/step - loss: 0.3420\n",
            "Epoch 10/100\n",
            "32/32 [==============================] - 0s 888us/step - loss: 0.3329\n",
            "Epoch 11/100\n",
            "32/32 [==============================] - 0s 1ms/step - loss: 0.3668\n",
            "Epoch 12/100\n",
            "32/32 [==============================] - 0s 976us/step - loss: 0.3514\n",
            "Epoch 13/100\n",
            "32/32 [==============================] - 0s 920us/step - loss: 0.3468\n",
            "Epoch 14/100\n",
            "32/32 [==============================] - 0s 982us/step - loss: 0.3468\n",
            "Epoch 15/100\n",
            "32/32 [==============================] - 0s 1ms/step - loss: 0.3398\n",
            "Epoch 16/100\n",
            "32/32 [==============================] - 0s 920us/step - loss: 0.3460\n",
            "Epoch 17/100\n",
            "32/32 [==============================] - 0s 1ms/step - loss: 0.3624\n",
            "Epoch 18/100\n",
            "32/32 [==============================] - 0s 869us/step - loss: 0.3461\n",
            "Epoch 19/100\n",
            "32/32 [==============================] - 0s 912us/step - loss: 0.3503\n",
            "Epoch 20/100\n",
            "32/32 [==============================] - 0s 943us/step - loss: 0.3554\n",
            "Epoch 21/100\n",
            "32/32 [==============================] - 0s 797us/step - loss: 0.3452\n",
            "Epoch 22/100\n",
            "32/32 [==============================] - 0s 911us/step - loss: 0.3342\n",
            "Epoch 23/100\n",
            "32/32 [==============================] - 0s 798us/step - loss: 0.3419\n",
            "Epoch 24/100\n",
            "32/32 [==============================] - 0s 939us/step - loss: 0.3483\n",
            "Epoch 25/100\n",
            "32/32 [==============================] - 0s 988us/step - loss: 0.3657\n",
            "Epoch 26/100\n",
            "32/32 [==============================] - 0s 887us/step - loss: 0.3550\n",
            "Epoch 27/100\n",
            "32/32 [==============================] - 0s 930us/step - loss: 0.3382\n",
            "Epoch 28/100\n",
            "32/32 [==============================] - 0s 904us/step - loss: 0.3569\n",
            "Epoch 29/100\n",
            "32/32 [==============================] - 0s 963us/step - loss: 0.3629\n",
            "Epoch 30/100\n",
            "32/32 [==============================] - 0s 952us/step - loss: 0.3613\n",
            "Epoch 31/100\n",
            "32/32 [==============================] - 0s 897us/step - loss: 0.3792\n",
            "Epoch 32/100\n",
            "32/32 [==============================] - 0s 789us/step - loss: 0.3497\n",
            "Epoch 33/100\n",
            "32/32 [==============================] - 0s 907us/step - loss: 0.3401\n",
            "Epoch 34/100\n",
            "32/32 [==============================] - 0s 869us/step - loss: 0.3450\n",
            "Epoch 35/100\n",
            "32/32 [==============================] - 0s 1ms/step - loss: 0.3579\n",
            "Epoch 36/100\n",
            "32/32 [==============================] - 0s 1ms/step - loss: 0.3590\n",
            "Epoch 37/100\n",
            "32/32 [==============================] - 0s 936us/step - loss: 0.3741\n",
            "Epoch 38/100\n",
            "32/32 [==============================] - 0s 1ms/step - loss: 0.3740\n",
            "Epoch 39/100\n",
            "32/32 [==============================] - 0s 899us/step - loss: 0.3586\n",
            "Epoch 40/100\n",
            "32/32 [==============================] - 0s 902us/step - loss: 0.3593\n",
            "Epoch 41/100\n",
            "32/32 [==============================] - 0s 867us/step - loss: 0.3547\n",
            "Epoch 42/100\n",
            "32/32 [==============================] - 0s 916us/step - loss: 0.3353\n",
            "Epoch 43/100\n",
            "32/32 [==============================] - 0s 993us/step - loss: 0.3430\n",
            "Epoch 44/100\n",
            "32/32 [==============================] - 0s 916us/step - loss: 0.3975\n",
            "Epoch 45/100\n",
            "32/32 [==============================] - 0s 1ms/step - loss: 0.3393\n",
            "Epoch 46/100\n",
            "32/32 [==============================] - 0s 1ms/step - loss: 0.3745\n",
            "Epoch 47/100\n",
            "32/32 [==============================] - 0s 952us/step - loss: 0.3542\n",
            "Epoch 48/100\n",
            "32/32 [==============================] - 0s 784us/step - loss: 0.3360\n",
            "Epoch 49/100\n",
            "32/32 [==============================] - 0s 847us/step - loss: 0.3921\n",
            "Epoch 50/100\n",
            "32/32 [==============================] - 0s 917us/step - loss: 0.3529\n",
            "Epoch 51/100\n",
            "32/32 [==============================] - 0s 866us/step - loss: 0.3762\n",
            "Epoch 52/100\n",
            "32/32 [==============================] - 0s 839us/step - loss: 0.3789\n",
            "Epoch 53/100\n",
            "32/32 [==============================] - 0s 943us/step - loss: 0.3511\n",
            "Epoch 54/100\n",
            "32/32 [==============================] - 0s 917us/step - loss: 0.3562\n",
            "Epoch 55/100\n",
            "32/32 [==============================] - 0s 885us/step - loss: 0.3698\n",
            "Epoch 56/100\n",
            "32/32 [==============================] - 0s 885us/step - loss: 0.3559\n",
            "Epoch 57/100\n",
            "32/32 [==============================] - 0s 952us/step - loss: 0.3679\n",
            "Epoch 58/100\n",
            "32/32 [==============================] - 0s 1ms/step - loss: 0.3614\n",
            "Epoch 59/100\n",
            "32/32 [==============================] - 0s 1ms/step - loss: 0.3520\n",
            "Epoch 60/100\n",
            "32/32 [==============================] - 0s 994us/step - loss: 0.3410\n",
            "Epoch 61/100\n",
            "32/32 [==============================] - 0s 843us/step - loss: 0.3539\n",
            "Epoch 62/100\n",
            "32/32 [==============================] - 0s 839us/step - loss: 0.3404\n",
            "Epoch 63/100\n",
            "32/32 [==============================] - 0s 871us/step - loss: 0.3588\n",
            "Epoch 64/100\n",
            "32/32 [==============================] - 0s 892us/step - loss: 0.3471\n",
            "Epoch 65/100\n",
            "32/32 [==============================] - 0s 953us/step - loss: 0.3538\n",
            "Epoch 66/100\n",
            "32/32 [==============================] - 0s 808us/step - loss: 0.3689\n",
            "Epoch 67/100\n",
            "32/32 [==============================] - 0s 823us/step - loss: 0.3527\n",
            "Epoch 68/100\n",
            "32/32 [==============================] - 0s 800us/step - loss: 0.3446\n",
            "Epoch 69/100\n",
            "32/32 [==============================] - 0s 864us/step - loss: 0.3567\n",
            "Epoch 70/100\n",
            "32/32 [==============================] - 0s 922us/step - loss: 0.3376\n",
            "Epoch 71/100\n",
            "32/32 [==============================] - 0s 889us/step - loss: 0.3392\n",
            "Epoch 72/100\n",
            "32/32 [==============================] - 0s 865us/step - loss: 0.3415\n",
            "Epoch 73/100\n",
            "32/32 [==============================] - 0s 939us/step - loss: 0.3448\n",
            "Epoch 74/100\n",
            "32/32 [==============================] - 0s 898us/step - loss: 0.3408\n",
            "Epoch 75/100\n",
            "32/32 [==============================] - 0s 883us/step - loss: 0.3355\n",
            "Epoch 76/100\n",
            "32/32 [==============================] - 0s 1ms/step - loss: 0.3621\n",
            "Epoch 77/100\n",
            "32/32 [==============================] - 0s 1ms/step - loss: 0.3547\n",
            "Epoch 78/100\n",
            "32/32 [==============================] - 0s 959us/step - loss: 0.3743\n",
            "Epoch 79/100\n",
            "32/32 [==============================] - 0s 976us/step - loss: 0.3462\n",
            "Epoch 80/100\n",
            "32/32 [==============================] - 0s 863us/step - loss: 0.3445\n",
            "Epoch 81/100\n",
            "32/32 [==============================] - 0s 929us/step - loss: 0.3711\n",
            "Epoch 82/100\n",
            "32/32 [==============================] - 0s 1ms/step - loss: 0.3534\n",
            "Epoch 83/100\n",
            "32/32 [==============================] - 0s 918us/step - loss: 0.3489\n",
            "Epoch 84/100\n",
            "32/32 [==============================] - 0s 894us/step - loss: 0.3326\n",
            "Epoch 85/100\n",
            "32/32 [==============================] - 0s 899us/step - loss: 0.3430\n",
            "Epoch 86/100\n",
            "32/32 [==============================] - 0s 956us/step - loss: 0.3626\n",
            "Epoch 87/100\n",
            "32/32 [==============================] - 0s 951us/step - loss: 0.3370\n",
            "Epoch 88/100\n",
            "32/32 [==============================] - 0s 847us/step - loss: 0.3295\n",
            "Epoch 89/100\n",
            "32/32 [==============================] - 0s 879us/step - loss: 0.3794\n",
            "Epoch 90/100\n",
            "32/32 [==============================] - 0s 793us/step - loss: 0.3312\n",
            "Epoch 91/100\n",
            "32/32 [==============================] - 0s 921us/step - loss: 0.3779\n",
            "Epoch 92/100\n",
            "32/32 [==============================] - 0s 905us/step - loss: 0.3485\n",
            "Epoch 93/100\n",
            "32/32 [==============================] - 0s 1ms/step - loss: 0.3430\n",
            "Epoch 94/100\n",
            "32/32 [==============================] - 0s 883us/step - loss: 0.3379\n",
            "Epoch 95/100\n",
            "32/32 [==============================] - 0s 915us/step - loss: 0.3483\n",
            "Epoch 96/100\n",
            "32/32 [==============================] - 0s 913us/step - loss: 0.3268\n",
            "Epoch 97/100\n",
            "32/32 [==============================] - 0s 1ms/step - loss: 0.3452\n",
            "Epoch 98/100\n",
            "32/32 [==============================] - 0s 886us/step - loss: 0.3418\n",
            "Epoch 99/100\n",
            "32/32 [==============================] - 0s 891us/step - loss: 0.3459\n",
            "Epoch 100/100\n",
            "32/32 [==============================] - 0s 1ms/step - loss: 0.3572\n"
          ],
          "name": "stdout"
        },
        {
          "output_type": "execute_result",
          "data": {
            "text/plain": [
              "<tensorflow.python.keras.callbacks.History at 0x7ff246582550>"
            ]
          },
          "metadata": {
            "tags": []
          },
          "execution_count": 9
        }
      ]
    },
    {
      "cell_type": "code",
      "metadata": {
        "colab": {
          "base_uri": "https://localhost:8080/",
          "height": 282
        },
        "id": "9KhWtxBCWWhj",
        "outputId": "2d1551bf-f55b-4367-d9ce-6f9403c8ca7f"
      },
      "source": [
        "loss_df=pd.DataFrame(model.history.history)\r\n",
        "plt.plot(loss_df)"
      ],
      "execution_count": 10,
      "outputs": [
        {
          "output_type": "execute_result",
          "data": {
            "text/plain": [
              "[<matplotlib.lines.Line2D at 0x7ff243f1d9e8>]"
            ]
          },
          "metadata": {
            "tags": []
          },
          "execution_count": 10
        },
        {
          "output_type": "display_data",
          "data": {
            "image/png": "[encoded data removed]",
            "text/plain": [
              "<Figure size 432x288 with 1 Axes>"
            ]
          },
          "metadata": {
            "tags": [],
            "needs_background": "light"
          }
        }
      ]
    },
    {
      "cell_type": "code",
      "metadata": {
        "id": "QUJU9i2sWWdv"
      },
      "source": [
        "prediction=model.predict_on_batch(training_data['inputs'])"
      ],
      "execution_count": 11,
      "outputs": []
    },
    {
      "cell_type": "code",
      "metadata": {
        "colab": {
          "base_uri": "https://localhost:8080/",
          "height": 282
        },
        "id": "Qg3PKRolWWbi",
        "outputId": "432c173b-4a68-43b6-fb2f-68b52a7d7795"
      },
      "source": [
        "plt.scatter(prediction,training_data['targets'])"
      ],
      "execution_count": 12,
      "outputs": [
        {
          "output_type": "execute_result",
          "data": {
            "text/plain": [
              "<matplotlib.collections.PathCollection at 0x7ff2439b4b00>"
            ]
          },
          "metadata": {
            "tags": []
          },
          "execution_count": 12
        },
        {
          "output_type": "display_data",
          "data": {
            "image/png": "[encoded data removed]",
            "text/plain": [
              "<Figure size 432x288 with 1 Axes>"
            ]
          },
          "metadata": {
            "tags": [],
            "needs_background": "light"
          }
        }
      ]
    },
    {
      "cell_type": "code",
      "metadata": {
        "id": "6uGtYq49WWYa"
      },
      "source": [
        ""
      ],
      "execution_count": null,
      "outputs": []
    },
    {
      "cell_type": "code",
      "metadata": {
        "id": "UWBLGJvNWWVb"
      },
      "source": [
        ""
      ],
      "execution_count": null,
      "outputs": []
    },
    {
      "cell_type": "code",
      "metadata": {
        "id": "MnEkiApYWWSK"
      },
      "source": [
        ""
      ],
      "execution_count": null,
      "outputs": []
    },
    {
      "cell_type": "code",
      "metadata": {
        "id": "oZtytRZlWWO2"
      },
      "source": [
        ""
      ],
      "execution_count": null,
      "outputs": []
    }
  ]
}