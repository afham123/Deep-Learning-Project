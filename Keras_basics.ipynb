{
  "nbformat": 4,
  "nbformat_minor": 0,
  "metadata": {
    "colab": {
      "name": "Keras_basics.ipynb",
      "provenance": [],
      "authorship_tag": "ABX9TyNWJ0425m0wvgbXspgHNirJ",
      "include_colab_link": true
    },
    "kernelspec": {
      "name": "python3",
      "display_name": "Python 3"
    }
  },
  "cells": [
    {
      "cell_type": "markdown",
      "metadata": {
        "id": "view-in-github",
        "colab_type": "text"
      },
      "source": [
        "<a href=\"https://colab.research.google.com/github/afham123/Deep-Learning-Project/blob/main/Keras_basics.ipynb\" target=\"_parent\"><img src=\"https://colab.research.google.com/assets/colab-badge.svg\" alt=\"Open In Colab\"/></a>"
      ]
    },
    {
      "cell_type": "code",
      "metadata": {
        "id": "LiDahNsaldfT"
      },
      "source": [
        "import numpy as np\r\n",
        "import pandas as pd\r\n",
        "import matplotlib.pyplot as plt\r\n",
        "import seaborn as sns\r\n",
        "from numpy import genfromtxt\r\n",
        "%matplotlib inline"
      ],
      "execution_count": 1,
      "outputs": []
    },
    {
      "cell_type": "code",
      "metadata": {
        "colab": {
          "resources": {
            "http://localhost:8080/nbextensions/google.colab/files.js": {
              "data": "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",
              "ok": true,
              "headers": [
                [
                  "content-type",
                  "application/javascript"
                ]
              ],
              "status": 200,
              "status_text": ""
            }
          },
          "base_uri": "https://localhost:8080/",
          "height": 72
        },
        "id": "pgKTBOdnlwFf",
        "outputId": "2dd43d98-8950-45c2-af37-c2fa023fe684"
      },
      "source": [
        "from google.colab import files\r\n",
        "uploaded = files.upload()"
      ],
      "execution_count": 4,
      "outputs": [
        {
          "output_type": "display_data",
          "data": {
            "text/html": [
              "\n",
              "     <input type=\"file\" id=\"files-2f43c120-bd83-40e8-b935-f703d8d2d0f4\" name=\"files[]\" multiple disabled\n",
              "        style=\"border:none\" />\n",
              "     <output id=\"result-2f43c120-bd83-40e8-b935-f703d8d2d0f4\">\n",
              "      Upload widget is only available when the cell has been executed in the\n",
              "      current browser session. Please rerun this cell to enable.\n",
              "      </output>\n",
              "      <script src=\"/nbextensions/google.colab/files.js\"></script> "
            ],
            "text/plain": [
              "<IPython.core.display.HTML object>"
            ]
          },
          "metadata": {
            "tags": []
          }
        },
        {
          "output_type": "stream",
          "text": [
            "Saving bank_note_data.txt to bank_note_data.txt\n"
          ],
          "name": "stdout"
        }
      ]
    },
    {
      "cell_type": "code",
      "metadata": {
        "colab": {
          "base_uri": "https://localhost:8080/"
        },
        "id": "RuabAp9ymL0U",
        "outputId": "f7faaa0f-72f5-4798-c704-5ef255379058"
      },
      "source": [
        "data = genfromtxt('bank_note_data.txt', delimiter=',')\r\n",
        "data"
      ],
      "execution_count": 5,
      "outputs": [
        {
          "output_type": "execute_result",
          "data": {
            "text/plain": [
              "array([[  3.6216 ,   8.6661 ,  -2.8073 ,  -0.44699,   0.     ],\n",
              "       [  4.5459 ,   8.1674 ,  -2.4586 ,  -1.4621 ,   0.     ],\n",
              "       [  3.866  ,  -2.6383 ,   1.9242 ,   0.10645,   0.     ],\n",
              "       ...,\n",
              "       [ -3.7503 , -13.4586 ,  17.5932 ,  -2.7771 ,   1.     ],\n",
              "       [ -3.5637 ,  -8.3827 ,  12.393  ,  -1.2823 ,   1.     ],\n",
              "       [ -2.5419 ,  -0.65804,   2.6842 ,   1.1952 ,   1.     ]])"
            ]
          },
          "metadata": {
            "tags": []
          },
          "execution_count": 5
        }
      ]
    },
    {
      "cell_type": "code",
      "metadata": {
        "id": "p1jYAIRloaR7"
      },
      "source": [
        "label=data[:,4]"
      ],
      "execution_count": 6,
      "outputs": []
    },
    {
      "cell_type": "code",
      "metadata": {
        "id": "PAnwOMj0o6kX"
      },
      "source": [
        "features=data[:,0:4]"
      ],
      "execution_count": 7,
      "outputs": []
    },
    {
      "cell_type": "code",
      "metadata": {
        "colab": {
          "base_uri": "https://localhost:8080/"
        },
        "id": "CfrICMnwpVXG",
        "outputId": "96087fd4-5068-4670-d8de-80964efbd276"
      },
      "source": [
        "features"
      ],
      "execution_count": 8,
      "outputs": [
        {
          "output_type": "execute_result",
          "data": {
            "text/plain": [
              "array([[  3.6216 ,   8.6661 ,  -2.8073 ,  -0.44699],\n",
              "       [  4.5459 ,   8.1674 ,  -2.4586 ,  -1.4621 ],\n",
              "       [  3.866  ,  -2.6383 ,   1.9242 ,   0.10645],\n",
              "       ...,\n",
              "       [ -3.7503 , -13.4586 ,  17.5932 ,  -2.7771 ],\n",
              "       [ -3.5637 ,  -8.3827 ,  12.393  ,  -1.2823 ],\n",
              "       [ -2.5419 ,  -0.65804,   2.6842 ,   1.1952 ]])"
            ]
          },
          "metadata": {
            "tags": []
          },
          "execution_count": 8
        }
      ]
    },
    {
      "cell_type": "code",
      "metadata": {
        "colab": {
          "base_uri": "https://localhost:8080/"
        },
        "id": "-Zu00N2jpX6-",
        "outputId": "7f66f31d-d465-4bd6-ccf1-6e2b089bd82d"
      },
      "source": [
        "label.shape"
      ],
      "execution_count": 38,
      "outputs": [
        {
          "output_type": "execute_result",
          "data": {
            "text/plain": [
              "(1372,)"
            ]
          },
          "metadata": {
            "tags": []
          },
          "execution_count": 38
        }
      ]
    },
    {
      "cell_type": "code",
      "metadata": {
        "id": "mDLy-WdwpZUS"
      },
      "source": [
        "X=features\r\n",
        "y=label"
      ],
      "execution_count": 10,
      "outputs": []
    },
    {
      "cell_type": "code",
      "metadata": {
        "colab": {
          "base_uri": "https://localhost:8080/"
        },
        "id": "2e_RETPpuhGf",
        "outputId": "a7aec9ea-1c95-47d6-fb61-406664e21709"
      },
      "source": [
        "print(X_train.shape)\r\n",
        "print(y_train.shape)"
      ],
      "execution_count": 40,
      "outputs": [
        {
          "output_type": "stream",
          "text": [
            "(919, 4)\n",
            "(919,)\n"
          ],
          "name": "stdout"
        }
      ]
    },
    {
      "cell_type": "code",
      "metadata": {
        "id": "Zw-PRh-Zpexk"
      },
      "source": [
        "from sklearn.model_selection import train_test_split\r\n",
        "X_train,X_test,y_train,y_test=train_test_split(X,y,random_state=42,test_size=0.33)"
      ],
      "execution_count": 41,
      "outputs": []
    },
    {
      "cell_type": "code",
      "metadata": {
        "id": "gMrfwjP-p7HR"
      },
      "source": [
        "from sklearn.preprocessing import MinMaxScaler"
      ],
      "execution_count": 42,
      "outputs": []
    },
    {
      "cell_type": "code",
      "metadata": {
        "id": "bHFCb4Cyqajt"
      },
      "source": [
        "scaler=MinMaxScaler()\r\n",
        "scaler.fit(X_train)\r\n",
        "X_train=scaler.transform(X_train)\r\n",
        "X_test=scaler.transform(X_test)"
      ],
      "execution_count": 43,
      "outputs": []
    },
    {
      "cell_type": "code",
      "metadata": {
        "id": "NIdVe8G6qoiT"
      },
      "source": [
        "from keras.models import Sequential\r\n",
        "from keras.layers import Dense"
      ],
      "execution_count": 44,
      "outputs": []
    },
    {
      "cell_type": "code",
      "metadata": {
        "id": "37IY8t6VrUiK"
      },
      "source": [
        "model=Sequential()\r\n",
        "\r\n",
        "model.add(Dense(4,input_dim=4,activation='relu'))\r\n",
        "\r\n",
        "model.add(Dense(8,activation='relu'))\r\n",
        "\r\n",
        "model.add(Dense(1,activation='sigmoid'))"
      ],
      "execution_count": 45,
      "outputs": []
    },
    {
      "cell_type": "code",
      "metadata": {
        "id": "AxMyeREAr-D8"
      },
      "source": [
        "model.compile(loss='binary_crossentropy',optimizer='adam',metrics=['accuracy',])"
      ],
      "execution_count": 46,
      "outputs": []
    },
    {
      "cell_type": "code",
      "metadata": {
        "colab": {
          "base_uri": "https://localhost:8080/"
        },
        "id": "nwL8v_SQtLSM",
        "outputId": "666fbcb3-75d5-4375-959f-20aea3eb2c00"
      },
      "source": [
        "y_train.shape"
      ],
      "execution_count": 47,
      "outputs": [
        {
          "output_type": "execute_result",
          "data": {
            "text/plain": [
              "(919,)"
            ]
          },
          "metadata": {
            "tags": []
          },
          "execution_count": 47
        }
      ]
    },
    {
      "cell_type": "code",
      "metadata": {
        "colab": {
          "base_uri": "https://localhost:8080/"
        },
        "id": "hAs_lubzsnwc",
        "outputId": "15b223a8-7841-48b5-a9ff-a275c564b24e"
      },
      "source": [
        "model.fit(X_train,y_train,epochs=250,verbose=2,validation_data=(X_test,y_test))"
      ],
      "execution_count": 48,
      "outputs": [
        {
          "output_type": "stream",
          "text": [
            "Epoch 1/250\n",
            "29/29 - 1s - loss: 0.6928 - accuracy: 0.5495 - val_loss: 0.6794 - val_accuracy: 0.5673\n",
            "Epoch 2/250\n",
            "29/29 - 0s - loss: 0.6837 - accuracy: 0.5495 - val_loss: 0.6709 - val_accuracy: 0.5673\n",
            "Epoch 3/250\n",
            "29/29 - 0s - loss: 0.6750 - accuracy: 0.5495 - val_loss: 0.6613 - val_accuracy: 0.5673\n",
            "Epoch 4/250\n",
            "29/29 - 0s - loss: 0.6655 - accuracy: 0.5495 - val_loss: 0.6504 - val_accuracy: 0.5673\n",
            "Epoch 5/250\n",
            "29/29 - 0s - loss: 0.6515 - accuracy: 0.5495 - val_loss: 0.6345 - val_accuracy: 0.5673\n",
            "Epoch 6/250\n",
            "29/29 - 0s - loss: 0.6344 - accuracy: 0.5495 - val_loss: 0.6168 - val_accuracy: 0.5673\n",
            "Epoch 7/250\n",
            "29/29 - 0s - loss: 0.6166 - accuracy: 0.5495 - val_loss: 0.6005 - val_accuracy: 0.5695\n",
            "Epoch 8/250\n",
            "29/29 - 0s - loss: 0.5997 - accuracy: 0.6202 - val_loss: 0.5844 - val_accuracy: 0.6600\n",
            "Epoch 9/250\n",
            "29/29 - 0s - loss: 0.5817 - accuracy: 0.6681 - val_loss: 0.5674 - val_accuracy: 0.7307\n",
            "Epoch 10/250\n",
            "29/29 - 0s - loss: 0.5628 - accuracy: 0.7606 - val_loss: 0.5510 - val_accuracy: 0.7704\n",
            "Epoch 11/250\n",
            "29/29 - 0s - loss: 0.5458 - accuracy: 0.7911 - val_loss: 0.5348 - val_accuracy: 0.7991\n",
            "Epoch 12/250\n",
            "29/29 - 0s - loss: 0.5288 - accuracy: 0.8030 - val_loss: 0.5194 - val_accuracy: 0.8035\n",
            "Epoch 13/250\n",
            "29/29 - 0s - loss: 0.5123 - accuracy: 0.8107 - val_loss: 0.5039 - val_accuracy: 0.8079\n",
            "Epoch 14/250\n",
            "29/29 - 0s - loss: 0.4968 - accuracy: 0.8161 - val_loss: 0.4888 - val_accuracy: 0.8168\n",
            "Epoch 15/250\n",
            "29/29 - 0s - loss: 0.4816 - accuracy: 0.8292 - val_loss: 0.4738 - val_accuracy: 0.8234\n",
            "Epoch 16/250\n",
            "29/29 - 0s - loss: 0.4663 - accuracy: 0.8281 - val_loss: 0.4584 - val_accuracy: 0.8366\n",
            "Epoch 17/250\n",
            "29/29 - 0s - loss: 0.4508 - accuracy: 0.8651 - val_loss: 0.4433 - val_accuracy: 0.8609\n",
            "Epoch 18/250\n",
            "29/29 - 0s - loss: 0.4351 - accuracy: 0.8738 - val_loss: 0.4277 - val_accuracy: 0.8808\n",
            "Epoch 19/250\n",
            "29/29 - 0s - loss: 0.4194 - accuracy: 0.8901 - val_loss: 0.4124 - val_accuracy: 0.8874\n",
            "Epoch 20/250\n",
            "29/29 - 0s - loss: 0.4049 - accuracy: 0.8901 - val_loss: 0.3970 - val_accuracy: 0.8985\n",
            "Epoch 21/250\n",
            "29/29 - 0s - loss: 0.3879 - accuracy: 0.9064 - val_loss: 0.3749 - val_accuracy: 0.9007\n",
            "Epoch 22/250\n",
            "29/29 - 0s - loss: 0.3636 - accuracy: 0.8955 - val_loss: 0.3578 - val_accuracy: 0.8874\n",
            "Epoch 23/250\n",
            "29/29 - 0s - loss: 0.3440 - accuracy: 0.9064 - val_loss: 0.3359 - val_accuracy: 0.9029\n",
            "Epoch 24/250\n",
            "29/29 - 0s - loss: 0.3276 - accuracy: 0.9032 - val_loss: 0.3194 - val_accuracy: 0.9073\n",
            "Epoch 25/250\n",
            "29/29 - 0s - loss: 0.3117 - accuracy: 0.9129 - val_loss: 0.3044 - val_accuracy: 0.9095\n",
            "Epoch 26/250\n",
            "29/29 - 0s - loss: 0.2979 - accuracy: 0.9184 - val_loss: 0.2942 - val_accuracy: 0.9029\n",
            "Epoch 27/250\n",
            "29/29 - 0s - loss: 0.2844 - accuracy: 0.9206 - val_loss: 0.2768 - val_accuracy: 0.9272\n",
            "Epoch 28/250\n",
            "29/29 - 0s - loss: 0.2724 - accuracy: 0.9238 - val_loss: 0.2668 - val_accuracy: 0.9161\n",
            "Epoch 29/250\n",
            "29/29 - 0s - loss: 0.2617 - accuracy: 0.9282 - val_loss: 0.2552 - val_accuracy: 0.9249\n",
            "Epoch 30/250\n",
            "29/29 - 0s - loss: 0.2503 - accuracy: 0.9336 - val_loss: 0.2420 - val_accuracy: 0.9360\n",
            "Epoch 31/250\n",
            "29/29 - 0s - loss: 0.2406 - accuracy: 0.9369 - val_loss: 0.2315 - val_accuracy: 0.9382\n",
            "Epoch 32/250\n",
            "29/29 - 0s - loss: 0.2304 - accuracy: 0.9402 - val_loss: 0.2232 - val_accuracy: 0.9382\n",
            "Epoch 33/250\n",
            "29/29 - 0s - loss: 0.2218 - accuracy: 0.9412 - val_loss: 0.2129 - val_accuracy: 0.9426\n",
            "Epoch 34/250\n",
            "29/29 - 0s - loss: 0.2130 - accuracy: 0.9391 - val_loss: 0.2055 - val_accuracy: 0.9404\n",
            "Epoch 35/250\n",
            "29/29 - 0s - loss: 0.2051 - accuracy: 0.9467 - val_loss: 0.1966 - val_accuracy: 0.9426\n",
            "Epoch 36/250\n",
            "29/29 - 0s - loss: 0.1980 - accuracy: 0.9478 - val_loss: 0.1883 - val_accuracy: 0.9448\n",
            "Epoch 37/250\n",
            "29/29 - 0s - loss: 0.1910 - accuracy: 0.9445 - val_loss: 0.1825 - val_accuracy: 0.9448\n",
            "Epoch 38/250\n",
            "29/29 - 0s - loss: 0.1838 - accuracy: 0.9434 - val_loss: 0.1767 - val_accuracy: 0.9448\n",
            "Epoch 39/250\n",
            "29/29 - 0s - loss: 0.1772 - accuracy: 0.9478 - val_loss: 0.1689 - val_accuracy: 0.9448\n",
            "Epoch 40/250\n",
            "29/29 - 0s - loss: 0.1711 - accuracy: 0.9445 - val_loss: 0.1618 - val_accuracy: 0.9492\n",
            "Epoch 41/250\n",
            "29/29 - 0s - loss: 0.1655 - accuracy: 0.9510 - val_loss: 0.1558 - val_accuracy: 0.9558\n",
            "Epoch 42/250\n",
            "29/29 - 0s - loss: 0.1604 - accuracy: 0.9456 - val_loss: 0.1511 - val_accuracy: 0.9536\n",
            "Epoch 43/250\n",
            "29/29 - 0s - loss: 0.1549 - accuracy: 0.9510 - val_loss: 0.1463 - val_accuracy: 0.9536\n",
            "Epoch 44/250\n",
            "29/29 - 0s - loss: 0.1502 - accuracy: 0.9532 - val_loss: 0.1402 - val_accuracy: 0.9581\n",
            "Epoch 45/250\n",
            "29/29 - 0s - loss: 0.1454 - accuracy: 0.9576 - val_loss: 0.1356 - val_accuracy: 0.9581\n",
            "Epoch 46/250\n",
            "29/29 - 0s - loss: 0.1411 - accuracy: 0.9532 - val_loss: 0.1332 - val_accuracy: 0.9536\n",
            "Epoch 47/250\n",
            "29/29 - 0s - loss: 0.1364 - accuracy: 0.9576 - val_loss: 0.1277 - val_accuracy: 0.9625\n",
            "Epoch 48/250\n",
            "29/29 - 0s - loss: 0.1353 - accuracy: 0.9576 - val_loss: 0.1251 - val_accuracy: 0.9625\n",
            "Epoch 49/250\n",
            "29/29 - 0s - loss: 0.1291 - accuracy: 0.9554 - val_loss: 0.1201 - val_accuracy: 0.9647\n",
            "Epoch 50/250\n",
            "29/29 - 0s - loss: 0.1249 - accuracy: 0.9587 - val_loss: 0.1165 - val_accuracy: 0.9669\n",
            "Epoch 51/250\n",
            "29/29 - 0s - loss: 0.1211 - accuracy: 0.9597 - val_loss: 0.1124 - val_accuracy: 0.9669\n",
            "Epoch 52/250\n",
            "29/29 - 0s - loss: 0.1178 - accuracy: 0.9619 - val_loss: 0.1100 - val_accuracy: 0.9757\n",
            "Epoch 53/250\n",
            "29/29 - 0s - loss: 0.1156 - accuracy: 0.9608 - val_loss: 0.1070 - val_accuracy: 0.9757\n",
            "Epoch 54/250\n",
            "29/29 - 0s - loss: 0.1132 - accuracy: 0.9597 - val_loss: 0.1038 - val_accuracy: 0.9757\n",
            "Epoch 55/250\n",
            "29/29 - 0s - loss: 0.1098 - accuracy: 0.9641 - val_loss: 0.1027 - val_accuracy: 0.9757\n",
            "Epoch 56/250\n",
            "29/29 - 0s - loss: 0.1060 - accuracy: 0.9674 - val_loss: 0.0977 - val_accuracy: 0.9779\n",
            "Epoch 57/250\n",
            "29/29 - 0s - loss: 0.1033 - accuracy: 0.9695 - val_loss: 0.0960 - val_accuracy: 0.9801\n",
            "Epoch 58/250\n",
            "29/29 - 0s - loss: 0.1016 - accuracy: 0.9663 - val_loss: 0.0919 - val_accuracy: 0.9647\n",
            "Epoch 59/250\n",
            "29/29 - 0s - loss: 0.1013 - accuracy: 0.9695 - val_loss: 0.0894 - val_accuracy: 0.9713\n",
            "Epoch 60/250\n",
            "29/29 - 0s - loss: 0.0979 - accuracy: 0.9674 - val_loss: 0.0874 - val_accuracy: 0.9823\n",
            "Epoch 61/250\n",
            "29/29 - 0s - loss: 0.0942 - accuracy: 0.9761 - val_loss: 0.0864 - val_accuracy: 0.9823\n",
            "Epoch 62/250\n",
            "29/29 - 0s - loss: 0.0918 - accuracy: 0.9761 - val_loss: 0.0832 - val_accuracy: 0.9845\n",
            "Epoch 63/250\n",
            "29/29 - 0s - loss: 0.0900 - accuracy: 0.9782 - val_loss: 0.0826 - val_accuracy: 0.9845\n",
            "Epoch 64/250\n",
            "29/29 - 0s - loss: 0.0881 - accuracy: 0.9782 - val_loss: 0.0815 - val_accuracy: 0.9823\n",
            "Epoch 65/250\n",
            "29/29 - 0s - loss: 0.0859 - accuracy: 0.9771 - val_loss: 0.0783 - val_accuracy: 0.9845\n",
            "Epoch 66/250\n",
            "29/29 - 0s - loss: 0.0843 - accuracy: 0.9815 - val_loss: 0.0761 - val_accuracy: 0.9890\n",
            "Epoch 67/250\n",
            "29/29 - 0s - loss: 0.0837 - accuracy: 0.9815 - val_loss: 0.0741 - val_accuracy: 0.9801\n",
            "Epoch 68/250\n",
            "29/29 - 0s - loss: 0.0819 - accuracy: 0.9750 - val_loss: 0.0774 - val_accuracy: 0.9845\n",
            "Epoch 69/250\n",
            "29/29 - 0s - loss: 0.0791 - accuracy: 0.9826 - val_loss: 0.0720 - val_accuracy: 0.9890\n",
            "Epoch 70/250\n",
            "29/29 - 0s - loss: 0.0771 - accuracy: 0.9837 - val_loss: 0.0718 - val_accuracy: 0.9890\n",
            "Epoch 71/250\n",
            "29/29 - 0s - loss: 0.0754 - accuracy: 0.9869 - val_loss: 0.0683 - val_accuracy: 0.9912\n",
            "Epoch 72/250\n",
            "29/29 - 0s - loss: 0.0746 - accuracy: 0.9869 - val_loss: 0.0667 - val_accuracy: 0.9934\n",
            "Epoch 73/250\n",
            "29/29 - 0s - loss: 0.0725 - accuracy: 0.9848 - val_loss: 0.0658 - val_accuracy: 0.9912\n",
            "Epoch 74/250\n",
            "29/29 - 0s - loss: 0.0707 - accuracy: 0.9891 - val_loss: 0.0650 - val_accuracy: 0.9912\n",
            "Epoch 75/250\n",
            "29/29 - 0s - loss: 0.0695 - accuracy: 0.9880 - val_loss: 0.0642 - val_accuracy: 0.9912\n",
            "Epoch 76/250\n",
            "29/29 - 0s - loss: 0.0680 - accuracy: 0.9902 - val_loss: 0.0628 - val_accuracy: 0.9912\n",
            "Epoch 77/250\n",
            "29/29 - 0s - loss: 0.0667 - accuracy: 0.9902 - val_loss: 0.0603 - val_accuracy: 0.9934\n",
            "Epoch 78/250\n",
            "29/29 - 0s - loss: 0.0644 - accuracy: 0.9924 - val_loss: 0.0612 - val_accuracy: 0.9934\n",
            "Epoch 79/250\n",
            "29/29 - 0s - loss: 0.0637 - accuracy: 0.9924 - val_loss: 0.0579 - val_accuracy: 0.9890\n",
            "Epoch 80/250\n",
            "29/29 - 0s - loss: 0.0621 - accuracy: 0.9946 - val_loss: 0.0584 - val_accuracy: 0.9934\n",
            "Epoch 81/250\n",
            "29/29 - 0s - loss: 0.0605 - accuracy: 0.9902 - val_loss: 0.0563 - val_accuracy: 0.9934\n",
            "Epoch 82/250\n",
            "29/29 - 0s - loss: 0.0595 - accuracy: 0.9956 - val_loss: 0.0552 - val_accuracy: 0.9934\n",
            "Epoch 83/250\n",
            "29/29 - 0s - loss: 0.0580 - accuracy: 0.9956 - val_loss: 0.0533 - val_accuracy: 0.9912\n",
            "Epoch 84/250\n",
            "29/29 - 0s - loss: 0.0569 - accuracy: 0.9913 - val_loss: 0.0539 - val_accuracy: 0.9934\n",
            "Epoch 85/250\n",
            "29/29 - 0s - loss: 0.0561 - accuracy: 0.9956 - val_loss: 0.0524 - val_accuracy: 0.9934\n",
            "Epoch 86/250\n",
            "29/29 - 0s - loss: 0.0541 - accuracy: 0.9956 - val_loss: 0.0511 - val_accuracy: 0.9934\n",
            "Epoch 87/250\n",
            "29/29 - 0s - loss: 0.0531 - accuracy: 0.9956 - val_loss: 0.0498 - val_accuracy: 0.9956\n",
            "Epoch 88/250\n",
            "29/29 - 0s - loss: 0.0521 - accuracy: 0.9946 - val_loss: 0.0488 - val_accuracy: 0.9956\n",
            "Epoch 89/250\n",
            "29/29 - 0s - loss: 0.0511 - accuracy: 0.9946 - val_loss: 0.0474 - val_accuracy: 0.9956\n",
            "Epoch 90/250\n",
            "29/29 - 0s - loss: 0.0501 - accuracy: 0.9956 - val_loss: 0.0465 - val_accuracy: 0.9956\n",
            "Epoch 91/250\n",
            "29/29 - 0s - loss: 0.0491 - accuracy: 0.9956 - val_loss: 0.0461 - val_accuracy: 0.9956\n",
            "Epoch 92/250\n",
            "29/29 - 0s - loss: 0.0484 - accuracy: 0.9956 - val_loss: 0.0460 - val_accuracy: 0.9956\n",
            "Epoch 93/250\n",
            "29/29 - 0s - loss: 0.0470 - accuracy: 0.9956 - val_loss: 0.0438 - val_accuracy: 0.9956\n",
            "Epoch 94/250\n",
            "29/29 - 0s - loss: 0.0464 - accuracy: 0.9956 - val_loss: 0.0432 - val_accuracy: 0.9956\n",
            "Epoch 95/250\n",
            "29/29 - 0s - loss: 0.0453 - accuracy: 0.9956 - val_loss: 0.0425 - val_accuracy: 0.9956\n",
            "Epoch 96/250\n",
            "29/29 - 0s - loss: 0.0448 - accuracy: 0.9946 - val_loss: 0.0417 - val_accuracy: 0.9956\n",
            "Epoch 97/250\n",
            "29/29 - 0s - loss: 0.0439 - accuracy: 0.9967 - val_loss: 0.0405 - val_accuracy: 0.9956\n",
            "Epoch 98/250\n",
            "29/29 - 0s - loss: 0.0440 - accuracy: 0.9967 - val_loss: 0.0408 - val_accuracy: 0.9956\n",
            "Epoch 99/250\n",
            "29/29 - 0s - loss: 0.0421 - accuracy: 0.9967 - val_loss: 0.0398 - val_accuracy: 0.9956\n",
            "Epoch 100/250\n",
            "29/29 - 0s - loss: 0.0414 - accuracy: 0.9956 - val_loss: 0.0384 - val_accuracy: 0.9978\n",
            "Epoch 101/250\n",
            "29/29 - 0s - loss: 0.0412 - accuracy: 0.9967 - val_loss: 0.0376 - val_accuracy: 0.9978\n",
            "Epoch 102/250\n",
            "29/29 - 0s - loss: 0.0404 - accuracy: 0.9956 - val_loss: 0.0383 - val_accuracy: 0.9956\n",
            "Epoch 103/250\n",
            "29/29 - 0s - loss: 0.0392 - accuracy: 0.9967 - val_loss: 0.0362 - val_accuracy: 0.9978\n",
            "Epoch 104/250\n",
            "29/29 - 0s - loss: 0.0395 - accuracy: 0.9956 - val_loss: 0.0356 - val_accuracy: 0.9978\n",
            "Epoch 105/250\n",
            "29/29 - 0s - loss: 0.0388 - accuracy: 0.9967 - val_loss: 0.0378 - val_accuracy: 0.9956\n",
            "Epoch 106/250\n",
            "29/29 - 0s - loss: 0.0378 - accuracy: 0.9967 - val_loss: 0.0351 - val_accuracy: 0.9978\n",
            "Epoch 107/250\n",
            "29/29 - 0s - loss: 0.0365 - accuracy: 0.9967 - val_loss: 0.0340 - val_accuracy: 0.9978\n",
            "Epoch 108/250\n",
            "29/29 - 0s - loss: 0.0361 - accuracy: 0.9967 - val_loss: 0.0334 - val_accuracy: 0.9978\n",
            "Epoch 109/250\n",
            "29/29 - 0s - loss: 0.0357 - accuracy: 0.9956 - val_loss: 0.0335 - val_accuracy: 0.9978\n",
            "Epoch 110/250\n",
            "29/29 - 0s - loss: 0.0352 - accuracy: 0.9967 - val_loss: 0.0323 - val_accuracy: 0.9978\n",
            "Epoch 111/250\n",
            "29/29 - 0s - loss: 0.0345 - accuracy: 0.9967 - val_loss: 0.0327 - val_accuracy: 0.9978\n",
            "Epoch 112/250\n",
            "29/29 - 0s - loss: 0.0342 - accuracy: 0.9967 - val_loss: 0.0327 - val_accuracy: 0.9956\n",
            "Epoch 113/250\n",
            "29/29 - 0s - loss: 0.0334 - accuracy: 0.9967 - val_loss: 0.0325 - val_accuracy: 0.9978\n",
            "Epoch 114/250\n",
            "29/29 - 0s - loss: 0.0329 - accuracy: 0.9967 - val_loss: 0.0306 - val_accuracy: 0.9978\n",
            "Epoch 115/250\n",
            "29/29 - 0s - loss: 0.0321 - accuracy: 0.9967 - val_loss: 0.0300 - val_accuracy: 0.9978\n",
            "Epoch 116/250\n",
            "29/29 - 0s - loss: 0.0317 - accuracy: 0.9967 - val_loss: 0.0306 - val_accuracy: 0.9978\n",
            "Epoch 117/250\n",
            "29/29 - 0s - loss: 0.0319 - accuracy: 0.9967 - val_loss: 0.0289 - val_accuracy: 0.9978\n",
            "Epoch 118/250\n",
            "29/29 - 0s - loss: 0.0305 - accuracy: 0.9967 - val_loss: 0.0293 - val_accuracy: 0.9978\n",
            "Epoch 119/250\n",
            "29/29 - 0s - loss: 0.0301 - accuracy: 0.9967 - val_loss: 0.0280 - val_accuracy: 0.9978\n",
            "Epoch 120/250\n",
            "29/29 - 0s - loss: 0.0296 - accuracy: 0.9967 - val_loss: 0.0275 - val_accuracy: 0.9978\n",
            "Epoch 121/250\n",
            "29/29 - 0s - loss: 0.0294 - accuracy: 0.9967 - val_loss: 0.0272 - val_accuracy: 0.9978\n",
            "Epoch 122/250\n",
            "29/29 - 0s - loss: 0.0288 - accuracy: 0.9967 - val_loss: 0.0278 - val_accuracy: 0.9978\n",
            "Epoch 123/250\n",
            "29/29 - 0s - loss: 0.0287 - accuracy: 0.9967 - val_loss: 0.0263 - val_accuracy: 0.9978\n",
            "Epoch 124/250\n",
            "29/29 - 0s - loss: 0.0282 - accuracy: 0.9967 - val_loss: 0.0266 - val_accuracy: 0.9978\n",
            "Epoch 125/250\n",
            "29/29 - 0s - loss: 0.0274 - accuracy: 0.9967 - val_loss: 0.0254 - val_accuracy: 0.9978\n",
            "Epoch 126/250\n",
            "29/29 - 0s - loss: 0.0269 - accuracy: 0.9967 - val_loss: 0.0256 - val_accuracy: 0.9978\n",
            "Epoch 127/250\n",
            "29/29 - 0s - loss: 0.0272 - accuracy: 0.9967 - val_loss: 0.0247 - val_accuracy: 0.9978\n",
            "Epoch 128/250\n",
            "29/29 - 0s - loss: 0.0263 - accuracy: 0.9967 - val_loss: 0.0260 - val_accuracy: 0.9978\n",
            "Epoch 129/250\n",
            "29/29 - 0s - loss: 0.0264 - accuracy: 0.9967 - val_loss: 0.0252 - val_accuracy: 0.9978\n",
            "Epoch 130/250\n",
            "29/29 - 0s - loss: 0.0255 - accuracy: 0.9967 - val_loss: 0.0236 - val_accuracy: 0.9978\n",
            "Epoch 131/250\n",
            "29/29 - 0s - loss: 0.0250 - accuracy: 0.9967 - val_loss: 0.0239 - val_accuracy: 0.9978\n",
            "Epoch 132/250\n",
            "29/29 - 0s - loss: 0.0248 - accuracy: 0.9967 - val_loss: 0.0240 - val_accuracy: 0.9978\n",
            "Epoch 133/250\n",
            "29/29 - 0s - loss: 0.0250 - accuracy: 0.9967 - val_loss: 0.0227 - val_accuracy: 0.9978\n",
            "Epoch 134/250\n",
            "29/29 - 0s - loss: 0.0243 - accuracy: 0.9967 - val_loss: 0.0228 - val_accuracy: 0.9978\n",
            "Epoch 135/250\n",
            "29/29 - 0s - loss: 0.0237 - accuracy: 0.9967 - val_loss: 0.0224 - val_accuracy: 0.9978\n",
            "Epoch 136/250\n",
            "29/29 - 0s - loss: 0.0234 - accuracy: 0.9967 - val_loss: 0.0216 - val_accuracy: 0.9978\n",
            "Epoch 137/250\n",
            "29/29 - 0s - loss: 0.0230 - accuracy: 0.9967 - val_loss: 0.0228 - val_accuracy: 0.9978\n",
            "Epoch 138/250\n",
            "29/29 - 0s - loss: 0.0229 - accuracy: 0.9967 - val_loss: 0.0211 - val_accuracy: 0.9978\n",
            "Epoch 139/250\n",
            "29/29 - 0s - loss: 0.0227 - accuracy: 0.9967 - val_loss: 0.0215 - val_accuracy: 0.9978\n",
            "Epoch 140/250\n",
            "29/29 - 0s - loss: 0.0220 - accuracy: 0.9967 - val_loss: 0.0208 - val_accuracy: 0.9978\n",
            "Epoch 141/250\n",
            "29/29 - 0s - loss: 0.0216 - accuracy: 0.9967 - val_loss: 0.0204 - val_accuracy: 0.9978\n",
            "Epoch 142/250\n",
            "29/29 - 0s - loss: 0.0214 - accuracy: 0.9967 - val_loss: 0.0207 - val_accuracy: 0.9978\n",
            "Epoch 143/250\n",
            "29/29 - 0s - loss: 0.0219 - accuracy: 0.9967 - val_loss: 0.0197 - val_accuracy: 0.9978\n",
            "Epoch 144/250\n",
            "29/29 - 0s - loss: 0.0213 - accuracy: 0.9989 - val_loss: 0.0194 - val_accuracy: 0.9978\n",
            "Epoch 145/250\n",
            "29/29 - 0s - loss: 0.0206 - accuracy: 0.9967 - val_loss: 0.0195 - val_accuracy: 0.9978\n",
            "Epoch 146/250\n",
            "29/29 - 0s - loss: 0.0202 - accuracy: 0.9978 - val_loss: 0.0188 - val_accuracy: 0.9978\n",
            "Epoch 147/250\n",
            "29/29 - 0s - loss: 0.0201 - accuracy: 0.9967 - val_loss: 0.0195 - val_accuracy: 1.0000\n",
            "Epoch 148/250\n",
            "29/29 - 0s - loss: 0.0198 - accuracy: 0.9967 - val_loss: 0.0183 - val_accuracy: 0.9978\n",
            "Epoch 149/250\n",
            "29/29 - 0s - loss: 0.0193 - accuracy: 0.9967 - val_loss: 0.0185 - val_accuracy: 0.9978\n",
            "Epoch 150/250\n",
            "29/29 - 0s - loss: 0.0192 - accuracy: 0.9978 - val_loss: 0.0178 - val_accuracy: 0.9978\n",
            "Epoch 151/250\n",
            "29/29 - 0s - loss: 0.0193 - accuracy: 0.9967 - val_loss: 0.0178 - val_accuracy: 0.9978\n",
            "Epoch 152/250\n",
            "29/29 - 0s - loss: 0.0186 - accuracy: 0.9978 - val_loss: 0.0180 - val_accuracy: 1.0000\n",
            "Epoch 153/250\n",
            "29/29 - 0s - loss: 0.0184 - accuracy: 0.9967 - val_loss: 0.0172 - val_accuracy: 1.0000\n",
            "Epoch 154/250\n",
            "29/29 - 0s - loss: 0.0181 - accuracy: 0.9967 - val_loss: 0.0172 - val_accuracy: 1.0000\n",
            "Epoch 155/250\n",
            "29/29 - 0s - loss: 0.0183 - accuracy: 0.9978 - val_loss: 0.0169 - val_accuracy: 1.0000\n",
            "Epoch 156/250\n",
            "29/29 - 0s - loss: 0.0180 - accuracy: 0.9989 - val_loss: 0.0168 - val_accuracy: 1.0000\n",
            "Epoch 157/250\n",
            "29/29 - 0s - loss: 0.0184 - accuracy: 0.9989 - val_loss: 0.0163 - val_accuracy: 0.9978\n",
            "Epoch 158/250\n",
            "29/29 - 0s - loss: 0.0186 - accuracy: 0.9978 - val_loss: 0.0164 - val_accuracy: 0.9978\n",
            "Epoch 159/250\n",
            "29/29 - 0s - loss: 0.0171 - accuracy: 0.9967 - val_loss: 0.0163 - val_accuracy: 1.0000\n",
            "Epoch 160/250\n",
            "29/29 - 0s - loss: 0.0168 - accuracy: 0.9967 - val_loss: 0.0162 - val_accuracy: 1.0000\n",
            "Epoch 161/250\n",
            "29/29 - 0s - loss: 0.0167 - accuracy: 0.9989 - val_loss: 0.0156 - val_accuracy: 1.0000\n",
            "Epoch 162/250\n",
            "29/29 - 0s - loss: 0.0165 - accuracy: 0.9967 - val_loss: 0.0156 - val_accuracy: 1.0000\n",
            "Epoch 163/250\n",
            "29/29 - 0s - loss: 0.0167 - accuracy: 0.9989 - val_loss: 0.0151 - val_accuracy: 1.0000\n",
            "Epoch 164/250\n",
            "29/29 - 0s - loss: 0.0160 - accuracy: 0.9978 - val_loss: 0.0152 - val_accuracy: 1.0000\n",
            "Epoch 165/250\n",
            "29/29 - 0s - loss: 0.0160 - accuracy: 0.9989 - val_loss: 0.0154 - val_accuracy: 1.0000\n",
            "Epoch 166/250\n",
            "29/29 - 0s - loss: 0.0160 - accuracy: 0.9989 - val_loss: 0.0146 - val_accuracy: 0.9978\n",
            "Epoch 167/250\n",
            "29/29 - 0s - loss: 0.0162 - accuracy: 0.9978 - val_loss: 0.0154 - val_accuracy: 1.0000\n",
            "Epoch 168/250\n",
            "29/29 - 0s - loss: 0.0150 - accuracy: 1.0000 - val_loss: 0.0141 - val_accuracy: 1.0000\n",
            "Epoch 169/250\n",
            "29/29 - 0s - loss: 0.0150 - accuracy: 0.9989 - val_loss: 0.0142 - val_accuracy: 1.0000\n",
            "Epoch 170/250\n",
            "29/29 - 0s - loss: 0.0149 - accuracy: 1.0000 - val_loss: 0.0138 - val_accuracy: 1.0000\n",
            "Epoch 171/250\n",
            "29/29 - 0s - loss: 0.0147 - accuracy: 1.0000 - val_loss: 0.0144 - val_accuracy: 1.0000\n",
            "Epoch 172/250\n",
            "29/29 - 0s - loss: 0.0145 - accuracy: 0.9989 - val_loss: 0.0138 - val_accuracy: 1.0000\n",
            "Epoch 173/250\n",
            "29/29 - 0s - loss: 0.0142 - accuracy: 1.0000 - val_loss: 0.0133 - val_accuracy: 1.0000\n",
            "Epoch 174/250\n",
            "29/29 - 0s - loss: 0.0141 - accuracy: 0.9989 - val_loss: 0.0138 - val_accuracy: 1.0000\n",
            "Epoch 175/250\n",
            "29/29 - 0s - loss: 0.0142 - accuracy: 1.0000 - val_loss: 0.0134 - val_accuracy: 1.0000\n",
            "Epoch 176/250\n",
            "29/29 - 0s - loss: 0.0139 - accuracy: 0.9989 - val_loss: 0.0132 - val_accuracy: 1.0000\n",
            "Epoch 177/250\n",
            "29/29 - 0s - loss: 0.0133 - accuracy: 1.0000 - val_loss: 0.0127 - val_accuracy: 1.0000\n",
            "Epoch 178/250\n",
            "29/29 - 0s - loss: 0.0133 - accuracy: 1.0000 - val_loss: 0.0127 - val_accuracy: 1.0000\n",
            "Epoch 179/250\n",
            "29/29 - 0s - loss: 0.0134 - accuracy: 1.0000 - val_loss: 0.0124 - val_accuracy: 1.0000\n",
            "Epoch 180/250\n",
            "29/29 - 0s - loss: 0.0136 - accuracy: 1.0000 - val_loss: 0.0124 - val_accuracy: 1.0000\n",
            "Epoch 181/250\n",
            "29/29 - 0s - loss: 0.0129 - accuracy: 1.0000 - val_loss: 0.0125 - val_accuracy: 1.0000\n",
            "Epoch 182/250\n",
            "29/29 - 0s - loss: 0.0128 - accuracy: 1.0000 - val_loss: 0.0119 - val_accuracy: 1.0000\n",
            "Epoch 183/250\n",
            "29/29 - 0s - loss: 0.0127 - accuracy: 0.9989 - val_loss: 0.0128 - val_accuracy: 1.0000\n",
            "Epoch 184/250\n",
            "29/29 - 0s - loss: 0.0124 - accuracy: 1.0000 - val_loss: 0.0116 - val_accuracy: 1.0000\n",
            "Epoch 185/250\n",
            "29/29 - 0s - loss: 0.0124 - accuracy: 1.0000 - val_loss: 0.0115 - val_accuracy: 1.0000\n",
            "Epoch 186/250\n",
            "29/29 - 0s - loss: 0.0128 - accuracy: 1.0000 - val_loss: 0.0113 - val_accuracy: 1.0000\n",
            "Epoch 187/250\n",
            "29/29 - 0s - loss: 0.0123 - accuracy: 1.0000 - val_loss: 0.0114 - val_accuracy: 1.0000\n",
            "Epoch 188/250\n",
            "29/29 - 0s - loss: 0.0119 - accuracy: 1.0000 - val_loss: 0.0112 - val_accuracy: 1.0000\n",
            "Epoch 189/250\n",
            "29/29 - 0s - loss: 0.0120 - accuracy: 0.9989 - val_loss: 0.0117 - val_accuracy: 1.0000\n",
            "Epoch 190/250\n",
            "29/29 - 0s - loss: 0.0117 - accuracy: 1.0000 - val_loss: 0.0110 - val_accuracy: 1.0000\n",
            "Epoch 191/250\n",
            "29/29 - 0s - loss: 0.0115 - accuracy: 1.0000 - val_loss: 0.0108 - val_accuracy: 1.0000\n",
            "Epoch 192/250\n",
            "29/29 - 0s - loss: 0.0112 - accuracy: 1.0000 - val_loss: 0.0109 - val_accuracy: 1.0000\n",
            "Epoch 193/250\n",
            "29/29 - 0s - loss: 0.0113 - accuracy: 1.0000 - val_loss: 0.0106 - val_accuracy: 1.0000\n",
            "Epoch 194/250\n",
            "29/29 - 0s - loss: 0.0120 - accuracy: 1.0000 - val_loss: 0.0108 - val_accuracy: 1.0000\n",
            "Epoch 195/250\n",
            "29/29 - 0s - loss: 0.0113 - accuracy: 0.9989 - val_loss: 0.0109 - val_accuracy: 1.0000\n",
            "Epoch 196/250\n",
            "29/29 - 0s - loss: 0.0109 - accuracy: 1.0000 - val_loss: 0.0101 - val_accuracy: 1.0000\n",
            "Epoch 197/250\n",
            "29/29 - 0s - loss: 0.0108 - accuracy: 1.0000 - val_loss: 0.0103 - val_accuracy: 1.0000\n",
            "Epoch 198/250\n",
            "29/29 - 0s - loss: 0.0111 - accuracy: 1.0000 - val_loss: 0.0104 - val_accuracy: 1.0000\n",
            "Epoch 199/250\n",
            "29/29 - 0s - loss: 0.0108 - accuracy: 1.0000 - val_loss: 0.0102 - val_accuracy: 1.0000\n",
            "Epoch 200/250\n",
            "29/29 - 0s - loss: 0.0103 - accuracy: 1.0000 - val_loss: 0.0100 - val_accuracy: 1.0000\n",
            "Epoch 201/250\n",
            "29/29 - 0s - loss: 0.0106 - accuracy: 1.0000 - val_loss: 0.0096 - val_accuracy: 1.0000\n",
            "Epoch 202/250\n",
            "29/29 - 0s - loss: 0.0103 - accuracy: 1.0000 - val_loss: 0.0094 - val_accuracy: 1.0000\n",
            "Epoch 203/250\n",
            "29/29 - 0s - loss: 0.0102 - accuracy: 1.0000 - val_loss: 0.0093 - val_accuracy: 1.0000\n",
            "Epoch 204/250\n",
            "29/29 - 0s - loss: 0.0099 - accuracy: 1.0000 - val_loss: 0.0094 - val_accuracy: 1.0000\n",
            "Epoch 205/250\n",
            "29/29 - 0s - loss: 0.0100 - accuracy: 1.0000 - val_loss: 0.0099 - val_accuracy: 1.0000\n",
            "Epoch 206/250\n",
            "29/29 - 0s - loss: 0.0098 - accuracy: 1.0000 - val_loss: 0.0090 - val_accuracy: 1.0000\n",
            "Epoch 207/250\n",
            "29/29 - 0s - loss: 0.0096 - accuracy: 1.0000 - val_loss: 0.0089 - val_accuracy: 1.0000\n",
            "Epoch 208/250\n",
            "29/29 - 0s - loss: 0.0095 - accuracy: 1.0000 - val_loss: 0.0098 - val_accuracy: 1.0000\n",
            "Epoch 209/250\n",
            "29/29 - 0s - loss: 0.0097 - accuracy: 1.0000 - val_loss: 0.0092 - val_accuracy: 1.0000\n",
            "Epoch 210/250\n",
            "29/29 - 0s - loss: 0.0093 - accuracy: 1.0000 - val_loss: 0.0086 - val_accuracy: 1.0000\n",
            "Epoch 211/250\n",
            "29/29 - 0s - loss: 0.0093 - accuracy: 1.0000 - val_loss: 0.0086 - val_accuracy: 1.0000\n",
            "Epoch 212/250\n",
            "29/29 - 0s - loss: 0.0092 - accuracy: 1.0000 - val_loss: 0.0092 - val_accuracy: 1.0000\n",
            "Epoch 213/250\n",
            "29/29 - 0s - loss: 0.0090 - accuracy: 1.0000 - val_loss: 0.0086 - val_accuracy: 1.0000\n",
            "Epoch 214/250\n",
            "29/29 - 0s - loss: 0.0088 - accuracy: 1.0000 - val_loss: 0.0083 - val_accuracy: 1.0000\n",
            "Epoch 215/250\n",
            "29/29 - 0s - loss: 0.0087 - accuracy: 1.0000 - val_loss: 0.0086 - val_accuracy: 1.0000\n",
            "Epoch 216/250\n",
            "29/29 - 0s - loss: 0.0086 - accuracy: 1.0000 - val_loss: 0.0084 - val_accuracy: 1.0000\n",
            "Epoch 217/250\n",
            "29/29 - 0s - loss: 0.0086 - accuracy: 1.0000 - val_loss: 0.0083 - val_accuracy: 1.0000\n",
            "Epoch 218/250\n",
            "29/29 - 0s - loss: 0.0085 - accuracy: 1.0000 - val_loss: 0.0082 - val_accuracy: 1.0000\n",
            "Epoch 219/250\n",
            "29/29 - 0s - loss: 0.0084 - accuracy: 1.0000 - val_loss: 0.0080 - val_accuracy: 1.0000\n",
            "Epoch 220/250\n",
            "29/29 - 0s - loss: 0.0082 - accuracy: 1.0000 - val_loss: 0.0079 - val_accuracy: 1.0000\n",
            "Epoch 221/250\n",
            "29/29 - 0s - loss: 0.0083 - accuracy: 1.0000 - val_loss: 0.0079 - val_accuracy: 1.0000\n",
            "Epoch 222/250\n",
            "29/29 - 0s - loss: 0.0084 - accuracy: 1.0000 - val_loss: 0.0076 - val_accuracy: 1.0000\n",
            "Epoch 223/250\n",
            "29/29 - 0s - loss: 0.0081 - accuracy: 1.0000 - val_loss: 0.0078 - val_accuracy: 1.0000\n",
            "Epoch 224/250\n",
            "29/29 - 0s - loss: 0.0081 - accuracy: 1.0000 - val_loss: 0.0079 - val_accuracy: 1.0000\n",
            "Epoch 225/250\n",
            "29/29 - 0s - loss: 0.0081 - accuracy: 1.0000 - val_loss: 0.0075 - val_accuracy: 1.0000\n",
            "Epoch 226/250\n",
            "29/29 - 0s - loss: 0.0077 - accuracy: 1.0000 - val_loss: 0.0080 - val_accuracy: 1.0000\n",
            "Epoch 227/250\n",
            "29/29 - 0s - loss: 0.0076 - accuracy: 1.0000 - val_loss: 0.0074 - val_accuracy: 1.0000\n",
            "Epoch 228/250\n",
            "29/29 - 0s - loss: 0.0080 - accuracy: 1.0000 - val_loss: 0.0075 - val_accuracy: 1.0000\n",
            "Epoch 229/250\n",
            "29/29 - 0s - loss: 0.0078 - accuracy: 1.0000 - val_loss: 0.0079 - val_accuracy: 1.0000\n",
            "Epoch 230/250\n",
            "29/29 - 0s - loss: 0.0076 - accuracy: 1.0000 - val_loss: 0.0075 - val_accuracy: 1.0000\n",
            "Epoch 231/250\n",
            "29/29 - 0s - loss: 0.0073 - accuracy: 1.0000 - val_loss: 0.0075 - val_accuracy: 1.0000\n",
            "Epoch 232/250\n",
            "29/29 - 0s - loss: 0.0074 - accuracy: 1.0000 - val_loss: 0.0072 - val_accuracy: 1.0000\n",
            "Epoch 233/250\n",
            "29/29 - 0s - loss: 0.0077 - accuracy: 1.0000 - val_loss: 0.0074 - val_accuracy: 1.0000\n",
            "Epoch 234/250\n",
            "29/29 - 0s - loss: 0.0075 - accuracy: 1.0000 - val_loss: 0.0078 - val_accuracy: 1.0000\n",
            "Epoch 235/250\n",
            "29/29 - 0s - loss: 0.0069 - accuracy: 1.0000 - val_loss: 0.0072 - val_accuracy: 1.0000\n",
            "Epoch 236/250\n",
            "29/29 - 0s - loss: 0.0069 - accuracy: 1.0000 - val_loss: 0.0070 - val_accuracy: 1.0000\n",
            "Epoch 237/250\n",
            "29/29 - 0s - loss: 0.0070 - accuracy: 1.0000 - val_loss: 0.0072 - val_accuracy: 1.0000\n",
            "Epoch 238/250\n",
            "29/29 - 0s - loss: 0.0070 - accuracy: 1.0000 - val_loss: 0.0068 - val_accuracy: 1.0000\n",
            "Epoch 239/250\n",
            "29/29 - 0s - loss: 0.0067 - accuracy: 1.0000 - val_loss: 0.0069 - val_accuracy: 1.0000\n",
            "Epoch 240/250\n",
            "29/29 - 0s - loss: 0.0066 - accuracy: 1.0000 - val_loss: 0.0075 - val_accuracy: 1.0000\n",
            "Epoch 241/250\n",
            "29/29 - 0s - loss: 0.0068 - accuracy: 1.0000 - val_loss: 0.0073 - val_accuracy: 1.0000\n",
            "Epoch 242/250\n",
            "29/29 - 0s - loss: 0.0069 - accuracy: 1.0000 - val_loss: 0.0072 - val_accuracy: 1.0000\n",
            "Epoch 243/250\n",
            "29/29 - 0s - loss: 0.0063 - accuracy: 1.0000 - val_loss: 0.0066 - val_accuracy: 1.0000\n",
            "Epoch 244/250\n",
            "29/29 - 0s - loss: 0.0064 - accuracy: 1.0000 - val_loss: 0.0072 - val_accuracy: 1.0000\n",
            "Epoch 245/250\n",
            "29/29 - 0s - loss: 0.0064 - accuracy: 1.0000 - val_loss: 0.0063 - val_accuracy: 1.0000\n",
            "Epoch 246/250\n",
            "29/29 - 0s - loss: 0.0063 - accuracy: 1.0000 - val_loss: 0.0068 - val_accuracy: 1.0000\n",
            "Epoch 247/250\n",
            "29/29 - 0s - loss: 0.0061 - accuracy: 1.0000 - val_loss: 0.0066 - val_accuracy: 1.0000\n",
            "Epoch 248/250\n",
            "29/29 - 0s - loss: 0.0060 - accuracy: 1.0000 - val_loss: 0.0062 - val_accuracy: 1.0000\n",
            "Epoch 249/250\n",
            "29/29 - 0s - loss: 0.0061 - accuracy: 1.0000 - val_loss: 0.0062 - val_accuracy: 1.0000\n",
            "Epoch 250/250\n",
            "29/29 - 0s - loss: 0.0058 - accuracy: 1.0000 - val_loss: 0.0066 - val_accuracy: 1.0000\n"
          ],
          "name": "stdout"
        },
        {
          "output_type": "execute_result",
          "data": {
            "text/plain": [
              "<tensorflow.python.keras.callbacks.History at 0x7f1247733910>"
            ]
          },
          "metadata": {
            "tags": []
          },
          "execution_count": 48
        }
      ]
    },
    {
      "cell_type": "code",
      "metadata": {
        "colab": {
          "base_uri": "https://localhost:8080/",
          "height": 204
        },
        "id": "1d1NjaK3sRkN",
        "outputId": "c2e37a71-1ed2-457f-bbc0-2d5b290850b3"
      },
      "source": [
        "loss_df=pd.DataFrame(model.history.history)\r\n",
        "loss_df.head()"
      ],
      "execution_count": 49,
      "outputs": [
        {
          "output_type": "execute_result",
          "data": {
            "text/html": [
              "<div>\n",
              "<style scoped>\n",
              "    .dataframe tbody tr th:only-of-type {\n",
              "        vertical-align: middle;\n",
              "    }\n",
              "\n",
              "    .dataframe tbody tr th {\n",
              "        vertical-align: top;\n",
              "    }\n",
              "\n",
              "    .dataframe thead th {\n",
              "        text-align: right;\n",
              "    }\n",
              "</style>\n",
              "<table border=\"1\" class=\"dataframe\">\n",
              "  <thead>\n",
              "    <tr style=\"text-align: right;\">\n",
              "      <th></th>\n",
              "      <th>loss</th>\n",
              "      <th>accuracy</th>\n",
              "      <th>val_loss</th>\n",
              "      <th>val_accuracy</th>\n",
              "    </tr>\n",
              "  </thead>\n",
              "  <tbody>\n",
              "    <tr>\n",
              "      <th>0</th>\n",
              "      <td>0.692752</td>\n",
              "      <td>0.54951</td>\n",
              "      <td>0.679408</td>\n",
              "      <td>0.567329</td>\n",
              "    </tr>\n",
              "    <tr>\n",
              "      <th>1</th>\n",
              "      <td>0.683739</td>\n",
              "      <td>0.54951</td>\n",
              "      <td>0.670908</td>\n",
              "      <td>0.567329</td>\n",
              "    </tr>\n",
              "    <tr>\n",
              "      <th>2</th>\n",
              "      <td>0.675033</td>\n",
              "      <td>0.54951</td>\n",
              "      <td>0.661289</td>\n",
              "      <td>0.567329</td>\n",
              "    </tr>\n",
              "    <tr>\n",
              "      <th>3</th>\n",
              "      <td>0.665468</td>\n",
              "      <td>0.54951</td>\n",
              "      <td>0.650401</td>\n",
              "      <td>0.567329</td>\n",
              "    </tr>\n",
              "    <tr>\n",
              "      <th>4</th>\n",
              "      <td>0.651538</td>\n",
              "      <td>0.54951</td>\n",
              "      <td>0.634505</td>\n",
              "      <td>0.567329</td>\n",
              "    </tr>\n",
              "  </tbody>\n",
              "</table>\n",
              "</div>"
            ],
            "text/plain": [
              "       loss  accuracy  val_loss  val_accuracy\n",
              "0  0.692752   0.54951  0.679408      0.567329\n",
              "1  0.683739   0.54951  0.670908      0.567329\n",
              "2  0.675033   0.54951  0.661289      0.567329\n",
              "3  0.665468   0.54951  0.650401      0.567329\n",
              "4  0.651538   0.54951  0.634505      0.567329"
            ]
          },
          "metadata": {
            "tags": []
          },
          "execution_count": 49
        }
      ]
    },
    {
      "cell_type": "code",
      "metadata": {
        "colab": {
          "base_uri": "https://localhost:8080/"
        },
        "id": "mF3N4gjdsdqQ",
        "outputId": "ed1731a8-725d-4608-bff0-cc5750661b9c"
      },
      "source": [
        "prediction=model.predict_classes(X_test)"
      ],
      "execution_count": 50,
      "outputs": [
        {
          "output_type": "stream",
          "text": [
            "/usr/local/lib/python3.7/dist-packages/tensorflow/python/keras/engine/sequential.py:450: UserWarning: `model.predict_classes()` is deprecated and will be removed after 2021-01-01. Please use instead:* `np.argmax(model.predict(x), axis=-1)`,   if your model does multi-class classification   (e.g. if it uses a `softmax` last-layer activation).* `(model.predict(x) > 0.5).astype(\"int32\")`,   if your model does binary classification   (e.g. if it uses a `sigmoid` last-layer activation).\n",
            "  warnings.warn('`model.predict_classes()` is deprecated and '\n"
          ],
          "name": "stderr"
        }
      ]
    },
    {
      "cell_type": "code",
      "metadata": {
        "id": "iYobACTEvrrg"
      },
      "source": [
        "from sklearn.metrics import classification_report,confusion_matrix,accuracy_score"
      ],
      "execution_count": 52,
      "outputs": []
    },
    {
      "cell_type": "code",
      "metadata": {
        "colab": {
          "base_uri": "https://localhost:8080/"
        },
        "id": "U9oiZKzwvt70",
        "outputId": "7f19643c-f6c1-48ec-8132-dc1b0b232d36"
      },
      "source": [
        "print(classification_report(y_test,prediction))"
      ],
      "execution_count": 53,
      "outputs": [
        {
          "output_type": "stream",
          "text": [
            "              precision    recall  f1-score   support\n",
            "\n",
            "         0.0       1.00      1.00      1.00       257\n",
            "         1.0       1.00      1.00      1.00       196\n",
            "\n",
            "    accuracy                           1.00       453\n",
            "   macro avg       1.00      1.00      1.00       453\n",
            "weighted avg       1.00      1.00      1.00       453\n",
            "\n"
          ],
          "name": "stdout"
        }
      ]
    },
    {
      "cell_type": "code",
      "metadata": {
        "colab": {
          "base_uri": "https://localhost:8080/"
        },
        "id": "_Po-9CDZwB_J",
        "outputId": "7a9f2f84-b5d1-41c9-cc14-d2b164c92c6d"
      },
      "source": [
        "print(confusion_matrix(y_test,prediction))"
      ],
      "execution_count": 54,
      "outputs": [
        {
          "output_type": "stream",
          "text": [
            "[[257   0]\n",
            " [  0 196]]\n"
          ],
          "name": "stdout"
        }
      ]
    },
    {
      "cell_type": "code",
      "metadata": {
        "colab": {
          "base_uri": "https://localhost:8080/"
        },
        "id": "kLc5vUiSwJh-",
        "outputId": "7327f8d6-fa20-46e1-f9f4-261642d33988"
      },
      "source": [
        "print(accuracy_score(y_test,prediction))"
      ],
      "execution_count": 55,
      "outputs": [
        {
          "output_type": "stream",
          "text": [
            "1.0\n"
          ],
          "name": "stdout"
        }
      ]
    },
    {
      "cell_type": "code",
      "metadata": {
        "id": "KWCPteK8wNsK"
      },
      "source": [
        "model.save('My_model.h5')"
      ],
      "execution_count": 63,
      "outputs": []
    },
    {
      "cell_type": "code",
      "metadata": {
        "id": "njGrrjGUwp0_"
      },
      "source": [
        "from keras.models import load_model\r\n",
        "my_model=load_model('My_model.h5')"
      ],
      "execution_count": 66,
      "outputs": []
    },
    {
      "cell_type": "code",
      "metadata": {
        "id": "iIb6xhi9xVQm"
      },
      "source": [
        "print(my_model.predict_classes(X_test))"
      ],
      "execution_count": null,
      "outputs": []
    },
    {
      "cell_type": "code",
      "metadata": {
        "id": "nINBBvV0xYve"
      },
      "source": [
        ""
      ],
      "execution_count": null,
      "outputs": []
    }
  ]
}