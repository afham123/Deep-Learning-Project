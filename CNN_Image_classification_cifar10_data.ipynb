{
  "nbformat": 4,
  "nbformat_minor": 0,
  "metadata": {
    "colab": {
      "name": "CNN_cifar10_data.ipynb",
      "provenance": [],
      "authorship_tag": "ABX9TyNUOd1b6IRZT6V8QPa+F9ur",
      "include_colab_link": true
    },
    "kernelspec": {
      "name": "python3",
      "display_name": "Python 3"
    }
  },
  "cells": [
    {
      "cell_type": "markdown",
      "metadata": {
        "id": "view-in-github",
        "colab_type": "text"
      },
      "source": [
        "<a href=\"https://colab.research.google.com/github/afham123/Deep-Learning-Project/blob/main/CNN_Image_classification_cifar10_data.ipynb\" target=\"_parent\"><img src=\"https://colab.research.google.com/assets/colab-badge.svg\" alt=\"Open In Colab\"/></a>"
      ]
    },
    {
      "cell_type": "code",
      "metadata": {
        "id": "vAg0etiaYqQY"
      },
      "source": [
        "import cv2\r\n",
        "import numpy as np\r\n",
        "import pandas as pd\r\n",
        "import tensorflow as tf\r\n",
        "import matplotlib.pyplot as plt\r\n",
        "import tensorflow_datasets as tfds\r\n",
        "from keras.datasets import cifar10\r\n",
        "%matplotlib inline"
      ],
      "execution_count": 1,
      "outputs": []
    },
    {
      "cell_type": "code",
      "metadata": {
        "id": "x3Xb-sCK8URS"
      },
      "source": [
        "(X_train,y_train),(X_test,y_test)=cifar10.load_data()"
      ],
      "execution_count": 19,
      "outputs": []
    },
    {
      "cell_type": "code",
      "metadata": {
        "colab": {
          "base_uri": "https://localhost:8080/"
        },
        "id": "ISHaniKapYkQ",
        "outputId": "7f489ee9-227a-4358-f79c-93863783bfff"
      },
      "source": [
        "X_train.shape"
      ],
      "execution_count": 3,
      "outputs": [
        {
          "output_type": "execute_result",
          "data": {
            "text/plain": [
              "(50000, 32, 32, 3)"
            ]
          },
          "metadata": {
            "tags": []
          },
          "execution_count": 3
        }
      ]
    },
    {
      "cell_type": "code",
      "metadata": {
        "colab": {
          "base_uri": "https://localhost:8080/",
          "height": 266
        },
        "id": "zW-_AzUQ80bc",
        "outputId": "2e2e7cc0-95c8-4eaa-c99d-edbaf008b60e"
      },
      "source": [
        "single_image=X_train[11]\r\n",
        "plt.imshow(single_image)\r\n",
        "plt.show()"
      ],
      "execution_count": 4,
      "outputs": [
        {
          "output_type": "display_data",
          "data": {
            "image/png": "[encoded data removed]",
            "text/plain": [
              "<Figure size 432x288 with 1 Axes>"
            ]
          },
          "metadata": {
            "tags": [],
            "needs_background": "light"
          }
        }
      ]
    },
    {
      "cell_type": "code",
      "metadata": {
        "colab": {
          "base_uri": "https://localhost:8080/"
        },
        "id": "UiJv4kYy83XE",
        "outputId": "2d391369-b840-4914-b78b-738d70b01e40"
      },
      "source": [
        "temp_df=pd.DataFrame(y_train)\r\n",
        "temp_df[0].unique()"
      ],
      "execution_count": 11,
      "outputs": [
        {
          "output_type": "execute_result",
          "data": {
            "text/plain": [
              "array([6, 9, 4, 1, 2, 7, 8, 3, 5, 0], dtype=uint8)"
            ]
          },
          "metadata": {
            "tags": []
          },
          "execution_count": 11
        }
      ]
    },
    {
      "cell_type": "code",
      "metadata": {
        "colab": {
          "base_uri": "https://localhost:8080/"
        },
        "id": "wkOvc3opqH6v",
        "outputId": "571e34ff-6c33-4e85-f1f1-d9fa744beadb"
      },
      "source": [
        "X_train[0].shape"
      ],
      "execution_count": 14,
      "outputs": [
        {
          "output_type": "execute_result",
          "data": {
            "text/plain": [
              "(32, 32, 3)"
            ]
          },
          "metadata": {
            "tags": []
          },
          "execution_count": 14
        }
      ]
    },
    {
      "cell_type": "code",
      "metadata": {
        "colab": {
          "base_uri": "https://localhost:8080/"
        },
        "id": "MjkTc5C49PlI",
        "outputId": "e174656d-932e-46ce-80c6-c6c92157c074"
      },
      "source": [
        "print(X_train.shape)\r\n",
        "print(X_test.shape)\r\n",
        "print(y_train.shape)\r\n",
        "print(y_test.shape)"
      ],
      "execution_count": null,
      "outputs": [
        {
          "output_type": "stream",
          "text": [
            "(50000, 32, 32, 3)\n",
            "(10000, 32, 32, 3)\n",
            "(50000, 1)\n",
            "(10000, 1)\n"
          ],
          "name": "stdout"
        }
      ]
    },
    {
      "cell_type": "code",
      "metadata": {
        "id": "45XwKVNt9SKV"
      },
      "source": [
        "from keras.utils.np_utils import to_categorical"
      ],
      "execution_count": 15,
      "outputs": []
    },
    {
      "cell_type": "code",
      "metadata": {
        "id": "RysfRFy_qc8c"
      },
      "source": [
        "cat_y_train=to_categorical(y_train)\r\n",
        "cat_y_test=to_categorical(y_test)"
      ],
      "execution_count": 20,
      "outputs": []
    },
    {
      "cell_type": "code",
      "metadata": {
        "colab": {
          "base_uri": "https://localhost:8080/"
        },
        "id": "0LKT_XcAqpYH",
        "outputId": "9e7e7d80-e955-4b98-86a2-4fee4e4c3f13"
      },
      "source": [
        "y_train[0]"
      ],
      "execution_count": 21,
      "outputs": [
        {
          "output_type": "execute_result",
          "data": {
            "text/plain": [
              "array([6], dtype=uint8)"
            ]
          },
          "metadata": {
            "tags": []
          },
          "execution_count": 21
        }
      ]
    },
    {
      "cell_type": "code",
      "metadata": {
        "colab": {
          "base_uri": "https://localhost:8080/"
        },
        "id": "vlmwjdTqqrJe",
        "outputId": "3d836595-0ef8-47fc-d10c-c679dfa1772f"
      },
      "source": [
        "cat_y_train[0]"
      ],
      "execution_count": 23,
      "outputs": [
        {
          "output_type": "execute_result",
          "data": {
            "text/plain": [
              "array([0., 0., 0., 0., 0., 0., 1., 0., 0., 0.], dtype=float32)"
            ]
          },
          "metadata": {
            "tags": []
          },
          "execution_count": 23
        }
      ]
    },
    {
      "cell_type": "code",
      "metadata": {
        "id": "qDKLrQ6lxHlX"
      },
      "source": [
        "X_train=X_train/255\r\n",
        "X_test=X_test/255"
      ],
      "execution_count": 60,
      "outputs": []
    },
    {
      "cell_type": "code",
      "metadata": {
        "id": "0T_zRCynq3lq"
      },
      "source": [
        "from keras.models import Sequential\r\n",
        "from keras.layers import Dense, Conv2D, MaxPool2D, Flatten"
      ],
      "execution_count": 25,
      "outputs": []
    },
    {
      "cell_type": "code",
      "metadata": {
        "id": "P8Miy25vrFSk"
      },
      "source": [
        "model=Sequential()\r\n",
        "\r\n",
        "model.add(Conv2D(filters=32, kernel_size=(4,4),input_shape=(32, 32, 3),activation='relu'))\r\n",
        "\r\n",
        "model.add(MaxPool2D(pool_size=(2, 2)))\r\n",
        "\r\n",
        "model.add(Conv2D(filters=32, kernel_size=(4,4),input_shape=(32, 32, 3), activation='relu',))\r\n",
        "# POOLING LAYER\r\n",
        "model.add(MaxPool2D(pool_size=(2, 2)))\r\n",
        "\r\n",
        "\r\n",
        "model.add(Flatten())\r\n",
        "\r\n",
        "model.add(Dense(512,activation='relu'))\r\n",
        "model.add(Dense(256,activation='relu'))\r\n",
        "model.add(Dense(128,activation='relu'))\r\n",
        "\r\n",
        "model.add(Dense(10,activation='softmax'))\r\n",
        "\r\n",
        "model.compile(loss='categorical_crossentropy',\r\n",
        "              optimizer='rmsprop',\r\n",
        "              metrics=['accuracy'])"
      ],
      "execution_count": 87,
      "outputs": []
    },
    {
      "cell_type": "code",
      "metadata": {
        "colab": {
          "base_uri": "https://localhost:8080/"
        },
        "id": "LlFYWcSzrSxH",
        "outputId": "c3bd21ec-a200-4e60-e142-214a0226ecc2"
      },
      "source": [
        "model.summary()"
      ],
      "execution_count": 88,
      "outputs": [
        {
          "output_type": "stream",
          "text": [
            "Model: \"sequential_6\"\n",
            "_________________________________________________________________\n",
            "Layer (type)                 Output Shape              Param #   \n",
            "=================================================================\n",
            "conv2d_10 (Conv2D)           (None, 29, 29, 32)        1568      \n",
            "_________________________________________________________________\n",
            "max_pooling2d_10 (MaxPooling (None, 14, 14, 32)        0         \n",
            "_________________________________________________________________\n",
            "conv2d_11 (Conv2D)           (None, 11, 11, 32)        16416     \n",
            "_________________________________________________________________\n",
            "max_pooling2d_11 (MaxPooling (None, 5, 5, 32)          0         \n",
            "_________________________________________________________________\n",
            "flatten_6 (Flatten)          (None, 800)               0         \n",
            "_________________________________________________________________\n",
            "dense_13 (Dense)             (None, 512)               410112    \n",
            "_________________________________________________________________\n",
            "dense_14 (Dense)             (None, 256)               131328    \n",
            "_________________________________________________________________\n",
            "dense_15 (Dense)             (None, 128)               32896     \n",
            "_________________________________________________________________\n",
            "dense_16 (Dense)             (None, 10)                1290      \n",
            "=================================================================\n",
            "Total params: 593,610\n",
            "Trainable params: 593,610\n",
            "Non-trainable params: 0\n",
            "_________________________________________________________________\n"
          ],
          "name": "stdout"
        }
      ]
    },
    {
      "cell_type": "code",
      "metadata": {
        "colab": {
          "base_uri": "https://localhost:8080/"
        },
        "id": "4i52ti93rXD7",
        "outputId": "1a2dc0f9-fcad-4f5f-a107-183074f9cba0"
      },
      "source": [
        "model.fit(X_train,cat_y_train,epochs=10,validation_data=(X_test,cat_y_test))"
      ],
      "execution_count": 89,
      "outputs": [
        {
          "output_type": "stream",
          "text": [
            "Epoch 1/10\n",
            "1563/1563 [==============================] - 69s 44ms/step - loss: 1.8036 - accuracy: 0.3367 - val_loss: 1.4442 - val_accuracy: 0.4976\n",
            "Epoch 2/10\n",
            "1563/1563 [==============================] - 73s 47ms/step - loss: 1.2042 - accuracy: 0.5753 - val_loss: 1.1562 - val_accuracy: 0.6041\n",
            "Epoch 3/10\n",
            "1563/1563 [==============================] - 69s 44ms/step - loss: 1.0228 - accuracy: 0.6448 - val_loss: 1.0337 - val_accuracy: 0.6379\n",
            "Epoch 4/10\n",
            "1563/1563 [==============================] - 70s 45ms/step - loss: 0.9430 - accuracy: 0.6770 - val_loss: 1.2704 - val_accuracy: 0.6035\n",
            "Epoch 5/10\n",
            "1563/1563 [==============================] - 70s 45ms/step - loss: 0.8935 - accuracy: 0.6967 - val_loss: 1.5164 - val_accuracy: 0.5778\n",
            "Epoch 6/10\n",
            "1563/1563 [==============================] - 69s 44ms/step - loss: 0.8699 - accuracy: 0.7073 - val_loss: 1.2195 - val_accuracy: 0.6142\n",
            "Epoch 7/10\n",
            "1563/1563 [==============================] - 69s 44ms/step - loss: 0.8367 - accuracy: 0.7203 - val_loss: 1.2346 - val_accuracy: 0.6115\n",
            "Epoch 8/10\n",
            "1563/1563 [==============================] - 69s 44ms/step - loss: 0.8253 - accuracy: 0.7305 - val_loss: 1.2652 - val_accuracy: 0.6184\n",
            "Epoch 9/10\n",
            "1563/1563 [==============================] - 69s 44ms/step - loss: 0.8122 - accuracy: 0.7316 - val_loss: 1.7337 - val_accuracy: 0.5695\n",
            "Epoch 10/10\n",
            "1563/1563 [==============================] - 69s 44ms/step - loss: 0.7779 - accuracy: 0.7452 - val_loss: 1.2062 - val_accuracy: 0.6808\n"
          ],
          "name": "stdout"
        },
        {
          "output_type": "execute_result",
          "data": {
            "text/plain": [
              "<tensorflow.python.keras.callbacks.History at 0x7f0b206d4310>"
            ]
          },
          "metadata": {
            "tags": []
          },
          "execution_count": 89
        }
      ]
    },
    {
      "cell_type": "code",
      "metadata": {
        "colab": {
          "base_uri": "https://localhost:8080/",
          "height": 204
        },
        "id": "v16wd1ShrkBh",
        "outputId": "917a5a3a-5f13-44f8-eae2-f41a19ea2a28"
      },
      "source": [
        "loss_df=pd.DataFrame(model.history.history)\r\n",
        "loss_df.head()"
      ],
      "execution_count": 90,
      "outputs": [
        {
          "output_type": "execute_result",
          "data": {
            "text/html": [
              "<div>\n",
              "<style scoped>\n",
              "    .dataframe tbody tr th:only-of-type {\n",
              "        vertical-align: middle;\n",
              "    }\n",
              "\n",
              "    .dataframe tbody tr th {\n",
              "        vertical-align: top;\n",
              "    }\n",
              "\n",
              "    .dataframe thead th {\n",
              "        text-align: right;\n",
              "    }\n",
              "</style>\n",
              "<table border=\"1\" class=\"dataframe\">\n",
              "  <thead>\n",
              "    <tr style=\"text-align: right;\">\n",
              "      <th></th>\n",
              "      <th>loss</th>\n",
              "      <th>accuracy</th>\n",
              "      <th>val_loss</th>\n",
              "      <th>val_accuracy</th>\n",
              "    </tr>\n",
              "  </thead>\n",
              "  <tbody>\n",
              "    <tr>\n",
              "      <th>0</th>\n",
              "      <td>1.566938</td>\n",
              "      <td>0.43318</td>\n",
              "      <td>1.444249</td>\n",
              "      <td>0.4976</td>\n",
              "    </tr>\n",
              "    <tr>\n",
              "      <th>1</th>\n",
              "      <td>1.174109</td>\n",
              "      <td>0.58860</td>\n",
              "      <td>1.156238</td>\n",
              "      <td>0.6041</td>\n",
              "    </tr>\n",
              "    <tr>\n",
              "      <th>2</th>\n",
              "      <td>1.025895</td>\n",
              "      <td>0.64554</td>\n",
              "      <td>1.033710</td>\n",
              "      <td>0.6379</td>\n",
              "    </tr>\n",
              "    <tr>\n",
              "      <th>3</th>\n",
              "      <td>0.954036</td>\n",
              "      <td>0.67548</td>\n",
              "      <td>1.270376</td>\n",
              "      <td>0.6035</td>\n",
              "    </tr>\n",
              "    <tr>\n",
              "      <th>4</th>\n",
              "      <td>0.907968</td>\n",
              "      <td>0.69438</td>\n",
              "      <td>1.516391</td>\n",
              "      <td>0.5778</td>\n",
              "    </tr>\n",
              "  </tbody>\n",
              "</table>\n",
              "</div>"
            ],
            "text/plain": [
              "       loss  accuracy  val_loss  val_accuracy\n",
              "0  1.566938   0.43318  1.444249        0.4976\n",
              "1  1.174109   0.58860  1.156238        0.6041\n",
              "2  1.025895   0.64554  1.033710        0.6379\n",
              "3  0.954036   0.67548  1.270376        0.6035\n",
              "4  0.907968   0.69438  1.516391        0.5778"
            ]
          },
          "metadata": {
            "tags": []
          },
          "execution_count": 90
        }
      ]
    },
    {
      "cell_type": "code",
      "metadata": {
        "colab": {
          "base_uri": "https://localhost:8080/",
          "height": 333
        },
        "id": "HT7BMPcgsadK",
        "outputId": "1ed78488-9690-4c1e-d8a9-88a287fd66df"
      },
      "source": [
        "plt.plot(loss_df)"
      ],
      "execution_count": 91,
      "outputs": [
        {
          "output_type": "execute_result",
          "data": {
            "text/plain": [
              "[<matplotlib.lines.Line2D at 0x7f0b2082ae50>,\n",
              " <matplotlib.lines.Line2D at 0x7f0b20827290>,\n",
              " <matplotlib.lines.Line2D at 0x7f0b20827390>,\n",
              " <matplotlib.lines.Line2D at 0x7f0b20827cd0>]"
            ]
          },
          "metadata": {
            "tags": []
          },
          "execution_count": 91
        },
        {
          "output_type": "display_data",
          "data": {
            "image/png": "[encoded data removed]",
            "text/plain": [
              "<Figure size 432x288 with 1 Axes>"
            ]
          },
          "metadata": {
            "tags": [],
            "needs_background": "light"
          }
        }
      ]
    },
    {
      "cell_type": "code",
      "metadata": {
        "id": "UHnaIDEmsdH8"
      },
      "source": [
        "from sklearn.metrics import classification_report,confusion_matrix,accuracy_score"
      ],
      "execution_count": 92,
      "outputs": []
    },
    {
      "cell_type": "code",
      "metadata": {
        "colab": {
          "base_uri": "https://localhost:8080/"
        },
        "id": "uIsgn7-os-ni",
        "outputId": "ec9049b4-28dc-4aeb-e14d-a24e9af64266"
      },
      "source": [
        "predictions=model.predict_classes(X_test)\r\n",
        "predictions"
      ],
      "execution_count": 93,
      "outputs": [
        {
          "output_type": "stream",
          "text": [
            "/usr/local/lib/python3.7/dist-packages/tensorflow/python/keras/engine/sequential.py:450: UserWarning: `model.predict_classes()` is deprecated and will be removed after 2021-01-01. Please use instead:* `np.argmax(model.predict(x), axis=-1)`,   if your model does multi-class classification   (e.g. if it uses a `softmax` last-layer activation).* `(model.predict(x) > 0.5).astype(\"int32\")`,   if your model does binary classification   (e.g. if it uses a `sigmoid` last-layer activation).\n",
            "  warnings.warn('`model.predict_classes()` is deprecated and '\n"
          ],
          "name": "stderr"
        },
        {
          "output_type": "execute_result",
          "data": {
            "text/plain": [
              "array([3, 1, 8, ..., 5, 1, 7])"
            ]
          },
          "metadata": {
            "tags": []
          },
          "execution_count": 93
        }
      ]
    },
    {
      "cell_type": "code",
      "metadata": {
        "colab": {
          "base_uri": "https://localhost:8080/"
        },
        "id": "rG5v-1u3s6j2",
        "outputId": "8ea03c36-3dee-44df-ad0c-ae101f90b0f0"
      },
      "source": [
        "print(classification_report(y_test,predictions))"
      ],
      "execution_count": 94,
      "outputs": [
        {
          "output_type": "stream",
          "text": [
            "              precision    recall  f1-score   support\n",
            "\n",
            "           0       0.65      0.79      0.71      1000\n",
            "           1       0.79      0.81      0.80      1000\n",
            "           2       0.63      0.51      0.56      1000\n",
            "           3       0.55      0.44      0.49      1000\n",
            "           4       0.68      0.61      0.64      1000\n",
            "           5       0.58      0.58      0.58      1000\n",
            "           6       0.87      0.69      0.76      1000\n",
            "           7       0.68      0.79      0.73      1000\n",
            "           8       0.85      0.70      0.77      1000\n",
            "           9       0.61      0.89      0.72      1000\n",
            "\n",
            "    accuracy                           0.68     10000\n",
            "   macro avg       0.69      0.68      0.68     10000\n",
            "weighted avg       0.69      0.68      0.68     10000\n",
            "\n"
          ],
          "name": "stdout"
        }
      ]
    },
    {
      "cell_type": "code",
      "metadata": {
        "colab": {
          "base_uri": "https://localhost:8080/"
        },
        "id": "_LndhVgUthac",
        "outputId": "aeb1a15c-5269-4729-a865-d0ddddd2b129"
      },
      "source": [
        "print(confusion_matrix(y_test,predictions))"
      ],
      "execution_count": 95,
      "outputs": [
        {
          "output_type": "stream",
          "text": [
            "[[788  40  18   7   9   4   3  12  33  86]\n",
            " [ 14 812   3   2   2   3   4   8  12 140]\n",
            " [129  16 509  49  99  90  32  35  16  25]\n",
            " [ 49  16  59 444  62 185  33  62  20  70]\n",
            " [ 51   5  61  57 607  41  17 118  16  27]\n",
            " [ 27   7  50 144  40 576  11 100   6  39]\n",
            " [ 15  10  65  69  42  46 685   6   7  55]\n",
            " [ 19  10  22  26  29  47   1 792   3  51]\n",
            " [ 99  70  10   8   5   7   2  12 704  83]\n",
            " [ 23  45   9   5   0   2   3  14   8 891]]\n"
          ],
          "name": "stdout"
        }
      ]
    },
    {
      "cell_type": "code",
      "metadata": {
        "id": "YFK-6BsptlHT"
      },
      "source": [
        "lst1=[]\r\n",
        "lst2=[]\r\n",
        "\r\n",
        "for i in range(10):\r\n",
        "  lst1.append('Predictes_'+str(i))\r\n",
        "  lst2.append('Actually_'+str(i))"
      ],
      "execution_count": 96,
      "outputs": []
    },
    {
      "cell_type": "code",
      "metadata": {
        "colab": {
          "base_uri": "https://localhost:8080/",
          "height": 359
        },
        "id": "gPwE-uxTtpic",
        "outputId": "d5fdf061-8780-48dc-c1ad-30ee1c09ee58"
      },
      "source": [
        "confusion_matrix_df=pd.DataFrame(index=lst2,columns=lst1,data=confusion_matrix(y_test,predictions))\r\n",
        "confusion_matrix_df"
      ],
      "execution_count": 97,
      "outputs": [
        {
          "output_type": "execute_result",
          "data": {
            "text/html": [
              "<div>\n",
              "<style scoped>\n",
              "    .dataframe tbody tr th:only-of-type {\n",
              "        vertical-align: middle;\n",
              "    }\n",
              "\n",
              "    .dataframe tbody tr th {\n",
              "        vertical-align: top;\n",
              "    }\n",
              "\n",
              "    .dataframe thead th {\n",
              "        text-align: right;\n",
              "    }\n",
              "</style>\n",
              "<table border=\"1\" class=\"dataframe\">\n",
              "  <thead>\n",
              "    <tr style=\"text-align: right;\">\n",
              "      <th></th>\n",
              "      <th>Predictes_0</th>\n",
              "      <th>Predictes_1</th>\n",
              "      <th>Predictes_2</th>\n",
              "      <th>Predictes_3</th>\n",
              "      <th>Predictes_4</th>\n",
              "      <th>Predictes_5</th>\n",
              "      <th>Predictes_6</th>\n",
              "      <th>Predictes_7</th>\n",
              "      <th>Predictes_8</th>\n",
              "      <th>Predictes_9</th>\n",
              "    </tr>\n",
              "  </thead>\n",
              "  <tbody>\n",
              "    <tr>\n",
              "      <th>Actually_0</th>\n",
              "      <td>788</td>\n",
              "      <td>40</td>\n",
              "      <td>18</td>\n",
              "      <td>7</td>\n",
              "      <td>9</td>\n",
              "      <td>4</td>\n",
              "      <td>3</td>\n",
              "      <td>12</td>\n",
              "      <td>33</td>\n",
              "      <td>86</td>\n",
              "    </tr>\n",
              "    <tr>\n",
              "      <th>Actually_1</th>\n",
              "      <td>14</td>\n",
              "      <td>812</td>\n",
              "      <td>3</td>\n",
              "      <td>2</td>\n",
              "      <td>2</td>\n",
              "      <td>3</td>\n",
              "      <td>4</td>\n",
              "      <td>8</td>\n",
              "      <td>12</td>\n",
              "      <td>140</td>\n",
              "    </tr>\n",
              "    <tr>\n",
              "      <th>Actually_2</th>\n",
              "      <td>129</td>\n",
              "      <td>16</td>\n",
              "      <td>509</td>\n",
              "      <td>49</td>\n",
              "      <td>99</td>\n",
              "      <td>90</td>\n",
              "      <td>32</td>\n",
              "      <td>35</td>\n",
              "      <td>16</td>\n",
              "      <td>25</td>\n",
              "    </tr>\n",
              "    <tr>\n",
              "      <th>Actually_3</th>\n",
              "      <td>49</td>\n",
              "      <td>16</td>\n",
              "      <td>59</td>\n",
              "      <td>444</td>\n",
              "      <td>62</td>\n",
              "      <td>185</td>\n",
              "      <td>33</td>\n",
              "      <td>62</td>\n",
              "      <td>20</td>\n",
              "      <td>70</td>\n",
              "    </tr>\n",
              "    <tr>\n",
              "      <th>Actually_4</th>\n",
              "      <td>51</td>\n",
              "      <td>5</td>\n",
              "      <td>61</td>\n",
              "      <td>57</td>\n",
              "      <td>607</td>\n",
              "      <td>41</td>\n",
              "      <td>17</td>\n",
              "      <td>118</td>\n",
              "      <td>16</td>\n",
              "      <td>27</td>\n",
              "    </tr>\n",
              "    <tr>\n",
              "      <th>Actually_5</th>\n",
              "      <td>27</td>\n",
              "      <td>7</td>\n",
              "      <td>50</td>\n",
              "      <td>144</td>\n",
              "      <td>40</td>\n",
              "      <td>576</td>\n",
              "      <td>11</td>\n",
              "      <td>100</td>\n",
              "      <td>6</td>\n",
              "      <td>39</td>\n",
              "    </tr>\n",
              "    <tr>\n",
              "      <th>Actually_6</th>\n",
              "      <td>15</td>\n",
              "      <td>10</td>\n",
              "      <td>65</td>\n",
              "      <td>69</td>\n",
              "      <td>42</td>\n",
              "      <td>46</td>\n",
              "      <td>685</td>\n",
              "      <td>6</td>\n",
              "      <td>7</td>\n",
              "      <td>55</td>\n",
              "    </tr>\n",
              "    <tr>\n",
              "      <th>Actually_7</th>\n",
              "      <td>19</td>\n",
              "      <td>10</td>\n",
              "      <td>22</td>\n",
              "      <td>26</td>\n",
              "      <td>29</td>\n",
              "      <td>47</td>\n",
              "      <td>1</td>\n",
              "      <td>792</td>\n",
              "      <td>3</td>\n",
              "      <td>51</td>\n",
              "    </tr>\n",
              "    <tr>\n",
              "      <th>Actually_8</th>\n",
              "      <td>99</td>\n",
              "      <td>70</td>\n",
              "      <td>10</td>\n",
              "      <td>8</td>\n",
              "      <td>5</td>\n",
              "      <td>7</td>\n",
              "      <td>2</td>\n",
              "      <td>12</td>\n",
              "      <td>704</td>\n",
              "      <td>83</td>\n",
              "    </tr>\n",
              "    <tr>\n",
              "      <th>Actually_9</th>\n",
              "      <td>23</td>\n",
              "      <td>45</td>\n",
              "      <td>9</td>\n",
              "      <td>5</td>\n",
              "      <td>0</td>\n",
              "      <td>2</td>\n",
              "      <td>3</td>\n",
              "      <td>14</td>\n",
              "      <td>8</td>\n",
              "      <td>891</td>\n",
              "    </tr>\n",
              "  </tbody>\n",
              "</table>\n",
              "</div>"
            ],
            "text/plain": [
              "            Predictes_0  Predictes_1  ...  Predictes_8  Predictes_9\n",
              "Actually_0          788           40  ...           33           86\n",
              "Actually_1           14          812  ...           12          140\n",
              "Actually_2          129           16  ...           16           25\n",
              "Actually_3           49           16  ...           20           70\n",
              "Actually_4           51            5  ...           16           27\n",
              "Actually_5           27            7  ...            6           39\n",
              "Actually_6           15           10  ...            7           55\n",
              "Actually_7           19           10  ...            3           51\n",
              "Actually_8           99           70  ...          704           83\n",
              "Actually_9           23           45  ...            8          891\n",
              "\n",
              "[10 rows x 10 columns]"
            ]
          },
          "metadata": {
            "tags": []
          },
          "execution_count": 97
        }
      ]
    },
    {
      "cell_type": "code",
      "metadata": {
        "colab": {
          "base_uri": "https://localhost:8080/"
        },
        "id": "LVqRWAOktrvv",
        "outputId": "b6f6b2a3-e29a-43cc-e7b3-25a4f55b604d"
      },
      "source": [
        "print(accuracy_score(y_test,predictions))"
      ],
      "execution_count": 98,
      "outputs": [
        {
          "output_type": "stream",
          "text": [
            "0.6808\n"
          ],
          "name": "stdout"
        }
      ]
    },
    {
      "cell_type": "code",
      "metadata": {
        "id": "EKDUATAGtzl4"
      },
      "source": [
        ""
      ],
      "execution_count": null,
      "outputs": []
    }
  ]
}