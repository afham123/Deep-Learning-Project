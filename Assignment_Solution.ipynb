{
  "nbformat": 4,
  "nbformat_minor": 0,
  "metadata": {
    "kernelspec": {
      "display_name": "Python 3",
      "language": "python",
      "name": "python3"
    },
    "language_info": {
      "codemirror_mode": {
        "name": "ipython",
        "version": 3
      },
      "file_extension": ".py",
      "mimetype": "text/x-python",
      "name": "python",
      "nbconvert_exporter": "python",
      "pygments_lexer": "ipython3",
      "version": "3.8.3"
    },
    "colab": {
      "name": "Assignment Solution.ipynb",
      "provenance": [],
      "collapsed_sections": [],
      "include_colab_link": true
    }
  },
  "cells": [
    {
      "cell_type": "markdown",
      "metadata": {
        "id": "view-in-github",
        "colab_type": "text"
      },
      "source": [
        "<a href=\"https://colab.research.google.com/github/afham123/Deep-Learning-Project/blob/main/Assignment_Solution.ipynb\" target=\"_parent\"><img src=\"https://colab.research.google.com/assets/colab-badge.svg\" alt=\"Open In Colab\"/></a>"
      ]
    },
    {
      "cell_type": "code",
      "metadata": {
        "id": "l2cTNj8fknuR"
      },
      "source": [
        "import pandas as pd\n",
        "import numpy as np\n",
        "import seaborn as sns\n",
        "import matplotlib.pyplot as plt\n",
        "%matplotlib inline"
      ],
      "execution_count": 19,
      "outputs": []
    },
    {
      "cell_type": "code",
      "metadata": {
        "colab": {
          "resources": {
            "http://localhost:8080/nbextensions/google.colab/files.js": {
              "data": "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",
              "ok": true,
              "headers": [
                [
                  "content-type",
                  "application/javascript"
                ]
              ],
              "status": 200,
              "status_text": ""
            }
          },
          "base_uri": "https://localhost:8080/",
          "height": 72
        },
        "id": "7RuLJIwlkzsI",
        "outputId": "dbf02c58-6623-41df-eb38-55306d616f74"
      },
      "source": [
        "from google.colab import files\r\n",
        "uploaded = files.upload()"
      ],
      "execution_count": 1,
      "outputs": [
        {
          "output_type": "display_data",
          "data": {
            "text/html": [
              "\n",
              "     <input type=\"file\" id=\"files-059f5d68-8e7d-4b3a-9b9d-37039510ddfe\" name=\"files[]\" multiple disabled\n",
              "        style=\"border:none\" />\n",
              "     <output id=\"result-059f5d68-8e7d-4b3a-9b9d-37039510ddfe\">\n",
              "      Upload widget is only available when the cell has been executed in the\n",
              "      current browser session. Please rerun this cell to enable.\n",
              "      </output>\n",
              "      <script src=\"/nbextensions/google.colab/files.js\"></script> "
            ],
            "text/plain": [
              "<IPython.core.display.HTML object>"
            ]
          },
          "metadata": {
            "tags": []
          }
        },
        {
          "output_type": "stream",
          "text": [
            "Saving winequality-red.csv to winequality-red.csv\n"
          ],
          "name": "stdout"
        }
      ]
    },
    {
      "cell_type": "code",
      "metadata": {
        "colab": {
          "base_uri": "https://localhost:8080/",
          "height": 221
        },
        "id": "RhcTwnJeknuj",
        "outputId": "35ba6639-cd26-4c45-9992-3ea1a350e83d"
      },
      "source": [
        "red_wine_df=pd.read_csv('winequality-red.csv',sep=';')\n",
        "red_wine_df.head()"
      ],
      "execution_count": 20,
      "outputs": [
        {
          "output_type": "execute_result",
          "data": {
            "text/html": [
              "<div>\n",
              "<style scoped>\n",
              "    .dataframe tbody tr th:only-of-type {\n",
              "        vertical-align: middle;\n",
              "    }\n",
              "\n",
              "    .dataframe tbody tr th {\n",
              "        vertical-align: top;\n",
              "    }\n",
              "\n",
              "    .dataframe thead th {\n",
              "        text-align: right;\n",
              "    }\n",
              "</style>\n",
              "<table border=\"1\" class=\"dataframe\">\n",
              "  <thead>\n",
              "    <tr style=\"text-align: right;\">\n",
              "      <th></th>\n",
              "      <th>fixed acidity</th>\n",
              "      <th>volatile acidity</th>\n",
              "      <th>citric acid</th>\n",
              "      <th>residual sugar</th>\n",
              "      <th>chlorides</th>\n",
              "      <th>free sulfur dioxide</th>\n",
              "      <th>total sulfur dioxide</th>\n",
              "      <th>density</th>\n",
              "      <th>pH</th>\n",
              "      <th>sulphates</th>\n",
              "      <th>alcohol</th>\n",
              "      <th>quality</th>\n",
              "    </tr>\n",
              "  </thead>\n",
              "  <tbody>\n",
              "    <tr>\n",
              "      <th>0</th>\n",
              "      <td>7.4</td>\n",
              "      <td>0.70</td>\n",
              "      <td>0.00</td>\n",
              "      <td>1.9</td>\n",
              "      <td>0.076</td>\n",
              "      <td>11.0</td>\n",
              "      <td>34.0</td>\n",
              "      <td>0.9978</td>\n",
              "      <td>3.51</td>\n",
              "      <td>0.56</td>\n",
              "      <td>9.4</td>\n",
              "      <td>5</td>\n",
              "    </tr>\n",
              "    <tr>\n",
              "      <th>1</th>\n",
              "      <td>7.8</td>\n",
              "      <td>0.88</td>\n",
              "      <td>0.00</td>\n",
              "      <td>2.6</td>\n",
              "      <td>0.098</td>\n",
              "      <td>25.0</td>\n",
              "      <td>67.0</td>\n",
              "      <td>0.9968</td>\n",
              "      <td>3.20</td>\n",
              "      <td>0.68</td>\n",
              "      <td>9.8</td>\n",
              "      <td>5</td>\n",
              "    </tr>\n",
              "    <tr>\n",
              "      <th>2</th>\n",
              "      <td>7.8</td>\n",
              "      <td>0.76</td>\n",
              "      <td>0.04</td>\n",
              "      <td>2.3</td>\n",
              "      <td>0.092</td>\n",
              "      <td>15.0</td>\n",
              "      <td>54.0</td>\n",
              "      <td>0.9970</td>\n",
              "      <td>3.26</td>\n",
              "      <td>0.65</td>\n",
              "      <td>9.8</td>\n",
              "      <td>5</td>\n",
              "    </tr>\n",
              "    <tr>\n",
              "      <th>3</th>\n",
              "      <td>11.2</td>\n",
              "      <td>0.28</td>\n",
              "      <td>0.56</td>\n",
              "      <td>1.9</td>\n",
              "      <td>0.075</td>\n",
              "      <td>17.0</td>\n",
              "      <td>60.0</td>\n",
              "      <td>0.9980</td>\n",
              "      <td>3.16</td>\n",
              "      <td>0.58</td>\n",
              "      <td>9.8</td>\n",
              "      <td>6</td>\n",
              "    </tr>\n",
              "    <tr>\n",
              "      <th>4</th>\n",
              "      <td>7.4</td>\n",
              "      <td>0.70</td>\n",
              "      <td>0.00</td>\n",
              "      <td>1.9</td>\n",
              "      <td>0.076</td>\n",
              "      <td>11.0</td>\n",
              "      <td>34.0</td>\n",
              "      <td>0.9978</td>\n",
              "      <td>3.51</td>\n",
              "      <td>0.56</td>\n",
              "      <td>9.4</td>\n",
              "      <td>5</td>\n",
              "    </tr>\n",
              "  </tbody>\n",
              "</table>\n",
              "</div>"
            ],
            "text/plain": [
              "   fixed acidity  volatile acidity  citric acid  ...  sulphates  alcohol  quality\n",
              "0            7.4              0.70         0.00  ...       0.56      9.4        5\n",
              "1            7.8              0.88         0.00  ...       0.68      9.8        5\n",
              "2            7.8              0.76         0.04  ...       0.65      9.8        5\n",
              "3           11.2              0.28         0.56  ...       0.58      9.8        6\n",
              "4            7.4              0.70         0.00  ...       0.56      9.4        5\n",
              "\n",
              "[5 rows x 12 columns]"
            ]
          },
          "metadata": {
            "tags": []
          },
          "execution_count": 20
        }
      ]
    },
    {
      "cell_type": "code",
      "metadata": {
        "colab": {
          "resources": {
            "http://localhost:8080/nbextensions/google.colab/files.js": {
              "data": "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",
              "ok": true,
              "headers": [
                [
                  "content-type",
                  "application/javascript"
                ]
              ],
              "status": 200,
              "status_text": ""
            }
          },
          "base_uri": "https://localhost:8080/",
          "height": 72
        },
        "id": "6Pz955oXlA6E",
        "outputId": "ea70e6c7-85ef-48a7-c179-bf2848be2bf8"
      },
      "source": [
        "from google.colab import files\r\n",
        "uploaded = files.upload()"
      ],
      "execution_count": 4,
      "outputs": [
        {
          "output_type": "display_data",
          "data": {
            "text/html": [
              "\n",
              "     <input type=\"file\" id=\"files-f3eff95a-a41a-4de5-830a-12f21d9f1bfd\" name=\"files[]\" multiple disabled\n",
              "        style=\"border:none\" />\n",
              "     <output id=\"result-f3eff95a-a41a-4de5-830a-12f21d9f1bfd\">\n",
              "      Upload widget is only available when the cell has been executed in the\n",
              "      current browser session. Please rerun this cell to enable.\n",
              "      </output>\n",
              "      <script src=\"/nbextensions/google.colab/files.js\"></script> "
            ],
            "text/plain": [
              "<IPython.core.display.HTML object>"
            ]
          },
          "metadata": {
            "tags": []
          }
        },
        {
          "output_type": "stream",
          "text": [
            "Saving winequality-white.csv to winequality-white.csv\n"
          ],
          "name": "stdout"
        }
      ]
    },
    {
      "cell_type": "code",
      "metadata": {
        "colab": {
          "base_uri": "https://localhost:8080/",
          "height": 221
        },
        "id": "I6Icj2lEknun",
        "outputId": "bb9535d2-f9d4-45aa-8aef-ca0e20bb99d9"
      },
      "source": [
        "white_wine_df=pd.read_csv('winequality-white.csv',sep=';')\n",
        "white_wine_df.head()"
      ],
      "execution_count": 21,
      "outputs": [
        {
          "output_type": "execute_result",
          "data": {
            "text/html": [
              "<div>\n",
              "<style scoped>\n",
              "    .dataframe tbody tr th:only-of-type {\n",
              "        vertical-align: middle;\n",
              "    }\n",
              "\n",
              "    .dataframe tbody tr th {\n",
              "        vertical-align: top;\n",
              "    }\n",
              "\n",
              "    .dataframe thead th {\n",
              "        text-align: right;\n",
              "    }\n",
              "</style>\n",
              "<table border=\"1\" class=\"dataframe\">\n",
              "  <thead>\n",
              "    <tr style=\"text-align: right;\">\n",
              "      <th></th>\n",
              "      <th>fixed acidity</th>\n",
              "      <th>volatile acidity</th>\n",
              "      <th>citric acid</th>\n",
              "      <th>residual sugar</th>\n",
              "      <th>chlorides</th>\n",
              "      <th>free sulfur dioxide</th>\n",
              "      <th>total sulfur dioxide</th>\n",
              "      <th>density</th>\n",
              "      <th>pH</th>\n",
              "      <th>sulphates</th>\n",
              "      <th>alcohol</th>\n",
              "      <th>quality</th>\n",
              "    </tr>\n",
              "  </thead>\n",
              "  <tbody>\n",
              "    <tr>\n",
              "      <th>0</th>\n",
              "      <td>7.0</td>\n",
              "      <td>0.27</td>\n",
              "      <td>0.36</td>\n",
              "      <td>20.7</td>\n",
              "      <td>0.045</td>\n",
              "      <td>45.0</td>\n",
              "      <td>170.0</td>\n",
              "      <td>1.0010</td>\n",
              "      <td>3.00</td>\n",
              "      <td>0.45</td>\n",
              "      <td>8.8</td>\n",
              "      <td>6</td>\n",
              "    </tr>\n",
              "    <tr>\n",
              "      <th>1</th>\n",
              "      <td>6.3</td>\n",
              "      <td>0.30</td>\n",
              "      <td>0.34</td>\n",
              "      <td>1.6</td>\n",
              "      <td>0.049</td>\n",
              "      <td>14.0</td>\n",
              "      <td>132.0</td>\n",
              "      <td>0.9940</td>\n",
              "      <td>3.30</td>\n",
              "      <td>0.49</td>\n",
              "      <td>9.5</td>\n",
              "      <td>6</td>\n",
              "    </tr>\n",
              "    <tr>\n",
              "      <th>2</th>\n",
              "      <td>8.1</td>\n",
              "      <td>0.28</td>\n",
              "      <td>0.40</td>\n",
              "      <td>6.9</td>\n",
              "      <td>0.050</td>\n",
              "      <td>30.0</td>\n",
              "      <td>97.0</td>\n",
              "      <td>0.9951</td>\n",
              "      <td>3.26</td>\n",
              "      <td>0.44</td>\n",
              "      <td>10.1</td>\n",
              "      <td>6</td>\n",
              "    </tr>\n",
              "    <tr>\n",
              "      <th>3</th>\n",
              "      <td>7.2</td>\n",
              "      <td>0.23</td>\n",
              "      <td>0.32</td>\n",
              "      <td>8.5</td>\n",
              "      <td>0.058</td>\n",
              "      <td>47.0</td>\n",
              "      <td>186.0</td>\n",
              "      <td>0.9956</td>\n",
              "      <td>3.19</td>\n",
              "      <td>0.40</td>\n",
              "      <td>9.9</td>\n",
              "      <td>6</td>\n",
              "    </tr>\n",
              "    <tr>\n",
              "      <th>4</th>\n",
              "      <td>7.2</td>\n",
              "      <td>0.23</td>\n",
              "      <td>0.32</td>\n",
              "      <td>8.5</td>\n",
              "      <td>0.058</td>\n",
              "      <td>47.0</td>\n",
              "      <td>186.0</td>\n",
              "      <td>0.9956</td>\n",
              "      <td>3.19</td>\n",
              "      <td>0.40</td>\n",
              "      <td>9.9</td>\n",
              "      <td>6</td>\n",
              "    </tr>\n",
              "  </tbody>\n",
              "</table>\n",
              "</div>"
            ],
            "text/plain": [
              "   fixed acidity  volatile acidity  citric acid  ...  sulphates  alcohol  quality\n",
              "0            7.0              0.27         0.36  ...       0.45      8.8        6\n",
              "1            6.3              0.30         0.34  ...       0.49      9.5        6\n",
              "2            8.1              0.28         0.40  ...       0.44     10.1        6\n",
              "3            7.2              0.23         0.32  ...       0.40      9.9        6\n",
              "4            7.2              0.23         0.32  ...       0.40      9.9        6\n",
              "\n",
              "[5 rows x 12 columns]"
            ]
          },
          "metadata": {
            "tags": []
          },
          "execution_count": 21
        }
      ]
    },
    {
      "cell_type": "code",
      "metadata": {
        "id": "DOhwoCUqknuo",
        "outputId": "1f7a1bb5-7c62-4bfd-d7ac-42d5141516a1"
      },
      "source": [
        "red_wine_df.info()"
      ],
      "execution_count": null,
      "outputs": [
        {
          "output_type": "stream",
          "text": [
            "<class 'pandas.core.frame.DataFrame'>\n",
            "RangeIndex: 1599 entries, 0 to 1598\n",
            "Data columns (total 12 columns):\n",
            " #   Column                Non-Null Count  Dtype  \n",
            "---  ------                --------------  -----  \n",
            " 0   fixed acidity         1599 non-null   float64\n",
            " 1   volatile acidity      1599 non-null   float64\n",
            " 2   citric acid           1599 non-null   float64\n",
            " 3   residual sugar        1599 non-null   float64\n",
            " 4   chlorides             1599 non-null   float64\n",
            " 5   free sulfur dioxide   1599 non-null   float64\n",
            " 6   total sulfur dioxide  1599 non-null   float64\n",
            " 7   density               1599 non-null   float64\n",
            " 8   pH                    1599 non-null   float64\n",
            " 9   sulphates             1599 non-null   float64\n",
            " 10  alcohol               1599 non-null   float64\n",
            " 11  quality               1599 non-null   int64  \n",
            "dtypes: float64(11), int64(1)\n",
            "memory usage: 150.0 KB\n"
          ],
          "name": "stdout"
        }
      ]
    },
    {
      "cell_type": "code",
      "metadata": {
        "id": "l3FMGsaaknuq",
        "outputId": "4a56f90a-ad3f-43a5-c142-d91a022148ce"
      },
      "source": [
        "white_wine_df.info()"
      ],
      "execution_count": null,
      "outputs": [
        {
          "output_type": "stream",
          "text": [
            "<class 'pandas.core.frame.DataFrame'>\n",
            "RangeIndex: 4898 entries, 0 to 4897\n",
            "Data columns (total 12 columns):\n",
            " #   Column                Non-Null Count  Dtype  \n",
            "---  ------                --------------  -----  \n",
            " 0   fixed acidity         4898 non-null   float64\n",
            " 1   volatile acidity      4898 non-null   float64\n",
            " 2   citric acid           4898 non-null   float64\n",
            " 3   residual sugar        4898 non-null   float64\n",
            " 4   chlorides             4898 non-null   float64\n",
            " 5   free sulfur dioxide   4898 non-null   float64\n",
            " 6   total sulfur dioxide  4898 non-null   float64\n",
            " 7   density               4898 non-null   float64\n",
            " 8   pH                    4898 non-null   float64\n",
            " 9   sulphates             4898 non-null   float64\n",
            " 10  alcohol               4898 non-null   float64\n",
            " 11  quality               4898 non-null   int64  \n",
            "dtypes: float64(11), int64(1)\n",
            "memory usage: 459.2 KB\n"
          ],
          "name": "stdout"
        }
      ]
    },
    {
      "cell_type": "code",
      "metadata": {
        "id": "1UpE979fknur",
        "outputId": "9bd1f572-4408-4cff-d7e0-0f3e72632011"
      },
      "source": [
        "red_wine_df['quality'].value_counts()"
      ],
      "execution_count": null,
      "outputs": [
        {
          "output_type": "execute_result",
          "data": {
            "text/plain": [
              "5    681\n",
              "6    638\n",
              "7    199\n",
              "4     53\n",
              "8     18\n",
              "3     10\n",
              "Name: quality, dtype: int64"
            ]
          },
          "metadata": {
            "tags": []
          },
          "execution_count": 9
        }
      ]
    },
    {
      "cell_type": "code",
      "metadata": {
        "id": "gLLT-6t2knus",
        "outputId": "30473b92-58f6-477c-9f48-90b02b27d93e"
      },
      "source": [
        "white_wine_df['quality'].value_counts()"
      ],
      "execution_count": null,
      "outputs": [
        {
          "output_type": "execute_result",
          "data": {
            "text/plain": [
              "6    2198\n",
              "5    1457\n",
              "7     880\n",
              "8     175\n",
              "4     163\n",
              "3      20\n",
              "9       5\n",
              "Name: quality, dtype: int64"
            ]
          },
          "metadata": {
            "tags": []
          },
          "execution_count": 10
        }
      ]
    },
    {
      "cell_type": "code",
      "metadata": {
        "id": "f0CiFT92knut",
        "outputId": "1d3a7b86-15cf-46c7-b919-7605f1d4e227"
      },
      "source": [
        "sns.countplot(red_wine_df['quality'])"
      ],
      "execution_count": null,
      "outputs": [
        {
          "output_type": "execute_result",
          "data": {
            "text/plain": [
              "<matplotlib.axes._subplots.AxesSubplot at 0x9d7cce8>"
            ]
          },
          "metadata": {
            "tags": []
          },
          "execution_count": 12
        },
        {
          "output_type": "display_data",
          "data": {
            "image/png": "[encoded data removed]",
            "text/plain": [
              "<Figure size 432x288 with 1 Axes>"
            ]
          },
          "metadata": {
            "tags": [],
            "needs_background": "light"
          }
        }
      ]
    },
    {
      "cell_type": "code",
      "metadata": {
        "id": "DRHgipy3knuv",
        "outputId": "8beaa085-aae6-4cb3-ae78-574503a4a41a"
      },
      "source": [
        "sns.countplot(white_wine_df['quality'])"
      ],
      "execution_count": null,
      "outputs": [
        {
          "output_type": "execute_result",
          "data": {
            "text/plain": [
              "<matplotlib.axes._subplots.AxesSubplot at 0x936cd90>"
            ]
          },
          "metadata": {
            "tags": []
          },
          "execution_count": 13
        },
        {
          "output_type": "display_data",
          "data": {
            "image/png": "[encoded data removed]",
            "text/plain": [
              "<Figure size 432x288 with 1 Axes>"
            ]
          },
          "metadata": {
            "tags": [],
            "needs_background": "light"
          }
        }
      ]
    },
    {
      "cell_type": "code",
      "metadata": {
        "id": "dsyyda99knuw"
      },
      "source": [
        "#1--> Red, 0 --> White\n",
        "red_wine_df['Color']=1\n",
        "white_wine_df['Color']=0\n",
        "df=pd.concat([red_wine_df,white_wine_df])"
      ],
      "execution_count": 22,
      "outputs": []
    },
    {
      "cell_type": "code",
      "metadata": {
        "colab": {
          "base_uri": "https://localhost:8080/"
        },
        "id": "uh14A7_Pknux",
        "outputId": "7cc0846e-3809-47b7-e0bb-1a674594fafd"
      },
      "source": [
        "len(df)"
      ],
      "execution_count": 23,
      "outputs": [
        {
          "output_type": "execute_result",
          "data": {
            "text/plain": [
              "6497"
            ]
          },
          "metadata": {
            "tags": []
          },
          "execution_count": 23
        }
      ]
    },
    {
      "cell_type": "code",
      "metadata": {
        "colab": {
          "base_uri": "https://localhost:8080/",
          "height": 221
        },
        "id": "qHMR5e7Aknuy",
        "outputId": "a991b0fa-22ae-4c14-a937-450685fa1637"
      },
      "source": [
        "df.head()"
      ],
      "execution_count": 24,
      "outputs": [
        {
          "output_type": "execute_result",
          "data": {
            "text/html": [
              "<div>\n",
              "<style scoped>\n",
              "    .dataframe tbody tr th:only-of-type {\n",
              "        vertical-align: middle;\n",
              "    }\n",
              "\n",
              "    .dataframe tbody tr th {\n",
              "        vertical-align: top;\n",
              "    }\n",
              "\n",
              "    .dataframe thead th {\n",
              "        text-align: right;\n",
              "    }\n",
              "</style>\n",
              "<table border=\"1\" class=\"dataframe\">\n",
              "  <thead>\n",
              "    <tr style=\"text-align: right;\">\n",
              "      <th></th>\n",
              "      <th>fixed acidity</th>\n",
              "      <th>volatile acidity</th>\n",
              "      <th>citric acid</th>\n",
              "      <th>residual sugar</th>\n",
              "      <th>chlorides</th>\n",
              "      <th>free sulfur dioxide</th>\n",
              "      <th>total sulfur dioxide</th>\n",
              "      <th>density</th>\n",
              "      <th>pH</th>\n",
              "      <th>sulphates</th>\n",
              "      <th>alcohol</th>\n",
              "      <th>quality</th>\n",
              "      <th>Color</th>\n",
              "    </tr>\n",
              "  </thead>\n",
              "  <tbody>\n",
              "    <tr>\n",
              "      <th>0</th>\n",
              "      <td>7.4</td>\n",
              "      <td>0.70</td>\n",
              "      <td>0.00</td>\n",
              "      <td>1.9</td>\n",
              "      <td>0.076</td>\n",
              "      <td>11.0</td>\n",
              "      <td>34.0</td>\n",
              "      <td>0.9978</td>\n",
              "      <td>3.51</td>\n",
              "      <td>0.56</td>\n",
              "      <td>9.4</td>\n",
              "      <td>5</td>\n",
              "      <td>1</td>\n",
              "    </tr>\n",
              "    <tr>\n",
              "      <th>1</th>\n",
              "      <td>7.8</td>\n",
              "      <td>0.88</td>\n",
              "      <td>0.00</td>\n",
              "      <td>2.6</td>\n",
              "      <td>0.098</td>\n",
              "      <td>25.0</td>\n",
              "      <td>67.0</td>\n",
              "      <td>0.9968</td>\n",
              "      <td>3.20</td>\n",
              "      <td>0.68</td>\n",
              "      <td>9.8</td>\n",
              "      <td>5</td>\n",
              "      <td>1</td>\n",
              "    </tr>\n",
              "    <tr>\n",
              "      <th>2</th>\n",
              "      <td>7.8</td>\n",
              "      <td>0.76</td>\n",
              "      <td>0.04</td>\n",
              "      <td>2.3</td>\n",
              "      <td>0.092</td>\n",
              "      <td>15.0</td>\n",
              "      <td>54.0</td>\n",
              "      <td>0.9970</td>\n",
              "      <td>3.26</td>\n",
              "      <td>0.65</td>\n",
              "      <td>9.8</td>\n",
              "      <td>5</td>\n",
              "      <td>1</td>\n",
              "    </tr>\n",
              "    <tr>\n",
              "      <th>3</th>\n",
              "      <td>11.2</td>\n",
              "      <td>0.28</td>\n",
              "      <td>0.56</td>\n",
              "      <td>1.9</td>\n",
              "      <td>0.075</td>\n",
              "      <td>17.0</td>\n",
              "      <td>60.0</td>\n",
              "      <td>0.9980</td>\n",
              "      <td>3.16</td>\n",
              "      <td>0.58</td>\n",
              "      <td>9.8</td>\n",
              "      <td>6</td>\n",
              "      <td>1</td>\n",
              "    </tr>\n",
              "    <tr>\n",
              "      <th>4</th>\n",
              "      <td>7.4</td>\n",
              "      <td>0.70</td>\n",
              "      <td>0.00</td>\n",
              "      <td>1.9</td>\n",
              "      <td>0.076</td>\n",
              "      <td>11.0</td>\n",
              "      <td>34.0</td>\n",
              "      <td>0.9978</td>\n",
              "      <td>3.51</td>\n",
              "      <td>0.56</td>\n",
              "      <td>9.4</td>\n",
              "      <td>5</td>\n",
              "      <td>1</td>\n",
              "    </tr>\n",
              "  </tbody>\n",
              "</table>\n",
              "</div>"
            ],
            "text/plain": [
              "   fixed acidity  volatile acidity  citric acid  ...  alcohol  quality  Color\n",
              "0            7.4              0.70         0.00  ...      9.4        5      1\n",
              "1            7.8              0.88         0.00  ...      9.8        5      1\n",
              "2            7.8              0.76         0.04  ...      9.8        5      1\n",
              "3           11.2              0.28         0.56  ...      9.8        6      1\n",
              "4            7.4              0.70         0.00  ...      9.4        5      1\n",
              "\n",
              "[5 rows x 13 columns]"
            ]
          },
          "metadata": {
            "tags": []
          },
          "execution_count": 24
        }
      ]
    },
    {
      "cell_type": "code",
      "metadata": {
        "id": "K-YbxHiQknuy",
        "outputId": "eadf232a-7186-4ae2-b29a-1eb724a0c311"
      },
      "source": [
        "sns.countplot(df['Color'])\n",
        "plt.show()"
      ],
      "execution_count": null,
      "outputs": [
        {
          "output_type": "display_data",
          "data": {
            "image/png": "[encoded data removed]",
            "text/plain": [
              "<Figure size 432x288 with 1 Axes>"
            ]
          },
          "metadata": {
            "tags": [],
            "needs_background": "light"
          }
        }
      ]
    },
    {
      "cell_type": "code",
      "metadata": {
        "id": "JciyYRG9knuz",
        "outputId": "dd1d833c-0a20-4044-a974-0069ad983767"
      },
      "source": [
        "df.info()"
      ],
      "execution_count": null,
      "outputs": [
        {
          "output_type": "stream",
          "text": [
            "<class 'pandas.core.frame.DataFrame'>\n",
            "Int64Index: 6497 entries, 0 to 4897\n",
            "Data columns (total 13 columns):\n",
            " #   Column                Non-Null Count  Dtype  \n",
            "---  ------                --------------  -----  \n",
            " 0   fixed acidity         6497 non-null   float64\n",
            " 1   volatile acidity      6497 non-null   float64\n",
            " 2   citric acid           6497 non-null   float64\n",
            " 3   residual sugar        6497 non-null   float64\n",
            " 4   chlorides             6497 non-null   float64\n",
            " 5   free sulfur dioxide   6497 non-null   float64\n",
            " 6   total sulfur dioxide  6497 non-null   float64\n",
            " 7   density               6497 non-null   float64\n",
            " 8   pH                    6497 non-null   float64\n",
            " 9   sulphates             6497 non-null   float64\n",
            " 10  alcohol               6497 non-null   float64\n",
            " 11  quality               6497 non-null   int64  \n",
            " 12  Color                 6497 non-null   int64  \n",
            "dtypes: float64(11), int64(2)\n",
            "memory usage: 838.6 KB\n"
          ],
          "name": "stdout"
        }
      ]
    },
    {
      "cell_type": "code",
      "metadata": {
        "id": "AzELf0k5knu0"
      },
      "source": [
        "X=df.drop('quality',axis=1)\n",
        "y=df['quality']"
      ],
      "execution_count": 25,
      "outputs": []
    },
    {
      "cell_type": "code",
      "metadata": {
        "id": "SISX5s1Tknu1"
      },
      "source": [
        "from sklearn.model_selection import train_test_split\n",
        "from sklearn.preprocessing import MinMaxScaler"
      ],
      "execution_count": 26,
      "outputs": []
    },
    {
      "cell_type": "code",
      "metadata": {
        "id": "5C_DKe0Vknu2"
      },
      "source": [
        "X_train,X_test,y_train,y_test=train_test_split(X,y,test_size=0.3,random_state=101)"
      ],
      "execution_count": 27,
      "outputs": []
    },
    {
      "cell_type": "code",
      "metadata": {
        "id": "XllDaEr2knu2"
      },
      "source": [
        "scaler=MinMaxScaler()\n",
        "scaler.fit(X_train)\n",
        "X_train=scaler.transform(X_train)\n",
        "X_test=scaler.transform(X_test)"
      ],
      "execution_count": 28,
      "outputs": []
    },
    {
      "cell_type": "code",
      "metadata": {
        "id": "DDCfPvSeknu3"
      },
      "source": [
        "from keras.utils.np_utils import to_categorical"
      ],
      "execution_count": 29,
      "outputs": []
    },
    {
      "cell_type": "code",
      "metadata": {
        "id": "kw8dUfxKlXag"
      },
      "source": [
        "cat_y_train=to_categorical(y_train)\r\n",
        "cat_y_test=to_categorical(y_test)"
      ],
      "execution_count": 30,
      "outputs": []
    },
    {
      "cell_type": "code",
      "metadata": {
        "id": "zSw3vGSLl9rO"
      },
      "source": [
        "from tensorflow.keras.models import Sequential\r\n",
        "from tensorflow.keras.layers import Dense,Dropout"
      ],
      "execution_count": 38,
      "outputs": []
    },
    {
      "cell_type": "code",
      "metadata": {
        "id": "20UFnpOpmN10"
      },
      "source": [
        "model=Sequential()\r\n",
        "\r\n",
        "model.add(Dense(512,input_dim=12,activation='relu'))\r\n",
        "model.add(Dropout(0.2))\r\n",
        "\r\n",
        "model.add(Dense(256,activation='relu'))\r\n",
        "model.add(Dropout(0.2))\r\n",
        "\r\n",
        "model.add(Dense(128,activation='relu'))\r\n",
        "model.add(Dropout(0.2))\r\n",
        "\r\n",
        "model.add(Dense(10,activation='softmax'))\r\n",
        "\r\n",
        "model.compile(loss='categorical_crossentropy',\r\n",
        "              optimizer='rmsprop',\r\n",
        "              metrics=['accuracy'])"
      ],
      "execution_count": 45,
      "outputs": []
    },
    {
      "cell_type": "code",
      "metadata": {
        "colab": {
          "base_uri": "https://localhost:8080/"
        },
        "id": "x90DxAxJ1pKP",
        "outputId": "63f6336f-a2ff-45a0-d349-fc7b08a5afa6"
      },
      "source": [
        "model.summary()"
      ],
      "execution_count": 40,
      "outputs": [
        {
          "output_type": "stream",
          "text": [
            "Model: \"sequential_2\"\n",
            "_________________________________________________________________\n",
            "Layer (type)                 Output Shape              Param #   \n",
            "=================================================================\n",
            "dense_5 (Dense)              (None, 512)               2560      \n",
            "_________________________________________________________________\n",
            "dropout (Dropout)            (None, 512)               0         \n",
            "_________________________________________________________________\n",
            "dense_6 (Dense)              (None, 256)               131328    \n",
            "_________________________________________________________________\n",
            "dropout_1 (Dropout)          (None, 256)               0         \n",
            "_________________________________________________________________\n",
            "dense_7 (Dense)              (None, 128)               32896     \n",
            "_________________________________________________________________\n",
            "dropout_2 (Dropout)          (None, 128)               0         \n",
            "_________________________________________________________________\n",
            "dense_8 (Dense)              (None, 10)                1290      \n",
            "=================================================================\n",
            "Total params: 168,074\n",
            "Trainable params: 168,074\n",
            "Non-trainable params: 0\n",
            "_________________________________________________________________\n"
          ],
          "name": "stdout"
        }
      ]
    },
    {
      "cell_type": "code",
      "metadata": {
        "colab": {
          "base_uri": "https://localhost:8080/"
        },
        "id": "U_g2sV4Z14gB",
        "outputId": "725f2fcf-d0f2-48ff-b3f9-d5e76c3ba595"
      },
      "source": [
        "model.fit(X_train,cat_y_train,epochs=500,validation_data=(X_test,cat_y_test))"
      ],
      "execution_count": 48,
      "outputs": [
        {
          "output_type": "stream",
          "text": [
            "Epoch 1/500\n",
            "143/143 [==============================] - 1s 6ms/step - loss: 0.8229 - accuracy: 0.6780 - val_loss: 1.3720 - val_accuracy: 0.5754\n",
            "Epoch 2/500\n",
            "143/143 [==============================] - 1s 6ms/step - loss: 0.7932 - accuracy: 0.6679 - val_loss: 1.3180 - val_accuracy: 0.5733\n",
            "Epoch 3/500\n",
            "143/143 [==============================] - 1s 6ms/step - loss: 0.8069 - accuracy: 0.6787 - val_loss: 1.3283 - val_accuracy: 0.5826\n",
            "Epoch 4/500\n",
            "143/143 [==============================] - 1s 6ms/step - loss: 0.8245 - accuracy: 0.6736 - val_loss: 1.2748 - val_accuracy: 0.5754\n",
            "Epoch 5/500\n",
            "143/143 [==============================] - 1s 6ms/step - loss: 0.7918 - accuracy: 0.6710 - val_loss: 1.2852 - val_accuracy: 0.5749\n",
            "Epoch 6/500\n",
            "143/143 [==============================] - 1s 6ms/step - loss: 0.7942 - accuracy: 0.6734 - val_loss: 1.2663 - val_accuracy: 0.5846\n",
            "Epoch 7/500\n",
            "143/143 [==============================] - 1s 6ms/step - loss: 0.7771 - accuracy: 0.6750 - val_loss: 1.3265 - val_accuracy: 0.5738\n",
            "Epoch 8/500\n",
            "143/143 [==============================] - 1s 6ms/step - loss: 0.7914 - accuracy: 0.6771 - val_loss: 1.3974 - val_accuracy: 0.5826\n",
            "Epoch 9/500\n",
            "143/143 [==============================] - 1s 6ms/step - loss: 0.7813 - accuracy: 0.6761 - val_loss: 1.3548 - val_accuracy: 0.5733\n",
            "Epoch 10/500\n",
            "143/143 [==============================] - 1s 6ms/step - loss: 0.7951 - accuracy: 0.6750 - val_loss: 1.4603 - val_accuracy: 0.5954\n",
            "Epoch 11/500\n",
            "143/143 [==============================] - 1s 6ms/step - loss: 0.7904 - accuracy: 0.6771 - val_loss: 1.3484 - val_accuracy: 0.5713\n",
            "Epoch 12/500\n",
            "143/143 [==============================] - 1s 6ms/step - loss: 0.7964 - accuracy: 0.6629 - val_loss: 1.3113 - val_accuracy: 0.5779\n",
            "Epoch 13/500\n",
            "143/143 [==============================] - 1s 6ms/step - loss: 0.8035 - accuracy: 0.6719 - val_loss: 1.4636 - val_accuracy: 0.5938\n",
            "Epoch 14/500\n",
            "143/143 [==============================] - 1s 6ms/step - loss: 0.8078 - accuracy: 0.6741 - val_loss: 1.4494 - val_accuracy: 0.5744\n",
            "Epoch 15/500\n",
            "143/143 [==============================] - 1s 7ms/step - loss: 0.7968 - accuracy: 0.6767 - val_loss: 1.3258 - val_accuracy: 0.5821\n",
            "Epoch 16/500\n",
            "143/143 [==============================] - 1s 6ms/step - loss: 0.7773 - accuracy: 0.6732 - val_loss: 1.3182 - val_accuracy: 0.5718\n",
            "Epoch 17/500\n",
            "143/143 [==============================] - 1s 6ms/step - loss: 0.7983 - accuracy: 0.6712 - val_loss: 1.3962 - val_accuracy: 0.5703\n",
            "Epoch 18/500\n",
            "143/143 [==============================] - 1s 6ms/step - loss: 0.7717 - accuracy: 0.6802 - val_loss: 1.3587 - val_accuracy: 0.5769\n",
            "Epoch 19/500\n",
            "143/143 [==============================] - 1s 6ms/step - loss: 0.7845 - accuracy: 0.6750 - val_loss: 1.3998 - val_accuracy: 0.5692\n",
            "Epoch 20/500\n",
            "143/143 [==============================] - 1s 6ms/step - loss: 0.7704 - accuracy: 0.6868 - val_loss: 1.3760 - val_accuracy: 0.5744\n",
            "Epoch 21/500\n",
            "143/143 [==============================] - 1s 6ms/step - loss: 0.7821 - accuracy: 0.6780 - val_loss: 1.3091 - val_accuracy: 0.5785\n",
            "Epoch 22/500\n",
            "143/143 [==============================] - 1s 6ms/step - loss: 0.7695 - accuracy: 0.6754 - val_loss: 1.3714 - val_accuracy: 0.5913\n",
            "Epoch 23/500\n",
            "143/143 [==============================] - 1s 6ms/step - loss: 0.8152 - accuracy: 0.6763 - val_loss: 1.3342 - val_accuracy: 0.5805\n",
            "Epoch 24/500\n",
            "143/143 [==============================] - 1s 6ms/step - loss: 0.7940 - accuracy: 0.6780 - val_loss: 1.3657 - val_accuracy: 0.5728\n",
            "Epoch 25/500\n",
            "143/143 [==============================] - 1s 6ms/step - loss: 0.7791 - accuracy: 0.6798 - val_loss: 1.3858 - val_accuracy: 0.5728\n",
            "Epoch 26/500\n",
            "143/143 [==============================] - 1s 6ms/step - loss: 0.7727 - accuracy: 0.6804 - val_loss: 1.4812 - val_accuracy: 0.5836\n",
            "Epoch 27/500\n",
            "143/143 [==============================] - 1s 5ms/step - loss: 0.7843 - accuracy: 0.6798 - val_loss: 1.3480 - val_accuracy: 0.5790\n",
            "Epoch 28/500\n",
            "143/143 [==============================] - 1s 6ms/step - loss: 0.7852 - accuracy: 0.6833 - val_loss: 1.4137 - val_accuracy: 0.5723\n",
            "Epoch 29/500\n",
            "143/143 [==============================] - 1s 6ms/step - loss: 0.7829 - accuracy: 0.6875 - val_loss: 1.3863 - val_accuracy: 0.5882\n",
            "Epoch 30/500\n",
            "143/143 [==============================] - 1s 5ms/step - loss: 0.7749 - accuracy: 0.6842 - val_loss: 1.3263 - val_accuracy: 0.5877\n",
            "Epoch 31/500\n",
            "143/143 [==============================] - 1s 5ms/step - loss: 0.7887 - accuracy: 0.6870 - val_loss: 1.4373 - val_accuracy: 0.5846\n",
            "Epoch 32/500\n",
            "143/143 [==============================] - 1s 6ms/step - loss: 0.7647 - accuracy: 0.6888 - val_loss: 1.4120 - val_accuracy: 0.5815\n",
            "Epoch 33/500\n",
            "143/143 [==============================] - 1s 6ms/step - loss: 0.7857 - accuracy: 0.6884 - val_loss: 1.3774 - val_accuracy: 0.5708\n",
            "Epoch 34/500\n",
            "143/143 [==============================] - 1s 6ms/step - loss: 0.7772 - accuracy: 0.6932 - val_loss: 1.4668 - val_accuracy: 0.5672\n",
            "Epoch 35/500\n",
            "143/143 [==============================] - 1s 6ms/step - loss: 0.7767 - accuracy: 0.6840 - val_loss: 1.4324 - val_accuracy: 0.5687\n",
            "Epoch 36/500\n",
            "143/143 [==============================] - 1s 5ms/step - loss: 0.7626 - accuracy: 0.6917 - val_loss: 1.4353 - val_accuracy: 0.5851\n",
            "Epoch 37/500\n",
            "143/143 [==============================] - 1s 6ms/step - loss: 0.7777 - accuracy: 0.6800 - val_loss: 1.5023 - val_accuracy: 0.5754\n",
            "Epoch 38/500\n",
            "143/143 [==============================] - 1s 6ms/step - loss: 0.7751 - accuracy: 0.6875 - val_loss: 1.4280 - val_accuracy: 0.5810\n",
            "Epoch 39/500\n",
            "143/143 [==============================] - 1s 6ms/step - loss: 0.7727 - accuracy: 0.6859 - val_loss: 1.4557 - val_accuracy: 0.5738\n",
            "Epoch 40/500\n",
            "143/143 [==============================] - 1s 6ms/step - loss: 0.7649 - accuracy: 0.6947 - val_loss: 1.3821 - val_accuracy: 0.5877\n",
            "Epoch 41/500\n",
            "143/143 [==============================] - 1s 6ms/step - loss: 0.7565 - accuracy: 0.6923 - val_loss: 1.4752 - val_accuracy: 0.5662\n",
            "Epoch 42/500\n",
            "143/143 [==============================] - 1s 6ms/step - loss: 0.7604 - accuracy: 0.6910 - val_loss: 1.4562 - val_accuracy: 0.5703\n",
            "Epoch 43/500\n",
            "143/143 [==============================] - 1s 6ms/step - loss: 0.7663 - accuracy: 0.6886 - val_loss: 1.3938 - val_accuracy: 0.5841\n",
            "Epoch 44/500\n",
            "143/143 [==============================] - 1s 6ms/step - loss: 0.7684 - accuracy: 0.7016 - val_loss: 1.4245 - val_accuracy: 0.5656\n",
            "Epoch 45/500\n",
            "143/143 [==============================] - 1s 6ms/step - loss: 0.7507 - accuracy: 0.6967 - val_loss: 1.4486 - val_accuracy: 0.5826\n",
            "Epoch 46/500\n",
            "143/143 [==============================] - 1s 5ms/step - loss: 0.7521 - accuracy: 0.6950 - val_loss: 1.3746 - val_accuracy: 0.5913\n",
            "Epoch 47/500\n",
            "143/143 [==============================] - 1s 5ms/step - loss: 0.7562 - accuracy: 0.6908 - val_loss: 1.4266 - val_accuracy: 0.5882\n",
            "Epoch 48/500\n",
            "143/143 [==============================] - 1s 5ms/step - loss: 0.7615 - accuracy: 0.6826 - val_loss: 1.4089 - val_accuracy: 0.5913\n",
            "Epoch 49/500\n",
            "143/143 [==============================] - 1s 6ms/step - loss: 0.7802 - accuracy: 0.6928 - val_loss: 1.3981 - val_accuracy: 0.5851\n",
            "Epoch 50/500\n",
            "143/143 [==============================] - 1s 6ms/step - loss: 0.7439 - accuracy: 0.6919 - val_loss: 1.3750 - val_accuracy: 0.5872\n",
            "Epoch 51/500\n",
            "143/143 [==============================] - 1s 5ms/step - loss: 0.7572 - accuracy: 0.6941 - val_loss: 1.3959 - val_accuracy: 0.5990\n",
            "Epoch 52/500\n",
            "143/143 [==============================] - 1s 6ms/step - loss: 0.7478 - accuracy: 0.6958 - val_loss: 1.4805 - val_accuracy: 0.5892\n",
            "Epoch 53/500\n",
            "143/143 [==============================] - 1s 6ms/step - loss: 0.7437 - accuracy: 0.6974 - val_loss: 1.5913 - val_accuracy: 0.5821\n",
            "Epoch 54/500\n",
            "143/143 [==============================] - 1s 6ms/step - loss: 0.7601 - accuracy: 0.6890 - val_loss: 1.5321 - val_accuracy: 0.5913\n",
            "Epoch 55/500\n",
            "143/143 [==============================] - 1s 6ms/step - loss: 0.7729 - accuracy: 0.6954 - val_loss: 1.4081 - val_accuracy: 0.5810\n",
            "Epoch 56/500\n",
            "143/143 [==============================] - 1s 6ms/step - loss: 0.7545 - accuracy: 0.6963 - val_loss: 1.5179 - val_accuracy: 0.5779\n",
            "Epoch 57/500\n",
            "143/143 [==============================] - 1s 6ms/step - loss: 0.7544 - accuracy: 0.6932 - val_loss: 1.4833 - val_accuracy: 0.5754\n",
            "Epoch 58/500\n",
            "143/143 [==============================] - 1s 6ms/step - loss: 0.7835 - accuracy: 0.6906 - val_loss: 1.4554 - val_accuracy: 0.5769\n",
            "Epoch 59/500\n",
            "143/143 [==============================] - 1s 5ms/step - loss: 0.7419 - accuracy: 0.6941 - val_loss: 1.5027 - val_accuracy: 0.5903\n",
            "Epoch 60/500\n",
            "143/143 [==============================] - 1s 5ms/step - loss: 0.7477 - accuracy: 0.6961 - val_loss: 1.4833 - val_accuracy: 0.5826\n",
            "Epoch 61/500\n",
            "143/143 [==============================] - 1s 6ms/step - loss: 0.7454 - accuracy: 0.7044 - val_loss: 1.4707 - val_accuracy: 0.5836\n",
            "Epoch 62/500\n",
            "143/143 [==============================] - 1s 6ms/step - loss: 0.7363 - accuracy: 0.7013 - val_loss: 1.5609 - val_accuracy: 0.5846\n",
            "Epoch 63/500\n",
            "143/143 [==============================] - 1s 5ms/step - loss: 0.7542 - accuracy: 0.7029 - val_loss: 1.4615 - val_accuracy: 0.5913\n",
            "Epoch 64/500\n",
            "143/143 [==============================] - 1s 5ms/step - loss: 0.7453 - accuracy: 0.6972 - val_loss: 1.5066 - val_accuracy: 0.5779\n",
            "Epoch 65/500\n",
            "143/143 [==============================] - 1s 6ms/step - loss: 0.7803 - accuracy: 0.6892 - val_loss: 1.4063 - val_accuracy: 0.5667\n",
            "Epoch 66/500\n",
            "143/143 [==============================] - 1s 6ms/step - loss: 0.7662 - accuracy: 0.7044 - val_loss: 1.4278 - val_accuracy: 0.5764\n",
            "Epoch 67/500\n",
            "143/143 [==============================] - 1s 5ms/step - loss: 0.7439 - accuracy: 0.7024 - val_loss: 1.5575 - val_accuracy: 0.5821\n",
            "Epoch 68/500\n",
            "143/143 [==============================] - 1s 6ms/step - loss: 0.7361 - accuracy: 0.7027 - val_loss: 1.4483 - val_accuracy: 0.5903\n",
            "Epoch 69/500\n",
            "143/143 [==============================] - 1s 5ms/step - loss: 0.7242 - accuracy: 0.7097 - val_loss: 1.4680 - val_accuracy: 0.5887\n",
            "Epoch 70/500\n",
            "143/143 [==============================] - 1s 6ms/step - loss: 0.7480 - accuracy: 0.7009 - val_loss: 1.5252 - val_accuracy: 0.5831\n",
            "Epoch 71/500\n",
            "143/143 [==============================] - 1s 6ms/step - loss: 0.7346 - accuracy: 0.7090 - val_loss: 1.6266 - val_accuracy: 0.5933\n",
            "Epoch 72/500\n",
            "143/143 [==============================] - 1s 6ms/step - loss: 0.7411 - accuracy: 0.7071 - val_loss: 1.5228 - val_accuracy: 0.5908\n",
            "Epoch 73/500\n",
            "143/143 [==============================] - 1s 6ms/step - loss: 0.7294 - accuracy: 0.7071 - val_loss: 1.6904 - val_accuracy: 0.5749\n",
            "Epoch 74/500\n",
            "143/143 [==============================] - 1s 6ms/step - loss: 0.7549 - accuracy: 0.6972 - val_loss: 1.6307 - val_accuracy: 0.5918\n",
            "Epoch 75/500\n",
            "143/143 [==============================] - 1s 6ms/step - loss: 0.7353 - accuracy: 0.7011 - val_loss: 1.5748 - val_accuracy: 0.5974\n",
            "Epoch 76/500\n",
            "143/143 [==============================] - 1s 5ms/step - loss: 0.7402 - accuracy: 0.6983 - val_loss: 1.6991 - val_accuracy: 0.5846\n",
            "Epoch 77/500\n",
            "143/143 [==============================] - 1s 5ms/step - loss: 0.7449 - accuracy: 0.7079 - val_loss: 1.5217 - val_accuracy: 0.5738\n",
            "Epoch 78/500\n",
            "143/143 [==============================] - 1s 6ms/step - loss: 0.7413 - accuracy: 0.7060 - val_loss: 1.6790 - val_accuracy: 0.5862\n",
            "Epoch 79/500\n",
            "143/143 [==============================] - 1s 5ms/step - loss: 0.7319 - accuracy: 0.7060 - val_loss: 1.6801 - val_accuracy: 0.5815\n",
            "Epoch 80/500\n",
            "143/143 [==============================] - 1s 6ms/step - loss: 0.7346 - accuracy: 0.7062 - val_loss: 1.7191 - val_accuracy: 0.5882\n",
            "Epoch 81/500\n",
            "143/143 [==============================] - 1s 6ms/step - loss: 0.7527 - accuracy: 0.7068 - val_loss: 1.6378 - val_accuracy: 0.5821\n",
            "Epoch 82/500\n",
            "143/143 [==============================] - 1s 5ms/step - loss: 0.7340 - accuracy: 0.7057 - val_loss: 1.6055 - val_accuracy: 0.5728\n",
            "Epoch 83/500\n",
            "143/143 [==============================] - 1s 6ms/step - loss: 0.7514 - accuracy: 0.7060 - val_loss: 1.5532 - val_accuracy: 0.5754\n",
            "Epoch 84/500\n",
            "143/143 [==============================] - 1s 6ms/step - loss: 0.7275 - accuracy: 0.7126 - val_loss: 1.5997 - val_accuracy: 0.5805\n",
            "Epoch 85/500\n",
            "143/143 [==============================] - 1s 6ms/step - loss: 0.7320 - accuracy: 0.7134 - val_loss: 1.6590 - val_accuracy: 0.5810\n",
            "Epoch 86/500\n",
            "143/143 [==============================] - 1s 6ms/step - loss: 0.7303 - accuracy: 0.7130 - val_loss: 1.4885 - val_accuracy: 0.5964\n",
            "Epoch 87/500\n",
            "143/143 [==============================] - 1s 6ms/step - loss: 0.7263 - accuracy: 0.7099 - val_loss: 1.6520 - val_accuracy: 0.5862\n",
            "Epoch 88/500\n",
            "143/143 [==============================] - 1s 6ms/step - loss: 0.7359 - accuracy: 0.7049 - val_loss: 1.5660 - val_accuracy: 0.5749\n",
            "Epoch 89/500\n",
            "143/143 [==============================] - 1s 5ms/step - loss: 0.7219 - accuracy: 0.7090 - val_loss: 1.6401 - val_accuracy: 0.5815\n",
            "Epoch 90/500\n",
            "143/143 [==============================] - 1s 5ms/step - loss: 0.7383 - accuracy: 0.7123 - val_loss: 1.5663 - val_accuracy: 0.5810\n",
            "Epoch 91/500\n",
            "143/143 [==============================] - 1s 5ms/step - loss: 0.7144 - accuracy: 0.7170 - val_loss: 1.5609 - val_accuracy: 0.5800\n",
            "Epoch 92/500\n",
            "143/143 [==============================] - 1s 6ms/step - loss: 0.7140 - accuracy: 0.7068 - val_loss: 1.5916 - val_accuracy: 0.5831\n",
            "Epoch 93/500\n",
            "143/143 [==============================] - 1s 6ms/step - loss: 0.7175 - accuracy: 0.7126 - val_loss: 1.7070 - val_accuracy: 0.5723\n",
            "Epoch 94/500\n",
            "143/143 [==============================] - 1s 6ms/step - loss: 0.7621 - accuracy: 0.7051 - val_loss: 1.5622 - val_accuracy: 0.5810\n",
            "Epoch 95/500\n",
            "143/143 [==============================] - 1s 6ms/step - loss: 0.7258 - accuracy: 0.7143 - val_loss: 1.5306 - val_accuracy: 0.5954\n",
            "Epoch 96/500\n",
            "143/143 [==============================] - 1s 6ms/step - loss: 0.7519 - accuracy: 0.7161 - val_loss: 1.6834 - val_accuracy: 0.5754\n",
            "Epoch 97/500\n",
            "143/143 [==============================] - 1s 6ms/step - loss: 0.7292 - accuracy: 0.7172 - val_loss: 1.6662 - val_accuracy: 0.5841\n",
            "Epoch 98/500\n",
            "143/143 [==============================] - 1s 6ms/step - loss: 0.7183 - accuracy: 0.7121 - val_loss: 1.5803 - val_accuracy: 0.5831\n",
            "Epoch 99/500\n",
            "143/143 [==============================] - 1s 6ms/step - loss: 0.7271 - accuracy: 0.7079 - val_loss: 1.6905 - val_accuracy: 0.5856\n",
            "Epoch 100/500\n",
            "143/143 [==============================] - 1s 6ms/step - loss: 0.7065 - accuracy: 0.7130 - val_loss: 1.6557 - val_accuracy: 0.5744\n",
            "Epoch 101/500\n",
            "143/143 [==============================] - 1s 6ms/step - loss: 0.7092 - accuracy: 0.7229 - val_loss: 1.6595 - val_accuracy: 0.5949\n",
            "Epoch 102/500\n",
            "143/143 [==============================] - 1s 6ms/step - loss: 0.7371 - accuracy: 0.7115 - val_loss: 1.7675 - val_accuracy: 0.5821\n",
            "Epoch 103/500\n",
            "143/143 [==============================] - 1s 6ms/step - loss: 0.7092 - accuracy: 0.7192 - val_loss: 1.6469 - val_accuracy: 0.5923\n",
            "Epoch 104/500\n",
            "143/143 [==============================] - 1s 6ms/step - loss: 0.7231 - accuracy: 0.7128 - val_loss: 1.6613 - val_accuracy: 0.5795\n",
            "Epoch 105/500\n",
            "143/143 [==============================] - 1s 6ms/step - loss: 0.7274 - accuracy: 0.7104 - val_loss: 1.6055 - val_accuracy: 0.5754\n",
            "Epoch 106/500\n",
            "143/143 [==============================] - 1s 6ms/step - loss: 0.7185 - accuracy: 0.7104 - val_loss: 1.7615 - val_accuracy: 0.5769\n",
            "Epoch 107/500\n",
            "143/143 [==============================] - 1s 6ms/step - loss: 0.7269 - accuracy: 0.7108 - val_loss: 1.6180 - val_accuracy: 0.5800\n",
            "Epoch 108/500\n",
            "143/143 [==============================] - 1s 6ms/step - loss: 0.7054 - accuracy: 0.7170 - val_loss: 1.7023 - val_accuracy: 0.5897\n",
            "Epoch 109/500\n",
            "143/143 [==============================] - 1s 6ms/step - loss: 0.7469 - accuracy: 0.7167 - val_loss: 1.6742 - val_accuracy: 0.5872\n",
            "Epoch 110/500\n",
            "143/143 [==============================] - 1s 6ms/step - loss: 0.7235 - accuracy: 0.7123 - val_loss: 1.6445 - val_accuracy: 0.6046\n",
            "Epoch 111/500\n",
            "143/143 [==============================] - 1s 6ms/step - loss: 0.7203 - accuracy: 0.7170 - val_loss: 1.5416 - val_accuracy: 0.5826\n",
            "Epoch 112/500\n",
            "143/143 [==============================] - 1s 6ms/step - loss: 0.7130 - accuracy: 0.7189 - val_loss: 1.7208 - val_accuracy: 0.5621\n",
            "Epoch 113/500\n",
            "143/143 [==============================] - 1s 6ms/step - loss: 0.7143 - accuracy: 0.7262 - val_loss: 1.5895 - val_accuracy: 0.5687\n",
            "Epoch 114/500\n",
            "143/143 [==============================] - 1s 6ms/step - loss: 0.7513 - accuracy: 0.7108 - val_loss: 1.6656 - val_accuracy: 0.5923\n",
            "Epoch 115/500\n",
            "143/143 [==============================] - 1s 6ms/step - loss: 0.7119 - accuracy: 0.7181 - val_loss: 1.7754 - val_accuracy: 0.5754\n",
            "Epoch 116/500\n",
            "143/143 [==============================] - 1s 5ms/step - loss: 0.7017 - accuracy: 0.7220 - val_loss: 1.7396 - val_accuracy: 0.5903\n",
            "Epoch 117/500\n",
            "143/143 [==============================] - 1s 6ms/step - loss: 0.7113 - accuracy: 0.7172 - val_loss: 1.6886 - val_accuracy: 0.5759\n",
            "Epoch 118/500\n",
            "143/143 [==============================] - 1s 6ms/step - loss: 0.7325 - accuracy: 0.7277 - val_loss: 1.7001 - val_accuracy: 0.5764\n",
            "Epoch 119/500\n",
            "143/143 [==============================] - 1s 6ms/step - loss: 0.7232 - accuracy: 0.7152 - val_loss: 1.8459 - val_accuracy: 0.5841\n",
            "Epoch 120/500\n",
            "143/143 [==============================] - 1s 6ms/step - loss: 0.7161 - accuracy: 0.7249 - val_loss: 1.7395 - val_accuracy: 0.5831\n",
            "Epoch 121/500\n",
            "143/143 [==============================] - 1s 6ms/step - loss: 0.7119 - accuracy: 0.7249 - val_loss: 1.7639 - val_accuracy: 0.5805\n",
            "Epoch 122/500\n",
            "143/143 [==============================] - 1s 6ms/step - loss: 0.7023 - accuracy: 0.7148 - val_loss: 1.7422 - val_accuracy: 0.5800\n",
            "Epoch 123/500\n",
            "143/143 [==============================] - 1s 6ms/step - loss: 0.7211 - accuracy: 0.7156 - val_loss: 1.6844 - val_accuracy: 0.5913\n",
            "Epoch 124/500\n",
            "143/143 [==============================] - 1s 6ms/step - loss: 0.7015 - accuracy: 0.7167 - val_loss: 1.7865 - val_accuracy: 0.6021\n",
            "Epoch 125/500\n",
            "143/143 [==============================] - 1s 6ms/step - loss: 0.7167 - accuracy: 0.7209 - val_loss: 1.6974 - val_accuracy: 0.5805\n",
            "Epoch 126/500\n",
            "143/143 [==============================] - 1s 6ms/step - loss: 0.7139 - accuracy: 0.7194 - val_loss: 1.7224 - val_accuracy: 0.5846\n",
            "Epoch 127/500\n",
            "143/143 [==============================] - 1s 6ms/step - loss: 0.7114 - accuracy: 0.7273 - val_loss: 1.6255 - val_accuracy: 0.5928\n",
            "Epoch 128/500\n",
            "143/143 [==============================] - 1s 6ms/step - loss: 0.6984 - accuracy: 0.7233 - val_loss: 1.7764 - val_accuracy: 0.5933\n",
            "Epoch 129/500\n",
            "143/143 [==============================] - 1s 6ms/step - loss: 0.6986 - accuracy: 0.7176 - val_loss: 1.7484 - val_accuracy: 0.6041\n",
            "Epoch 130/500\n",
            "143/143 [==============================] - 1s 6ms/step - loss: 0.7034 - accuracy: 0.7211 - val_loss: 1.6294 - val_accuracy: 0.5856\n",
            "Epoch 131/500\n",
            "143/143 [==============================] - 1s 6ms/step - loss: 0.7504 - accuracy: 0.7194 - val_loss: 1.6994 - val_accuracy: 0.5913\n",
            "Epoch 132/500\n",
            "143/143 [==============================] - 1s 6ms/step - loss: 0.7126 - accuracy: 0.7275 - val_loss: 1.7746 - val_accuracy: 0.5846\n",
            "Epoch 133/500\n",
            "143/143 [==============================] - 1s 6ms/step - loss: 0.7086 - accuracy: 0.7192 - val_loss: 1.7562 - val_accuracy: 0.6015\n",
            "Epoch 134/500\n",
            "143/143 [==============================] - 1s 6ms/step - loss: 0.6881 - accuracy: 0.7293 - val_loss: 1.8669 - val_accuracy: 0.5718\n",
            "Epoch 135/500\n",
            "143/143 [==============================] - 1s 6ms/step - loss: 0.6960 - accuracy: 0.7271 - val_loss: 1.8971 - val_accuracy: 0.5754\n",
            "Epoch 136/500\n",
            "143/143 [==============================] - 1s 6ms/step - loss: 0.7192 - accuracy: 0.7269 - val_loss: 1.8200 - val_accuracy: 0.5897\n",
            "Epoch 137/500\n",
            "143/143 [==============================] - 1s 6ms/step - loss: 0.6983 - accuracy: 0.7306 - val_loss: 1.7834 - val_accuracy: 0.5887\n",
            "Epoch 138/500\n",
            "143/143 [==============================] - 1s 6ms/step - loss: 0.6986 - accuracy: 0.7214 - val_loss: 1.7781 - val_accuracy: 0.6005\n",
            "Epoch 139/500\n",
            "143/143 [==============================] - 1s 6ms/step - loss: 0.7092 - accuracy: 0.7176 - val_loss: 1.8044 - val_accuracy: 0.5882\n",
            "Epoch 140/500\n",
            "143/143 [==============================] - 1s 6ms/step - loss: 0.7089 - accuracy: 0.7269 - val_loss: 1.7804 - val_accuracy: 0.5887\n",
            "Epoch 141/500\n",
            "143/143 [==============================] - 1s 6ms/step - loss: 0.6919 - accuracy: 0.7385 - val_loss: 1.7714 - val_accuracy: 0.5810\n",
            "Epoch 142/500\n",
            "143/143 [==============================] - 1s 6ms/step - loss: 0.7162 - accuracy: 0.7291 - val_loss: 1.7749 - val_accuracy: 0.5846\n",
            "Epoch 143/500\n",
            "143/143 [==============================] - 1s 6ms/step - loss: 0.7334 - accuracy: 0.7196 - val_loss: 1.6185 - val_accuracy: 0.5949\n",
            "Epoch 144/500\n",
            "143/143 [==============================] - 1s 6ms/step - loss: 0.7128 - accuracy: 0.7313 - val_loss: 1.7143 - val_accuracy: 0.5872\n",
            "Epoch 145/500\n",
            "143/143 [==============================] - 1s 6ms/step - loss: 0.7059 - accuracy: 0.7363 - val_loss: 1.7821 - val_accuracy: 0.5903\n",
            "Epoch 146/500\n",
            "143/143 [==============================] - 1s 6ms/step - loss: 0.6828 - accuracy: 0.7354 - val_loss: 1.8759 - val_accuracy: 0.5877\n",
            "Epoch 147/500\n",
            "143/143 [==============================] - 1s 6ms/step - loss: 0.7123 - accuracy: 0.7253 - val_loss: 1.8212 - val_accuracy: 0.5938\n",
            "Epoch 148/500\n",
            "143/143 [==============================] - 1s 6ms/step - loss: 0.6871 - accuracy: 0.7282 - val_loss: 1.7929 - val_accuracy: 0.5974\n",
            "Epoch 149/500\n",
            "143/143 [==============================] - 1s 6ms/step - loss: 0.7011 - accuracy: 0.7255 - val_loss: 1.8629 - val_accuracy: 0.5928\n",
            "Epoch 150/500\n",
            "143/143 [==============================] - 1s 6ms/step - loss: 0.7059 - accuracy: 0.7306 - val_loss: 1.8170 - val_accuracy: 0.5831\n",
            "Epoch 151/500\n",
            "143/143 [==============================] - 1s 6ms/step - loss: 0.6811 - accuracy: 0.7273 - val_loss: 1.8133 - val_accuracy: 0.5856\n",
            "Epoch 152/500\n",
            "143/143 [==============================] - 1s 6ms/step - loss: 0.6961 - accuracy: 0.7348 - val_loss: 1.8934 - val_accuracy: 0.5913\n",
            "Epoch 153/500\n",
            "143/143 [==============================] - 1s 6ms/step - loss: 0.7041 - accuracy: 0.7361 - val_loss: 1.8038 - val_accuracy: 0.5933\n",
            "Epoch 154/500\n",
            "143/143 [==============================] - 1s 6ms/step - loss: 0.6986 - accuracy: 0.7266 - val_loss: 1.8684 - val_accuracy: 0.5877\n",
            "Epoch 155/500\n",
            "143/143 [==============================] - 1s 6ms/step - loss: 0.7217 - accuracy: 0.7249 - val_loss: 1.9568 - val_accuracy: 0.5826\n",
            "Epoch 156/500\n",
            "143/143 [==============================] - 1s 6ms/step - loss: 0.6910 - accuracy: 0.7269 - val_loss: 1.6874 - val_accuracy: 0.5841\n",
            "Epoch 157/500\n",
            "143/143 [==============================] - 1s 6ms/step - loss: 0.6967 - accuracy: 0.7258 - val_loss: 1.8703 - val_accuracy: 0.5913\n",
            "Epoch 158/500\n",
            "143/143 [==============================] - 1s 6ms/step - loss: 0.6873 - accuracy: 0.7317 - val_loss: 1.8251 - val_accuracy: 0.5897\n",
            "Epoch 159/500\n",
            "143/143 [==============================] - 1s 6ms/step - loss: 0.6845 - accuracy: 0.7328 - val_loss: 1.7607 - val_accuracy: 0.5892\n",
            "Epoch 160/500\n",
            "143/143 [==============================] - 1s 6ms/step - loss: 0.6793 - accuracy: 0.7291 - val_loss: 1.7638 - val_accuracy: 0.5933\n",
            "Epoch 161/500\n",
            "143/143 [==============================] - 1s 6ms/step - loss: 0.6941 - accuracy: 0.7310 - val_loss: 1.7986 - val_accuracy: 0.5703\n",
            "Epoch 162/500\n",
            "143/143 [==============================] - 1s 6ms/step - loss: 0.6974 - accuracy: 0.7394 - val_loss: 1.8789 - val_accuracy: 0.5882\n",
            "Epoch 163/500\n",
            "143/143 [==============================] - 1s 6ms/step - loss: 0.6961 - accuracy: 0.7354 - val_loss: 1.7250 - val_accuracy: 0.5815\n",
            "Epoch 164/500\n",
            "143/143 [==============================] - 1s 6ms/step - loss: 0.7055 - accuracy: 0.7244 - val_loss: 1.9297 - val_accuracy: 0.5887\n",
            "Epoch 165/500\n",
            "143/143 [==============================] - 1s 6ms/step - loss: 0.6768 - accuracy: 0.7475 - val_loss: 1.8622 - val_accuracy: 0.5836\n",
            "Epoch 166/500\n",
            "143/143 [==============================] - 1s 6ms/step - loss: 0.6913 - accuracy: 0.7280 - val_loss: 1.9888 - val_accuracy: 0.5856\n",
            "Epoch 167/500\n",
            "143/143 [==============================] - 1s 6ms/step - loss: 0.7249 - accuracy: 0.7328 - val_loss: 1.8433 - val_accuracy: 0.5923\n",
            "Epoch 168/500\n",
            "143/143 [==============================] - 1s 6ms/step - loss: 0.6852 - accuracy: 0.7330 - val_loss: 1.8757 - val_accuracy: 0.5810\n",
            "Epoch 169/500\n",
            "143/143 [==============================] - 1s 6ms/step - loss: 0.6806 - accuracy: 0.7335 - val_loss: 1.9306 - val_accuracy: 0.5836\n",
            "Epoch 170/500\n",
            "143/143 [==============================] - 1s 6ms/step - loss: 0.6964 - accuracy: 0.7363 - val_loss: 1.8523 - val_accuracy: 0.5954\n",
            "Epoch 171/500\n",
            "143/143 [==============================] - 1s 6ms/step - loss: 0.6787 - accuracy: 0.7471 - val_loss: 1.8605 - val_accuracy: 0.5938\n",
            "Epoch 172/500\n",
            "143/143 [==============================] - 1s 6ms/step - loss: 0.6670 - accuracy: 0.7264 - val_loss: 1.8724 - val_accuracy: 0.5897\n",
            "Epoch 173/500\n",
            "143/143 [==============================] - 1s 6ms/step - loss: 0.6839 - accuracy: 0.7356 - val_loss: 1.8992 - val_accuracy: 0.5949\n",
            "Epoch 174/500\n",
            "143/143 [==============================] - 1s 6ms/step - loss: 0.6812 - accuracy: 0.7348 - val_loss: 1.8963 - val_accuracy: 0.5923\n",
            "Epoch 175/500\n",
            "143/143 [==============================] - 1s 6ms/step - loss: 0.6787 - accuracy: 0.7330 - val_loss: 1.9876 - val_accuracy: 0.5826\n",
            "Epoch 176/500\n",
            "143/143 [==============================] - 1s 6ms/step - loss: 0.6716 - accuracy: 0.7394 - val_loss: 1.9111 - val_accuracy: 0.6015\n",
            "Epoch 177/500\n",
            "143/143 [==============================] - 1s 6ms/step - loss: 0.7341 - accuracy: 0.7372 - val_loss: 2.0784 - val_accuracy: 0.6015\n",
            "Epoch 178/500\n",
            "143/143 [==============================] - 1s 6ms/step - loss: 0.6812 - accuracy: 0.7339 - val_loss: 1.8138 - val_accuracy: 0.5892\n",
            "Epoch 179/500\n",
            "143/143 [==============================] - 1s 6ms/step - loss: 0.6704 - accuracy: 0.7407 - val_loss: 2.0345 - val_accuracy: 0.5985\n",
            "Epoch 180/500\n",
            "143/143 [==============================] - 1s 6ms/step - loss: 0.6763 - accuracy: 0.7414 - val_loss: 1.8674 - val_accuracy: 0.5954\n",
            "Epoch 181/500\n",
            "143/143 [==============================] - 1s 6ms/step - loss: 0.6751 - accuracy: 0.7387 - val_loss: 1.8915 - val_accuracy: 0.5959\n",
            "Epoch 182/500\n",
            "143/143 [==============================] - 1s 6ms/step - loss: 0.7157 - accuracy: 0.7367 - val_loss: 1.8657 - val_accuracy: 0.5985\n",
            "Epoch 183/500\n",
            "143/143 [==============================] - 1s 6ms/step - loss: 0.6845 - accuracy: 0.7299 - val_loss: 1.8722 - val_accuracy: 0.5959\n",
            "Epoch 184/500\n",
            "143/143 [==============================] - 1s 6ms/step - loss: 0.7039 - accuracy: 0.7337 - val_loss: 1.8844 - val_accuracy: 0.5923\n",
            "Epoch 185/500\n",
            "143/143 [==============================] - 1s 6ms/step - loss: 0.6598 - accuracy: 0.7376 - val_loss: 1.8725 - val_accuracy: 0.5759\n",
            "Epoch 186/500\n",
            "143/143 [==============================] - 1s 6ms/step - loss: 0.6888 - accuracy: 0.7416 - val_loss: 1.8639 - val_accuracy: 0.5985\n",
            "Epoch 187/500\n",
            "143/143 [==============================] - 1s 6ms/step - loss: 0.6594 - accuracy: 0.7420 - val_loss: 2.0570 - val_accuracy: 0.5882\n",
            "Epoch 188/500\n",
            "143/143 [==============================] - 1s 6ms/step - loss: 0.6713 - accuracy: 0.7425 - val_loss: 1.8825 - val_accuracy: 0.5877\n",
            "Epoch 189/500\n",
            "143/143 [==============================] - 1s 6ms/step - loss: 0.6997 - accuracy: 0.7247 - val_loss: 2.0065 - val_accuracy: 0.5944\n",
            "Epoch 190/500\n",
            "143/143 [==============================] - 1s 6ms/step - loss: 0.7064 - accuracy: 0.7297 - val_loss: 1.9234 - val_accuracy: 0.5862\n",
            "Epoch 191/500\n",
            "143/143 [==============================] - 1s 6ms/step - loss: 0.6530 - accuracy: 0.7510 - val_loss: 1.8170 - val_accuracy: 0.5944\n",
            "Epoch 192/500\n",
            "143/143 [==============================] - 1s 6ms/step - loss: 0.6694 - accuracy: 0.7411 - val_loss: 1.8209 - val_accuracy: 0.5764\n",
            "Epoch 193/500\n",
            "143/143 [==============================] - 1s 6ms/step - loss: 0.6738 - accuracy: 0.7370 - val_loss: 2.1539 - val_accuracy: 0.5872\n",
            "Epoch 194/500\n",
            "143/143 [==============================] - 1s 6ms/step - loss: 0.6762 - accuracy: 0.7482 - val_loss: 2.0245 - val_accuracy: 0.5856\n",
            "Epoch 195/500\n",
            "143/143 [==============================] - 1s 6ms/step - loss: 0.6674 - accuracy: 0.7411 - val_loss: 1.9662 - val_accuracy: 0.5903\n",
            "Epoch 196/500\n",
            "143/143 [==============================] - 1s 6ms/step - loss: 0.6714 - accuracy: 0.7363 - val_loss: 1.9928 - val_accuracy: 0.5836\n",
            "Epoch 197/500\n",
            "143/143 [==============================] - 1s 6ms/step - loss: 0.7363 - accuracy: 0.7378 - val_loss: 2.0878 - val_accuracy: 0.5744\n",
            "Epoch 198/500\n",
            "143/143 [==============================] - 1s 6ms/step - loss: 0.6861 - accuracy: 0.7420 - val_loss: 1.9853 - val_accuracy: 0.5959\n",
            "Epoch 199/500\n",
            "143/143 [==============================] - 1s 6ms/step - loss: 0.7018 - accuracy: 0.7328 - val_loss: 2.0042 - val_accuracy: 0.5933\n",
            "Epoch 200/500\n",
            "143/143 [==============================] - 1s 6ms/step - loss: 0.6315 - accuracy: 0.7513 - val_loss: 2.0240 - val_accuracy: 0.6005\n",
            "Epoch 201/500\n",
            "143/143 [==============================] - 1s 6ms/step - loss: 0.7003 - accuracy: 0.7352 - val_loss: 2.1093 - val_accuracy: 0.5944\n",
            "Epoch 202/500\n",
            "143/143 [==============================] - 1s 6ms/step - loss: 0.6713 - accuracy: 0.7422 - val_loss: 1.9498 - val_accuracy: 0.5913\n",
            "Epoch 203/500\n",
            "143/143 [==============================] - 1s 6ms/step - loss: 0.6971 - accuracy: 0.7425 - val_loss: 2.0320 - val_accuracy: 0.5872\n",
            "Epoch 204/500\n",
            "143/143 [==============================] - 1s 6ms/step - loss: 0.6779 - accuracy: 0.7504 - val_loss: 2.0980 - val_accuracy: 0.6010\n",
            "Epoch 205/500\n",
            "143/143 [==============================] - 1s 6ms/step - loss: 0.6747 - accuracy: 0.7405 - val_loss: 1.8385 - val_accuracy: 0.5995\n",
            "Epoch 206/500\n",
            "143/143 [==============================] - 1s 6ms/step - loss: 0.6763 - accuracy: 0.7466 - val_loss: 2.0155 - val_accuracy: 0.5882\n",
            "Epoch 207/500\n",
            "143/143 [==============================] - 1s 6ms/step - loss: 0.6748 - accuracy: 0.7460 - val_loss: 2.0381 - val_accuracy: 0.5995\n",
            "Epoch 208/500\n",
            "143/143 [==============================] - 1s 6ms/step - loss: 0.6654 - accuracy: 0.7471 - val_loss: 2.0336 - val_accuracy: 0.5862\n",
            "Epoch 209/500\n",
            "143/143 [==============================] - 1s 6ms/step - loss: 0.6869 - accuracy: 0.7429 - val_loss: 1.8416 - val_accuracy: 0.5892\n",
            "Epoch 210/500\n",
            "143/143 [==============================] - 1s 6ms/step - loss: 0.6917 - accuracy: 0.7398 - val_loss: 2.0465 - val_accuracy: 0.5872\n",
            "Epoch 211/500\n",
            "143/143 [==============================] - 1s 6ms/step - loss: 0.6979 - accuracy: 0.7464 - val_loss: 2.0128 - val_accuracy: 0.5933\n",
            "Epoch 212/500\n",
            "143/143 [==============================] - 1s 6ms/step - loss: 0.6912 - accuracy: 0.7394 - val_loss: 1.9612 - val_accuracy: 0.5923\n",
            "Epoch 213/500\n",
            "143/143 [==============================] - 1s 6ms/step - loss: 0.6929 - accuracy: 0.7427 - val_loss: 2.0708 - val_accuracy: 0.5882\n",
            "Epoch 214/500\n",
            "143/143 [==============================] - 1s 6ms/step - loss: 0.6410 - accuracy: 0.7510 - val_loss: 2.1621 - val_accuracy: 0.6026\n",
            "Epoch 215/500\n",
            "143/143 [==============================] - 1s 6ms/step - loss: 0.7036 - accuracy: 0.7436 - val_loss: 1.9368 - val_accuracy: 0.5933\n",
            "Epoch 216/500\n",
            "143/143 [==============================] - 1s 6ms/step - loss: 0.7039 - accuracy: 0.7363 - val_loss: 2.1144 - val_accuracy: 0.5897\n",
            "Epoch 217/500\n",
            "143/143 [==============================] - 1s 6ms/step - loss: 0.6749 - accuracy: 0.7378 - val_loss: 2.0320 - val_accuracy: 0.6010\n",
            "Epoch 218/500\n",
            "143/143 [==============================] - 1s 6ms/step - loss: 0.6631 - accuracy: 0.7477 - val_loss: 2.0320 - val_accuracy: 0.5908\n",
            "Epoch 219/500\n",
            "143/143 [==============================] - 1s 6ms/step - loss: 0.6629 - accuracy: 0.7447 - val_loss: 2.0835 - val_accuracy: 0.5938\n",
            "Epoch 220/500\n",
            "143/143 [==============================] - 1s 6ms/step - loss: 0.6611 - accuracy: 0.7440 - val_loss: 2.0950 - val_accuracy: 0.5974\n",
            "Epoch 221/500\n",
            "143/143 [==============================] - 1s 6ms/step - loss: 0.6430 - accuracy: 0.7493 - val_loss: 2.0363 - val_accuracy: 0.5897\n",
            "Epoch 222/500\n",
            "143/143 [==============================] - 1s 6ms/step - loss: 0.6721 - accuracy: 0.7495 - val_loss: 2.0544 - val_accuracy: 0.5949\n",
            "Epoch 223/500\n",
            "143/143 [==============================] - 1s 6ms/step - loss: 0.6416 - accuracy: 0.7506 - val_loss: 2.0807 - val_accuracy: 0.5949\n",
            "Epoch 224/500\n",
            "143/143 [==============================] - 1s 6ms/step - loss: 0.6466 - accuracy: 0.7515 - val_loss: 2.0918 - val_accuracy: 0.5856\n",
            "Epoch 225/500\n",
            "143/143 [==============================] - 1s 6ms/step - loss: 0.6738 - accuracy: 0.7475 - val_loss: 1.9564 - val_accuracy: 0.5954\n",
            "Epoch 226/500\n",
            "143/143 [==============================] - 1s 6ms/step - loss: 0.6575 - accuracy: 0.7462 - val_loss: 2.1327 - val_accuracy: 0.5856\n",
            "Epoch 227/500\n",
            "143/143 [==============================] - 1s 6ms/step - loss: 0.6610 - accuracy: 0.7506 - val_loss: 2.1512 - val_accuracy: 0.6021\n",
            "Epoch 228/500\n",
            "143/143 [==============================] - 1s 6ms/step - loss: 0.6657 - accuracy: 0.7444 - val_loss: 2.1823 - val_accuracy: 0.5867\n",
            "Epoch 229/500\n",
            "143/143 [==============================] - 1s 7ms/step - loss: 0.6789 - accuracy: 0.7466 - val_loss: 2.2109 - val_accuracy: 0.5969\n",
            "Epoch 230/500\n",
            "143/143 [==============================] - 1s 6ms/step - loss: 0.6373 - accuracy: 0.7508 - val_loss: 2.2828 - val_accuracy: 0.6010\n",
            "Epoch 231/500\n",
            "143/143 [==============================] - 1s 6ms/step - loss: 0.6538 - accuracy: 0.7524 - val_loss: 1.9391 - val_accuracy: 0.5882\n",
            "Epoch 232/500\n",
            "143/143 [==============================] - 1s 6ms/step - loss: 0.6393 - accuracy: 0.7627 - val_loss: 2.0724 - val_accuracy: 0.5964\n",
            "Epoch 233/500\n",
            "143/143 [==============================] - 1s 7ms/step - loss: 0.6581 - accuracy: 0.7497 - val_loss: 2.1610 - val_accuracy: 0.6087\n",
            "Epoch 234/500\n",
            "143/143 [==============================] - 1s 6ms/step - loss: 0.6928 - accuracy: 0.7460 - val_loss: 1.8367 - val_accuracy: 0.5933\n",
            "Epoch 235/500\n",
            "143/143 [==============================] - 1s 6ms/step - loss: 0.6760 - accuracy: 0.7488 - val_loss: 2.0977 - val_accuracy: 0.6010\n",
            "Epoch 236/500\n",
            "143/143 [==============================] - 1s 6ms/step - loss: 0.6830 - accuracy: 0.7438 - val_loss: 2.0251 - val_accuracy: 0.5949\n",
            "Epoch 237/500\n",
            "143/143 [==============================] - 1s 6ms/step - loss: 0.6866 - accuracy: 0.7409 - val_loss: 2.0118 - val_accuracy: 0.5923\n",
            "Epoch 238/500\n",
            "143/143 [==============================] - 1s 6ms/step - loss: 0.7089 - accuracy: 0.7504 - val_loss: 2.0107 - val_accuracy: 0.5892\n",
            "Epoch 239/500\n",
            "143/143 [==============================] - 1s 6ms/step - loss: 0.6712 - accuracy: 0.7535 - val_loss: 2.0654 - val_accuracy: 0.5949\n",
            "Epoch 240/500\n",
            "143/143 [==============================] - 1s 6ms/step - loss: 0.6573 - accuracy: 0.7579 - val_loss: 1.9907 - val_accuracy: 0.5913\n",
            "Epoch 241/500\n",
            "143/143 [==============================] - 1s 6ms/step - loss: 0.6978 - accuracy: 0.7442 - val_loss: 2.1810 - val_accuracy: 0.5918\n",
            "Epoch 242/500\n",
            "143/143 [==============================] - 1s 6ms/step - loss: 0.6578 - accuracy: 0.7565 - val_loss: 1.9763 - val_accuracy: 0.5928\n",
            "Epoch 243/500\n",
            "143/143 [==============================] - 1s 6ms/step - loss: 0.6829 - accuracy: 0.7451 - val_loss: 2.1543 - val_accuracy: 0.6021\n",
            "Epoch 244/500\n",
            "143/143 [==============================] - 1s 6ms/step - loss: 0.6712 - accuracy: 0.7537 - val_loss: 2.0733 - val_accuracy: 0.5836\n",
            "Epoch 245/500\n",
            "143/143 [==============================] - 1s 6ms/step - loss: 0.6632 - accuracy: 0.7484 - val_loss: 1.9773 - val_accuracy: 0.5974\n",
            "Epoch 246/500\n",
            "143/143 [==============================] - 1s 6ms/step - loss: 0.6789 - accuracy: 0.7524 - val_loss: 2.0780 - val_accuracy: 0.6113\n",
            "Epoch 247/500\n",
            "143/143 [==============================] - 1s 6ms/step - loss: 0.6619 - accuracy: 0.7563 - val_loss: 2.1524 - val_accuracy: 0.5938\n",
            "Epoch 248/500\n",
            "143/143 [==============================] - 1s 6ms/step - loss: 0.6616 - accuracy: 0.7539 - val_loss: 2.0877 - val_accuracy: 0.6010\n",
            "Epoch 249/500\n",
            "143/143 [==============================] - 1s 6ms/step - loss: 0.6341 - accuracy: 0.7581 - val_loss: 2.0282 - val_accuracy: 0.6000\n",
            "Epoch 250/500\n",
            "143/143 [==============================] - 1s 6ms/step - loss: 0.6395 - accuracy: 0.7535 - val_loss: 1.9734 - val_accuracy: 0.5903\n",
            "Epoch 251/500\n",
            "143/143 [==============================] - 1s 6ms/step - loss: 0.6494 - accuracy: 0.7469 - val_loss: 2.1526 - val_accuracy: 0.6026\n",
            "Epoch 252/500\n",
            "143/143 [==============================] - 1s 6ms/step - loss: 0.6571 - accuracy: 0.7568 - val_loss: 2.0297 - val_accuracy: 0.5979\n",
            "Epoch 253/500\n",
            "143/143 [==============================] - 1s 6ms/step - loss: 0.6739 - accuracy: 0.7513 - val_loss: 2.2358 - val_accuracy: 0.5944\n",
            "Epoch 254/500\n",
            "143/143 [==============================] - 1s 6ms/step - loss: 0.6494 - accuracy: 0.7515 - val_loss: 2.2372 - val_accuracy: 0.5897\n",
            "Epoch 255/500\n",
            "143/143 [==============================] - 1s 6ms/step - loss: 0.7005 - accuracy: 0.7543 - val_loss: 2.1167 - val_accuracy: 0.5933\n",
            "Epoch 256/500\n",
            "143/143 [==============================] - 1s 6ms/step - loss: 0.6668 - accuracy: 0.7528 - val_loss: 2.1679 - val_accuracy: 0.5903\n",
            "Epoch 257/500\n",
            "143/143 [==============================] - 1s 6ms/step - loss: 0.6654 - accuracy: 0.7519 - val_loss: 2.2145 - val_accuracy: 0.5800\n",
            "Epoch 258/500\n",
            "143/143 [==============================] - 1s 6ms/step - loss: 0.7285 - accuracy: 0.7449 - val_loss: 2.3026 - val_accuracy: 0.5974\n",
            "Epoch 259/500\n",
            "143/143 [==============================] - 1s 6ms/step - loss: 0.6647 - accuracy: 0.7497 - val_loss: 2.3013 - val_accuracy: 0.5913\n",
            "Epoch 260/500\n",
            "143/143 [==============================] - 1s 6ms/step - loss: 0.6699 - accuracy: 0.7488 - val_loss: 2.1543 - val_accuracy: 0.6067\n",
            "Epoch 261/500\n",
            "143/143 [==============================] - 1s 6ms/step - loss: 0.6630 - accuracy: 0.7535 - val_loss: 2.1966 - val_accuracy: 0.6021\n",
            "Epoch 262/500\n",
            "143/143 [==============================] - 1s 6ms/step - loss: 0.6963 - accuracy: 0.7409 - val_loss: 2.0842 - val_accuracy: 0.6072\n",
            "Epoch 263/500\n",
            "143/143 [==============================] - 1s 6ms/step - loss: 0.6551 - accuracy: 0.7565 - val_loss: 2.0185 - val_accuracy: 0.5938\n",
            "Epoch 264/500\n",
            "143/143 [==============================] - 1s 6ms/step - loss: 0.6760 - accuracy: 0.7471 - val_loss: 2.0473 - val_accuracy: 0.5954\n",
            "Epoch 265/500\n",
            "143/143 [==============================] - 1s 6ms/step - loss: 0.6380 - accuracy: 0.7526 - val_loss: 2.1657 - val_accuracy: 0.5995\n",
            "Epoch 266/500\n",
            "143/143 [==============================] - 1s 6ms/step - loss: 0.6705 - accuracy: 0.7502 - val_loss: 2.4248 - val_accuracy: 0.6021\n",
            "Epoch 267/500\n",
            "143/143 [==============================] - 1s 6ms/step - loss: 0.6606 - accuracy: 0.7491 - val_loss: 2.0664 - val_accuracy: 0.6072\n",
            "Epoch 268/500\n",
            "143/143 [==============================] - 1s 6ms/step - loss: 0.6284 - accuracy: 0.7667 - val_loss: 2.1125 - val_accuracy: 0.6051\n",
            "Epoch 269/500\n",
            "143/143 [==============================] - 1s 6ms/step - loss: 0.6998 - accuracy: 0.7532 - val_loss: 2.0745 - val_accuracy: 0.5990\n",
            "Epoch 270/500\n",
            "143/143 [==============================] - 1s 6ms/step - loss: 0.6677 - accuracy: 0.7574 - val_loss: 2.1501 - val_accuracy: 0.5969\n",
            "Epoch 271/500\n",
            "143/143 [==============================] - 1s 6ms/step - loss: 0.6521 - accuracy: 0.7515 - val_loss: 2.1521 - val_accuracy: 0.5908\n",
            "Epoch 272/500\n",
            "143/143 [==============================] - 1s 6ms/step - loss: 0.6594 - accuracy: 0.7576 - val_loss: 2.3242 - val_accuracy: 0.5974\n",
            "Epoch 273/500\n",
            "143/143 [==============================] - 1s 6ms/step - loss: 0.6931 - accuracy: 0.7519 - val_loss: 2.1611 - val_accuracy: 0.5954\n",
            "Epoch 274/500\n",
            "143/143 [==============================] - 1s 6ms/step - loss: 0.6440 - accuracy: 0.7515 - val_loss: 2.0644 - val_accuracy: 0.5974\n",
            "Epoch 275/500\n",
            "143/143 [==============================] - 1s 6ms/step - loss: 0.6621 - accuracy: 0.7466 - val_loss: 2.1859 - val_accuracy: 0.5856\n",
            "Epoch 276/500\n",
            "143/143 [==============================] - 1s 6ms/step - loss: 0.6426 - accuracy: 0.7519 - val_loss: 2.1740 - val_accuracy: 0.6082\n",
            "Epoch 277/500\n",
            "143/143 [==============================] - 1s 6ms/step - loss: 0.6636 - accuracy: 0.7585 - val_loss: 2.2605 - val_accuracy: 0.5944\n",
            "Epoch 278/500\n",
            "143/143 [==============================] - 1s 6ms/step - loss: 0.6662 - accuracy: 0.7528 - val_loss: 2.2911 - val_accuracy: 0.6021\n",
            "Epoch 279/500\n",
            "143/143 [==============================] - 1s 6ms/step - loss: 0.6415 - accuracy: 0.7554 - val_loss: 2.2324 - val_accuracy: 0.6015\n",
            "Epoch 280/500\n",
            "143/143 [==============================] - 1s 6ms/step - loss: 0.6721 - accuracy: 0.7565 - val_loss: 2.1479 - val_accuracy: 0.5933\n",
            "Epoch 281/500\n",
            "143/143 [==============================] - 1s 6ms/step - loss: 0.6627 - accuracy: 0.7625 - val_loss: 2.1659 - val_accuracy: 0.5979\n",
            "Epoch 282/500\n",
            "143/143 [==============================] - 1s 6ms/step - loss: 0.6953 - accuracy: 0.7521 - val_loss: 2.0602 - val_accuracy: 0.5959\n",
            "Epoch 283/500\n",
            "143/143 [==============================] - 1s 6ms/step - loss: 0.6634 - accuracy: 0.7563 - val_loss: 2.1591 - val_accuracy: 0.5908\n",
            "Epoch 284/500\n",
            "143/143 [==============================] - 1s 6ms/step - loss: 0.6741 - accuracy: 0.7521 - val_loss: 2.3547 - val_accuracy: 0.5856\n",
            "Epoch 285/500\n",
            "143/143 [==============================] - 1s 6ms/step - loss: 0.6645 - accuracy: 0.7530 - val_loss: 2.0818 - val_accuracy: 0.6056\n",
            "Epoch 286/500\n",
            "143/143 [==============================] - 1s 6ms/step - loss: 0.6843 - accuracy: 0.7497 - val_loss: 2.1275 - val_accuracy: 0.5938\n",
            "Epoch 287/500\n",
            "143/143 [==============================] - 1s 6ms/step - loss: 0.6439 - accuracy: 0.7548 - val_loss: 2.4134 - val_accuracy: 0.6046\n",
            "Epoch 288/500\n",
            "143/143 [==============================] - 1s 6ms/step - loss: 0.6454 - accuracy: 0.7629 - val_loss: 2.2137 - val_accuracy: 0.5974\n",
            "Epoch 289/500\n",
            "143/143 [==============================] - 1s 6ms/step - loss: 0.6479 - accuracy: 0.7585 - val_loss: 2.1867 - val_accuracy: 0.6026\n",
            "Epoch 290/500\n",
            "143/143 [==============================] - 1s 6ms/step - loss: 0.6394 - accuracy: 0.7570 - val_loss: 2.1954 - val_accuracy: 0.5985\n",
            "Epoch 291/500\n",
            "143/143 [==============================] - 1s 6ms/step - loss: 0.6670 - accuracy: 0.7528 - val_loss: 2.2265 - val_accuracy: 0.5964\n",
            "Epoch 292/500\n",
            "143/143 [==============================] - 1s 6ms/step - loss: 0.6776 - accuracy: 0.7711 - val_loss: 2.2473 - val_accuracy: 0.5908\n",
            "Epoch 293/500\n",
            "143/143 [==============================] - 1s 6ms/step - loss: 0.6619 - accuracy: 0.7546 - val_loss: 2.1859 - val_accuracy: 0.5810\n",
            "Epoch 294/500\n",
            "143/143 [==============================] - 1s 6ms/step - loss: 0.6463 - accuracy: 0.7532 - val_loss: 2.0976 - val_accuracy: 0.6026\n",
            "Epoch 295/500\n",
            "143/143 [==============================] - 1s 6ms/step - loss: 0.6378 - accuracy: 0.7576 - val_loss: 2.1782 - val_accuracy: 0.5954\n",
            "Epoch 296/500\n",
            "143/143 [==============================] - 1s 6ms/step - loss: 0.6633 - accuracy: 0.7552 - val_loss: 2.1909 - val_accuracy: 0.5923\n",
            "Epoch 297/500\n",
            "143/143 [==============================] - 1s 6ms/step - loss: 0.6339 - accuracy: 0.7678 - val_loss: 2.3008 - val_accuracy: 0.5908\n",
            "Epoch 298/500\n",
            "143/143 [==============================] - 1s 6ms/step - loss: 0.6575 - accuracy: 0.7554 - val_loss: 2.2982 - val_accuracy: 0.5964\n",
            "Epoch 299/500\n",
            "143/143 [==============================] - 1s 6ms/step - loss: 0.6659 - accuracy: 0.7491 - val_loss: 2.0568 - val_accuracy: 0.5974\n",
            "Epoch 300/500\n",
            "143/143 [==============================] - 1s 6ms/step - loss: 0.6507 - accuracy: 0.7541 - val_loss: 2.2098 - val_accuracy: 0.5836\n",
            "Epoch 301/500\n",
            "143/143 [==============================] - 1s 6ms/step - loss: 0.6771 - accuracy: 0.7541 - val_loss: 2.0893 - val_accuracy: 0.5877\n",
            "Epoch 302/500\n",
            "143/143 [==============================] - 1s 6ms/step - loss: 0.6553 - accuracy: 0.7638 - val_loss: 2.1992 - val_accuracy: 0.6051\n",
            "Epoch 303/500\n",
            "143/143 [==============================] - 1s 6ms/step - loss: 0.6211 - accuracy: 0.7653 - val_loss: 2.0907 - val_accuracy: 0.5944\n",
            "Epoch 304/500\n",
            "143/143 [==============================] - 1s 6ms/step - loss: 0.6508 - accuracy: 0.7550 - val_loss: 2.2238 - val_accuracy: 0.6067\n",
            "Epoch 305/500\n",
            "143/143 [==============================] - 1s 6ms/step - loss: 0.6723 - accuracy: 0.7543 - val_loss: 2.3733 - val_accuracy: 0.6087\n",
            "Epoch 306/500\n",
            "143/143 [==============================] - 1s 6ms/step - loss: 0.6401 - accuracy: 0.7649 - val_loss: 2.2987 - val_accuracy: 0.6087\n",
            "Epoch 307/500\n",
            "143/143 [==============================] - 1s 6ms/step - loss: 0.6487 - accuracy: 0.7653 - val_loss: 2.3692 - val_accuracy: 0.5969\n",
            "Epoch 308/500\n",
            "143/143 [==============================] - 1s 6ms/step - loss: 0.6548 - accuracy: 0.7561 - val_loss: 2.1689 - val_accuracy: 0.5949\n",
            "Epoch 309/500\n",
            "143/143 [==============================] - 1s 6ms/step - loss: 0.6682 - accuracy: 0.7570 - val_loss: 2.1871 - val_accuracy: 0.5862\n",
            "Epoch 310/500\n",
            "143/143 [==============================] - 1s 6ms/step - loss: 0.6655 - accuracy: 0.7572 - val_loss: 2.2628 - val_accuracy: 0.5918\n",
            "Epoch 311/500\n",
            "143/143 [==============================] - 1s 6ms/step - loss: 0.7034 - accuracy: 0.7535 - val_loss: 2.2191 - val_accuracy: 0.6021\n",
            "Epoch 312/500\n",
            "143/143 [==============================] - 1s 6ms/step - loss: 0.6301 - accuracy: 0.7576 - val_loss: 2.1267 - val_accuracy: 0.5933\n",
            "Epoch 313/500\n",
            "143/143 [==============================] - 1s 6ms/step - loss: 0.6684 - accuracy: 0.7506 - val_loss: 2.3723 - val_accuracy: 0.6051\n",
            "Epoch 314/500\n",
            "143/143 [==============================] - 1s 6ms/step - loss: 0.6428 - accuracy: 0.7524 - val_loss: 2.2289 - val_accuracy: 0.6031\n",
            "Epoch 315/500\n",
            "143/143 [==============================] - 1s 6ms/step - loss: 0.6442 - accuracy: 0.7653 - val_loss: 2.3390 - val_accuracy: 0.5959\n",
            "Epoch 316/500\n",
            "143/143 [==============================] - 1s 6ms/step - loss: 0.6293 - accuracy: 0.7627 - val_loss: 2.3568 - val_accuracy: 0.5785\n",
            "Epoch 317/500\n",
            "143/143 [==============================] - 1s 6ms/step - loss: 0.6582 - accuracy: 0.7594 - val_loss: 2.5205 - val_accuracy: 0.5913\n",
            "Epoch 318/500\n",
            "143/143 [==============================] - 1s 6ms/step - loss: 0.6761 - accuracy: 0.7680 - val_loss: 2.3897 - val_accuracy: 0.6092\n",
            "Epoch 319/500\n",
            "143/143 [==============================] - 1s 6ms/step - loss: 0.6888 - accuracy: 0.7471 - val_loss: 2.2690 - val_accuracy: 0.5974\n",
            "Epoch 320/500\n",
            "143/143 [==============================] - 1s 6ms/step - loss: 0.6479 - accuracy: 0.7612 - val_loss: 2.3223 - val_accuracy: 0.5872\n",
            "Epoch 321/500\n",
            "143/143 [==============================] - 1s 6ms/step - loss: 0.6608 - accuracy: 0.7561 - val_loss: 2.3618 - val_accuracy: 0.5944\n",
            "Epoch 322/500\n",
            "143/143 [==============================] - 1s 6ms/step - loss: 0.6394 - accuracy: 0.7579 - val_loss: 2.1802 - val_accuracy: 0.6056\n",
            "Epoch 323/500\n",
            "143/143 [==============================] - 1s 6ms/step - loss: 0.6818 - accuracy: 0.7528 - val_loss: 2.2103 - val_accuracy: 0.5923\n",
            "Epoch 324/500\n",
            "143/143 [==============================] - 1s 6ms/step - loss: 0.6329 - accuracy: 0.7609 - val_loss: 2.4265 - val_accuracy: 0.6036\n",
            "Epoch 325/500\n",
            "143/143 [==============================] - 1s 6ms/step - loss: 0.6527 - accuracy: 0.7598 - val_loss: 2.3313 - val_accuracy: 0.5862\n",
            "Epoch 326/500\n",
            "143/143 [==============================] - 1s 6ms/step - loss: 0.6331 - accuracy: 0.7568 - val_loss: 2.4502 - val_accuracy: 0.5974\n",
            "Epoch 327/500\n",
            "143/143 [==============================] - 1s 6ms/step - loss: 0.6848 - accuracy: 0.7585 - val_loss: 2.3048 - val_accuracy: 0.6067\n",
            "Epoch 328/500\n",
            "143/143 [==============================] - 1s 6ms/step - loss: 0.6326 - accuracy: 0.7607 - val_loss: 2.4033 - val_accuracy: 0.5974\n",
            "Epoch 329/500\n",
            "143/143 [==============================] - 1s 6ms/step - loss: 0.6586 - accuracy: 0.7574 - val_loss: 2.3711 - val_accuracy: 0.5887\n",
            "Epoch 330/500\n",
            "143/143 [==============================] - 1s 6ms/step - loss: 0.6393 - accuracy: 0.7647 - val_loss: 2.4657 - val_accuracy: 0.5995\n",
            "Epoch 331/500\n",
            "143/143 [==============================] - 1s 6ms/step - loss: 0.6585 - accuracy: 0.7543 - val_loss: 2.3330 - val_accuracy: 0.5974\n",
            "Epoch 332/500\n",
            "143/143 [==============================] - 1s 6ms/step - loss: 0.6787 - accuracy: 0.7623 - val_loss: 2.3417 - val_accuracy: 0.6005\n",
            "Epoch 333/500\n",
            "143/143 [==============================] - 1s 6ms/step - loss: 0.6387 - accuracy: 0.7616 - val_loss: 2.6038 - val_accuracy: 0.5887\n",
            "Epoch 334/500\n",
            "143/143 [==============================] - 1s 6ms/step - loss: 0.6436 - accuracy: 0.7636 - val_loss: 2.2462 - val_accuracy: 0.6005\n",
            "Epoch 335/500\n",
            "143/143 [==============================] - 1s 6ms/step - loss: 0.6724 - accuracy: 0.7614 - val_loss: 2.3083 - val_accuracy: 0.6072\n",
            "Epoch 336/500\n",
            "143/143 [==============================] - 1s 6ms/step - loss: 0.7057 - accuracy: 0.7645 - val_loss: 2.1886 - val_accuracy: 0.5923\n",
            "Epoch 337/500\n",
            "143/143 [==============================] - 1s 6ms/step - loss: 0.6673 - accuracy: 0.7539 - val_loss: 2.2865 - val_accuracy: 0.5918\n",
            "Epoch 338/500\n",
            "143/143 [==============================] - 1s 6ms/step - loss: 0.6411 - accuracy: 0.7583 - val_loss: 2.3241 - val_accuracy: 0.5913\n",
            "Epoch 339/500\n",
            "143/143 [==============================] - 1s 6ms/step - loss: 0.6840 - accuracy: 0.7590 - val_loss: 2.2075 - val_accuracy: 0.6026\n",
            "Epoch 340/500\n",
            "143/143 [==============================] - 1s 6ms/step - loss: 0.6388 - accuracy: 0.7647 - val_loss: 2.3115 - val_accuracy: 0.6021\n",
            "Epoch 341/500\n",
            "143/143 [==============================] - 1s 6ms/step - loss: 0.6356 - accuracy: 0.7653 - val_loss: 2.3837 - val_accuracy: 0.5974\n",
            "Epoch 342/500\n",
            "143/143 [==============================] - 1s 6ms/step - loss: 0.6674 - accuracy: 0.7554 - val_loss: 2.3190 - val_accuracy: 0.5944\n",
            "Epoch 343/500\n",
            "143/143 [==============================] - 1s 6ms/step - loss: 0.6301 - accuracy: 0.7673 - val_loss: 2.3481 - val_accuracy: 0.5810\n",
            "Epoch 344/500\n",
            "143/143 [==============================] - 1s 6ms/step - loss: 0.6449 - accuracy: 0.7700 - val_loss: 2.4817 - val_accuracy: 0.5964\n",
            "Epoch 345/500\n",
            "143/143 [==============================] - 1s 6ms/step - loss: 0.6464 - accuracy: 0.7499 - val_loss: 2.4690 - val_accuracy: 0.5923\n",
            "Epoch 346/500\n",
            "143/143 [==============================] - 1s 6ms/step - loss: 0.6352 - accuracy: 0.7636 - val_loss: 2.3925 - val_accuracy: 0.5974\n",
            "Epoch 347/500\n",
            "143/143 [==============================] - 1s 6ms/step - loss: 0.6729 - accuracy: 0.7590 - val_loss: 2.5403 - val_accuracy: 0.6036\n",
            "Epoch 348/500\n",
            "143/143 [==============================] - 1s 6ms/step - loss: 0.6428 - accuracy: 0.7651 - val_loss: 2.2414 - val_accuracy: 0.5887\n",
            "Epoch 349/500\n",
            "143/143 [==============================] - 1s 6ms/step - loss: 0.6620 - accuracy: 0.7618 - val_loss: 2.3802 - val_accuracy: 0.6036\n",
            "Epoch 350/500\n",
            "143/143 [==============================] - 1s 6ms/step - loss: 0.6635 - accuracy: 0.7585 - val_loss: 2.1858 - val_accuracy: 0.5810\n",
            "Epoch 351/500\n",
            "143/143 [==============================] - 1s 7ms/step - loss: 0.6334 - accuracy: 0.7603 - val_loss: 2.4012 - val_accuracy: 0.5954\n",
            "Epoch 352/500\n",
            "143/143 [==============================] - 1s 7ms/step - loss: 0.7228 - accuracy: 0.7601 - val_loss: 2.3645 - val_accuracy: 0.5846\n",
            "Epoch 353/500\n",
            "143/143 [==============================] - 1s 6ms/step - loss: 0.6382 - accuracy: 0.7645 - val_loss: 2.1857 - val_accuracy: 0.5954\n",
            "Epoch 354/500\n",
            "143/143 [==============================] - 1s 7ms/step - loss: 0.6243 - accuracy: 0.7763 - val_loss: 2.4595 - val_accuracy: 0.5974\n",
            "Epoch 355/500\n",
            "143/143 [==============================] - 1s 6ms/step - loss: 0.6068 - accuracy: 0.7722 - val_loss: 2.4778 - val_accuracy: 0.6077\n",
            "Epoch 356/500\n",
            "143/143 [==============================] - 1s 6ms/step - loss: 0.6174 - accuracy: 0.7618 - val_loss: 2.5128 - val_accuracy: 0.6031\n",
            "Epoch 357/500\n",
            "143/143 [==============================] - 1s 6ms/step - loss: 0.7113 - accuracy: 0.7607 - val_loss: 2.3850 - val_accuracy: 0.5923\n",
            "Epoch 358/500\n",
            "143/143 [==============================] - 1s 7ms/step - loss: 0.6933 - accuracy: 0.7579 - val_loss: 2.3974 - val_accuracy: 0.5928\n",
            "Epoch 359/500\n",
            "143/143 [==============================] - 1s 6ms/step - loss: 0.6635 - accuracy: 0.7563 - val_loss: 2.4529 - val_accuracy: 0.5887\n",
            "Epoch 360/500\n",
            "143/143 [==============================] - 1s 6ms/step - loss: 0.6229 - accuracy: 0.7757 - val_loss: 2.4950 - val_accuracy: 0.5913\n",
            "Epoch 361/500\n",
            "143/143 [==============================] - 1s 6ms/step - loss: 0.6050 - accuracy: 0.7781 - val_loss: 2.4403 - val_accuracy: 0.6092\n",
            "Epoch 362/500\n",
            "143/143 [==============================] - 1s 6ms/step - loss: 0.6649 - accuracy: 0.7636 - val_loss: 2.4352 - val_accuracy: 0.5933\n",
            "Epoch 363/500\n",
            "143/143 [==============================] - 1s 7ms/step - loss: 0.6949 - accuracy: 0.7627 - val_loss: 2.3564 - val_accuracy: 0.5990\n",
            "Epoch 364/500\n",
            "143/143 [==============================] - 1s 7ms/step - loss: 0.6445 - accuracy: 0.7636 - val_loss: 2.2741 - val_accuracy: 0.5877\n",
            "Epoch 365/500\n",
            "143/143 [==============================] - 1s 6ms/step - loss: 0.6709 - accuracy: 0.7596 - val_loss: 2.3709 - val_accuracy: 0.5938\n",
            "Epoch 366/500\n",
            "143/143 [==============================] - 1s 7ms/step - loss: 0.6579 - accuracy: 0.7631 - val_loss: 2.2572 - val_accuracy: 0.5938\n",
            "Epoch 367/500\n",
            "143/143 [==============================] - 1s 6ms/step - loss: 0.6369 - accuracy: 0.7693 - val_loss: 2.4626 - val_accuracy: 0.6103\n",
            "Epoch 368/500\n",
            "143/143 [==============================] - 1s 6ms/step - loss: 0.6420 - accuracy: 0.7647 - val_loss: 2.4436 - val_accuracy: 0.6036\n",
            "Epoch 369/500\n",
            "143/143 [==============================] - 1s 6ms/step - loss: 0.6476 - accuracy: 0.7684 - val_loss: 2.5349 - val_accuracy: 0.5990\n",
            "Epoch 370/500\n",
            "143/143 [==============================] - 1s 7ms/step - loss: 0.6553 - accuracy: 0.7563 - val_loss: 2.5476 - val_accuracy: 0.5928\n",
            "Epoch 371/500\n",
            "143/143 [==============================] - 1s 6ms/step - loss: 0.6244 - accuracy: 0.7689 - val_loss: 2.3410 - val_accuracy: 0.5872\n",
            "Epoch 372/500\n",
            "143/143 [==============================] - 1s 6ms/step - loss: 0.6693 - accuracy: 0.7625 - val_loss: 2.2956 - val_accuracy: 0.5862\n",
            "Epoch 373/500\n",
            "143/143 [==============================] - 1s 6ms/step - loss: 0.6238 - accuracy: 0.7645 - val_loss: 2.2402 - val_accuracy: 0.5805\n",
            "Epoch 374/500\n",
            "143/143 [==============================] - 1s 6ms/step - loss: 0.6363 - accuracy: 0.7717 - val_loss: 2.4482 - val_accuracy: 0.5938\n",
            "Epoch 375/500\n",
            "143/143 [==============================] - 1s 6ms/step - loss: 0.6419 - accuracy: 0.7653 - val_loss: 2.3259 - val_accuracy: 0.5841\n",
            "Epoch 376/500\n",
            "143/143 [==============================] - 1s 6ms/step - loss: 0.6342 - accuracy: 0.7620 - val_loss: 2.4292 - val_accuracy: 0.6067\n",
            "Epoch 377/500\n",
            "143/143 [==============================] - 1s 6ms/step - loss: 0.6755 - accuracy: 0.7678 - val_loss: 2.7465 - val_accuracy: 0.5974\n",
            "Epoch 378/500\n",
            "143/143 [==============================] - 1s 7ms/step - loss: 0.6564 - accuracy: 0.7739 - val_loss: 2.5084 - val_accuracy: 0.5918\n",
            "Epoch 379/500\n",
            "143/143 [==============================] - 1s 6ms/step - loss: 0.6548 - accuracy: 0.7603 - val_loss: 2.6257 - val_accuracy: 0.5831\n",
            "Epoch 380/500\n",
            "143/143 [==============================] - 1s 6ms/step - loss: 0.6112 - accuracy: 0.7693 - val_loss: 2.5716 - val_accuracy: 0.5949\n",
            "Epoch 381/500\n",
            "143/143 [==============================] - 1s 6ms/step - loss: 0.6793 - accuracy: 0.7592 - val_loss: 2.3416 - val_accuracy: 0.5923\n",
            "Epoch 382/500\n",
            "143/143 [==============================] - 1s 6ms/step - loss: 0.6613 - accuracy: 0.7658 - val_loss: 2.3522 - val_accuracy: 0.5862\n",
            "Epoch 383/500\n",
            "143/143 [==============================] - 1s 7ms/step - loss: 0.6629 - accuracy: 0.7550 - val_loss: 2.4234 - val_accuracy: 0.6077\n",
            "Epoch 384/500\n",
            "143/143 [==============================] - 1s 6ms/step - loss: 0.6375 - accuracy: 0.7614 - val_loss: 2.4486 - val_accuracy: 0.5918\n",
            "Epoch 385/500\n",
            "143/143 [==============================] - 1s 6ms/step - loss: 0.6303 - accuracy: 0.7671 - val_loss: 2.5319 - val_accuracy: 0.6000\n",
            "Epoch 386/500\n",
            "143/143 [==============================] - 1s 6ms/step - loss: 0.6486 - accuracy: 0.7629 - val_loss: 2.4803 - val_accuracy: 0.5959\n",
            "Epoch 387/500\n",
            "143/143 [==============================] - 1s 6ms/step - loss: 0.6237 - accuracy: 0.7671 - val_loss: 2.6630 - val_accuracy: 0.5810\n",
            "Epoch 388/500\n",
            "143/143 [==============================] - 1s 6ms/step - loss: 0.6210 - accuracy: 0.7711 - val_loss: 2.6950 - val_accuracy: 0.5877\n",
            "Epoch 389/500\n",
            "143/143 [==============================] - 1s 7ms/step - loss: 0.6388 - accuracy: 0.7614 - val_loss: 2.4542 - val_accuracy: 0.5954\n",
            "Epoch 390/500\n",
            "143/143 [==============================] - 1s 6ms/step - loss: 0.6757 - accuracy: 0.7673 - val_loss: 2.2315 - val_accuracy: 0.5882\n",
            "Epoch 391/500\n",
            "143/143 [==============================] - 1s 6ms/step - loss: 0.6252 - accuracy: 0.7658 - val_loss: 2.4076 - val_accuracy: 0.5923\n",
            "Epoch 392/500\n",
            "143/143 [==============================] - 1s 7ms/step - loss: 0.6107 - accuracy: 0.7724 - val_loss: 2.5354 - val_accuracy: 0.5944\n",
            "Epoch 393/500\n",
            "143/143 [==============================] - 1s 7ms/step - loss: 0.6436 - accuracy: 0.7748 - val_loss: 2.5065 - val_accuracy: 0.5954\n",
            "Epoch 394/500\n",
            "143/143 [==============================] - 1s 7ms/step - loss: 0.6205 - accuracy: 0.7763 - val_loss: 2.6171 - val_accuracy: 0.5918\n",
            "Epoch 395/500\n",
            "143/143 [==============================] - 1s 7ms/step - loss: 0.6393 - accuracy: 0.7713 - val_loss: 2.4611 - val_accuracy: 0.5949\n",
            "Epoch 396/500\n",
            "143/143 [==============================] - 1s 7ms/step - loss: 0.6760 - accuracy: 0.7678 - val_loss: 2.4590 - val_accuracy: 0.6072\n",
            "Epoch 397/500\n",
            "143/143 [==============================] - 1s 7ms/step - loss: 0.6452 - accuracy: 0.7664 - val_loss: 2.5194 - val_accuracy: 0.6041\n",
            "Epoch 398/500\n",
            "143/143 [==============================] - 1s 7ms/step - loss: 0.6377 - accuracy: 0.7746 - val_loss: 2.5214 - val_accuracy: 0.5938\n",
            "Epoch 399/500\n",
            "143/143 [==============================] - 1s 6ms/step - loss: 0.7006 - accuracy: 0.7697 - val_loss: 2.6106 - val_accuracy: 0.5954\n",
            "Epoch 400/500\n",
            "143/143 [==============================] - 1s 7ms/step - loss: 0.6258 - accuracy: 0.7702 - val_loss: 2.6041 - val_accuracy: 0.6082\n",
            "Epoch 401/500\n",
            "143/143 [==============================] - 1s 7ms/step - loss: 0.6729 - accuracy: 0.7598 - val_loss: 2.3750 - val_accuracy: 0.5974\n",
            "Epoch 402/500\n",
            "143/143 [==============================] - 1s 6ms/step - loss: 0.6513 - accuracy: 0.7618 - val_loss: 2.3937 - val_accuracy: 0.5805\n",
            "Epoch 403/500\n",
            "143/143 [==============================] - 1s 6ms/step - loss: 0.6284 - accuracy: 0.7689 - val_loss: 2.6551 - val_accuracy: 0.6010\n",
            "Epoch 404/500\n",
            "143/143 [==============================] - 1s 6ms/step - loss: 0.6322 - accuracy: 0.7730 - val_loss: 2.5365 - val_accuracy: 0.5974\n",
            "Epoch 405/500\n",
            "143/143 [==============================] - 1s 6ms/step - loss: 0.6199 - accuracy: 0.7664 - val_loss: 2.5798 - val_accuracy: 0.6010\n",
            "Epoch 406/500\n",
            "143/143 [==============================] - 1s 6ms/step - loss: 0.6296 - accuracy: 0.7713 - val_loss: 2.4598 - val_accuracy: 0.5908\n",
            "Epoch 407/500\n",
            "143/143 [==============================] - 1s 6ms/step - loss: 0.6581 - accuracy: 0.7715 - val_loss: 2.5074 - val_accuracy: 0.5944\n",
            "Epoch 408/500\n",
            "143/143 [==============================] - 1s 6ms/step - loss: 0.6390 - accuracy: 0.7671 - val_loss: 2.5082 - val_accuracy: 0.5964\n",
            "Epoch 409/500\n",
            "143/143 [==============================] - 1s 6ms/step - loss: 0.6381 - accuracy: 0.7684 - val_loss: 2.6217 - val_accuracy: 0.6000\n",
            "Epoch 410/500\n",
            "143/143 [==============================] - 1s 6ms/step - loss: 0.6127 - accuracy: 0.7759 - val_loss: 2.4699 - val_accuracy: 0.6036\n",
            "Epoch 411/500\n",
            "143/143 [==============================] - 1s 6ms/step - loss: 0.6219 - accuracy: 0.7812 - val_loss: 2.7609 - val_accuracy: 0.5851\n",
            "Epoch 412/500\n",
            "143/143 [==============================] - 1s 6ms/step - loss: 0.6774 - accuracy: 0.7706 - val_loss: 2.5755 - val_accuracy: 0.5933\n",
            "Epoch 413/500\n",
            "143/143 [==============================] - 1s 6ms/step - loss: 0.5926 - accuracy: 0.7779 - val_loss: 2.6170 - val_accuracy: 0.5918\n",
            "Epoch 414/500\n",
            "143/143 [==============================] - 1s 6ms/step - loss: 0.6238 - accuracy: 0.7752 - val_loss: 2.6283 - val_accuracy: 0.5908\n",
            "Epoch 415/500\n",
            "143/143 [==============================] - 1s 6ms/step - loss: 0.6504 - accuracy: 0.7680 - val_loss: 2.6584 - val_accuracy: 0.5969\n",
            "Epoch 416/500\n",
            "143/143 [==============================] - 1s 6ms/step - loss: 0.6602 - accuracy: 0.7658 - val_loss: 2.6244 - val_accuracy: 0.5964\n",
            "Epoch 417/500\n",
            "143/143 [==============================] - 1s 6ms/step - loss: 0.7164 - accuracy: 0.7726 - val_loss: 2.4805 - val_accuracy: 0.5949\n",
            "Epoch 418/500\n",
            "143/143 [==============================] - 1s 6ms/step - loss: 0.6439 - accuracy: 0.7840 - val_loss: 2.3598 - val_accuracy: 0.5985\n",
            "Epoch 419/500\n",
            "143/143 [==============================] - 1s 6ms/step - loss: 0.6236 - accuracy: 0.7726 - val_loss: 2.3332 - val_accuracy: 0.5974\n",
            "Epoch 420/500\n",
            "143/143 [==============================] - 1s 6ms/step - loss: 0.6824 - accuracy: 0.7546 - val_loss: 2.4690 - val_accuracy: 0.5877\n",
            "Epoch 421/500\n",
            "143/143 [==============================] - 1s 6ms/step - loss: 0.6208 - accuracy: 0.7750 - val_loss: 2.4202 - val_accuracy: 0.5964\n",
            "Epoch 422/500\n",
            "143/143 [==============================] - 1s 6ms/step - loss: 0.6193 - accuracy: 0.7821 - val_loss: 2.5229 - val_accuracy: 0.5877\n",
            "Epoch 423/500\n",
            "143/143 [==============================] - 1s 6ms/step - loss: 0.6167 - accuracy: 0.7739 - val_loss: 2.7651 - val_accuracy: 0.5969\n",
            "Epoch 424/500\n",
            "143/143 [==============================] - 1s 7ms/step - loss: 0.6698 - accuracy: 0.7572 - val_loss: 2.5670 - val_accuracy: 0.5938\n",
            "Epoch 425/500\n",
            "143/143 [==============================] - 1s 7ms/step - loss: 0.7606 - accuracy: 0.7693 - val_loss: 2.7014 - val_accuracy: 0.5887\n",
            "Epoch 426/500\n",
            "143/143 [==============================] - 1s 6ms/step - loss: 0.6765 - accuracy: 0.7759 - val_loss: 2.3130 - val_accuracy: 0.5995\n",
            "Epoch 427/500\n",
            "143/143 [==============================] - 1s 6ms/step - loss: 0.6279 - accuracy: 0.7691 - val_loss: 2.4270 - val_accuracy: 0.6010\n",
            "Epoch 428/500\n",
            "143/143 [==============================] - 1s 6ms/step - loss: 0.6411 - accuracy: 0.7675 - val_loss: 2.5350 - val_accuracy: 0.5908\n",
            "Epoch 429/500\n",
            "143/143 [==============================] - 1s 6ms/step - loss: 0.5935 - accuracy: 0.7704 - val_loss: 2.7343 - val_accuracy: 0.6015\n",
            "Epoch 430/500\n",
            "143/143 [==============================] - 1s 6ms/step - loss: 0.6478 - accuracy: 0.7684 - val_loss: 2.5960 - val_accuracy: 0.5938\n",
            "Epoch 431/500\n",
            "143/143 [==============================] - 1s 6ms/step - loss: 0.6865 - accuracy: 0.7713 - val_loss: 2.6188 - val_accuracy: 0.5928\n",
            "Epoch 432/500\n",
            "143/143 [==============================] - 1s 6ms/step - loss: 0.6776 - accuracy: 0.7741 - val_loss: 2.7945 - val_accuracy: 0.6005\n",
            "Epoch 433/500\n",
            "143/143 [==============================] - 1s 6ms/step - loss: 0.6479 - accuracy: 0.7653 - val_loss: 2.5027 - val_accuracy: 0.5985\n",
            "Epoch 434/500\n",
            "143/143 [==============================] - 1s 6ms/step - loss: 0.6281 - accuracy: 0.7735 - val_loss: 2.6249 - val_accuracy: 0.5985\n",
            "Epoch 435/500\n",
            "143/143 [==============================] - 1s 7ms/step - loss: 0.6165 - accuracy: 0.7730 - val_loss: 2.6733 - val_accuracy: 0.6077\n",
            "Epoch 436/500\n",
            "143/143 [==============================] - 1s 6ms/step - loss: 0.6425 - accuracy: 0.7669 - val_loss: 2.8155 - val_accuracy: 0.6021\n",
            "Epoch 437/500\n",
            "143/143 [==============================] - 1s 6ms/step - loss: 0.6328 - accuracy: 0.7715 - val_loss: 2.5952 - val_accuracy: 0.5990\n",
            "Epoch 438/500\n",
            "143/143 [==============================] - 1s 6ms/step - loss: 0.6443 - accuracy: 0.7686 - val_loss: 2.6315 - val_accuracy: 0.6082\n",
            "Epoch 439/500\n",
            "143/143 [==============================] - 1s 6ms/step - loss: 0.6843 - accuracy: 0.7680 - val_loss: 2.6406 - val_accuracy: 0.5979\n",
            "Epoch 440/500\n",
            "143/143 [==============================] - 1s 6ms/step - loss: 0.6193 - accuracy: 0.7739 - val_loss: 2.7351 - val_accuracy: 0.5995\n",
            "Epoch 441/500\n",
            "143/143 [==============================] - 1s 6ms/step - loss: 0.6300 - accuracy: 0.7708 - val_loss: 2.5120 - val_accuracy: 0.6087\n",
            "Epoch 442/500\n",
            "143/143 [==============================] - 1s 6ms/step - loss: 0.6830 - accuracy: 0.7724 - val_loss: 2.6701 - val_accuracy: 0.5995\n",
            "Epoch 443/500\n",
            "143/143 [==============================] - 1s 7ms/step - loss: 0.6147 - accuracy: 0.7744 - val_loss: 2.6624 - val_accuracy: 0.5969\n",
            "Epoch 444/500\n",
            "143/143 [==============================] - 1s 6ms/step - loss: 0.6589 - accuracy: 0.7711 - val_loss: 2.8760 - val_accuracy: 0.6108\n",
            "Epoch 445/500\n",
            "143/143 [==============================] - 1s 6ms/step - loss: 0.6428 - accuracy: 0.7730 - val_loss: 2.4718 - val_accuracy: 0.5856\n",
            "Epoch 446/500\n",
            "143/143 [==============================] - 1s 6ms/step - loss: 0.7633 - accuracy: 0.7614 - val_loss: 2.5450 - val_accuracy: 0.6026\n",
            "Epoch 447/500\n",
            "143/143 [==============================] - 1s 6ms/step - loss: 0.6195 - accuracy: 0.7724 - val_loss: 2.6427 - val_accuracy: 0.5969\n",
            "Epoch 448/500\n",
            "143/143 [==============================] - 1s 6ms/step - loss: 0.6819 - accuracy: 0.7726 - val_loss: 2.4619 - val_accuracy: 0.5928\n",
            "Epoch 449/500\n",
            "143/143 [==============================] - 1s 6ms/step - loss: 0.6731 - accuracy: 0.7603 - val_loss: 2.6621 - val_accuracy: 0.5964\n",
            "Epoch 450/500\n",
            "143/143 [==============================] - 1s 6ms/step - loss: 0.6225 - accuracy: 0.7779 - val_loss: 2.6551 - val_accuracy: 0.5938\n",
            "Epoch 451/500\n",
            "143/143 [==============================] - 1s 6ms/step - loss: 0.6327 - accuracy: 0.7594 - val_loss: 2.8576 - val_accuracy: 0.6026\n",
            "Epoch 452/500\n",
            "143/143 [==============================] - 1s 6ms/step - loss: 0.6235 - accuracy: 0.7682 - val_loss: 2.6934 - val_accuracy: 0.6108\n",
            "Epoch 453/500\n",
            "143/143 [==============================] - 1s 6ms/step - loss: 0.6738 - accuracy: 0.7673 - val_loss: 2.5702 - val_accuracy: 0.6005\n",
            "Epoch 454/500\n",
            "143/143 [==============================] - 1s 6ms/step - loss: 0.6461 - accuracy: 0.7755 - val_loss: 2.6098 - val_accuracy: 0.6056\n",
            "Epoch 455/500\n",
            "143/143 [==============================] - 1s 6ms/step - loss: 0.6309 - accuracy: 0.7675 - val_loss: 2.8664 - val_accuracy: 0.6005\n",
            "Epoch 456/500\n",
            "143/143 [==============================] - 1s 6ms/step - loss: 0.6446 - accuracy: 0.7678 - val_loss: 2.6541 - val_accuracy: 0.5954\n",
            "Epoch 457/500\n",
            "143/143 [==============================] - 1s 6ms/step - loss: 0.6238 - accuracy: 0.7757 - val_loss: 2.6546 - val_accuracy: 0.6138\n",
            "Epoch 458/500\n",
            "143/143 [==============================] - 1s 7ms/step - loss: 0.7040 - accuracy: 0.7746 - val_loss: 2.7382 - val_accuracy: 0.6036\n",
            "Epoch 459/500\n",
            "143/143 [==============================] - 1s 6ms/step - loss: 0.7030 - accuracy: 0.7675 - val_loss: 2.8274 - val_accuracy: 0.6021\n",
            "Epoch 460/500\n",
            "143/143 [==============================] - 1s 6ms/step - loss: 0.6466 - accuracy: 0.7651 - val_loss: 2.6656 - val_accuracy: 0.5995\n",
            "Epoch 461/500\n",
            "143/143 [==============================] - 1s 6ms/step - loss: 0.6659 - accuracy: 0.7638 - val_loss: 2.6651 - val_accuracy: 0.6015\n",
            "Epoch 462/500\n",
            "143/143 [==============================] - 1s 6ms/step - loss: 0.6513 - accuracy: 0.7700 - val_loss: 2.7514 - val_accuracy: 0.5974\n",
            "Epoch 463/500\n",
            "143/143 [==============================] - 1s 6ms/step - loss: 0.6667 - accuracy: 0.7678 - val_loss: 2.5282 - val_accuracy: 0.5903\n",
            "Epoch 464/500\n",
            "143/143 [==============================] - 1s 6ms/step - loss: 0.7322 - accuracy: 0.7671 - val_loss: 2.5876 - val_accuracy: 0.5821\n",
            "Epoch 465/500\n",
            "143/143 [==============================] - 1s 7ms/step - loss: 0.6351 - accuracy: 0.7713 - val_loss: 2.8655 - val_accuracy: 0.6015\n",
            "Epoch 466/500\n",
            "143/143 [==============================] - 1s 6ms/step - loss: 0.6258 - accuracy: 0.7680 - val_loss: 2.8488 - val_accuracy: 0.6051\n",
            "Epoch 467/500\n",
            "143/143 [==============================] - 1s 6ms/step - loss: 0.6368 - accuracy: 0.7737 - val_loss: 2.7782 - val_accuracy: 0.5979\n",
            "Epoch 468/500\n",
            "143/143 [==============================] - 1s 6ms/step - loss: 0.6223 - accuracy: 0.7807 - val_loss: 2.6704 - val_accuracy: 0.6087\n",
            "Epoch 469/500\n",
            "143/143 [==============================] - 1s 6ms/step - loss: 0.6211 - accuracy: 0.7733 - val_loss: 2.6610 - val_accuracy: 0.5969\n",
            "Epoch 470/500\n",
            "143/143 [==============================] - 1s 6ms/step - loss: 0.6722 - accuracy: 0.7691 - val_loss: 2.6802 - val_accuracy: 0.5990\n",
            "Epoch 471/500\n",
            "143/143 [==============================] - 1s 6ms/step - loss: 0.6073 - accuracy: 0.7759 - val_loss: 2.6745 - val_accuracy: 0.6046\n",
            "Epoch 472/500\n",
            "143/143 [==============================] - 1s 6ms/step - loss: 0.6331 - accuracy: 0.7730 - val_loss: 2.8150 - val_accuracy: 0.6046\n",
            "Epoch 473/500\n",
            "143/143 [==============================] - 1s 6ms/step - loss: 0.6390 - accuracy: 0.7700 - val_loss: 2.8057 - val_accuracy: 0.5979\n",
            "Epoch 474/500\n",
            "143/143 [==============================] - 1s 7ms/step - loss: 0.6499 - accuracy: 0.7733 - val_loss: 2.6655 - val_accuracy: 0.5918\n",
            "Epoch 475/500\n",
            "143/143 [==============================] - 1s 6ms/step - loss: 0.6346 - accuracy: 0.7682 - val_loss: 2.6554 - val_accuracy: 0.5954\n",
            "Epoch 476/500\n",
            "143/143 [==============================] - 1s 7ms/step - loss: 0.6648 - accuracy: 0.7730 - val_loss: 2.6529 - val_accuracy: 0.6015\n",
            "Epoch 477/500\n",
            "143/143 [==============================] - 1s 7ms/step - loss: 0.6272 - accuracy: 0.7829 - val_loss: 2.9059 - val_accuracy: 0.5944\n",
            "Epoch 478/500\n",
            "143/143 [==============================] - 1s 7ms/step - loss: 0.6773 - accuracy: 0.7719 - val_loss: 2.5762 - val_accuracy: 0.5908\n",
            "Epoch 479/500\n",
            "143/143 [==============================] - 1s 6ms/step - loss: 0.6303 - accuracy: 0.7733 - val_loss: 2.7120 - val_accuracy: 0.5979\n",
            "Epoch 480/500\n",
            "143/143 [==============================] - 1s 6ms/step - loss: 0.6193 - accuracy: 0.7777 - val_loss: 2.7629 - val_accuracy: 0.6036\n",
            "Epoch 481/500\n",
            "143/143 [==============================] - 1s 6ms/step - loss: 0.7004 - accuracy: 0.7737 - val_loss: 2.6756 - val_accuracy: 0.6051\n",
            "Epoch 482/500\n",
            "143/143 [==============================] - 1s 7ms/step - loss: 0.6906 - accuracy: 0.7733 - val_loss: 2.4999 - val_accuracy: 0.5872\n",
            "Epoch 483/500\n",
            "143/143 [==============================] - 1s 6ms/step - loss: 0.6685 - accuracy: 0.7790 - val_loss: 2.5911 - val_accuracy: 0.5949\n",
            "Epoch 484/500\n",
            "143/143 [==============================] - 1s 6ms/step - loss: 0.6319 - accuracy: 0.7675 - val_loss: 2.7911 - val_accuracy: 0.6092\n",
            "Epoch 485/500\n",
            "143/143 [==============================] - 1s 6ms/step - loss: 0.6419 - accuracy: 0.7700 - val_loss: 2.5703 - val_accuracy: 0.5990\n",
            "Epoch 486/500\n",
            "143/143 [==============================] - 1s 6ms/step - loss: 0.7187 - accuracy: 0.7722 - val_loss: 2.6853 - val_accuracy: 0.6046\n",
            "Epoch 487/500\n",
            "143/143 [==============================] - 1s 7ms/step - loss: 0.6718 - accuracy: 0.7733 - val_loss: 2.9147 - val_accuracy: 0.5877\n",
            "Epoch 488/500\n",
            "143/143 [==============================] - 1s 7ms/step - loss: 0.6314 - accuracy: 0.7724 - val_loss: 2.8385 - val_accuracy: 0.6015\n",
            "Epoch 489/500\n",
            "143/143 [==============================] - 1s 6ms/step - loss: 0.6549 - accuracy: 0.7585 - val_loss: 2.8706 - val_accuracy: 0.6026\n",
            "Epoch 490/500\n",
            "143/143 [==============================] - 1s 7ms/step - loss: 0.6582 - accuracy: 0.7697 - val_loss: 2.7952 - val_accuracy: 0.5949\n",
            "Epoch 491/500\n",
            "143/143 [==============================] - 1s 7ms/step - loss: 0.6973 - accuracy: 0.7711 - val_loss: 2.7793 - val_accuracy: 0.6097\n",
            "Epoch 492/500\n",
            "143/143 [==============================] - 1s 7ms/step - loss: 0.6245 - accuracy: 0.7790 - val_loss: 2.6246 - val_accuracy: 0.6144\n",
            "Epoch 493/500\n",
            "143/143 [==============================] - 1s 7ms/step - loss: 0.6492 - accuracy: 0.7715 - val_loss: 3.0269 - val_accuracy: 0.6010\n",
            "Epoch 494/500\n",
            "143/143 [==============================] - 1s 6ms/step - loss: 0.6852 - accuracy: 0.7704 - val_loss: 2.9528 - val_accuracy: 0.5851\n",
            "Epoch 495/500\n",
            "143/143 [==============================] - 1s 7ms/step - loss: 0.5879 - accuracy: 0.7810 - val_loss: 2.7837 - val_accuracy: 0.5954\n",
            "Epoch 496/500\n",
            "143/143 [==============================] - 1s 6ms/step - loss: 0.6423 - accuracy: 0.7649 - val_loss: 2.7081 - val_accuracy: 0.5995\n",
            "Epoch 497/500\n",
            "143/143 [==============================] - 1s 6ms/step - loss: 0.6244 - accuracy: 0.7803 - val_loss: 2.9980 - val_accuracy: 0.5856\n",
            "Epoch 498/500\n",
            "143/143 [==============================] - 1s 7ms/step - loss: 0.6513 - accuracy: 0.7755 - val_loss: 2.9730 - val_accuracy: 0.6005\n",
            "Epoch 499/500\n",
            "143/143 [==============================] - 1s 7ms/step - loss: 0.6734 - accuracy: 0.7664 - val_loss: 2.6893 - val_accuracy: 0.5974\n",
            "Epoch 500/500\n",
            "143/143 [==============================] - 1s 6ms/step - loss: 0.7274 - accuracy: 0.7702 - val_loss: 2.7760 - val_accuracy: 0.5933\n"
          ],
          "name": "stdout"
        },
        {
          "output_type": "execute_result",
          "data": {
            "text/plain": [
              "<tensorflow.python.keras.callbacks.History at 0x7f808933c650>"
            ]
          },
          "metadata": {
            "tags": []
          },
          "execution_count": 48
        }
      ]
    },
    {
      "cell_type": "code",
      "metadata": {
        "colab": {
          "base_uri": "https://localhost:8080/",
          "height": 204
        },
        "id": "H6GBGYpwnGPl",
        "outputId": "e8960689-65c6-426c-e70b-c4fb7cf7c29f"
      },
      "source": [
        "loss_df=pd.DataFrame(model.history.history)\r\n",
        "loss_df.head()"
      ],
      "execution_count": 49,
      "outputs": [
        {
          "output_type": "execute_result",
          "data": {
            "text/html": [
              "<div>\n",
              "<style scoped>\n",
              "    .dataframe tbody tr th:only-of-type {\n",
              "        vertical-align: middle;\n",
              "    }\n",
              "\n",
              "    .dataframe tbody tr th {\n",
              "        vertical-align: top;\n",
              "    }\n",
              "\n",
              "    .dataframe thead th {\n",
              "        text-align: right;\n",
              "    }\n",
              "</style>\n",
              "<table border=\"1\" class=\"dataframe\">\n",
              "  <thead>\n",
              "    <tr style=\"text-align: right;\">\n",
              "      <th></th>\n",
              "      <th>loss</th>\n",
              "      <th>accuracy</th>\n",
              "      <th>val_loss</th>\n",
              "      <th>val_accuracy</th>\n",
              "    </tr>\n",
              "  </thead>\n",
              "  <tbody>\n",
              "    <tr>\n",
              "      <th>0</th>\n",
              "      <td>0.822918</td>\n",
              "      <td>0.678029</td>\n",
              "      <td>1.372039</td>\n",
              "      <td>0.575385</td>\n",
              "    </tr>\n",
              "    <tr>\n",
              "      <th>1</th>\n",
              "      <td>0.793188</td>\n",
              "      <td>0.667913</td>\n",
              "      <td>1.317960</td>\n",
              "      <td>0.573333</td>\n",
              "    </tr>\n",
              "    <tr>\n",
              "      <th>2</th>\n",
              "      <td>0.806858</td>\n",
              "      <td>0.678689</td>\n",
              "      <td>1.328310</td>\n",
              "      <td>0.582564</td>\n",
              "    </tr>\n",
              "    <tr>\n",
              "      <th>3</th>\n",
              "      <td>0.824494</td>\n",
              "      <td>0.673631</td>\n",
              "      <td>1.274816</td>\n",
              "      <td>0.575385</td>\n",
              "    </tr>\n",
              "    <tr>\n",
              "      <th>4</th>\n",
              "      <td>0.791783</td>\n",
              "      <td>0.670992</td>\n",
              "      <td>1.285171</td>\n",
              "      <td>0.574872</td>\n",
              "    </tr>\n",
              "  </tbody>\n",
              "</table>\n",
              "</div>"
            ],
            "text/plain": [
              "       loss  accuracy  val_loss  val_accuracy\n",
              "0  0.822918  0.678029  1.372039      0.575385\n",
              "1  0.793188  0.667913  1.317960      0.573333\n",
              "2  0.806858  0.678689  1.328310      0.582564\n",
              "3  0.824494  0.673631  1.274816      0.575385\n",
              "4  0.791783  0.670992  1.285171      0.574872"
            ]
          },
          "metadata": {
            "tags": []
          },
          "execution_count": 49
        }
      ]
    },
    {
      "cell_type": "code",
      "metadata": {
        "colab": {
          "base_uri": "https://localhost:8080/"
        },
        "id": "j04bY-JTnGBF",
        "outputId": "ce2090ee-a95b-4901-9093-01e9435e6fa7"
      },
      "source": [
        "predictions=model.predict_classes(X_test)"
      ],
      "execution_count": 50,
      "outputs": [
        {
          "output_type": "stream",
          "text": [
            "/usr/local/lib/python3.7/dist-packages/tensorflow/python/keras/engine/sequential.py:450: UserWarning: `model.predict_classes()` is deprecated and will be removed after 2021-01-01. Please use instead:* `np.argmax(model.predict(x), axis=-1)`,   if your model does multi-class classification   (e.g. if it uses a `softmax` last-layer activation).* `(model.predict(x) > 0.5).astype(\"int32\")`,   if your model does binary classification   (e.g. if it uses a `sigmoid` last-layer activation).\n",
            "  warnings.warn('`model.predict_classes()` is deprecated and '\n"
          ],
          "name": "stderr"
        }
      ]
    },
    {
      "cell_type": "code",
      "metadata": {
        "colab": {
          "base_uri": "https://localhost:8080/",
          "height": 281
        },
        "id": "HPyoIpeZ2gib",
        "outputId": "69c1eb3a-2ae4-42ff-f32d-c581839edacd"
      },
      "source": [
        "plt.plot(loss_df['accuracy'])\r\n",
        "plt.title('Accuracy')\r\n",
        "plt.show()"
      ],
      "execution_count": 51,
      "outputs": [
        {
          "output_type": "display_data",
          "data": {
            "image/png": "[encoded data removed]",
            "text/plain": [
              "<Figure size 432x288 with 1 Axes>"
            ]
          },
          "metadata": {
            "tags": [],
            "needs_background": "light"
          }
        }
      ]
    },
    {
      "cell_type": "code",
      "metadata": {
        "colab": {
          "base_uri": "https://localhost:8080/",
          "height": 281
        },
        "id": "yuOFmf7n2gb3",
        "outputId": "7275fc18-98af-4c63-bdbc-27003e50b46c"
      },
      "source": [
        "plt.plot(loss_df['loss'],color='red')\r\n",
        "plt.title('Losses')\r\n",
        "plt.show()"
      ],
      "execution_count": 52,
      "outputs": [
        {
          "output_type": "display_data",
          "data": {
            "image/png": "[encoded data removed]",
            "text/plain": [
              "<Figure size 432x288 with 1 Axes>"
            ]
          },
          "metadata": {
            "tags": [],
            "needs_background": "light"
          }
        }
      ]
    },
    {
      "cell_type": "code",
      "metadata": {
        "id": "nGmjl-VN2gQE"
      },
      "source": [
        "from sklearn.metrics import classification_report,accuracy_score,confusion_matrix"
      ],
      "execution_count": 53,
      "outputs": []
    },
    {
      "cell_type": "code",
      "metadata": {
        "colab": {
          "base_uri": "https://localhost:8080/"
        },
        "id": "ranY-xZJ2mRr",
        "outputId": "3f0d53e8-ea73-4a9f-b355-b658966af3d3"
      },
      "source": [
        "print(classification_report(y_test,predictions))"
      ],
      "execution_count": 54,
      "outputs": [
        {
          "output_type": "stream",
          "text": [
            "              precision    recall  f1-score   support\n",
            "\n",
            "           3       0.00      0.00      0.00         8\n",
            "           4       0.24      0.11      0.15        56\n",
            "           5       0.68      0.59      0.63       650\n",
            "           6       0.59      0.70      0.64       869\n",
            "           7       0.51      0.47      0.49       302\n",
            "           8       0.49      0.29      0.36        63\n",
            "           9       0.00      0.00      0.00         2\n",
            "\n",
            "    accuracy                           0.59      1950\n",
            "   macro avg       0.36      0.31      0.32      1950\n",
            "weighted avg       0.59      0.59      0.59      1950\n",
            "\n"
          ],
          "name": "stdout"
        },
        {
          "output_type": "stream",
          "text": [
            "/usr/local/lib/python3.7/dist-packages/sklearn/metrics/_classification.py:1272: UndefinedMetricWarning: Precision and F-score are ill-defined and being set to 0.0 in labels with no predicted samples. Use `zero_division` parameter to control this behavior.\n",
            "  _warn_prf(average, modifier, msg_start, len(result))\n"
          ],
          "name": "stderr"
        }
      ]
    },
    {
      "cell_type": "code",
      "metadata": {
        "colab": {
          "base_uri": "https://localhost:8080/"
        },
        "id": "TL_-i1LR2mNd",
        "outputId": "2cf9ebf3-5406-4c42-eb03-629cbedb209c"
      },
      "source": [
        "print(accuracy_score(y_test,predictions))"
      ],
      "execution_count": 55,
      "outputs": [
        {
          "output_type": "stream",
          "text": [
            "0.5933333333333334\n"
          ],
          "name": "stdout"
        }
      ]
    },
    {
      "cell_type": "code",
      "metadata": {
        "colab": {
          "base_uri": "https://localhost:8080/"
        },
        "id": "dK4Nhr0F2mId",
        "outputId": "6071c6bf-5ab6-43b5-fa0c-8fbd4087f93f"
      },
      "source": [
        "print(confusion_matrix(y_test,predictions))"
      ],
      "execution_count": 56,
      "outputs": [
        {
          "output_type": "stream",
          "text": [
            "[[  0   0   6   2   0   0   0]\n",
            " [  1   6  31  15   3   0   0]\n",
            " [  2  12 384 241  10   1   0]\n",
            " [  2   5 140 606 109   7   0]\n",
            " [  0   1   4 143 143  11   0]\n",
            " [  0   1   3  24  17  18   0]\n",
            " [  0   0   0   1   1   0   0]]\n"
          ],
          "name": "stdout"
        }
      ]
    },
    {
      "cell_type": "code",
      "metadata": {
        "colab": {
          "base_uri": "https://localhost:8080/"
        },
        "id": "NFdzEx0I21QS",
        "outputId": "026985ea-35dd-4e14-f22a-e1c7c9c75819"
      },
      "source": [
        "lst1=[]\r\n",
        "lst2=[]\r\n",
        "\r\n",
        "for i in range(3,10):\r\n",
        "  lst1.append('Predictes_'+str(i))\r\n",
        "  lst2.append('Actually_'+str(i))\r\n",
        "lst1"
      ],
      "execution_count": 60,
      "outputs": [
        {
          "output_type": "execute_result",
          "data": {
            "text/plain": [
              "['Predictes_3',\n",
              " 'Predictes_4',\n",
              " 'Predictes_5',\n",
              " 'Predictes_6',\n",
              " 'Predictes_7',\n",
              " 'Predictes_8',\n",
              " 'Predictes_9']"
            ]
          },
          "metadata": {
            "tags": []
          },
          "execution_count": 60
        }
      ]
    },
    {
      "cell_type": "code",
      "metadata": {
        "colab": {
          "base_uri": "https://localhost:8080/",
          "height": 266
        },
        "id": "XyjX9TQw255o",
        "outputId": "c4249100-7504-451e-ad21-219dd772d049"
      },
      "source": [
        "confusion_matrix_df=pd.DataFrame(index=lst2,columns=lst1,data=confusion_matrix(y_test,predictions))\r\n",
        "confusion_matrix_df"
      ],
      "execution_count": 61,
      "outputs": [
        {
          "output_type": "execute_result",
          "data": {
            "text/html": [
              "<div>\n",
              "<style scoped>\n",
              "    .dataframe tbody tr th:only-of-type {\n",
              "        vertical-align: middle;\n",
              "    }\n",
              "\n",
              "    .dataframe tbody tr th {\n",
              "        vertical-align: top;\n",
              "    }\n",
              "\n",
              "    .dataframe thead th {\n",
              "        text-align: right;\n",
              "    }\n",
              "</style>\n",
              "<table border=\"1\" class=\"dataframe\">\n",
              "  <thead>\n",
              "    <tr style=\"text-align: right;\">\n",
              "      <th></th>\n",
              "      <th>Predictes_3</th>\n",
              "      <th>Predictes_4</th>\n",
              "      <th>Predictes_5</th>\n",
              "      <th>Predictes_6</th>\n",
              "      <th>Predictes_7</th>\n",
              "      <th>Predictes_8</th>\n",
              "      <th>Predictes_9</th>\n",
              "    </tr>\n",
              "  </thead>\n",
              "  <tbody>\n",
              "    <tr>\n",
              "      <th>Actually_3</th>\n",
              "      <td>0</td>\n",
              "      <td>0</td>\n",
              "      <td>6</td>\n",
              "      <td>2</td>\n",
              "      <td>0</td>\n",
              "      <td>0</td>\n",
              "      <td>0</td>\n",
              "    </tr>\n",
              "    <tr>\n",
              "      <th>Actually_4</th>\n",
              "      <td>1</td>\n",
              "      <td>6</td>\n",
              "      <td>31</td>\n",
              "      <td>15</td>\n",
              "      <td>3</td>\n",
              "      <td>0</td>\n",
              "      <td>0</td>\n",
              "    </tr>\n",
              "    <tr>\n",
              "      <th>Actually_5</th>\n",
              "      <td>2</td>\n",
              "      <td>12</td>\n",
              "      <td>384</td>\n",
              "      <td>241</td>\n",
              "      <td>10</td>\n",
              "      <td>1</td>\n",
              "      <td>0</td>\n",
              "    </tr>\n",
              "    <tr>\n",
              "      <th>Actually_6</th>\n",
              "      <td>2</td>\n",
              "      <td>5</td>\n",
              "      <td>140</td>\n",
              "      <td>606</td>\n",
              "      <td>109</td>\n",
              "      <td>7</td>\n",
              "      <td>0</td>\n",
              "    </tr>\n",
              "    <tr>\n",
              "      <th>Actually_7</th>\n",
              "      <td>0</td>\n",
              "      <td>1</td>\n",
              "      <td>4</td>\n",
              "      <td>143</td>\n",
              "      <td>143</td>\n",
              "      <td>11</td>\n",
              "      <td>0</td>\n",
              "    </tr>\n",
              "    <tr>\n",
              "      <th>Actually_8</th>\n",
              "      <td>0</td>\n",
              "      <td>1</td>\n",
              "      <td>3</td>\n",
              "      <td>24</td>\n",
              "      <td>17</td>\n",
              "      <td>18</td>\n",
              "      <td>0</td>\n",
              "    </tr>\n",
              "    <tr>\n",
              "      <th>Actually_9</th>\n",
              "      <td>0</td>\n",
              "      <td>0</td>\n",
              "      <td>0</td>\n",
              "      <td>1</td>\n",
              "      <td>1</td>\n",
              "      <td>0</td>\n",
              "      <td>0</td>\n",
              "    </tr>\n",
              "  </tbody>\n",
              "</table>\n",
              "</div>"
            ],
            "text/plain": [
              "            Predictes_3  Predictes_4  ...  Predictes_8  Predictes_9\n",
              "Actually_3            0            0  ...            0            0\n",
              "Actually_4            1            6  ...            0            0\n",
              "Actually_5            2           12  ...            1            0\n",
              "Actually_6            2            5  ...            7            0\n",
              "Actually_7            0            1  ...           11            0\n",
              "Actually_8            0            1  ...           18            0\n",
              "Actually_9            0            0  ...            0            0\n",
              "\n",
              "[7 rows x 7 columns]"
            ]
          },
          "metadata": {
            "tags": []
          },
          "execution_count": 61
        }
      ]
    },
    {
      "cell_type": "code",
      "metadata": {
        "id": "3l-1U8Ef290O"
      },
      "source": [
        "model.save('My_model.h5')"
      ],
      "execution_count": 63,
      "outputs": []
    },
    {
      "cell_type": "code",
      "metadata": {
        "id": "9BuHPHh-8XV4"
      },
      "source": [
        "Made by : Afham Fardeen\r\n",
        "email : afhamfardeen98@gmail.com\r\n",
        "phone num : 7004901819"
      ],
      "execution_count": null,
      "outputs": []
    }
  ]
}