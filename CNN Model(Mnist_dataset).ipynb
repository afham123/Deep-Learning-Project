{
  "nbformat": 4,
  "nbformat_minor": 0,
  "metadata": {
    "colab": {
      "name": "Mnist_data.ipynb",
      "provenance": [],
      "authorship_tag": "ABX9TyPeE7l2XdkDeAljqK7VGBGj",
      "include_colab_link": true
    },
    "kernelspec": {
      "name": "python3",
      "display_name": "Python 3"
    }
  },
  "cells": [
    {
      "cell_type": "markdown",
      "metadata": {
        "id": "view-in-github",
        "colab_type": "text"
      },
      "source": [
        "<a href=\"https://colab.research.google.com/github/afham123/Deep-Learning-Project/blob/main/CNN%20Model(Mnist_dataset).ipynb\" target=\"_parent\"><img src=\"https://colab.research.google.com/assets/colab-badge.svg\" alt=\"Open In Colab\"/></a>"
      ]
    },
    {
      "cell_type": "code",
      "metadata": {
        "id": "dIHxnsqI53U-"
      },
      "source": [
        "import matplotlib.pyplot as plt\r\n",
        "import seaborn as sns\r\n",
        "import tensorflow as tf\r\n",
        "import pandas as pd\r\n",
        "import numpy as np\r\n",
        "from keras.datasets import mnist\r\n",
        "%matplotlib inline"
      ],
      "execution_count": null,
      "outputs": []
    },
    {
      "cell_type": "code",
      "metadata": {
        "id": "alJlwOPK5_np"
      },
      "source": [
        "(X_train,y_train),(X_test,y_test)=mnist.load_data()"
      ],
      "execution_count": 51,
      "outputs": []
    },
    {
      "cell_type": "code",
      "metadata": {
        "colab": {
          "base_uri": "https://localhost:8080/"
        },
        "id": "k4TDhnJF6J5v",
        "outputId": "25e3d350-59fe-4f2e-82e3-76235c6dbc71"
      },
      "source": [
        "X_train.shape"
      ],
      "execution_count": null,
      "outputs": [
        {
          "output_type": "execute_result",
          "data": {
            "text/plain": [
              "(60000, 28, 28)"
            ]
          },
          "metadata": {
            "tags": []
          },
          "execution_count": 3
        }
      ]
    },
    {
      "cell_type": "code",
      "metadata": {
        "colab": {
          "base_uri": "https://localhost:8080/"
        },
        "id": "1O9idy3a6LeM",
        "outputId": "983127a9-c6d2-456f-df1f-f56323e3f6f1"
      },
      "source": [
        "print(X_test.shape)\r\n",
        "print(y_train.shape)"
      ],
      "execution_count": null,
      "outputs": [
        {
          "output_type": "stream",
          "text": [
            "(10000, 28, 28)\n",
            "(60000,)\n"
          ],
          "name": "stdout"
        }
      ]
    },
    {
      "cell_type": "code",
      "metadata": {
        "id": "MZOxemoN7bRj"
      },
      "source": [
        "single_img=X_train[0]"
      ],
      "execution_count": null,
      "outputs": []
    },
    {
      "cell_type": "code",
      "metadata": {
        "colab": {
          "base_uri": "https://localhost:8080/",
          "height": 282
        },
        "id": "xOpcsKWv7gUK",
        "outputId": "86788853-9e9e-46bf-86ad-d03188b6a8e2"
      },
      "source": [
        "plt.imshow(single_img,cmap='gray')"
      ],
      "execution_count": null,
      "outputs": [
        {
          "output_type": "execute_result",
          "data": {
            "text/plain": [
              "<matplotlib.image.AxesImage at 0x7fe32e780e10>"
            ]
          },
          "metadata": {
            "tags": []
          },
          "execution_count": 6
        },
        {
          "output_type": "display_data",
          "data": {
            "image/png": "[encoded data removed]",
            "text/plain": [
              "<Figure size 432x288 with 1 Axes>"
            ]
          },
          "metadata": {
            "tags": [],
            "needs_background": "light"
          }
        }
      ]
    },
    {
      "cell_type": "code",
      "metadata": {
        "colab": {
          "base_uri": "https://localhost:8080/"
        },
        "id": "jD3GjVSj7gRa",
        "outputId": "f876f8bb-c1b4-4491-96e4-c1839d221594"
      },
      "source": [
        "y_train[0]"
      ],
      "execution_count": null,
      "outputs": [
        {
          "output_type": "execute_result",
          "data": {
            "text/plain": [
              "5"
            ]
          },
          "metadata": {
            "tags": []
          },
          "execution_count": 7
        }
      ]
    },
    {
      "cell_type": "code",
      "metadata": {
        "id": "dE1Awa1-7gOZ"
      },
      "source": [
        "X_train=X_train/255\r\n",
        "X_test=X_test/255"
      ],
      "execution_count": 52,
      "outputs": []
    },
    {
      "cell_type": "code",
      "metadata": {
        "colab": {
          "base_uri": "https://localhost:8080/"
        },
        "id": "17thrYW4_eZw",
        "outputId": "4809d5a0-2bb7-4b04-bd91-47a57a674479"
      },
      "source": [
        "print(X_train.shape)\r\n",
        "print(X_test.shape)"
      ],
      "execution_count": 53,
      "outputs": [
        {
          "output_type": "stream",
          "text": [
            "(60000, 28, 28)\n",
            "(10000, 28, 28)\n"
          ],
          "name": "stdout"
        }
      ]
    },
    {
      "cell_type": "code",
      "metadata": {
        "id": "PfR4q-Z-_nrQ"
      },
      "source": [
        "X_train = X_train.reshape(60000, 28, 28, 1)\r\n",
        "X_test = X_test.reshape(10000 , 28, 28, 1)"
      ],
      "execution_count": 54,
      "outputs": []
    },
    {
      "cell_type": "code",
      "metadata": {
        "id": "Z4Rg0sew-4qh"
      },
      "source": [
        "from keras.utils.np_utils import to_categorical\r\n",
        "y_train=to_categorical(y_train)\r\n",
        "y_test=to_categorical(y_test)"
      ],
      "execution_count": 55,
      "outputs": []
    },
    {
      "cell_type": "code",
      "metadata": {
        "colab": {
          "base_uri": "https://localhost:8080/"
        },
        "id": "WcMteam8xlEA",
        "outputId": "c3fb911e-b0f8-4312-e248-812d60833417"
      },
      "source": [
        "y_train[0]"
      ],
      "execution_count": 56,
      "outputs": [
        {
          "output_type": "execute_result",
          "data": {
            "text/plain": [
              "array([0., 0., 0., 0., 0., 1., 0., 0., 0., 0.], dtype=float32)"
            ]
          },
          "metadata": {
            "tags": []
          },
          "execution_count": 56
        }
      ]
    },
    {
      "cell_type": "code",
      "metadata": {
        "id": "bnzd1U717gJC"
      },
      "source": [
        "from tensorflow.keras.models import Sequential\r\n",
        "from tensorflow.keras.layers import Dense, Conv2D, MaxPool2D, Flatten"
      ],
      "execution_count": 57,
      "outputs": []
    },
    {
      "cell_type": "code",
      "metadata": {
        "id": "FvixkYOE6VCz"
      },
      "source": [
        "model=Sequential()\r\n",
        "\r\n",
        "model.add(Conv2D(filters=32, kernel_size=(4,4),input_shape=(28, 28, 1),activation='relu'))\r\n",
        "\r\n",
        "model.add(MaxPool2D(pool_size=(2, 2)))\r\n",
        "\r\n",
        "model.add(Flatten())\r\n",
        "\r\n",
        "model.add(Dense(128,activation='relu'))\r\n",
        "\r\n",
        "model.add(Dense(10,activation='sigmoid'))"
      ],
      "execution_count": 58,
      "outputs": []
    },
    {
      "cell_type": "code",
      "metadata": {
        "colab": {
          "base_uri": "https://localhost:8080/"
        },
        "id": "pmAqWdzw5ZPw",
        "outputId": "69f40df5-12d9-4b88-dc00-6f765a03b339"
      },
      "source": [
        "model.summary()"
      ],
      "execution_count": 59,
      "outputs": [
        {
          "output_type": "stream",
          "text": [
            "Model: \"sequential_1\"\n",
            "_________________________________________________________________\n",
            "Layer (type)                 Output Shape              Param #   \n",
            "=================================================================\n",
            "conv2d_1 (Conv2D)            (None, 25, 25, 32)        544       \n",
            "_________________________________________________________________\n",
            "max_pooling2d_1 (MaxPooling2 (None, 12, 12, 32)        0         \n",
            "_________________________________________________________________\n",
            "flatten_1 (Flatten)          (None, 4608)              0         \n",
            "_________________________________________________________________\n",
            "dense_2 (Dense)              (None, 128)               589952    \n",
            "_________________________________________________________________\n",
            "dense_3 (Dense)              (None, 10)                1290      \n",
            "=================================================================\n",
            "Total params: 591,786\n",
            "Trainable params: 591,786\n",
            "Non-trainable params: 0\n",
            "_________________________________________________________________\n"
          ],
          "name": "stdout"
        }
      ]
    },
    {
      "cell_type": "code",
      "metadata": {
        "id": "8MNWrrp-8waP"
      },
      "source": [
        "model.compile(loss='categorical_crossentropy',\r\n",
        "              optimizer='rmsprop',\r\n",
        "              metrics=['accuracy'])"
      ],
      "execution_count": 60,
      "outputs": []
    },
    {
      "cell_type": "code",
      "metadata": {
        "colab": {
          "base_uri": "https://localhost:8080/"
        },
        "id": "QdRiHtF5BiU0",
        "outputId": "95a6c988-bd32-4b27-c90c-c6d204effdf3"
      },
      "source": [
        "model.fit(X_train,y_train,epochs=10,validation_data=(X_test,y_test))"
      ],
      "execution_count": 61,
      "outputs": [
        {
          "output_type": "stream",
          "text": [
            "Epoch 1/10\n",
            "1875/1875 [==============================] - 35s 18ms/step - loss: 0.2687 - accuracy: 0.9164 - val_loss: 0.0520 - val_accuracy: 0.9833\n",
            "Epoch 2/10\n",
            "1875/1875 [==============================] - 34s 18ms/step - loss: 0.0500 - accuracy: 0.9852 - val_loss: 0.0456 - val_accuracy: 0.9851\n",
            "Epoch 3/10\n",
            "1875/1875 [==============================] - 34s 18ms/step - loss: 0.0343 - accuracy: 0.9900 - val_loss: 0.0421 - val_accuracy: 0.9865\n",
            "Epoch 4/10\n",
            "1875/1875 [==============================] - 35s 18ms/step - loss: 0.0249 - accuracy: 0.9930 - val_loss: 0.0348 - val_accuracy: 0.9893\n",
            "Epoch 5/10\n",
            "1875/1875 [==============================] - 35s 18ms/step - loss: 0.0210 - accuracy: 0.9939 - val_loss: 0.0445 - val_accuracy: 0.9880\n",
            "Epoch 6/10\n",
            "1875/1875 [==============================] - 35s 19ms/step - loss: 0.0164 - accuracy: 0.9954 - val_loss: 0.0468 - val_accuracy: 0.9883\n",
            "Epoch 7/10\n",
            "1875/1875 [==============================] - 35s 19ms/step - loss: 0.0140 - accuracy: 0.9965 - val_loss: 0.0590 - val_accuracy: 0.9873\n",
            "Epoch 8/10\n",
            "1875/1875 [==============================] - 35s 19ms/step - loss: 0.0121 - accuracy: 0.9968 - val_loss: 0.0659 - val_accuracy: 0.9854\n",
            "Epoch 9/10\n",
            "1875/1875 [==============================] - 35s 19ms/step - loss: 0.0114 - accuracy: 0.9968 - val_loss: 0.0513 - val_accuracy: 0.9887\n",
            "Epoch 10/10\n",
            "1875/1875 [==============================] - 35s 19ms/step - loss: 0.0104 - accuracy: 0.9972 - val_loss: 0.0740 - val_accuracy: 0.9873\n"
          ],
          "name": "stdout"
        },
        {
          "output_type": "execute_result",
          "data": {
            "text/plain": [
              "<tensorflow.python.keras.callbacks.History at 0x7fe3258dee50>"
            ]
          },
          "metadata": {
            "tags": []
          },
          "execution_count": 61
        }
      ]
    },
    {
      "cell_type": "code",
      "metadata": {
        "colab": {
          "base_uri": "https://localhost:8080/",
          "height": 204
        },
        "id": "3-hHVrDGB0gZ",
        "outputId": "2a74345b-739f-42cd-e532-5172ac13e70a"
      },
      "source": [
        "loss_df=pd.DataFrame(model.history.history)\r\n",
        "loss_df.head()"
      ],
      "execution_count": null,
      "outputs": [
        {
          "output_type": "execute_result",
          "data": {
            "text/html": [
              "<div>\n",
              "<style scoped>\n",
              "    .dataframe tbody tr th:only-of-type {\n",
              "        vertical-align: middle;\n",
              "    }\n",
              "\n",
              "    .dataframe tbody tr th {\n",
              "        vertical-align: top;\n",
              "    }\n",
              "\n",
              "    .dataframe thead th {\n",
              "        text-align: right;\n",
              "    }\n",
              "</style>\n",
              "<table border=\"1\" class=\"dataframe\">\n",
              "  <thead>\n",
              "    <tr style=\"text-align: right;\">\n",
              "      <th></th>\n",
              "      <th>loss</th>\n",
              "      <th>accuracy</th>\n",
              "      <th>val_loss</th>\n",
              "      <th>val_accuracy</th>\n",
              "    </tr>\n",
              "  </thead>\n",
              "  <tbody>\n",
              "    <tr>\n",
              "      <th>0</th>\n",
              "      <td>0.040535</td>\n",
              "      <td>0.988250</td>\n",
              "      <td>0.044611</td>\n",
              "      <td>0.9869</td>\n",
              "    </tr>\n",
              "    <tr>\n",
              "      <th>1</th>\n",
              "      <td>0.031058</td>\n",
              "      <td>0.990933</td>\n",
              "      <td>0.053878</td>\n",
              "      <td>0.9839</td>\n",
              "    </tr>\n",
              "    <tr>\n",
              "      <th>2</th>\n",
              "      <td>0.023350</td>\n",
              "      <td>0.993417</td>\n",
              "      <td>0.044469</td>\n",
              "      <td>0.9869</td>\n",
              "    </tr>\n",
              "    <tr>\n",
              "      <th>3</th>\n",
              "      <td>0.019885</td>\n",
              "      <td>0.994200</td>\n",
              "      <td>0.047323</td>\n",
              "      <td>0.9870</td>\n",
              "    </tr>\n",
              "    <tr>\n",
              "      <th>4</th>\n",
              "      <td>0.015978</td>\n",
              "      <td>0.995583</td>\n",
              "      <td>0.044690</td>\n",
              "      <td>0.9884</td>\n",
              "    </tr>\n",
              "  </tbody>\n",
              "</table>\n",
              "</div>"
            ],
            "text/plain": [
              "       loss  accuracy  val_loss  val_accuracy\n",
              "0  0.040535  0.988250  0.044611        0.9869\n",
              "1  0.031058  0.990933  0.053878        0.9839\n",
              "2  0.023350  0.993417  0.044469        0.9869\n",
              "3  0.019885  0.994200  0.047323        0.9870\n",
              "4  0.015978  0.995583  0.044690        0.9884"
            ]
          },
          "metadata": {
            "tags": []
          },
          "execution_count": 26
        }
      ]
    },
    {
      "cell_type": "code",
      "metadata": {
        "id": "6sTgjg8-Dnd4"
      },
      "source": [
        "from sklearn.metrics import classification_report,confusion_matrix,accuracy_score"
      ],
      "execution_count": null,
      "outputs": []
    },
    {
      "cell_type": "code",
      "metadata": {
        "colab": {
          "base_uri": "https://localhost:8080/"
        },
        "id": "ULW3zChn0HQL",
        "outputId": "8aed23a3-61e9-481c-9752-7fac86e8bd37"
      },
      "source": [
        "predictions=model.predict_classes(X_test)\r\n",
        "predictions"
      ],
      "execution_count": null,
      "outputs": [
        {
          "output_type": "stream",
          "text": [
            "/usr/local/lib/python3.7/dist-packages/tensorflow/python/keras/engine/sequential.py:450: UserWarning: `model.predict_classes()` is deprecated and will be removed after 2021-01-01. Please use instead:* `np.argmax(model.predict(x), axis=-1)`,   if your model does multi-class classification   (e.g. if it uses a `softmax` last-layer activation).* `(model.predict(x) > 0.5).astype(\"int32\")`,   if your model does binary classification   (e.g. if it uses a `sigmoid` last-layer activation).\n",
            "  warnings.warn('`model.predict_classes()` is deprecated and '\n"
          ],
          "name": "stderr"
        },
        {
          "output_type": "execute_result",
          "data": {
            "text/plain": [
              "array([7, 2, 1, ..., 4, 5, 6])"
            ]
          },
          "metadata": {
            "tags": []
          },
          "execution_count": 35
        }
      ]
    },
    {
      "cell_type": "code",
      "metadata": {
        "colab": {
          "base_uri": "https://localhost:8080/"
        },
        "id": "M4QccNqT0bzv",
        "outputId": "d9a8929e-e871-4b84-a66b-6c5814a1d97e"
      },
      "source": [
        "predictions[0]"
      ],
      "execution_count": null,
      "outputs": [
        {
          "output_type": "execute_result",
          "data": {
            "text/plain": [
              "7"
            ]
          },
          "metadata": {
            "tags": []
          },
          "execution_count": 36
        }
      ]
    },
    {
      "cell_type": "code",
      "metadata": {
        "colab": {
          "base_uri": "https://localhost:8080/",
          "height": 265
        },
        "id": "SuE0c2Ry0hwk",
        "outputId": "30e8fa5b-ba4a-4f1b-a2aa-3aa64d4cabdd"
      },
      "source": [
        "plt.plot(loss_df)\r\n",
        "plt.show()"
      ],
      "execution_count": null,
      "outputs": [
        {
          "output_type": "display_data",
          "data": {
            "image/png": "[encoded data removed]",
            "text/plain": [
              "<Figure size 432x288 with 1 Axes>"
            ]
          },
          "metadata": {
            "tags": [],
            "needs_background": "light"
          }
        }
      ]
    },
    {
      "cell_type": "code",
      "metadata": {
        "colab": {
          "base_uri": "https://localhost:8080/"
        },
        "id": "YupyQIia06XY",
        "outputId": "47d4e097-2fee-4e0a-ef43-4c69f293e642"
      },
      "source": [
        "print(classification_report(y_test,predictions))"
      ],
      "execution_count": null,
      "outputs": [
        {
          "output_type": "stream",
          "text": [
            "              precision    recall  f1-score   support\n",
            "\n",
            "           0       0.99      0.99      0.99       980\n",
            "           1       1.00      0.99      0.99      1135\n",
            "           2       0.99      0.99      0.99      1032\n",
            "           3       0.98      0.99      0.98      1010\n",
            "           4       0.99      0.98      0.99       982\n",
            "           5       0.99      0.99      0.99       892\n",
            "           6       0.99      0.99      0.99       958\n",
            "           7       0.99      0.99      0.99      1028\n",
            "           8       0.98      0.99      0.99       974\n",
            "           9       0.99      0.98      0.98      1009\n",
            "\n",
            "    accuracy                           0.99     10000\n",
            "   macro avg       0.99      0.99      0.99     10000\n",
            "weighted avg       0.99      0.99      0.99     10000\n",
            "\n"
          ],
          "name": "stdout"
        }
      ]
    },
    {
      "cell_type": "code",
      "metadata": {
        "colab": {
          "base_uri": "https://localhost:8080/"
        },
        "id": "YWy4gsfM1NQ_",
        "outputId": "051423a1-a609-4ed2-8b1e-ff87ecc739e9"
      },
      "source": [
        "print(accuracy_score(y_test,predictions))"
      ],
      "execution_count": null,
      "outputs": [
        {
          "output_type": "stream",
          "text": [
            "0.9879\n"
          ],
          "name": "stdout"
        }
      ]
    },
    {
      "cell_type": "code",
      "metadata": {
        "colab": {
          "base_uri": "https://localhost:8080/"
        },
        "id": "DF0v-SED1Ykl",
        "outputId": "d3407833-7250-4308-dd77-f3ac69312374"
      },
      "source": [
        "print(confusion_matrix(y_test,predictions))"
      ],
      "execution_count": null,
      "outputs": [
        {
          "output_type": "stream",
          "text": [
            "[[ 970    0    2    2    0    1    3    0    2    0]\n",
            " [   0 1126    1    4    0    1    2    1    0    0]\n",
            " [   0    0 1020    1    0    0    1    8    2    0]\n",
            " [   0    0    0 1003    0    4    0    1    2    0]\n",
            " [   1    0    0    0  967    0    4    0    2    8]\n",
            " [   1    0    1    8    0  880    2    0    0    0]\n",
            " [   4    1    0    2    1    3  946    0    1    0]\n",
            " [   0    1    4    1    0    0    0 1015    1    6]\n",
            " [   1    0    2    3    0    1    1    2  963    1]\n",
            " [   0    1    0    4    6    3    0    1    5  989]]\n"
          ],
          "name": "stdout"
        }
      ]
    },
    {
      "cell_type": "code",
      "metadata": {
        "colab": {
          "base_uri": "https://localhost:8080/"
        },
        "id": "-hksDafy3WwD",
        "outputId": "7f0c0a9e-8adf-4b18-8ef1-b84fb1f596bf"
      },
      "source": [
        "lst1=[]\r\n",
        "lst2=[]\r\n",
        "\r\n",
        "for i in range(10):\r\n",
        "  lst1.append('Predictes_'+str(i))\r\n",
        "  lst2.append('Actually_'+str(i))\r\n",
        "lst1"
      ],
      "execution_count": 46,
      "outputs": [
        {
          "output_type": "execute_result",
          "data": {
            "text/plain": [
              "['Predictes_0',\n",
              " 'Predictes_1',\n",
              " 'Predictes_2',\n",
              " 'Predictes_3',\n",
              " 'Predictes_4',\n",
              " 'Predictes_5',\n",
              " 'Predictes_6',\n",
              " 'Predictes_7',\n",
              " 'Predictes_8',\n",
              " 'Predictes_9']"
            ]
          },
          "metadata": {
            "tags": []
          },
          "execution_count": 46
        }
      ]
    },
    {
      "cell_type": "code",
      "metadata": {
        "id": "0jZLDtfs1hqV",
        "colab": {
          "base_uri": "https://localhost:8080/",
          "height": 359
        },
        "outputId": "bcd2894b-caa3-4526-fea8-c93deff0e6ac"
      },
      "source": [
        "confusion_matrix_df=pd.DataFrame(index=lst2,columns=lst1,data=confusion_matrix(y_test,predictions))\r\n",
        "confusion_matrix_df"
      ],
      "execution_count": 47,
      "outputs": [
        {
          "output_type": "execute_result",
          "data": {
            "text/html": [
              "<div>\n",
              "<style scoped>\n",
              "    .dataframe tbody tr th:only-of-type {\n",
              "        vertical-align: middle;\n",
              "    }\n",
              "\n",
              "    .dataframe tbody tr th {\n",
              "        vertical-align: top;\n",
              "    }\n",
              "\n",
              "    .dataframe thead th {\n",
              "        text-align: right;\n",
              "    }\n",
              "</style>\n",
              "<table border=\"1\" class=\"dataframe\">\n",
              "  <thead>\n",
              "    <tr style=\"text-align: right;\">\n",
              "      <th></th>\n",
              "      <th>Predictes_0</th>\n",
              "      <th>Predictes_1</th>\n",
              "      <th>Predictes_2</th>\n",
              "      <th>Predictes_3</th>\n",
              "      <th>Predictes_4</th>\n",
              "      <th>Predictes_5</th>\n",
              "      <th>Predictes_6</th>\n",
              "      <th>Predictes_7</th>\n",
              "      <th>Predictes_8</th>\n",
              "      <th>Predictes_9</th>\n",
              "    </tr>\n",
              "  </thead>\n",
              "  <tbody>\n",
              "    <tr>\n",
              "      <th>Actually_0</th>\n",
              "      <td>970</td>\n",
              "      <td>0</td>\n",
              "      <td>2</td>\n",
              "      <td>2</td>\n",
              "      <td>0</td>\n",
              "      <td>1</td>\n",
              "      <td>3</td>\n",
              "      <td>0</td>\n",
              "      <td>2</td>\n",
              "      <td>0</td>\n",
              "    </tr>\n",
              "    <tr>\n",
              "      <th>Actually_1</th>\n",
              "      <td>0</td>\n",
              "      <td>1126</td>\n",
              "      <td>1</td>\n",
              "      <td>4</td>\n",
              "      <td>0</td>\n",
              "      <td>1</td>\n",
              "      <td>2</td>\n",
              "      <td>1</td>\n",
              "      <td>0</td>\n",
              "      <td>0</td>\n",
              "    </tr>\n",
              "    <tr>\n",
              "      <th>Actually_2</th>\n",
              "      <td>0</td>\n",
              "      <td>0</td>\n",
              "      <td>1020</td>\n",
              "      <td>1</td>\n",
              "      <td>0</td>\n",
              "      <td>0</td>\n",
              "      <td>1</td>\n",
              "      <td>8</td>\n",
              "      <td>2</td>\n",
              "      <td>0</td>\n",
              "    </tr>\n",
              "    <tr>\n",
              "      <th>Actually_3</th>\n",
              "      <td>0</td>\n",
              "      <td>0</td>\n",
              "      <td>0</td>\n",
              "      <td>1003</td>\n",
              "      <td>0</td>\n",
              "      <td>4</td>\n",
              "      <td>0</td>\n",
              "      <td>1</td>\n",
              "      <td>2</td>\n",
              "      <td>0</td>\n",
              "    </tr>\n",
              "    <tr>\n",
              "      <th>Actually_4</th>\n",
              "      <td>1</td>\n",
              "      <td>0</td>\n",
              "      <td>0</td>\n",
              "      <td>0</td>\n",
              "      <td>967</td>\n",
              "      <td>0</td>\n",
              "      <td>4</td>\n",
              "      <td>0</td>\n",
              "      <td>2</td>\n",
              "      <td>8</td>\n",
              "    </tr>\n",
              "    <tr>\n",
              "      <th>Actually_5</th>\n",
              "      <td>1</td>\n",
              "      <td>0</td>\n",
              "      <td>1</td>\n",
              "      <td>8</td>\n",
              "      <td>0</td>\n",
              "      <td>880</td>\n",
              "      <td>2</td>\n",
              "      <td>0</td>\n",
              "      <td>0</td>\n",
              "      <td>0</td>\n",
              "    </tr>\n",
              "    <tr>\n",
              "      <th>Actually_6</th>\n",
              "      <td>4</td>\n",
              "      <td>1</td>\n",
              "      <td>0</td>\n",
              "      <td>2</td>\n",
              "      <td>1</td>\n",
              "      <td>3</td>\n",
              "      <td>946</td>\n",
              "      <td>0</td>\n",
              "      <td>1</td>\n",
              "      <td>0</td>\n",
              "    </tr>\n",
              "    <tr>\n",
              "      <th>Actually_7</th>\n",
              "      <td>0</td>\n",
              "      <td>1</td>\n",
              "      <td>4</td>\n",
              "      <td>1</td>\n",
              "      <td>0</td>\n",
              "      <td>0</td>\n",
              "      <td>0</td>\n",
              "      <td>1015</td>\n",
              "      <td>1</td>\n",
              "      <td>6</td>\n",
              "    </tr>\n",
              "    <tr>\n",
              "      <th>Actually_8</th>\n",
              "      <td>1</td>\n",
              "      <td>0</td>\n",
              "      <td>2</td>\n",
              "      <td>3</td>\n",
              "      <td>0</td>\n",
              "      <td>1</td>\n",
              "      <td>1</td>\n",
              "      <td>2</td>\n",
              "      <td>963</td>\n",
              "      <td>1</td>\n",
              "    </tr>\n",
              "    <tr>\n",
              "      <th>Actually_9</th>\n",
              "      <td>0</td>\n",
              "      <td>1</td>\n",
              "      <td>0</td>\n",
              "      <td>4</td>\n",
              "      <td>6</td>\n",
              "      <td>3</td>\n",
              "      <td>0</td>\n",
              "      <td>1</td>\n",
              "      <td>5</td>\n",
              "      <td>989</td>\n",
              "    </tr>\n",
              "  </tbody>\n",
              "</table>\n",
              "</div>"
            ],
            "text/plain": [
              "            Predictes_0  Predictes_1  ...  Predictes_8  Predictes_9\n",
              "Actually_0          970            0  ...            2            0\n",
              "Actually_1            0         1126  ...            0            0\n",
              "Actually_2            0            0  ...            2            0\n",
              "Actually_3            0            0  ...            2            0\n",
              "Actually_4            1            0  ...            2            8\n",
              "Actually_5            1            0  ...            0            0\n",
              "Actually_6            4            1  ...            1            0\n",
              "Actually_7            0            1  ...            1            6\n",
              "Actually_8            1            0  ...          963            1\n",
              "Actually_9            0            1  ...            5          989\n",
              "\n",
              "[10 rows x 10 columns]"
            ]
          },
          "metadata": {
            "tags": []
          },
          "execution_count": 47
        }
      ]
    },
    {
      "cell_type": "code",
      "metadata": {
        "id": "xEna6hTQ3Ehw"
      },
      "source": [
        "model.save('My_model.h5')"
      ],
      "execution_count": 62,
      "outputs": []
    }
  ]
}