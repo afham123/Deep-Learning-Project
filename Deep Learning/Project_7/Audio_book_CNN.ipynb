{
  "nbformat": 4,
  "nbformat_minor": 0,
  "metadata": {
    "colab": {
      "name": "Audio_book_CNN.ipynb",
      "provenance": []
    },
    "kernelspec": {
      "name": "python3",
      "display_name": "Python 3"
    }
  },
  "cells": [
    {
      "cell_type": "code",
      "metadata": {
        "id": "mKSLDGL1vxkF"
      },
      "source": [
        "import tensorflow as tf\r\n",
        "import numpy as np\r\n",
        "import pandas as pd\r\n",
        "import matplotlib.pyplot as plt\r\n",
        "import seaborn as sns\r\n",
        "%matplotlib inline"
      ],
      "execution_count": 75,
      "outputs": []
    },
    {
      "cell_type": "code",
      "metadata": {
        "id": "a1t2ENp0v-4C",
        "colab": {
          "resources": {
            "http://localhost:8080/nbextensions/google.colab/files.js": {
              "data": "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",
              "ok": true,
              "headers": [
                [
                  "content-type",
                  "application/javascript"
                ]
              ],
              "status": 200,
              "status_text": ""
            }
          },
          "base_uri": "https://localhost:8080/",
          "height": 72
        },
        "outputId": "cb443009-a3b1-44b2-de21-e1bfb60c73f9"
      },
      "source": [
        "from google.colab import files\r\n",
        "uploaded = files.upload()"
      ],
      "execution_count": 2,
      "outputs": [
        {
          "output_type": "display_data",
          "data": {
            "text/html": [
              "\n",
              "     <input type=\"file\" id=\"files-2988f3b6-6b55-4fd5-9f92-7f9d29594218\" name=\"files[]\" multiple disabled\n",
              "        style=\"border:none\" />\n",
              "     <output id=\"result-2988f3b6-6b55-4fd5-9f92-7f9d29594218\">\n",
              "      Upload widget is only available when the cell has been executed in the\n",
              "      current browser session. Please rerun this cell to enable.\n",
              "      </output>\n",
              "      <script src=\"/nbextensions/google.colab/files.js\"></script> "
            ],
            "text/plain": [
              "<IPython.core.display.HTML object>"
            ]
          },
          "metadata": {
            "tags": []
          }
        },
        {
          "output_type": "stream",
          "text": [
            "Saving Audiobooks_data (1).csv to Audiobooks_data (1).csv\n"
          ],
          "name": "stdout"
        }
      ]
    },
    {
      "cell_type": "code",
      "metadata": {
        "id": "rqXNjOVmwmNw"
      },
      "source": [
        "df=np.loadtxt('Audiobooks_data (1).csv',delimiter=',')"
      ],
      "execution_count": 30,
      "outputs": []
    },
    {
      "cell_type": "code",
      "metadata": {
        "id": "s4uAun5B1NV8"
      },
      "source": [
        "unscaled_inputs=df[:,1:-1]\r\n",
        "targets_all=df[:,-1]"
      ],
      "execution_count": 76,
      "outputs": []
    },
    {
      "cell_type": "code",
      "metadata": {
        "id": "yqfwbCrM2424"
      },
      "source": [
        "num_one_target=targets_all.sum()\r\n",
        "zero_target_counter=0\r\n",
        "indices_to_be_remove=[]\r\n",
        "\r\n",
        "for i in range(targets_all.shape[0]):\r\n",
        "    if targets_all[i] == 0:\r\n",
        "        zero_target_counter += 1\r\n",
        "        if zero_target_counter > num_one_target:\r\n",
        "            indices_to_be_remove.append(i)\r\n",
        "\r\n",
        "unscaled_inputs_equal_prior=np.delete(unscaled_inputs,indices_to_be_remove,axis=0)\r\n",
        "unscaled_targets_equal_prior=np.delete(targets_all,indices_to_be_remove,axis=0)"
      ],
      "execution_count": 77,
      "outputs": []
    },
    {
      "cell_type": "code",
      "metadata": {
        "id": "KGiLPZ99x0EH"
      },
      "source": [
        "from sklearn import preprocessing  \r\n",
        "scaled_inputs_equal_priors=preprocessing.scale(unscaled_inputs_equal_prior)"
      ],
      "execution_count": 78,
      "outputs": []
    },
    {
      "cell_type": "code",
      "metadata": {
        "id": "QgwQKpZLzDhk"
      },
      "source": [
        "shuffled_indices=np.arange(scaled_inputs_equal_priors.shape[0])\r\n",
        "np.random.shuffle(shuffled_indices)\r\n",
        "\r\n",
        "shuffled_inputs=scaled_inputs_equal_priors[shuffled_indices]\r\n",
        "shuffled_targets=unscaled_targets_equal_prior[shuffled_indices]"
      ],
      "execution_count": 79,
      "outputs": []
    },
    {
      "cell_type": "code",
      "metadata": {
        "id": "EaNttNC93_Ym"
      },
      "source": [
        "sample_count=shuffled_inputs.shape[0]\r\n",
        "train_sample_count=int(0.8*sample_count)\r\n",
        "validation_sample_count=int(0.1*sample_count)\r\n",
        "test_sample_count=sample_count-train_sample_count-validation_sample_count\r\n",
        "\r\n",
        "train_input=shuffled_inputs[:train_sample_count]\r\n",
        "train_target=shuffled_targets[:train_sample_count]\r\n",
        "\r\n",
        "validation_inputs = shuffled_inputs[train_sample_count:train_sample_count+validation_sample_count]\r\n",
        "validation_targets = shuffled_targets[train_sample_count:train_sample_count+validation_sample_count]\r\n",
        "\r\n",
        "test_inputs = shuffled_inputs[train_sample_count+validation_sample_count:]\r\n",
        "test_targets = shuffled_targets[train_sample_count+validation_sample_count:]"
      ],
      "execution_count": 80,
      "outputs": []
    },
    {
      "cell_type": "code",
      "metadata": {
        "colab": {
          "base_uri": "https://localhost:8080/"
        },
        "id": "yAW7FUoL4aqK",
        "outputId": "bd4f9329-6fc9-4d80-aeb3-cbf06008510c"
      },
      "source": [
        "print(train_sample_count,np.sum(train_target),np.sum(train_target)/train_sample_count)\r\n",
        "print(validation_sample_count,np.sum(validation_targets),np.sum(validation_targets)/validation_sample_count)\r\n",
        "print(test_sample_count,np.sum(validation_targets),np.sum(validation_targets/validation_sample_count))"
      ],
      "execution_count": 81,
      "outputs": [
        {
          "output_type": "stream",
          "text": [
            "3579 1760.0 0.4917574741547918\n",
            "447 243.0 0.5436241610738255\n",
            "448 243.0 0.5436241610738254\n"
          ],
          "name": "stdout"
        }
      ]
    },
    {
      "cell_type": "code",
      "metadata": {
        "id": "YnPZ81xytbUi"
      },
      "source": [
        "np.savez('Audiobooks_data_train',inputs=train_input,targets=train_target)\r\n",
        "np.savez('Audiobooks_data_validation',inputs=validation_inputs,targets=validation_targets)\r\n",
        "np.savez('Audiobooks_data_test',inputs=test_inputs,targets=test_targets)"
      ],
      "execution_count": 82,
      "outputs": []
    },
    {
      "cell_type": "markdown",
      "metadata": {
        "id": "6iksUEJEFj3w"
      },
      "source": [
        "Creating Machine learning model"
      ]
    },
    {
      "cell_type": "code",
      "metadata": {
        "id": "GsLa0ZQ2Ee-v"
      },
      "source": [
        "import numpy as np\r\n",
        "import tensorflow as tf"
      ],
      "execution_count": 83,
      "outputs": []
    },
    {
      "cell_type": "code",
      "metadata": {
        "id": "v-TPEiCaFu-E"
      },
      "source": [
        "npz=np.load('Audiobooks_data_train.npz')\r\n",
        "train_input=npz['inputs']\r\n",
        "train_target=npz['targets']\r\n",
        "\r\n",
        "npz=np.load('Audiobooks_data_train.npz')\r\n",
        "test_inputs=npz['inputs']\r\n",
        "test_targets=npz['targets']\r\n",
        "\r\n",
        "npz=np.load('Audiobooks_data_validation.npz')\r\n",
        "validation_inputs=npz['inputs']\r\n",
        "validation_targets=npz['targets']"
      ],
      "execution_count": 84,
      "outputs": []
    },
    {
      "cell_type": "code",
      "metadata": {
        "colab": {
          "base_uri": "https://localhost:8080/"
        },
        "id": "ITo_bJmUF_ro",
        "outputId": "012c1e64-1ed7-40e3-b07a-5e69dc0233b4"
      },
      "source": [
        "input_size=10\r\n",
        "output_size=2\r\n",
        "hidden_layers=50\r\n",
        "\r\n",
        "model=tf.keras.Sequential([tf.keras.layers.Dense(hidden_layers,activation='relu'),\r\n",
        "                           tf.keras.layers.Dense(hidden_layers,activation='relu'),\r\n",
        "                           tf.keras.layers.Dense(hidden_layers,activation='relu'),])\r\n",
        "model.compile(optimizer='adam',loss='sparse_categorical_crossentropy',metrics=['accuracy'])\r\n",
        "batchsize=100\r\n",
        "max_epochs=100\r\n",
        "\r\n",
        "model.fit(train_input,\r\n",
        "          train_target,\r\n",
        "          batch_size=batchsize,\r\n",
        "          epochs=max_epochs,\r\n",
        "          validation_data=(validation_inputs,validation_targets),\r\n",
        "          verbose=2)"
      ],
      "execution_count": 85,
      "outputs": [
        {
          "output_type": "stream",
          "text": [
            "Epoch 1/100\n",
            "36/36 - 1s - loss: 2.9181 - accuracy: 0.3725 - val_loss: 0.8233 - val_accuracy: 0.6532\n",
            "Epoch 2/100\n",
            "36/36 - 0s - loss: 0.6656 - accuracy: 0.6284 - val_loss: 0.5953 - val_accuracy: 0.6622\n",
            "Epoch 3/100\n",
            "36/36 - 0s - loss: 0.5722 - accuracy: 0.6748 - val_loss: 0.5322 - val_accuracy: 0.7136\n",
            "Epoch 4/100\n",
            "36/36 - 0s - loss: 0.5129 - accuracy: 0.7298 - val_loss: 0.4799 - val_accuracy: 0.7606\n",
            "Epoch 5/100\n",
            "36/36 - 0s - loss: 0.4652 - accuracy: 0.7502 - val_loss: 0.4365 - val_accuracy: 0.7718\n",
            "Epoch 6/100\n",
            "36/36 - 0s - loss: 0.4302 - accuracy: 0.7670 - val_loss: 0.4038 - val_accuracy: 0.7852\n",
            "Epoch 7/100\n",
            "36/36 - 0s - loss: 0.4026 - accuracy: 0.7821 - val_loss: 0.3802 - val_accuracy: 0.7852\n",
            "Epoch 8/100\n",
            "36/36 - 0s - loss: 0.3883 - accuracy: 0.7837 - val_loss: 0.3695 - val_accuracy: 0.7964\n",
            "Epoch 9/100\n",
            "36/36 - 0s - loss: 0.3826 - accuracy: 0.7921 - val_loss: 0.3789 - val_accuracy: 0.7830\n",
            "Epoch 10/100\n",
            "36/36 - 0s - loss: 0.3705 - accuracy: 0.7997 - val_loss: 0.3564 - val_accuracy: 0.7875\n",
            "Epoch 11/100\n",
            "36/36 - 0s - loss: 0.3812 - accuracy: 0.7918 - val_loss: 0.4813 - val_accuracy: 0.8009\n",
            "Epoch 12/100\n",
            "36/36 - 0s - loss: 0.4465 - accuracy: 0.7821 - val_loss: 0.4197 - val_accuracy: 0.7584\n",
            "Epoch 13/100\n",
            "36/36 - 0s - loss: 0.4079 - accuracy: 0.7709 - val_loss: 0.5039 - val_accuracy: 0.7025\n",
            "Epoch 14/100\n",
            "36/36 - 0s - loss: 0.5773 - accuracy: 0.7038 - val_loss: 0.4508 - val_accuracy: 0.7651\n",
            "Epoch 15/100\n",
            "36/36 - 0s - loss: 0.4466 - accuracy: 0.7812 - val_loss: 0.4305 - val_accuracy: 0.7785\n",
            "Epoch 16/100\n",
            "36/36 - 0s - loss: 0.4266 - accuracy: 0.7756 - val_loss: 0.4150 - val_accuracy: 0.7673\n",
            "Epoch 17/100\n",
            "36/36 - 0s - loss: 0.4122 - accuracy: 0.7742 - val_loss: 0.3994 - val_accuracy: 0.7808\n",
            "Epoch 18/100\n",
            "36/36 - 0s - loss: 0.4003 - accuracy: 0.7868 - val_loss: 0.3896 - val_accuracy: 0.7875\n",
            "Epoch 19/100\n",
            "36/36 - 0s - loss: 0.3930 - accuracy: 0.7879 - val_loss: 0.3749 - val_accuracy: 0.7897\n",
            "Epoch 20/100\n",
            "36/36 - 0s - loss: 0.3854 - accuracy: 0.7941 - val_loss: 0.3685 - val_accuracy: 0.8009\n",
            "Epoch 21/100\n",
            "36/36 - 0s - loss: 0.4045 - accuracy: 0.8044 - val_loss: 0.3716 - val_accuracy: 0.8031\n",
            "Epoch 22/100\n",
            "36/36 - 0s - loss: 0.4125 - accuracy: 0.8025 - val_loss: 0.3920 - val_accuracy: 0.7964\n",
            "Epoch 23/100\n",
            "36/36 - 0s - loss: 0.4069 - accuracy: 0.8022 - val_loss: 0.3979 - val_accuracy: 0.8009\n",
            "Epoch 24/100\n",
            "36/36 - 0s - loss: 0.4032 - accuracy: 0.7966 - val_loss: 0.4150 - val_accuracy: 0.8076\n",
            "Epoch 25/100\n",
            "36/36 - 0s - loss: 0.3835 - accuracy: 0.8055 - val_loss: 0.4025 - val_accuracy: 0.8188\n",
            "Epoch 26/100\n",
            "36/36 - 0s - loss: 0.4495 - accuracy: 0.7946 - val_loss: 0.5013 - val_accuracy: 0.8098\n",
            "Epoch 27/100\n",
            "36/36 - 0s - loss: 0.4770 - accuracy: 0.7988 - val_loss: 0.4204 - val_accuracy: 0.7919\n",
            "Epoch 28/100\n",
            "36/36 - 0s - loss: 0.5303 - accuracy: 0.7935 - val_loss: 0.6135 - val_accuracy: 0.7852\n",
            "Epoch 29/100\n",
            "36/36 - 0s - loss: 0.5354 - accuracy: 0.7879 - val_loss: 0.4682 - val_accuracy: 0.8009\n",
            "Epoch 30/100\n",
            "36/36 - 0s - loss: 0.5118 - accuracy: 0.7916 - val_loss: 0.4363 - val_accuracy: 0.8054\n",
            "Epoch 31/100\n",
            "36/36 - 0s - loss: 0.5036 - accuracy: 0.8013 - val_loss: 0.4466 - val_accuracy: 0.7919\n",
            "Epoch 32/100\n",
            "36/36 - 0s - loss: 0.5080 - accuracy: 0.7904 - val_loss: 0.4917 - val_accuracy: 0.8098\n",
            "Epoch 33/100\n",
            "36/36 - 0s - loss: 0.5029 - accuracy: 0.7932 - val_loss: 0.4911 - val_accuracy: 0.8098\n",
            "Epoch 34/100\n",
            "36/36 - 0s - loss: 0.5132 - accuracy: 0.8019 - val_loss: 0.6244 - val_accuracy: 0.7718\n",
            "Epoch 35/100\n",
            "36/36 - 0s - loss: 0.5437 - accuracy: 0.7924 - val_loss: 0.5017 - val_accuracy: 0.8076\n",
            "Epoch 36/100\n",
            "36/36 - 0s - loss: 0.6120 - accuracy: 0.7916 - val_loss: 0.4661 - val_accuracy: 0.7875\n",
            "Epoch 37/100\n",
            "36/36 - 0s - loss: 0.5048 - accuracy: 0.7952 - val_loss: 0.4639 - val_accuracy: 0.8031\n",
            "Epoch 38/100\n",
            "36/36 - 0s - loss: 0.4963 - accuracy: 0.8039 - val_loss: 0.4750 - val_accuracy: 0.7919\n",
            "Epoch 39/100\n",
            "36/36 - 0s - loss: 0.4956 - accuracy: 0.8011 - val_loss: 0.4739 - val_accuracy: 0.7942\n",
            "Epoch 40/100\n",
            "36/36 - 0s - loss: 0.5537 - accuracy: 0.7907 - val_loss: 0.5321 - val_accuracy: 0.8054\n",
            "Epoch 41/100\n",
            "36/36 - 0s - loss: 0.5371 - accuracy: 0.7955 - val_loss: 0.5556 - val_accuracy: 0.7919\n",
            "Epoch 42/100\n",
            "36/36 - 0s - loss: 0.5306 - accuracy: 0.7972 - val_loss: 0.5083 - val_accuracy: 0.7987\n",
            "Epoch 43/100\n",
            "36/36 - 0s - loss: 0.5420 - accuracy: 0.7980 - val_loss: 0.5509 - val_accuracy: 0.8031\n",
            "Epoch 44/100\n",
            "36/36 - 0s - loss: 0.7686 - accuracy: 0.7910 - val_loss: 0.9203 - val_accuracy: 0.7517\n",
            "Epoch 45/100\n",
            "36/36 - 0s - loss: 0.8842 - accuracy: 0.7706 - val_loss: 0.7513 - val_accuracy: 0.8031\n",
            "Epoch 46/100\n",
            "36/36 - 0s - loss: 0.6631 - accuracy: 0.7899 - val_loss: 0.5022 - val_accuracy: 0.7830\n",
            "Epoch 47/100\n",
            "36/36 - 0s - loss: 0.5564 - accuracy: 0.7835 - val_loss: 0.4957 - val_accuracy: 0.7897\n",
            "Epoch 48/100\n",
            "36/36 - 0s - loss: 0.5601 - accuracy: 0.7865 - val_loss: 0.4918 - val_accuracy: 0.8031\n",
            "Epoch 49/100\n",
            "36/36 - 0s - loss: 0.5439 - accuracy: 0.7921 - val_loss: 0.4967 - val_accuracy: 0.8009\n",
            "Epoch 50/100\n",
            "36/36 - 0s - loss: 0.5111 - accuracy: 0.7907 - val_loss: 0.4978 - val_accuracy: 0.8009\n",
            "Epoch 51/100\n",
            "36/36 - 0s - loss: 0.5332 - accuracy: 0.7818 - val_loss: 0.4926 - val_accuracy: 0.7897\n",
            "Epoch 52/100\n",
            "36/36 - 0s - loss: 0.5367 - accuracy: 0.7904 - val_loss: 0.4950 - val_accuracy: 0.8031\n",
            "Epoch 53/100\n",
            "36/36 - 0s - loss: 0.5347 - accuracy: 0.7927 - val_loss: 0.4996 - val_accuracy: 0.8031\n",
            "Epoch 54/100\n",
            "36/36 - 0s - loss: 0.5299 - accuracy: 0.7938 - val_loss: 0.5054 - val_accuracy: 0.8031\n",
            "Epoch 55/100\n",
            "36/36 - 0s - loss: 0.5286 - accuracy: 0.7921 - val_loss: 0.5043 - val_accuracy: 0.8031\n",
            "Epoch 56/100\n",
            "36/36 - 0s - loss: 0.5275 - accuracy: 0.7960 - val_loss: 0.5000 - val_accuracy: 0.8076\n",
            "Epoch 57/100\n",
            "36/36 - 0s - loss: 0.6664 - accuracy: 0.7491 - val_loss: 0.6255 - val_accuracy: 0.7226\n",
            "Epoch 58/100\n",
            "36/36 - 0s - loss: 0.6496 - accuracy: 0.7502 - val_loss: 0.5374 - val_accuracy: 0.7405\n",
            "Epoch 59/100\n",
            "36/36 - 0s - loss: 0.5964 - accuracy: 0.7684 - val_loss: 0.5424 - val_accuracy: 0.7539\n",
            "Epoch 60/100\n",
            "36/36 - 0s - loss: 0.5814 - accuracy: 0.7728 - val_loss: 0.4914 - val_accuracy: 0.7584\n",
            "Epoch 61/100\n",
            "36/36 - 0s - loss: 0.5658 - accuracy: 0.7770 - val_loss: 0.4798 - val_accuracy: 0.7539\n",
            "Epoch 62/100\n",
            "36/36 - 0s - loss: 0.5599 - accuracy: 0.7784 - val_loss: 0.4738 - val_accuracy: 0.7584\n",
            "Epoch 63/100\n",
            "36/36 - 0s - loss: 0.5574 - accuracy: 0.7851 - val_loss: 0.4684 - val_accuracy: 0.7763\n",
            "Epoch 64/100\n",
            "36/36 - 0s - loss: 0.5548 - accuracy: 0.7849 - val_loss: 0.4857 - val_accuracy: 0.7718\n",
            "Epoch 65/100\n",
            "36/36 - 0s - loss: 0.5430 - accuracy: 0.7907 - val_loss: 0.4452 - val_accuracy: 0.7740\n",
            "Epoch 66/100\n",
            "36/36 - 0s - loss: 0.5318 - accuracy: 0.7938 - val_loss: 0.4519 - val_accuracy: 0.7718\n",
            "Epoch 67/100\n",
            "36/36 - 0s - loss: 0.5280 - accuracy: 0.7946 - val_loss: 0.4599 - val_accuracy: 0.7852\n",
            "Epoch 68/100\n",
            "36/36 - 0s - loss: 0.5236 - accuracy: 0.7921 - val_loss: 0.4555 - val_accuracy: 0.7897\n",
            "Epoch 69/100\n",
            "36/36 - 0s - loss: 0.5069 - accuracy: 0.7927 - val_loss: 0.4607 - val_accuracy: 0.7875\n",
            "Epoch 70/100\n",
            "36/36 - 0s - loss: 0.4809 - accuracy: 0.7949 - val_loss: 0.4684 - val_accuracy: 0.7897\n",
            "Epoch 71/100\n",
            "36/36 - 0s - loss: 0.4404 - accuracy: 0.7974 - val_loss: 0.4700 - val_accuracy: 0.7942\n",
            "Epoch 72/100\n",
            "36/36 - 0s - loss: 0.4392 - accuracy: 0.7963 - val_loss: 0.4769 - val_accuracy: 0.7964\n",
            "Epoch 73/100\n",
            "36/36 - 0s - loss: 0.4408 - accuracy: 0.7932 - val_loss: 0.4668 - val_accuracy: 0.7919\n",
            "Epoch 74/100\n",
            "36/36 - 0s - loss: 0.4346 - accuracy: 0.7938 - val_loss: 0.4657 - val_accuracy: 0.7875\n",
            "Epoch 75/100\n",
            "36/36 - 0s - loss: 0.4337 - accuracy: 0.7958 - val_loss: 0.4727 - val_accuracy: 0.7919\n",
            "Epoch 76/100\n",
            "36/36 - 0s - loss: 0.4372 - accuracy: 0.7974 - val_loss: 0.4720 - val_accuracy: 0.7964\n",
            "Epoch 77/100\n",
            "36/36 - 0s - loss: 0.4459 - accuracy: 0.7935 - val_loss: 0.5003 - val_accuracy: 0.7875\n",
            "Epoch 78/100\n",
            "36/36 - 0s - loss: 0.5467 - accuracy: 0.7552 - val_loss: 0.4673 - val_accuracy: 0.7852\n",
            "Epoch 79/100\n",
            "36/36 - 0s - loss: 0.4781 - accuracy: 0.7779 - val_loss: 0.4566 - val_accuracy: 0.8233\n",
            "Epoch 80/100\n",
            "36/36 - 0s - loss: 0.4700 - accuracy: 0.7963 - val_loss: 0.4364 - val_accuracy: 0.8098\n",
            "Epoch 81/100\n",
            "36/36 - 0s - loss: 0.4653 - accuracy: 0.7983 - val_loss: 0.4327 - val_accuracy: 0.8121\n",
            "Epoch 82/100\n",
            "36/36 - 0s - loss: 0.4741 - accuracy: 0.7932 - val_loss: 0.4476 - val_accuracy: 0.8054\n",
            "Epoch 83/100\n",
            "36/36 - 0s - loss: 0.4675 - accuracy: 0.7921 - val_loss: 0.4359 - val_accuracy: 0.8098\n",
            "Epoch 84/100\n",
            "36/36 - 0s - loss: 0.4613 - accuracy: 0.7997 - val_loss: 0.4326 - val_accuracy: 0.8121\n",
            "Epoch 85/100\n",
            "36/36 - 0s - loss: 0.4583 - accuracy: 0.7958 - val_loss: 0.4297 - val_accuracy: 0.8143\n",
            "Epoch 86/100\n",
            "36/36 - 0s - loss: 0.4507 - accuracy: 0.8008 - val_loss: 0.4271 - val_accuracy: 0.8121\n",
            "Epoch 87/100\n",
            "36/36 - 0s - loss: 0.4510 - accuracy: 0.8002 - val_loss: 0.4247 - val_accuracy: 0.8098\n",
            "Epoch 88/100\n",
            "36/36 - 0s - loss: 0.4588 - accuracy: 0.7988 - val_loss: 0.4188 - val_accuracy: 0.8054\n",
            "Epoch 89/100\n",
            "36/36 - 0s - loss: 0.4581 - accuracy: 0.8030 - val_loss: 0.4181 - val_accuracy: 0.8098\n",
            "Epoch 90/100\n",
            "36/36 - 0s - loss: 0.4549 - accuracy: 0.8027 - val_loss: 0.4177 - val_accuracy: 0.8076\n",
            "Epoch 91/100\n",
            "36/36 - 0s - loss: 0.4486 - accuracy: 0.8027 - val_loss: 0.4169 - val_accuracy: 0.8054\n",
            "Epoch 92/100\n",
            "36/36 - 0s - loss: 0.4467 - accuracy: 0.7985 - val_loss: 0.4152 - val_accuracy: 0.8009\n",
            "Epoch 93/100\n",
            "36/36 - 0s - loss: 0.4457 - accuracy: 0.7999 - val_loss: 0.3953 - val_accuracy: 0.8054\n",
            "Epoch 94/100\n",
            "36/36 - 0s - loss: 0.4463 - accuracy: 0.7988 - val_loss: 0.3931 - val_accuracy: 0.8054\n",
            "Epoch 95/100\n",
            "36/36 - 0s - loss: 0.4474 - accuracy: 0.8027 - val_loss: 0.3945 - val_accuracy: 0.8031\n",
            "Epoch 96/100\n",
            "36/36 - 0s - loss: 0.4587 - accuracy: 0.8011 - val_loss: 0.4034 - val_accuracy: 0.7919\n",
            "Epoch 97/100\n",
            "36/36 - 0s - loss: 0.4722 - accuracy: 0.7924 - val_loss: 0.4006 - val_accuracy: 0.8031\n",
            "Epoch 98/100\n",
            "36/36 - 0s - loss: 0.4703 - accuracy: 0.7927 - val_loss: 0.4085 - val_accuracy: 0.8054\n",
            "Epoch 99/100\n",
            "36/36 - 0s - loss: 0.4691 - accuracy: 0.7938 - val_loss: 0.4075 - val_accuracy: 0.8009\n",
            "Epoch 100/100\n",
            "36/36 - 0s - loss: 0.4627 - accuracy: 0.7944 - val_loss: 0.4058 - val_accuracy: 0.8031\n"
          ],
          "name": "stdout"
        },
        {
          "output_type": "execute_result",
          "data": {
            "text/plain": [
              "<tensorflow.python.keras.callbacks.History at 0x7f2bbd5b0320>"
            ]
          },
          "metadata": {
            "tags": []
          },
          "execution_count": 85
        }
      ]
    },
    {
      "cell_type": "code",
      "metadata": {
        "colab": {
          "base_uri": "https://localhost:8080/",
          "height": 334
        },
        "id": "5_s_NMuXJZJ2",
        "outputId": "09383c8a-57ee-4d1c-b86e-f61cfa13b8ad"
      },
      "source": [
        "loss_df=pd.DataFrame(model.history.history)\r\n",
        "import matplotlib.pyplot as plt\r\n",
        "plt.plot(loss_df)"
      ],
      "execution_count": 86,
      "outputs": [
        {
          "output_type": "execute_result",
          "data": {
            "text/plain": [
              "[<matplotlib.lines.Line2D at 0x7f2bbc60dbe0>,\n",
              " <matplotlib.lines.Line2D at 0x7f2bbc60d7f0>,\n",
              " <matplotlib.lines.Line2D at 0x7f2bbc60d5f8>,\n",
              " <matplotlib.lines.Line2D at 0x7f2bbc61bfd0>]"
            ]
          },
          "metadata": {
            "tags": []
          },
          "execution_count": 86
        },
        {
          "output_type": "display_data",
          "data": {
            "image/png": "[encoded data removed]",
            "text/plain": [
              "<Figure size 432x288 with 1 Axes>"
            ]
          },
          "metadata": {
            "tags": [],
            "needs_background": "light"
          }
        }
      ]
    },
    {
      "cell_type": "code",
      "metadata": {
        "colab": {
          "base_uri": "https://localhost:8080/"
        },
        "id": "IW5DFG-KKWNw",
        "outputId": "f8ee6220-4300-4140-8cd8-a96aef1ed6a1"
      },
      "source": [
        "input_size=10\r\n",
        "output_size=2\r\n",
        "hidden_layers=50\r\n",
        "\r\n",
        "model=tf.keras.Sequential([tf.keras.layers.Dense(hidden_layers,activation='relu'),\r\n",
        "                           tf.keras.layers.Dense(hidden_layers,activation='relu'),\r\n",
        "                           tf.keras.layers.Dense(hidden_layers,activation='relu'),])\r\n",
        "model.compile(optimizer='adam',loss='sparse_categorical_crossentropy',metrics=['accuracy'])\r\n",
        "batchsize=100\r\n",
        "max_epochs=100\r\n",
        "\r\n",
        "early_stopping=tf.keras.callbacks.EarlyStopping()\r\n",
        "\r\n",
        "model.fit(train_input,\r\n",
        "          train_target,\r\n",
        "          batch_size=batchsize,\r\n",
        "          callbacks=[early_stopping],\r\n",
        "          epochs=max_epochs,\r\n",
        "          validation_data=(validation_inputs,validation_targets),\r\n",
        "          verbose=2)"
      ],
      "execution_count": 87,
      "outputs": [
        {
          "output_type": "stream",
          "text": [
            "Epoch 1/100\n",
            "36/36 - 1s - loss: 2.0967 - accuracy: 0.4169 - val_loss: 1.0060 - val_accuracy: 0.7383\n",
            "Epoch 2/100\n",
            "36/36 - 0s - loss: 0.7056 - accuracy: 0.7415 - val_loss: 0.5544 - val_accuracy: 0.7517\n",
            "Epoch 3/100\n",
            "36/36 - 0s - loss: 0.4820 - accuracy: 0.7569 - val_loss: 0.4165 - val_accuracy: 0.7696\n",
            "Epoch 4/100\n",
            "36/36 - 0s - loss: 0.4101 - accuracy: 0.7720 - val_loss: 0.3829 - val_accuracy: 0.7651\n",
            "Epoch 5/100\n",
            "36/36 - 0s - loss: 0.3917 - accuracy: 0.7773 - val_loss: 0.3841 - val_accuracy: 0.8076\n"
          ],
          "name": "stdout"
        },
        {
          "output_type": "execute_result",
          "data": {
            "text/plain": [
              "<tensorflow.python.keras.callbacks.History at 0x7f2bbbd0a400>"
            ]
          },
          "metadata": {
            "tags": []
          },
          "execution_count": 87
        }
      ]
    },
    {
      "cell_type": "code",
      "metadata": {
        "colab": {
          "base_uri": "https://localhost:8080/",
          "height": 333
        },
        "id": "loeA8yAgLbCX",
        "outputId": "04857da0-5325-4925-d46c-045a17a108a7"
      },
      "source": [
        "loss_df=pd.DataFrame(model.history.history)\r\n",
        "import matplotlib.pyplot as plt\r\n",
        "plt.plot(loss_df)"
      ],
      "execution_count": 88,
      "outputs": [
        {
          "output_type": "execute_result",
          "data": {
            "text/plain": [
              "[<matplotlib.lines.Line2D at 0x7f2bbbc04a90>,\n",
              " <matplotlib.lines.Line2D at 0x7f2bbbc04ba8>,\n",
              " <matplotlib.lines.Line2D at 0x7f2bbbc04cf8>,\n",
              " <matplotlib.lines.Line2D at 0x7f2bbbc04e48>]"
            ]
          },
          "metadata": {
            "tags": []
          },
          "execution_count": 88
        },
        {
          "output_type": "display_data",
          "data": {
            "image/png": "[encoded data removed]",
            "text/plain": [
              "<Figure size 432x288 with 1 Axes>"
            ]
          },
          "metadata": {
            "tags": [],
            "needs_background": "light"
          }
        }
      ]
    },
    {
      "cell_type": "code",
      "metadata": {
        "colab": {
          "base_uri": "https://localhost:8080/"
        },
        "id": "xoeeMY3uMBQ1",
        "outputId": "23aa8b80-907b-4f0e-f334-c33810425b24"
      },
      "source": [
        "input_size=10\r\n",
        "output_size=2\r\n",
        "hidden_layers=50\r\n",
        "\r\n",
        "model=tf.keras.Sequential([tf.keras.layers.Dense(hidden_layers,activation='relu'),\r\n",
        "                           tf.keras.layers.Dense(hidden_layers,activation='relu'),\r\n",
        "                           tf.keras.layers.Dense(hidden_layers,activation='relu'),])\r\n",
        "model.compile(optimizer='adam',loss='sparse_categorical_crossentropy',metrics=['accuracy'])\r\n",
        "batchsize=100\r\n",
        "max_epochs=100\r\n",
        "\r\n",
        "early_stopping=tf.keras.callbacks.EarlyStopping(patience=25)\r\n",
        "\r\n",
        "model.fit(train_input,\r\n",
        "          train_target,\r\n",
        "          batch_size=batchsize,\r\n",
        "          callbacks=[early_stopping],\r\n",
        "          epochs=max_epochs,\r\n",
        "          validation_data=(validation_inputs,validation_targets),\r\n",
        "          verbose=2)"
      ],
      "execution_count": 89,
      "outputs": [
        {
          "output_type": "stream",
          "text": [
            "Epoch 1/100\n",
            "36/36 - 1s - loss: 3.3896 - accuracy: 0.3926 - val_loss: 0.7981 - val_accuracy: 0.6801\n",
            "Epoch 2/100\n",
            "36/36 - 0s - loss: 0.6590 - accuracy: 0.6823 - val_loss: 0.6051 - val_accuracy: 0.7181\n",
            "Epoch 3/100\n",
            "36/36 - 0s - loss: 0.5660 - accuracy: 0.7234 - val_loss: 0.5217 - val_accuracy: 0.7651\n",
            "Epoch 4/100\n",
            "36/36 - 0s - loss: 0.4831 - accuracy: 0.7382 - val_loss: 0.4506 - val_accuracy: 0.7785\n",
            "Epoch 5/100\n",
            "36/36 - 0s - loss: 0.4376 - accuracy: 0.7597 - val_loss: 0.4415 - val_accuracy: 0.7897\n",
            "Epoch 6/100\n",
            "36/36 - 0s - loss: 0.4161 - accuracy: 0.7728 - val_loss: 0.4483 - val_accuracy: 0.7785\n",
            "Epoch 7/100\n",
            "36/36 - 0s - loss: 0.4025 - accuracy: 0.7773 - val_loss: 0.4237 - val_accuracy: 0.8054\n",
            "Epoch 8/100\n",
            "36/36 - 0s - loss: 0.3948 - accuracy: 0.7835 - val_loss: 0.3814 - val_accuracy: 0.8076\n",
            "Epoch 9/100\n",
            "36/36 - 0s - loss: 0.4179 - accuracy: 0.7835 - val_loss: 0.4294 - val_accuracy: 0.8031\n",
            "Epoch 10/100\n",
            "36/36 - 0s - loss: 0.4267 - accuracy: 0.7840 - val_loss: 0.4249 - val_accuracy: 0.7987\n",
            "Epoch 11/100\n",
            "36/36 - 0s - loss: 0.4793 - accuracy: 0.7798 - val_loss: 0.4901 - val_accuracy: 0.7606\n",
            "Epoch 12/100\n",
            "36/36 - 0s - loss: 0.6251 - accuracy: 0.7586 - val_loss: 0.6661 - val_accuracy: 0.7248\n",
            "Epoch 13/100\n",
            "36/36 - 0s - loss: 0.6924 - accuracy: 0.7566 - val_loss: 0.6889 - val_accuracy: 0.7763\n",
            "Epoch 14/100\n",
            "36/36 - 0s - loss: 0.6813 - accuracy: 0.7516 - val_loss: 0.7290 - val_accuracy: 0.7472\n",
            "Epoch 15/100\n",
            "36/36 - 0s - loss: 0.7069 - accuracy: 0.7276 - val_loss: 0.6621 - val_accuracy: 0.7114\n",
            "Epoch 16/100\n",
            "36/36 - 0s - loss: 0.5924 - accuracy: 0.7354 - val_loss: 0.5920 - val_accuracy: 0.7494\n",
            "Epoch 17/100\n",
            "36/36 - 0s - loss: 0.5862 - accuracy: 0.7483 - val_loss: 0.6082 - val_accuracy: 0.7539\n",
            "Epoch 18/100\n",
            "36/36 - 0s - loss: 0.6425 - accuracy: 0.7415 - val_loss: 0.6694 - val_accuracy: 0.7763\n",
            "Epoch 19/100\n",
            "36/36 - 0s - loss: 0.6447 - accuracy: 0.7628 - val_loss: 0.6439 - val_accuracy: 0.8098\n",
            "Epoch 20/100\n",
            "36/36 - 0s - loss: 0.5928 - accuracy: 0.7745 - val_loss: 0.5890 - val_accuracy: 0.7740\n",
            "Epoch 21/100\n",
            "36/36 - 0s - loss: 0.5841 - accuracy: 0.7784 - val_loss: 0.6107 - val_accuracy: 0.7763\n",
            "Epoch 22/100\n",
            "36/36 - 0s - loss: 0.5747 - accuracy: 0.7748 - val_loss: 0.6254 - val_accuracy: 0.7875\n",
            "Epoch 23/100\n",
            "36/36 - 0s - loss: 0.5808 - accuracy: 0.7798 - val_loss: 0.6249 - val_accuracy: 0.7897\n",
            "Epoch 24/100\n",
            "36/36 - 0s - loss: 0.5772 - accuracy: 0.7837 - val_loss: 0.6321 - val_accuracy: 0.7852\n",
            "Epoch 25/100\n",
            "36/36 - 0s - loss: 0.6164 - accuracy: 0.7723 - val_loss: 0.6118 - val_accuracy: 0.7987\n",
            "Epoch 26/100\n",
            "36/36 - 0s - loss: 0.5674 - accuracy: 0.7804 - val_loss: 0.6158 - val_accuracy: 0.7942\n",
            "Epoch 27/100\n",
            "36/36 - 0s - loss: 0.5690 - accuracy: 0.7474 - val_loss: 0.5026 - val_accuracy: 0.7271\n",
            "Epoch 28/100\n",
            "36/36 - 0s - loss: 0.4191 - accuracy: 0.7547 - val_loss: 0.4040 - val_accuracy: 0.7740\n",
            "Epoch 29/100\n",
            "36/36 - 0s - loss: 0.3945 - accuracy: 0.7720 - val_loss: 0.3958 - val_accuracy: 0.8031\n",
            "Epoch 30/100\n",
            "36/36 - 0s - loss: 0.3839 - accuracy: 0.7829 - val_loss: 0.3860 - val_accuracy: 0.8009\n",
            "Epoch 31/100\n",
            "36/36 - 0s - loss: 0.3760 - accuracy: 0.7944 - val_loss: 0.4062 - val_accuracy: 0.8054\n",
            "Epoch 32/100\n",
            "36/36 - 0s - loss: 0.3683 - accuracy: 0.8022 - val_loss: 0.3871 - val_accuracy: 0.7763\n",
            "Epoch 33/100\n",
            "36/36 - 0s - loss: 0.3743 - accuracy: 0.7999 - val_loss: 0.4000 - val_accuracy: 0.7919\n"
          ],
          "name": "stdout"
        },
        {
          "output_type": "execute_result",
          "data": {
            "text/plain": [
              "<tensorflow.python.keras.callbacks.History at 0x7f2bbbbf2550>"
            ]
          },
          "metadata": {
            "tags": []
          },
          "execution_count": 89
        }
      ]
    },
    {
      "cell_type": "code",
      "metadata": {
        "colab": {
          "base_uri": "https://localhost:8080/",
          "height": 335
        },
        "id": "khKhAy3EMN9M",
        "outputId": "ebcfd929-cd48-4eba-d126-b61f1ae5b862"
      },
      "source": [
        "loss_df=pd.DataFrame(model.history.history)\r\n",
        "import matplotlib.pyplot as plt\r\n",
        "plt.plot(loss_df)"
      ],
      "execution_count": 90,
      "outputs": [
        {
          "output_type": "execute_result",
          "data": {
            "text/plain": [
              "[<matplotlib.lines.Line2D at 0x7f2bbba78240>,\n",
              " <matplotlib.lines.Line2D at 0x7f2bbba78358>,\n",
              " <matplotlib.lines.Line2D at 0x7f2bbba784a8>,\n",
              " <matplotlib.lines.Line2D at 0x7f2bbba785f8>]"
            ]
          },
          "metadata": {
            "tags": []
          },
          "execution_count": 90
        },
        {
          "output_type": "display_data",
          "data": {
            "image/png": "[encoded data removed]",
            "text/plain": [
              "<Figure size 432x288 with 1 Axes>"
            ]
          },
          "metadata": {
            "tags": [],
            "needs_background": "light"
          }
        }
      ]
    },
    {
      "cell_type": "code",
      "metadata": {
        "colab": {
          "base_uri": "https://localhost:8080/"
        },
        "id": "e7fhAI17NHYL",
        "outputId": "8041cafb-884e-4202-c3a5-f03679f1ae0f"
      },
      "source": [
        "test_loss,test_accuracy=model.evaluate(test_inputs,test_targets)\r\n",
        "print(test_loss,test_accuracy)"
      ],
      "execution_count": 92,
      "outputs": [
        {
          "output_type": "stream",
          "text": [
            "112/112 [==============================] - 0s 843us/step - loss: 0.3607 - accuracy: 0.8041\n",
            "0.360698938369751 0.804135262966156\n"
          ],
          "name": "stdout"
        }
      ]
    }
  ]
}