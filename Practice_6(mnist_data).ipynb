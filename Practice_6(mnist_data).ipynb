{
  "nbformat": 4,
  "nbformat_minor": 0,
  "metadata": {
    "colab": {
      "name": "Untitled11.ipynb",
      "provenance": [],
      "authorship_tag": "ABX9TyNoKxeRuduBw32W1SptCmBB",
      "include_colab_link": true
    },
    "kernelspec": {
      "name": "python3",
      "display_name": "Python 3"
    }
  },
  "cells": [
    {
      "cell_type": "markdown",
      "metadata": {
        "id": "view-in-github",
        "colab_type": "text"
      },
      "source": [
        "<a href=\"https://colab.research.google.com/github/afham123/Deep-Learning-Project/blob/main/Practice_6(mnist_data).ipynb\" target=\"_parent\"><img src=\"https://colab.research.google.com/assets/colab-badge.svg\" alt=\"Open In Colab\"/></a>"
      ]
    },
    {
      "cell_type": "markdown",
      "metadata": {
        "id": "ir5hfYSUk0OT"
      },
      "source": [
        "#Importing Libraries\r\n",
        "\r\n",
        "\r\n"
      ]
    },
    {
      "cell_type": "code",
      "metadata": {
        "id": "sMCH27w2XWJc"
      },
      "source": [
        "import numpy as np\r\n",
        "import pandas as pd\r\n",
        "import seaborn as sns\r\n",
        "import tensorflow as tf\r\n",
        "import matplotlib.pyplot as plt\r\n",
        "import tensorflow_datasets as tfds\r\n",
        "%matplotlib inline"
      ],
      "execution_count": 38,
      "outputs": []
    },
    {
      "cell_type": "markdown",
      "metadata": {
        "id": "5pHotLDpk7A4"
      },
      "source": [
        "# Loading mnist data"
      ]
    },
    {
      "cell_type": "code",
      "metadata": {
        "id": "BZogO00CX7NX"
      },
      "source": [
        "mnist_data,mnist_info=tfds.load(name='mnist',as_supervised=True,with_info=True)"
      ],
      "execution_count": 39,
      "outputs": []
    },
    {
      "cell_type": "markdown",
      "metadata": {
        "id": "G-IRBTl9lCI-"
      },
      "source": [
        "# Getting train and test data"
      ]
    },
    {
      "cell_type": "code",
      "metadata": {
        "id": "LSjDf9osYR-h"
      },
      "source": [
        "mnist_train=mnist_data['train']\r\n",
        "mnist_test=mnist_data['test']\r\n",
        "\r\n",
        "num_validation=mnist_info.splits['train'].num_examples*0.1\r\n",
        "num_validation=tf.cast(num_validation,tf.int64)\r\n",
        "\r\n",
        "num_test=mnist_info.splits['train'].num_examples\r\n",
        "num_test=tf.cast(num_test,tf.int64)"
      ],
      "execution_count": 40,
      "outputs": []
    },
    {
      "cell_type": "code",
      "metadata": {
        "id": "RdxwDU9oYpHE"
      },
      "source": [
        "def scale(image,label):\r\n",
        "  image=tf.cast(image,tf.float32)\r\n",
        "  image/=255.\r\n",
        "  return image,label"
      ],
      "execution_count": 41,
      "outputs": []
    },
    {
      "cell_type": "code",
      "metadata": {
        "id": "qK8M6WU6Z1xL"
      },
      "source": [
        "scaled_train_and_validation_data=mnist_train.map(scale)\r\n",
        "scaled_test_data=mnist_test.map(scale)"
      ],
      "execution_count": 42,
      "outputs": []
    },
    {
      "cell_type": "markdown",
      "metadata": {
        "id": "jPGEsk6xilja"
      },
      "source": [
        "#Shufflings the data"
      ]
    },
    {
      "cell_type": "code",
      "metadata": {
        "id": "fakksQSsiqua"
      },
      "source": [
        "buffer_size=10000\r\n",
        "scaled_train_and_validation_data=scaled_train_and_validation_data.shuffle(buffer_size)\r\n",
        "\r\n",
        "validation_data=scaled_train_and_validation_data.take(num_validation)\r\n",
        "train_data=scaled_train_and_validation_data.skip(num_validation)"
      ],
      "execution_count": 43,
      "outputs": []
    },
    {
      "cell_type": "markdown",
      "metadata": {
        "id": "chJ7jFhSkIMC"
      },
      "source": [
        "#Batching the data"
      ]
    },
    {
      "cell_type": "code",
      "metadata": {
        "id": "0BS_XGNNj3Q2"
      },
      "source": [
        "batch_size=100\r\n",
        "\r\n",
        "train_data=train_data.batch(batch_size)\r\n",
        "validation_data=validation_data.batch(num_validation)\r\n",
        "test_data=mnist_test.batch(num_test)"
      ],
      "execution_count": 44,
      "outputs": []
    },
    {
      "cell_type": "code",
      "metadata": {
        "id": "MjTDH3nUkok7"
      },
      "source": [
        "validation_inputs,validation_targets=next(iter(validation_data))"
      ],
      "execution_count": 26,
      "outputs": []
    },
    {
      "cell_type": "markdown",
      "metadata": {
        "id": "kavFctepm81T"
      },
      "source": [
        "# Creating Model"
      ]
    },
    {
      "cell_type": "code",
      "metadata": {
        "id": "4q4rGR2HlasN"
      },
      "source": [
        "input_size=784\r\n",
        "output_size=10\r\n",
        "hidden_layer_size=50\r\n",
        "\r\n",
        "model=tf.keras.Sequential([tf.keras.layers.Flatten(input_shape=(28,28,1)),\r\n",
        "                           tf.keras.layers.Dense(hidden_layer_size,activation='relu'),\r\n",
        "                           tf.keras.layers.Dense(hidden_layer_size,activation='relu'),\r\n",
        "                           tf.keras.layers.Dense(hidden_layer_size,activation='sigmoid')\r\n",
        "                           ])\r\n",
        "model.compile(optimizer='adam',loss='sparse_categorical_crossentropy',metrics=['accuracy'])"
      ],
      "execution_count": 28,
      "outputs": []
    },
    {
      "cell_type": "code",
      "metadata": {
        "colab": {
          "base_uri": "https://localhost:8080/"
        },
        "id": "i5h4ls86qd-j",
        "outputId": "c554d181-ca9f-47ea-f9de-82d5d79be2b1"
      },
      "source": [
        "num_epochs=50\r\n",
        "from tensorflow.keras.callbacks import EarlyStopping\r\n",
        "\r\n",
        "early_stop=EarlyStopping(monitor='val_loss',mode='min',verbose=1,patience=5)\r\n",
        "model.fit(train_data,epochs=num_epochs,validation_data=(validation_inputs,validation_targets),verbose=2,callbacks=[early_stop])"
      ],
      "execution_count": 36,
      "outputs": [
        {
          "output_type": "stream",
          "text": [
            "Epoch 1/50\n",
            "540/540 - 5s - loss: 0.0036 - accuracy: 0.9989 - val_loss: 0.0013 - val_accuracy: 0.9997\n",
            "Epoch 2/50\n",
            "540/540 - 5s - loss: 0.0019 - accuracy: 0.9994 - val_loss: 0.0012 - val_accuracy: 0.9997\n",
            "Epoch 3/50\n",
            "540/540 - 5s - loss: 0.0080 - accuracy: 0.9974 - val_loss: 0.0074 - val_accuracy: 0.9972\n",
            "Epoch 4/50\n",
            "540/540 - 5s - loss: 0.0060 - accuracy: 0.9981 - val_loss: 0.0055 - val_accuracy: 0.9982\n",
            "Epoch 5/50\n",
            "540/540 - 5s - loss: 0.0049 - accuracy: 0.9983 - val_loss: 0.0032 - val_accuracy: 0.9988\n",
            "Epoch 6/50\n",
            "540/540 - 5s - loss: 0.0023 - accuracy: 0.9993 - val_loss: 0.0019 - val_accuracy: 0.9997\n",
            "Epoch 7/50\n",
            "540/540 - 5s - loss: 0.0041 - accuracy: 0.9986 - val_loss: 0.0047 - val_accuracy: 0.9982\n",
            "Epoch 00007: early stopping\n"
          ],
          "name": "stdout"
        },
        {
          "output_type": "execute_result",
          "data": {
            "text/plain": [
              "<tensorflow.python.keras.callbacks.History at 0x7fc844d01cc0>"
            ]
          },
          "metadata": {
            "tags": []
          },
          "execution_count": 36
        }
      ]
    },
    {
      "cell_type": "code",
      "metadata": {
        "colab": {
          "base_uri": "https://localhost:8080/"
        },
        "id": "zVBsvnrNqnYC",
        "outputId": "4da69423-74da-4010-cc70-79ed0d2b7c26"
      },
      "source": [
        "test_loss, test_accuracy = model.evaluate(test_data)"
      ],
      "execution_count": 45,
      "outputs": [
        {
          "output_type": "stream",
          "text": [
            "1/1 [==============================] - 1s 1s/step - loss: 54.1874 - accuracy: 0.9692\n"
          ],
          "name": "stdout"
        }
      ]
    },
    {
      "cell_type": "code",
      "metadata": {
        "colab": {
          "base_uri": "https://localhost:8080/"
        },
        "id": "4RPbqOKZuvm_",
        "outputId": "3b717623-bebf-47bb-896c-3639411f7030"
      },
      "source": [
        "print('Test loss: {0:.2f}. Test accuracy: {1:.2f}%'.format(test_loss, test_accuracy*100.))"
      ],
      "execution_count": 46,
      "outputs": [
        {
          "output_type": "stream",
          "text": [
            "Test loss: 54.19. Test accuracy: 96.92%\n"
          ],
          "name": "stdout"
        }
      ]
    }
  ]
}